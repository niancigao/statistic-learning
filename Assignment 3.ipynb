{
 "cells": [
  {
   "cell_type": "markdown",
   "metadata": {
    "id": "XsMVgoYrbd0m"
   },
   "source": [
    "# Chapter 3 - Regression Exercise"
   ]
  },
  {
   "cell_type": "markdown",
   "metadata": {
    "id": "h7w2vRTAk2HA"
   },
   "source": [
    "#### Student ID: B082040005\n",
    "\n",
    "#### Name: 高念慈"
   ]
  },
  {
   "cell_type": "markdown",
   "metadata": {
    "id": "7GTYMFANbd0t"
   },
   "source": [
    "## Conceptual"
   ]
  },
  {
   "cell_type": "markdown",
   "metadata": {
    "id": "Z_99BKJubd0u"
   },
   "source": [
    "### Q1: Suppose we have a data set with five predictors, $X_1$ = GPA, $X_2$ = IQ, $X_3$ = Level (1 for College and 0 for High School), $X_4$ = Interaction (相互作用) between GPA and IQ, and $X_5$ = Interaction between GPA and Level. The response is starting salary (起薪) after graduation (in thousands of dollars). Suppose we use least squares to fit the model, and get $\\hat{\\beta}_0=50,\\hat{\\beta}_1=20,\\hat{\\beta}_2=0.07,\\hat{\\beta}_3=36,\\hat{\\beta}_4=0.01,\\hat{\\beta}_5=-10$."
   ]
  },
  {
   "cell_type": "markdown",
   "metadata": {
    "id": "PUiktvyGF7dp"
   },
   "source": [
    "(a) Which answer is correct, and why?\n",
    "> (i) For a fixed value of IQ and GPA, high school graduates earn more, on average, than college graduates.\n",
    "\n",
    "> (ii) For a fixed value of IQ and GPA, college graduates earn more, on average, than high school graduates.\n",
    "\n",
    "> (iii) For a fixed value of IQ and GPA, high school graduates earn more, on average, than college graduates provided that the GPA is high enough.\n",
    "\n",
    "> (iv) For a fixed value of IQ and GPA, college graduates earn more, on average, than high school graduates provided that the GPA is high enough."
   ]
  },
  {
   "cell_type": "markdown",
   "metadata": {
    "id": "Ia0b99CpnQRW"
   },
   "source": [
    "上升一單位來看，<br>\n",
    "1. FALSE，大學:36-10=26；高中:0<br>\n",
    "2. TRUE<br>\n",
    "3. TRUE 如果X1高中大於大學x單位，<br>\n",
    "大學:20+0.07+36+0.01-10=46.08<br>\n",
    "高中:20+20x+0.07+0.01+0.01x=20.08+20.01x<br>\n",
    "當x夠大，就會對<br>\n",
    "4. FALSE，一樣就足夠贏了"
   ]
  },
  {
   "cell_type": "markdown",
   "metadata": {
    "id": "d9z_hX-AtWTm"
   },
   "source": [
    "(b) Predict the salary of a college graduate with IQ of 110 and a GPA of 4.0."
   ]
  },
  {
   "cell_type": "markdown",
   "metadata": {
    "id": "wDn7akjGtgGq"
   },
   "source": [
    "> 𝛽̂ 0=50,𝛽̂ 1=20,𝛽̂ 2=0.07,𝛽̂ 3=36,𝛽̂ 4=0.01,𝛽̂ 5=−10 . "
   ]
  },
  {
   "cell_type": "code",
   "execution_count": 2,
   "metadata": {},
   "outputs": [
    {
     "data": {
      "text/plain": [
       "138.1"
      ]
     },
     "execution_count": 2,
     "metadata": {},
     "output_type": "execute_result"
    }
   ],
   "source": [
    "50 + 20*4 + 0.07*110 + 36*1 + 0.01*4*110 -10*4*1"
   ]
  },
  {
   "cell_type": "markdown",
   "metadata": {
    "id": "t29ypB3Otknp"
   },
   "source": [
    "(c) True or false: Since the coefficient for the GPA/IQ interaction term is very small, there is very little evidence of an interaction effect. Justify your answer."
   ]
  },
  {
   "cell_type": "markdown",
   "metadata": {
    "id": "RVtP6dKotmgX"
   },
   "source": [
    "> Ans:  FALSE，證據大小是來自檢定，跟係數本身的值無關"
   ]
  },
  {
   "cell_type": "markdown",
   "metadata": {
    "id": "do66Q4etbd0u"
   },
   "source": [
    "### Q2: I collect a set of data ($n = 100$ observations) containing a single predictor and a quantitative (定量數值) response. I then fit a linear regression model to the data, as well as a separate (分離) cubic (三次) regression, i.e. $Y = \\beta_0 + \\beta_1X + \\beta_2X^2 + \\beta_3X^3 + \\epsilon$."
   ]
  },
  {
   "cell_type": "markdown",
   "metadata": {
    "id": "xJW0nNb3mPQB"
   },
   "source": [
    "(a) Suppose that the true relationship between X and Y is linear, i.e. $Y = \\beta_0 + \\beta_1X + \\epsilon$. Consider the training residual sum of squares (RSS) for the linear regression, and also the training RSS for the cubic regression. Would we expect one to be lower than the other, would we expect them to be the same, or is there not enough information to tell? Justify your answer."
   ]
  },
  {
   "cell_type": "markdown",
   "metadata": {
    "id": "XRJNcKMr3BYD"
   },
   "source": [
    "> Ans:  三次回歸在訓練集將具有較低的殘差平方和 (RSS)\n",
    "```\n",
    "三次回歸模型比線性回歸模型更靈活。\n",
    "因此，三次回歸模型可以更好地擬合數據並實現比線性回歸模型更低的訓練 RSS\n",
    "```"
   ]
  },
  {
   "cell_type": "markdown",
   "metadata": {
    "id": "TGOiKPNf3Imu"
   },
   "source": [
    "(b) Answer (a) using test rather than training RSS."
   ]
  },
  {
   "cell_type": "markdown",
   "metadata": {
    "id": "9G95F9gz3K2Z"
   },
   "source": [
    "> Ans:  線性回歸在測試集將具有較低的 RSS\n",
    "```\n",
    "由於真實關係是線性的，在這種情況下，線性回歸模型將具有低偏差。\n",
    "因此，該模型將比三次回歸模型表現更好，因為三次回歸模型預計具有更高的方差。\n",
    "```"
   ]
  },
  {
   "cell_type": "markdown",
   "metadata": {
    "id": "R1Akrsaf3Lmk"
   },
   "source": [
    "(c) Suppose that the true relationship between X and Y is not linear, but we don’t know how far it is from linear. Consider the training RSS for the linear regression, and also the training RSS for the cubic regression. Would we expect one to be lower than the other, would we expect them to be the same, or is there not enough information to tell? Justify your answer."
   ]
  },
  {
   "cell_type": "markdown",
   "metadata": {
    "id": "NhQSd-GH3UgY"
   },
   "source": [
    "> Ans:  三次回歸將具有較低的 RSS\n",
    "\n",
    "```\n",
    "由於模型更靈活，因此能夠更好地擬合數據並實現更低的訓練 RSS。\n",
    "```"
   ]
  },
  {
   "cell_type": "markdown",
   "metadata": {
    "id": "5G6pVPfB3Wuv"
   },
   "source": [
    "(d) Answer (c) using test rather than training RSS."
   ]
  },
  {
   "cell_type": "markdown",
   "metadata": {
    "id": "s14M5Ecs3XQf"
   },
   "source": [
    "> Ans:  沒有足夠的信息來說明\n",
    "```\n",
    "由於其靈活性，通常三次回歸模型比線性回歸模型具有更低的偏差和更高的方差。\n",
    "\n",
    "但真正的關係是非線性的，但我們不知道它離線性有多遠。\n",
    "意味著我們不知道線性回歸模型的偏差有多高。\n",
    "如果模型只是略微非線性，線性回歸將能夠對數據進行建模並實現低偏差。\n",
    "這可能足以（或不足以）擊敗三次回歸模型。\n",
    "```"
   ]
  },
  {
   "cell_type": "markdown",
   "metadata": {},
   "source": [
    "- **一般來說，更靈活的模型具有更少的偏差和更高的方差**\n",
    "- **相比之下，更嚴格的模型具有較高的偏差和較低的方差**\n",
    "\n",
    "\n",
    "- 低方差：隨著訓練資料集的變化，對目標函式估計值的變化非常小\n",
    "- 高方差：隨著訓練資料集的變化，對目標函式估計值的變化非常大\n",
    "- 低偏差：對目標函式提出更少的假設，KNN 和 SVM\n",
    "- 高偏差：對目標函式提出更多的假設，線性迴歸和邏輯斯特迴歸\n",
    "\n",
    "```\n",
    "非引數化演算法: 較低的偏差\n",
    "對目標函式做出很少或者根本不做任何假設，\n",
    "但是它需要更多的資料，訓練速度非常慢，模型複雜度非常高，但是模型非常強大\n",
    "\n",
    "引數化演算法: 較高的偏差\n",
    "使得學習速度非常快，而且非常容易去理解，\n",
    "不需要很多的資料，但是通常不太靈活\n",
    "```\n",
    "具有高偏差和低方差，過擬合問題。<br>\n",
    "它總是取決於偏差-方差的權衡，並且通常取決於訓練集的大小和噪聲的大小。"
   ]
  },
  {
   "cell_type": "markdown",
   "metadata": {
    "id": "7fqDp0D0bd0w"
   },
   "source": [
    "## Applied"
   ]
  },
  {
   "cell_type": "code",
   "execution_count": 3,
   "metadata": {
    "id": "9kOQ8mIo6ERX"
   },
   "outputs": [],
   "source": [
    "import pandas as pd\n",
    "import numpy as np\n",
    "import statsmodels.api as sm\n",
    "import scipy\n",
    "import matplotlib.pyplot as plt"
   ]
  },
  {
   "cell_type": "markdown",
   "metadata": {},
   "source": [
    "### 模型公式&用法\n",
    "[API Reference](https://www.statsmodels.org/stable/api.html)"
   ]
  },
  {
   "cell_type": "markdown",
   "metadata": {
    "id": "mGJk_tAVbd0v"
   },
   "source": [
    "### Q3: This question should be answered using the <span style='color:red'>Carseats</span> data set."
   ]
  },
  {
   "cell_type": "code",
   "execution_count": 4,
   "metadata": {},
   "outputs": [
    {
     "data": {
      "text/html": [
       "<div>\n",
       "<style scoped>\n",
       "    .dataframe tbody tr th:only-of-type {\n",
       "        vertical-align: middle;\n",
       "    }\n",
       "\n",
       "    .dataframe tbody tr th {\n",
       "        vertical-align: top;\n",
       "    }\n",
       "\n",
       "    .dataframe thead th {\n",
       "        text-align: right;\n",
       "    }\n",
       "</style>\n",
       "<table border=\"1\" class=\"dataframe\">\n",
       "  <thead>\n",
       "    <tr style=\"text-align: right;\">\n",
       "      <th></th>\n",
       "      <th>Sales</th>\n",
       "      <th>CompPrice</th>\n",
       "      <th>Income</th>\n",
       "      <th>Advertising</th>\n",
       "      <th>Population</th>\n",
       "      <th>Price</th>\n",
       "      <th>ShelveLoc</th>\n",
       "      <th>Age</th>\n",
       "      <th>Education</th>\n",
       "      <th>Urban</th>\n",
       "      <th>US</th>\n",
       "    </tr>\n",
       "  </thead>\n",
       "  <tbody>\n",
       "    <tr>\n",
       "      <th>0</th>\n",
       "      <td>9.50</td>\n",
       "      <td>138</td>\n",
       "      <td>73</td>\n",
       "      <td>11</td>\n",
       "      <td>276</td>\n",
       "      <td>120</td>\n",
       "      <td>Bad</td>\n",
       "      <td>42</td>\n",
       "      <td>17</td>\n",
       "      <td>Yes</td>\n",
       "      <td>Yes</td>\n",
       "    </tr>\n",
       "    <tr>\n",
       "      <th>1</th>\n",
       "      <td>11.22</td>\n",
       "      <td>111</td>\n",
       "      <td>48</td>\n",
       "      <td>16</td>\n",
       "      <td>260</td>\n",
       "      <td>83</td>\n",
       "      <td>Good</td>\n",
       "      <td>65</td>\n",
       "      <td>10</td>\n",
       "      <td>Yes</td>\n",
       "      <td>Yes</td>\n",
       "    </tr>\n",
       "    <tr>\n",
       "      <th>2</th>\n",
       "      <td>10.06</td>\n",
       "      <td>113</td>\n",
       "      <td>35</td>\n",
       "      <td>10</td>\n",
       "      <td>269</td>\n",
       "      <td>80</td>\n",
       "      <td>Medium</td>\n",
       "      <td>59</td>\n",
       "      <td>12</td>\n",
       "      <td>Yes</td>\n",
       "      <td>Yes</td>\n",
       "    </tr>\n",
       "    <tr>\n",
       "      <th>3</th>\n",
       "      <td>7.40</td>\n",
       "      <td>117</td>\n",
       "      <td>100</td>\n",
       "      <td>4</td>\n",
       "      <td>466</td>\n",
       "      <td>97</td>\n",
       "      <td>Medium</td>\n",
       "      <td>55</td>\n",
       "      <td>14</td>\n",
       "      <td>Yes</td>\n",
       "      <td>Yes</td>\n",
       "    </tr>\n",
       "    <tr>\n",
       "      <th>4</th>\n",
       "      <td>4.15</td>\n",
       "      <td>141</td>\n",
       "      <td>64</td>\n",
       "      <td>3</td>\n",
       "      <td>340</td>\n",
       "      <td>128</td>\n",
       "      <td>Bad</td>\n",
       "      <td>38</td>\n",
       "      <td>13</td>\n",
       "      <td>Yes</td>\n",
       "      <td>No</td>\n",
       "    </tr>\n",
       "    <tr>\n",
       "      <th>...</th>\n",
       "      <td>...</td>\n",
       "      <td>...</td>\n",
       "      <td>...</td>\n",
       "      <td>...</td>\n",
       "      <td>...</td>\n",
       "      <td>...</td>\n",
       "      <td>...</td>\n",
       "      <td>...</td>\n",
       "      <td>...</td>\n",
       "      <td>...</td>\n",
       "      <td>...</td>\n",
       "    </tr>\n",
       "    <tr>\n",
       "      <th>395</th>\n",
       "      <td>12.57</td>\n",
       "      <td>138</td>\n",
       "      <td>108</td>\n",
       "      <td>17</td>\n",
       "      <td>203</td>\n",
       "      <td>128</td>\n",
       "      <td>Good</td>\n",
       "      <td>33</td>\n",
       "      <td>14</td>\n",
       "      <td>Yes</td>\n",
       "      <td>Yes</td>\n",
       "    </tr>\n",
       "    <tr>\n",
       "      <th>396</th>\n",
       "      <td>6.14</td>\n",
       "      <td>139</td>\n",
       "      <td>23</td>\n",
       "      <td>3</td>\n",
       "      <td>37</td>\n",
       "      <td>120</td>\n",
       "      <td>Medium</td>\n",
       "      <td>55</td>\n",
       "      <td>11</td>\n",
       "      <td>No</td>\n",
       "      <td>Yes</td>\n",
       "    </tr>\n",
       "    <tr>\n",
       "      <th>397</th>\n",
       "      <td>7.41</td>\n",
       "      <td>162</td>\n",
       "      <td>26</td>\n",
       "      <td>12</td>\n",
       "      <td>368</td>\n",
       "      <td>159</td>\n",
       "      <td>Medium</td>\n",
       "      <td>40</td>\n",
       "      <td>18</td>\n",
       "      <td>Yes</td>\n",
       "      <td>Yes</td>\n",
       "    </tr>\n",
       "    <tr>\n",
       "      <th>398</th>\n",
       "      <td>5.94</td>\n",
       "      <td>100</td>\n",
       "      <td>79</td>\n",
       "      <td>7</td>\n",
       "      <td>284</td>\n",
       "      <td>95</td>\n",
       "      <td>Bad</td>\n",
       "      <td>50</td>\n",
       "      <td>12</td>\n",
       "      <td>Yes</td>\n",
       "      <td>Yes</td>\n",
       "    </tr>\n",
       "    <tr>\n",
       "      <th>399</th>\n",
       "      <td>9.71</td>\n",
       "      <td>134</td>\n",
       "      <td>37</td>\n",
       "      <td>0</td>\n",
       "      <td>27</td>\n",
       "      <td>120</td>\n",
       "      <td>Good</td>\n",
       "      <td>49</td>\n",
       "      <td>16</td>\n",
       "      <td>Yes</td>\n",
       "      <td>Yes</td>\n",
       "    </tr>\n",
       "  </tbody>\n",
       "</table>\n",
       "<p>400 rows × 11 columns</p>\n",
       "</div>"
      ],
      "text/plain": [
       "     Sales  CompPrice  Income  Advertising  Population  Price ShelveLoc  Age  \\\n",
       "0     9.50        138      73           11         276    120       Bad   42   \n",
       "1    11.22        111      48           16         260     83      Good   65   \n",
       "2    10.06        113      35           10         269     80    Medium   59   \n",
       "3     7.40        117     100            4         466     97    Medium   55   \n",
       "4     4.15        141      64            3         340    128       Bad   38   \n",
       "..     ...        ...     ...          ...         ...    ...       ...  ...   \n",
       "395  12.57        138     108           17         203    128      Good   33   \n",
       "396   6.14        139      23            3          37    120    Medium   55   \n",
       "397   7.41        162      26           12         368    159    Medium   40   \n",
       "398   5.94        100      79            7         284     95       Bad   50   \n",
       "399   9.71        134      37            0          27    120      Good   49   \n",
       "\n",
       "     Education Urban   US  \n",
       "0           17   Yes  Yes  \n",
       "1           10   Yes  Yes  \n",
       "2           12   Yes  Yes  \n",
       "3           14   Yes  Yes  \n",
       "4           13   Yes   No  \n",
       "..         ...   ...  ...  \n",
       "395         14   Yes  Yes  \n",
       "396         11    No  Yes  \n",
       "397         18   Yes  Yes  \n",
       "398         12   Yes  Yes  \n",
       "399         16   Yes  Yes  \n",
       "\n",
       "[400 rows x 11 columns]"
      ]
     },
     "execution_count": 4,
     "metadata": {},
     "output_type": "execute_result"
    }
   ],
   "source": [
    "df = pd.read_csv(r\"C:\\Users\\user\\Desktop\\統計探勘功課\\Carseats.csv\")\n",
    "df\n",
    "\n",
    "# 路徑字串開頭要寫 r & 檔案名稱.csv                         \n",
    "# r :為了不讓 \\ 被讀成特殊字元 EX: \\n\n",
    "# 指定欄位 id 為索引 (取代原本 0.1...957918的位置)\n",
    "# ,index_col='id'\n",
    "# college.index.name = 'Names'"
   ]
  },
  {
   "cell_type": "markdown",
   "metadata": {
    "id": "cx-kPT3E6LDV"
   },
   "source": [
    "(a) Fit a multiple regression model to predict <span style='color:red'>Sales</span> using <span style='color:red'>Price</span>, <span style='color:red'>Urban</span>, and <span style='color:red'>US</span>."
   ]
  },
  {
   "cell_type": "code",
   "execution_count": 6,
   "metadata": {},
   "outputs": [],
   "source": [
    "import statsmodels.formula.api as smf \n",
    "# statsmodels is a Python module for statistics"
   ]
  },
  {
   "cell_type": "markdown",
   "metadata": {},
   "source": [
    "### 模型公式&用法\n",
    "[API Reference](https://www.statsmodels.org/stable/api.html)"
   ]
  },
  {
   "cell_type": "code",
   "execution_count": 8,
   "metadata": {
    "id": "cgCZ-RfR7OV6"
   },
   "outputs": [
    {
     "data": {
      "text/html": [
       "<table class=\"simpletable\">\n",
       "<caption>OLS Regression Results</caption>\n",
       "<tr>\n",
       "  <th>Dep. Variable:</th>          <td>Sales</td>      <th>  R-squared:         </th> <td>   0.239</td>\n",
       "</tr>\n",
       "<tr>\n",
       "  <th>Model:</th>                   <td>OLS</td>       <th>  Adj. R-squared:    </th> <td>   0.234</td>\n",
       "</tr>\n",
       "<tr>\n",
       "  <th>Method:</th>             <td>Least Squares</td>  <th>  F-statistic:       </th> <td>   41.52</td>\n",
       "</tr>\n",
       "<tr>\n",
       "  <th>Date:</th>             <td>Mon, 26 Sep 2022</td> <th>  Prob (F-statistic):</th> <td>2.39e-23</td>\n",
       "</tr>\n",
       "<tr>\n",
       "  <th>Time:</th>                 <td>00:01:41</td>     <th>  Log-Likelihood:    </th> <td> -927.66</td>\n",
       "</tr>\n",
       "<tr>\n",
       "  <th>No. Observations:</th>      <td>   400</td>      <th>  AIC:               </th> <td>   1863.</td>\n",
       "</tr>\n",
       "<tr>\n",
       "  <th>Df Residuals:</th>          <td>   396</td>      <th>  BIC:               </th> <td>   1879.</td>\n",
       "</tr>\n",
       "<tr>\n",
       "  <th>Df Model:</th>              <td>     3</td>      <th>                     </th>     <td> </td>   \n",
       "</tr>\n",
       "<tr>\n",
       "  <th>Covariance Type:</th>      <td>nonrobust</td>    <th>                     </th>     <td> </td>   \n",
       "</tr>\n",
       "</table>\n",
       "<table class=\"simpletable\">\n",
       "<tr>\n",
       "        <td></td>          <th>coef</th>     <th>std err</th>      <th>t</th>      <th>P>|t|</th>  <th>[0.025</th>    <th>0.975]</th>  \n",
       "</tr>\n",
       "<tr>\n",
       "  <th>Intercept</th>    <td>   13.0435</td> <td>    0.651</td> <td>   20.036</td> <td> 0.000</td> <td>   11.764</td> <td>   14.323</td>\n",
       "</tr>\n",
       "<tr>\n",
       "  <th>Urban[T.Yes]</th> <td>   -0.0219</td> <td>    0.272</td> <td>   -0.081</td> <td> 0.936</td> <td>   -0.556</td> <td>    0.512</td>\n",
       "</tr>\n",
       "<tr>\n",
       "  <th>US[T.Yes]</th>    <td>    1.2006</td> <td>    0.259</td> <td>    4.635</td> <td> 0.000</td> <td>    0.691</td> <td>    1.710</td>\n",
       "</tr>\n",
       "<tr>\n",
       "  <th>Price</th>        <td>   -0.0545</td> <td>    0.005</td> <td>  -10.389</td> <td> 0.000</td> <td>   -0.065</td> <td>   -0.044</td>\n",
       "</tr>\n",
       "</table>\n",
       "<table class=\"simpletable\">\n",
       "<tr>\n",
       "  <th>Omnibus:</th>       <td> 0.676</td> <th>  Durbin-Watson:     </th> <td>   1.912</td>\n",
       "</tr>\n",
       "<tr>\n",
       "  <th>Prob(Omnibus):</th> <td> 0.713</td> <th>  Jarque-Bera (JB):  </th> <td>   0.758</td>\n",
       "</tr>\n",
       "<tr>\n",
       "  <th>Skew:</th>          <td> 0.093</td> <th>  Prob(JB):          </th> <td>   0.684</td>\n",
       "</tr>\n",
       "<tr>\n",
       "  <th>Kurtosis:</th>      <td> 2.897</td> <th>  Cond. No.          </th> <td>    628.</td>\n",
       "</tr>\n",
       "</table><br/><br/>Notes:<br/>[1] Standard Errors assume that the covariance matrix of the errors is correctly specified."
      ],
      "text/plain": [
       "<class 'statsmodels.iolib.summary.Summary'>\n",
       "\"\"\"\n",
       "                            OLS Regression Results                            \n",
       "==============================================================================\n",
       "Dep. Variable:                  Sales   R-squared:                       0.239\n",
       "Model:                            OLS   Adj. R-squared:                  0.234\n",
       "Method:                 Least Squares   F-statistic:                     41.52\n",
       "Date:                Mon, 26 Sep 2022   Prob (F-statistic):           2.39e-23\n",
       "Time:                        00:01:41   Log-Likelihood:                -927.66\n",
       "No. Observations:                 400   AIC:                             1863.\n",
       "Df Residuals:                     396   BIC:                             1879.\n",
       "Df Model:                           3                                         \n",
       "Covariance Type:            nonrobust                                         \n",
       "================================================================================\n",
       "                   coef    std err          t      P>|t|      [0.025      0.975]\n",
       "--------------------------------------------------------------------------------\n",
       "Intercept       13.0435      0.651     20.036      0.000      11.764      14.323\n",
       "Urban[T.Yes]    -0.0219      0.272     -0.081      0.936      -0.556       0.512\n",
       "US[T.Yes]        1.2006      0.259      4.635      0.000       0.691       1.710\n",
       "Price           -0.0545      0.005    -10.389      0.000      -0.065      -0.044\n",
       "==============================================================================\n",
       "Omnibus:                        0.676   Durbin-Watson:                   1.912\n",
       "Prob(Omnibus):                  0.713   Jarque-Bera (JB):                0.758\n",
       "Skew:                           0.093   Prob(JB):                        0.684\n",
       "Kurtosis:                       2.897   Cond. No.                         628.\n",
       "==============================================================================\n",
       "\n",
       "Notes:\n",
       "[1] Standard Errors assume that the covariance matrix of the errors is correctly specified.\n",
       "\"\"\""
      ]
     },
     "execution_count": 8,
     "metadata": {},
     "output_type": "execute_result"
    }
   ],
   "source": [
    "# fit regression model\n",
    "\n",
    "mod = smf.ols(formula='Sales ~ Price + Urban + US',data=df)\n",
    "res = mod.fit()\n",
    "\n",
    "res.summary()"
   ]
  },
  {
   "cell_type": "markdown",
   "metadata": {
    "id": "dzU3fj-Iolqp"
   },
   "source": [
    "(b) Provide an interpretation of each coefficient in the model. Be\n",
    "careful—some of the variables in the model are qualitative (定性) !"
   ]
  },
  {
   "cell_type": "markdown",
   "metadata": {
    "id": "QFID9Nt_7Tra"
   },
   "source": [
    "> Ans:  \n",
    "```\n",
    "城市。\n",
    "該係數在統計上不顯著，表明該變量與銷售額之間沒有關係。\n",
    "\n",
    "美國。\n",
    "正相關的定性變量。\n",
    "這意味著當觀察是美國時，會有更高的銷售價值。\n",
    "平均而言，如果一家商店位於美國，它大約多售出 1206件。\n",
    "\n",
    "價格。\n",
    "負相關的定量變量。\n",
    "這意味著價格越高，銷售額越低。\n",
    "平均而言，價格每上漲 1 美元，銷售額就會下降大約 54.5 個單位。\n",
    "```"
   ]
  },
  {
   "cell_type": "markdown",
   "metadata": {
    "id": "M6yFx2DfCa-l"
   },
   "source": [
    "(c) Write out the model in equation form, being careful to handle the qualitative variables properly."
   ]
  },
  {
   "cell_type": "markdown",
   "metadata": {
    "id": "fshOiMvsCgXo"
   },
   "source": [
    "> Ans:  \n",
    "\n",
    "```\n",
    "Sales=13.0435−0.0219×Urban+1.2006×US−0.0545×Price\n",
    "\n",
    "⎧ 13.0435 − 0.0219×Urban + 1.2006×US − 0.0545×Price，Urban=1,US=1\n",
    "\n",
    "⎨ 13.0435 − 0.0219×Urban − 0.0545×Price            ，Urban=1,US=0\n",
    "⎪\n",
    "⎪ 13.0435 + 1.2006×US − 0.0545×Price               ，Urban=0,US=1\n",
    "⎪\n",
    "⎪ 13.0435 − 0.0545×Price                           ，Urban=0,US=0\n",
    "⎩\n",
    "```"
   ]
  },
  {
   "cell_type": "markdown",
   "metadata": {
    "id": "UEcPYkW0Cbvp"
   },
   "source": [
    "(d) For which of the predictors can you reject the null hypothesis $H_0 : \\beta_j = 0$?"
   ]
  },
  {
   "cell_type": "markdown",
   "metadata": {
    "id": "rlxgaSx8ChDK"
   },
   "source": [
    "> Ans:  從上面的 p 值，可以拒絕截距、US 和價格；不拒絕 Urban"
   ]
  },
  {
   "cell_type": "markdown",
   "metadata": {
    "id": "H8JSoLAiCcHK"
   },
   "source": [
    "(e) On the basis of your response to the previous question, fit a smaller model that only uses the predictors for which there is evidence of association with the outcome."
   ]
  },
  {
   "cell_type": "markdown",
   "metadata": {
    "id": "CjJ0c5K0Chnz"
   },
   "source": [
    "> Ans:  "
   ]
  },
  {
   "cell_type": "code",
   "execution_count": 9,
   "metadata": {},
   "outputs": [
    {
     "name": "stdout",
     "output_type": "stream",
     "text": [
      "                            OLS Regression Results                            \n",
      "==============================================================================\n",
      "Dep. Variable:                  Sales   R-squared:                       0.239\n",
      "Model:                            OLS   Adj. R-squared:                  0.235\n",
      "Method:                 Least Squares   F-statistic:                     62.43\n",
      "Date:                Mon, 26 Sep 2022   Prob (F-statistic):           2.66e-24\n",
      "Time:                        00:33:49   Log-Likelihood:                -927.66\n",
      "No. Observations:                 400   AIC:                             1861.\n",
      "Df Residuals:                     397   BIC:                             1873.\n",
      "Df Model:                           2                                         \n",
      "Covariance Type:            nonrobust                                         \n",
      "==============================================================================\n",
      "                 coef    std err          t      P>|t|      [0.025      0.975]\n",
      "------------------------------------------------------------------------------\n",
      "Intercept     13.0308      0.631     20.652      0.000      11.790      14.271\n",
      "US[T.Yes]      1.1996      0.258      4.641      0.000       0.692       1.708\n",
      "Price         -0.0545      0.005    -10.416      0.000      -0.065      -0.044\n",
      "==============================================================================\n",
      "Omnibus:                        0.666   Durbin-Watson:                   1.912\n",
      "Prob(Omnibus):                  0.717   Jarque-Bera (JB):                0.749\n",
      "Skew:                           0.092   Prob(JB):                        0.688\n",
      "Kurtosis:                       2.895   Cond. No.                         607.\n",
      "==============================================================================\n",
      "\n",
      "Notes:\n",
      "[1] Standard Errors assume that the covariance matrix of the errors is correctly specified.\n"
     ]
    }
   ],
   "source": [
    "# fit regression model\n",
    "\n",
    "mod = smf.ols(formula='Sales ~ Price + US',data=df)\n",
    "res = mod.fit()\n",
    "\n",
    "print(res.summary())"
   ]
  },
  {
   "cell_type": "markdown",
   "metadata": {
    "id": "BWqY3JyDCcX6"
   },
   "source": [
    "(f) How well do the models in (a) and (e) fit the data?"
   ]
  },
  {
   "cell_type": "markdown",
   "metadata": {
    "id": "HczgjfNmCizL"
   },
   "source": [
    "> Ans:  \n",
    "```\n",
    "擬合程度，考慮 R^2 的值。\n",
    "R^2 是決定係數，衡量模型中考慮的自變量可以解釋多少方差。\n",
    "\n",
    "由於 R-squared 具有相同的值，0.239\n",
    "因此對於兩個模型，嚴格較小的模型 (e) 是一個更好的模型，\n",
    "因為對於相同的 R-squared，它使用較少的變量。\n",
    "\n",
    "這也可以從 (e) 較小的調整後的 R 平方值中看出。\n",
    "\n",
    "AIC & BIC 也是嚴格較小的模型 (e) 較低 --> 是一個更好的模型，減少過擬合\n",
    "\n",
    "在任何情況下，鑑於 R^2 的值較低，這兩個模型都不能很好地擬合數據。\n",
    "```"
   ]
  },
  {
   "cell_type": "markdown",
   "metadata": {
    "id": "fcOhLa_WDGXw"
   },
   "source": [
    "(g) Using the model from (e), obtain $95\\%$ confidence intervals for\n",
    "the coefficient(s)."
   ]
  },
  {
   "cell_type": "markdown",
   "metadata": {
    "id": "JqmzEMubMLx5"
   },
   "source": [
    "```\n",
    "               [0.025      0.975]                \n",
    "Intercept      11.790      14.271\n",
    "US              0.692       1.708\n",
    "Price          -0.065      -0.044\n",
    "```"
   ]
  },
  {
   "cell_type": "markdown",
   "metadata": {},
   "source": [
    "線性回歸，係數的 95% 置信區間<br>\n",
    "$$約\\hatβ ± 2×SE(\\hatβ)$$"
   ]
  },
  {
   "cell_type": "code",
   "execution_count": 16,
   "metadata": {},
   "outputs": [
    {
     "name": "stdout",
     "output_type": "stream",
     "text": [
      "95% intercept CI: [ 11.7688; 14.2928] \n",
      "95% US CI: [ 0.6836; 1.7156] \n",
      "95% Price CI: [ -0.0645; -0.0445] \n"
     ]
    }
   ],
   "source": [
    "# confidence interval for intercept\n",
    "\n",
    "intercept_coef = 13.0308\n",
    "intercept_stderr = 0.631\n",
    "\n",
    "us_coef = 1.1996\n",
    "us_stderr = 0.258\n",
    "\n",
    "price_coef = -0.0545\n",
    "price_stderr = 0.005\n",
    "\n",
    "print('95%% intercept CI: [ %2.4f; %2.4f] ' % (intercept_coef-2*intercept_stderr, intercept_coef+2*intercept_stderr))\n",
    "print('95%% US CI: [ %2.4f; %2.4f] ' % (us_coef-2*us_stderr, us_coef+2*us_stderr))\n",
    "print('95%% Price CI: [ %2.4f; %2.4f] ' % (price_coef-2*price_stderr, price_coef+2*price_stderr))"
   ]
  },
  {
   "cell_type": "markdown",
   "metadata": {},
   "source": [
    "[練習 3.10](https://botlnec.github.io/islp/sols/chapter3/exercise10/)"
   ]
  },
  {
   "cell_type": "markdown",
   "metadata": {},
   "source": [
    "**（H）**\n",
    "\n",
    "調查異常值或高槓桿點的存在，我們分析了標準化殘差與槓桿的關係圖<br>\n",
    "程式碼見上面連結最後"
   ]
  },
  {
   "cell_type": "markdown",
   "metadata": {
    "id": "Fkf9Hjl4bd0w"
   },
   "source": [
    "### Q4: This problem focuses on the *collinearity (共線性)* problem."
   ]
  },
  {
   "cell_type": "markdown",
   "metadata": {
    "id": "53m2K81WEjNo"
   },
   "source": [
    "(a) Perform (執行) the following commands in <span style='color:red'>Python</span>:"
   ]
  },
  {
   "cell_type": "code",
   "execution_count": 17,
   "metadata": {
    "id": "yVq12Q3VEpGh"
   },
   "outputs": [],
   "source": [
    "np.random.seed(1)\n",
    "x1 = np.random.normal(size=100)\n",
    "x2 = 0.5*x1 + np.random.normal(size=100)/10\n",
    "y = 2 + 2*x1 + 0.3*x2 + np.random.normal(size=100)"
   ]
  },
  {
   "cell_type": "markdown",
   "metadata": {
    "id": "dnY-GdQ3EtRP"
   },
   "source": [
    "The last line corresponds to creating a linear model in which <span style='color:red'>y</span> is\n",
    "a function of <span style='color:red'>x1</span> and <span style='color:red'>x2</span>. Write out the form of the linear model.\n",
    "What are the regression coefficients?"
   ]
  },
  {
   "cell_type": "markdown",
   "metadata": {
    "id": "eOICfhRBE4Oh"
   },
   "source": [
    "> Ans:  $$Y=β0+β1X1+β2X2+ϵ=2+2X1+0.3X2+ϵ$$"
   ]
  },
  {
   "cell_type": "markdown",
   "metadata": {
    "id": "hg74jgJAE_z4"
   },
   "source": [
    "(b) What is the correlation between <span style='color:red'>x1</span> and <span style='color:red'>x2</span>? Create a scatterplot\n",
    "displaying the relationship between the variables."
   ]
  },
  {
   "cell_type": "markdown",
   "metadata": {},
   "source": [
    "> Ans:"
   ]
  },
  {
   "cell_type": "code",
   "execution_count": 18,
   "metadata": {},
   "outputs": [],
   "source": [
    "import statsmodels.api as sm # To use statsmodel\n",
    "import statsmodels.formula.api as smf # To use statsmodel with R-style formulas\n",
    "from statsmodels.stats import outliers_influence\n",
    "from sklearn.linear_model import LinearRegression\n",
    "\n",
    "%matplotlib inline"
   ]
  },
  {
   "cell_type": "code",
   "execution_count": 19,
   "metadata": {
    "id": "Frq9W3pMMaNg"
   },
   "outputs": [
    {
     "data": {
      "text/plain": [
       "array([[1.        , 0.97947512],\n",
       "       [0.97947512, 1.        ]])"
      ]
     },
     "execution_count": 19,
     "metadata": {},
     "output_type": "execute_result"
    }
   ],
   "source": [
    "np.corrcoef(x1,x2)  # 0.97947512"
   ]
  },
  {
   "cell_type": "code",
   "execution_count": 20,
   "metadata": {},
   "outputs": [
    {
     "data": {
      "text/plain": [
       "<matplotlib.collections.PathCollection at 0x1d5ec7a1610>"
      ]
     },
     "execution_count": 20,
     "metadata": {},
     "output_type": "execute_result"
    },
    {
     "data": {
      "image/png": "[encoded data removed]",
      "text/plain": [
       "<Figure size 432x288 with 1 Axes>"
      ]
     },
     "metadata": {
      "needs_background": "light"
     },
     "output_type": "display_data"
    }
   ],
   "source": [
    "plt.scatter(x1,x2)"
   ]
  },
  {
   "cell_type": "markdown",
   "metadata": {
    "id": "ljhJnzPaFClH"
   },
   "source": [
    "(c) Using this data, fit a least squares regression to predict <span style='color:red'>y</span> using <span style='color:red'>x1</span> and <span style='color:red'>x2</span>. Describe the results obtained. What are $\\hat{\\beta}_0$,  $\\hat{\\beta}_1$, and $\\hat{\\beta}_2$? How do these relate to the true $\\beta_0$, $\\beta_1$, and $\\beta_2$? Can you reject the null hypothesis $H_0 : \\beta_1 = 0$? How about the null hypothesis $H_0 : \\beta_2 = 0$?"
   ]
  },
  {
   "cell_type": "code",
   "execution_count": 21,
   "metadata": {
    "id": "2gNh7DUrFIZx"
   },
   "outputs": [
    {
     "data": {
      "text/html": [
       "<table class=\"simpletable\">\n",
       "<caption>OLS Regression Results</caption>\n",
       "<tr>\n",
       "  <th>Dep. Variable:</th>            <td>y</td>        <th>  R-squared:         </th> <td>   0.786</td>\n",
       "</tr>\n",
       "<tr>\n",
       "  <th>Model:</th>                   <td>OLS</td>       <th>  Adj. R-squared:    </th> <td>   0.781</td>\n",
       "</tr>\n",
       "<tr>\n",
       "  <th>Method:</th>             <td>Least Squares</td>  <th>  F-statistic:       </th> <td>   177.8</td>\n",
       "</tr>\n",
       "<tr>\n",
       "  <th>Date:</th>             <td>Mon, 26 Sep 2022</td> <th>  Prob (F-statistic):</th> <td>3.58e-33</td>\n",
       "</tr>\n",
       "<tr>\n",
       "  <th>Time:</th>                 <td>01:30:53</td>     <th>  Log-Likelihood:    </th> <td> -140.24</td>\n",
       "</tr>\n",
       "<tr>\n",
       "  <th>No. Observations:</th>      <td>   100</td>      <th>  AIC:               </th> <td>   286.5</td>\n",
       "</tr>\n",
       "<tr>\n",
       "  <th>Df Residuals:</th>          <td>    97</td>      <th>  BIC:               </th> <td>   294.3</td>\n",
       "</tr>\n",
       "<tr>\n",
       "  <th>Df Model:</th>              <td>     2</td>      <th>                     </th>     <td> </td>   \n",
       "</tr>\n",
       "<tr>\n",
       "  <th>Covariance Type:</th>      <td>nonrobust</td>    <th>                     </th>     <td> </td>   \n",
       "</tr>\n",
       "</table>\n",
       "<table class=\"simpletable\">\n",
       "<tr>\n",
       "    <td></td>       <th>coef</th>     <th>std err</th>      <th>t</th>      <th>P>|t|</th>  <th>[0.025</th>    <th>0.975]</th>  \n",
       "</tr>\n",
       "<tr>\n",
       "  <th>const</th> <td>    1.9802</td> <td>    0.101</td> <td>   19.539</td> <td> 0.000</td> <td>    1.779</td> <td>    2.181</td>\n",
       "</tr>\n",
       "<tr>\n",
       "  <th>x1</th>    <td>    0.8462</td> <td>    0.560</td> <td>    1.512</td> <td> 0.134</td> <td>   -0.265</td> <td>    1.957</td>\n",
       "</tr>\n",
       "<tr>\n",
       "  <th>x2</th>    <td>    2.4837</td> <td>    1.076</td> <td>    2.308</td> <td> 0.023</td> <td>    0.348</td> <td>    4.619</td>\n",
       "</tr>\n",
       "</table>\n",
       "<table class=\"simpletable\">\n",
       "<tr>\n",
       "  <th>Omnibus:</th>       <td> 0.256</td> <th>  Durbin-Watson:     </th> <td>   2.195</td>\n",
       "</tr>\n",
       "<tr>\n",
       "  <th>Prob(Omnibus):</th> <td> 0.880</td> <th>  Jarque-Bera (JB):  </th> <td>   0.076</td>\n",
       "</tr>\n",
       "<tr>\n",
       "  <th>Skew:</th>          <td>-0.063</td> <th>  Prob(JB):          </th> <td>   0.963</td>\n",
       "</tr>\n",
       "<tr>\n",
       "  <th>Kurtosis:</th>      <td> 3.048</td> <th>  Cond. No.          </th> <td>    12.5</td>\n",
       "</tr>\n",
       "</table><br/><br/>Notes:<br/>[1] Standard Errors assume that the covariance matrix of the errors is correctly specified."
      ],
      "text/plain": [
       "<class 'statsmodels.iolib.summary.Summary'>\n",
       "\"\"\"\n",
       "                            OLS Regression Results                            \n",
       "==============================================================================\n",
       "Dep. Variable:                      y   R-squared:                       0.786\n",
       "Model:                            OLS   Adj. R-squared:                  0.781\n",
       "Method:                 Least Squares   F-statistic:                     177.8\n",
       "Date:                Mon, 26 Sep 2022   Prob (F-statistic):           3.58e-33\n",
       "Time:                        01:30:53   Log-Likelihood:                -140.24\n",
       "No. Observations:                 100   AIC:                             286.5\n",
       "Df Residuals:                      97   BIC:                             294.3\n",
       "Df Model:                           2                                         \n",
       "Covariance Type:            nonrobust                                         \n",
       "==============================================================================\n",
       "                 coef    std err          t      P>|t|      [0.025      0.975]\n",
       "------------------------------------------------------------------------------\n",
       "const          1.9802      0.101     19.539      0.000       1.779       2.181\n",
       "x1             0.8462      0.560      1.512      0.134      -0.265       1.957\n",
       "x2             2.4837      1.076      2.308      0.023       0.348       4.619\n",
       "==============================================================================\n",
       "Omnibus:                        0.256   Durbin-Watson:                   2.195\n",
       "Prob(Omnibus):                  0.880   Jarque-Bera (JB):                0.076\n",
       "Skew:                          -0.063   Prob(JB):                        0.963\n",
       "Kurtosis:                       3.048   Cond. No.                         12.5\n",
       "==============================================================================\n",
       "\n",
       "Notes:\n",
       "[1] Standard Errors assume that the covariance matrix of the errors is correctly specified.\n",
       "\"\"\""
      ]
     },
     "execution_count": 21,
     "metadata": {},
     "output_type": "execute_result"
    }
   ],
   "source": [
    "# Define data\n",
    "X = pd.DataFrame({'x1':x1, 'x2':x2})\n",
    "X = sm.add_constant(X)  \n",
    "# No constant is added by the model unless we're using formulas, so we have to add it\n",
    "\n",
    "# Create model\n",
    "model = sm.OLS(y, X)\n",
    "\n",
    "# Fit regression model\n",
    "results = model.fit()\n",
    "\n",
    "# Print results\n",
    "results.summary()"
   ]
  },
  {
   "cell_type": "markdown",
   "metadata": {
    "id": "MxRjKhoNE7Ih"
   },
   "source": [
    "> Ans:  \n",
    "\n",
    "$\\hatβ0=1.9802$<br>\n",
    "$\\hatβ1=0.8462$<br>\n",
    "$\\hatβ2=2.4837$<br>\n",
    "\n",
    "$β0=2$<br> \n",
    "$β1=2$<br>\n",
    "$β2=0.3$\n",
    "\n",
    "除了截距項其他都差蠻多的\n",
    "\n",
    "看 p-value<br>\n",
    "𝐻0:𝛽1=0 大，不拒絕<br>\n",
    "𝐻0:𝛽2=0 小，拒絕"
   ]
  },
  {
   "cell_type": "code",
   "execution_count": 22,
   "metadata": {
    "id": "KWDQk4ByFOy7"
   },
   "outputs": [
    {
     "name": "stdout",
     "output_type": "stream",
     "text": [
      "                            OLS Regression Results                            \n",
      "==============================================================================\n",
      "Dep. Variable:                      y   R-squared:                       0.786\n",
      "Model:                            OLS   Adj. R-squared:                  0.781\n",
      "Method:                 Least Squares   F-statistic:                     177.8\n",
      "Date:                Mon, 26 Sep 2022   Prob (F-statistic):           3.58e-33\n",
      "Time:                        02:28:06   Log-Likelihood:                -140.24\n",
      "No. Observations:                 100   AIC:                             286.5\n",
      "Df Residuals:                      97   BIC:                             294.3\n",
      "Df Model:                           2                                         \n",
      "Covariance Type:            nonrobust                                         \n",
      "==============================================================================\n",
      "                 coef    std err          t      P>|t|      [0.025      0.975]\n",
      "------------------------------------------------------------------------------\n",
      "Intercept      1.9802      0.101     19.539      0.000       1.779       2.181\n",
      "x1             0.8462      0.560      1.512      0.134      -0.265       1.957\n",
      "x2             2.4837      1.076      2.308      0.023       0.348       4.619\n",
      "==============================================================================\n",
      "Omnibus:                        0.256   Durbin-Watson:                   2.195\n",
      "Prob(Omnibus):                  0.880   Jarque-Bera (JB):                0.076\n",
      "Skew:                          -0.063   Prob(JB):                        0.963\n",
      "Kurtosis:                       3.048   Cond. No.                         12.5\n",
      "==============================================================================\n",
      "\n",
      "Notes:\n",
      "[1] Standard Errors assume that the covariance matrix of the errors is correctly specified.\n"
     ]
    }
   ],
   "source": [
    "# Way 2\n",
    "\n",
    "# Define data\n",
    "df = pd.DataFrame({'x1':x1, 'x2':x2, 'y':y})  # We don't need to add constant because we will use formulas\n",
    "\n",
    "# Create model\n",
    "mod = smf.ols(formula='y ~ x1 + x2', data=df)  # R-style command\n",
    "\n",
    "# Fit model\n",
    "res = mod.fit()\n",
    "\n",
    "# Print results\n",
    "print (res.summary())"
   ]
  },
  {
   "cell_type": "code",
   "execution_count": 23,
   "metadata": {},
   "outputs": [
    {
     "data": {
      "text/plain": [
       "array([0.        , 0.84624601, 2.4837135 ])"
      ]
     },
     "execution_count": 23,
     "metadata": {},
     "output_type": "execute_result"
    }
   ],
   "source": [
    "# Way 3\n",
    "\n",
    "# Create model\n",
    "lr = LinearRegression()\n",
    "\n",
    "# Fit model\n",
    "mod = lr.fit(X,y)\n",
    "\n",
    "# Get coefficients\n",
    "mod.coef_"
   ]
  },
  {
   "cell_type": "markdown",
   "metadata": {},
   "source": [
    "(d) Now fit a least squares regression to predict <span style='color:red'>y</span> using only <span style='color:red'>x1</span>. Comment on your results. Can you reject the null hypothesis $H_0 : \\beta_1 = 0$?"
   ]
  },
  {
   "cell_type": "markdown",
   "metadata": {
    "id": "jOjLXlFpE7zp"
   },
   "source": [
    "> Ans:  y = 2.0167 + 2.1118*x1；P 值為 0 ，拒絕 H0\n",
    "\n",
    "```\n",
    "0.8462 --> 2.1118 \n",
    "接近真實 β1=2 \n",
    "```"
   ]
  },
  {
   "cell_type": "code",
   "execution_count": 24,
   "metadata": {},
   "outputs": [
    {
     "name": "stdout",
     "output_type": "stream",
     "text": [
      "                            OLS Regression Results                            \n",
      "==============================================================================\n",
      "Dep. Variable:                      y   R-squared:                       0.774\n",
      "Model:                            OLS   Adj. R-squared:                  0.772\n",
      "Method:                 Least Squares   F-statistic:                     335.5\n",
      "Date:                Mon, 26 Sep 2022   Prob (F-statistic):           2.07e-33\n",
      "Time:                        02:32:46   Log-Likelihood:                -142.92\n",
      "No. Observations:                 100   AIC:                             289.8\n",
      "Df Residuals:                      98   BIC:                             295.0\n",
      "Df Model:                           1                                         \n",
      "Covariance Type:            nonrobust                                         \n",
      "==============================================================================\n",
      "                 coef    std err          t      P>|t|      [0.025      0.975]\n",
      "------------------------------------------------------------------------------\n",
      "const          2.0167      0.102     19.715      0.000       1.814       2.220\n",
      "x1             2.1118      0.115     18.317      0.000       1.883       2.341\n",
      "==============================================================================\n",
      "Omnibus:                        0.406   Durbin-Watson:                   2.185\n",
      "Prob(Omnibus):                  0.816   Jarque-Bera (JB):                0.550\n",
      "Skew:                           0.127   Prob(JB):                        0.759\n",
      "Kurtosis:                       2.739   Cond. No.                         1.15\n",
      "==============================================================================\n",
      "\n",
      "Notes:\n",
      "[1] Standard Errors assume that the covariance matrix of the errors is correctly specified.\n"
     ]
    }
   ],
   "source": [
    "X = pd.DataFrame({'x1':x1})\n",
    "X = sm.add_constant(X)\n",
    "\n",
    "model = sm.OLS(y, X)\n",
    "results = model.fit()\n",
    "\n",
    "print(results.summary())"
   ]
  },
  {
   "cell_type": "markdown",
   "metadata": {
    "id": "CVHpBcQXFUZb"
   },
   "source": [
    "(e) Now fit a least squares regression to predict <span style='color:red'>y</span> using only <span style='color:red'>x2</span>. Comment on your results. Can you reject the null hypothesis $H_0 : \\beta_2 = 0$?"
   ]
  },
  {
   "cell_type": "markdown",
   "metadata": {},
   "source": [
    "> Ans:  y = 1.9589 + 4.0770*x2；P 值為 0 ，拒絕 H0\n",
    "```\n",
    "2.4837 --> 4.0770\n",
    "β2=0.3\n",
    "```"
   ]
  },
  {
   "cell_type": "code",
   "execution_count": 25,
   "metadata": {
    "id": "Yj3diWu12c0V"
   },
   "outputs": [
    {
     "name": "stdout",
     "output_type": "stream",
     "text": [
      "                            OLS Regression Results                            \n",
      "==============================================================================\n",
      "Dep. Variable:                      y   R-squared:                       0.781\n",
      "Model:                            OLS   Adj. R-squared:                  0.778\n",
      "Method:                 Least Squares   F-statistic:                     348.8\n",
      "Date:                Mon, 26 Sep 2022   Prob (F-statistic):           4.71e-34\n",
      "Time:                        02:39:37   Log-Likelihood:                -141.41\n",
      "No. Observations:                 100   AIC:                             286.8\n",
      "Df Residuals:                      98   BIC:                             292.0\n",
      "Df Model:                           1                                         \n",
      "Covariance Type:            nonrobust                                         \n",
      "==============================================================================\n",
      "                 coef    std err          t      P>|t|      [0.025      0.975]\n",
      "------------------------------------------------------------------------------\n",
      "const          1.9589      0.101     19.392      0.000       1.758       2.159\n",
      "x2             4.0770      0.218     18.676      0.000       3.644       4.510\n",
      "==============================================================================\n",
      "Omnibus:                        1.430   Durbin-Watson:                   2.186\n",
      "Prob(Omnibus):                  0.489   Jarque-Bera (JB):                0.953\n",
      "Skew:                          -0.210   Prob(JB):                        0.621\n",
      "Kurtosis:                       3.227   Cond. No.                         2.18\n",
      "==============================================================================\n",
      "\n",
      "Notes:\n",
      "[1] Standard Errors assume that the covariance matrix of the errors is correctly specified.\n"
     ]
    }
   ],
   "source": [
    "X = pd.DataFrame({'x2':x2})\n",
    "X = sm.add_constant(X)\n",
    "\n",
    "model = sm.OLS(y, X)\n",
    "results = model.fit()\n",
    "print(results.summary())"
   ]
  },
  {
   "cell_type": "markdown",
   "metadata": {
    "id": "l8o6KSh_FXHs"
   },
   "source": [
    "(f) Do the results obtained in (c)–(e) contradict each other? Explain your answer."
   ]
  },
  {
   "cell_type": "markdown",
   "metadata": {
    "id": "UDHhswcjFSTd"
   },
   "source": [
    "> Ans:  \n",
    "```\n",
    "不矛盾。因為共線性。(高相關值和散點圖、Y 的生成所暗示的那樣)\n",
    "\n",
    "當兩個變量在同一個線性模型中時，其中一個變量會失去解釋力，\n",
    "因為它所解釋的方差已經被另一個變量解釋了。\n",
    "\n",
    "因此，如果單獨考慮，這兩個變量都會拒絕原假設，\n",
    "但如果一起考慮，其中一個變量是可忽略的。\n",
    "\n",
    "# y = 2 + 2 * x1 + 0.3 * x2 \n",
    "# x2 = 0.5 * x1\n",
    "# x1\n",
    "\n",
    "按照X1寫X2,x1係數得到 2.15 該值完全在 (d) 中計算的置信區間內，[1.883  2.341]\n",
    "同樣，對於X2係數的期望值為 4.3，該值落在 (e) 中計算的置信區間內 [3.644  4.510] \n",
    "```"
   ]
  },
  {
   "cell_type": "markdown",
   "metadata": {
    "id": "fr4dhWc7FelA"
   },
   "source": [
    "(g) Now suppose we obtain one additional observation, which was\n",
    "unfortunately (不幸) mismeasured (測量錯誤)."
   ]
  },
  {
   "cell_type": "code",
   "execution_count": 26,
   "metadata": {
    "id": "tI0gE3TxFhEX"
   },
   "outputs": [],
   "source": [
    "x1 = np.append(x1,0.1)\n",
    "x2 = np.append(x2,0.8)\n",
    "y = np.append(y,6)"
   ]
  },
  {
   "cell_type": "markdown",
   "metadata": {
    "id": "5d9u2DrGFlUg"
   },
   "source": [
    "Re-fit the linear models from (c) to (e) using this new data. What\n",
    "effect does this new observation have on the each of the models?\n",
    "In each model, is this observation an outlier? A high-leverage\n",
    "point? Both? Explain your answers."
   ]
  },
  {
   "cell_type": "markdown",
   "metadata": {},
   "source": [
    "### Model (c)"
   ]
  },
  {
   "cell_type": "code",
   "execution_count": 27,
   "metadata": {
    "id": "Y-4bKq-LMgjY"
   },
   "outputs": [
    {
     "data": {
      "text/html": [
       "<table class=\"simpletable\">\n",
       "<caption>OLS Regression Results</caption>\n",
       "<tr>\n",
       "  <th>Dep. Variable:</th>            <td>y</td>        <th>  R-squared:         </th> <td>   0.787</td>\n",
       "</tr>\n",
       "<tr>\n",
       "  <th>Model:</th>                   <td>OLS</td>       <th>  Adj. R-squared:    </th> <td>   0.783</td>\n",
       "</tr>\n",
       "<tr>\n",
       "  <th>Method:</th>             <td>Least Squares</td>  <th>  F-statistic:       </th> <td>   181.6</td>\n",
       "</tr>\n",
       "<tr>\n",
       "  <th>Date:</th>             <td>Mon, 26 Sep 2022</td> <th>  Prob (F-statistic):</th> <td>1.10e-33</td>\n",
       "</tr>\n",
       "<tr>\n",
       "  <th>Time:</th>                 <td>03:07:18</td>     <th>  Log-Likelihood:    </th> <td> -142.34</td>\n",
       "</tr>\n",
       "<tr>\n",
       "  <th>No. Observations:</th>      <td>   101</td>      <th>  AIC:               </th> <td>   290.7</td>\n",
       "</tr>\n",
       "<tr>\n",
       "  <th>Df Residuals:</th>          <td>    98</td>      <th>  BIC:               </th> <td>   298.5</td>\n",
       "</tr>\n",
       "<tr>\n",
       "  <th>Df Model:</th>              <td>     2</td>      <th>                     </th>     <td> </td>   \n",
       "</tr>\n",
       "<tr>\n",
       "  <th>Covariance Type:</th>      <td>nonrobust</td>    <th>                     </th>     <td> </td>   \n",
       "</tr>\n",
       "</table>\n",
       "<table class=\"simpletable\">\n",
       "<tr>\n",
       "    <td></td>       <th>coef</th>     <th>std err</th>      <th>t</th>      <th>P>|t|</th>  <th>[0.025</th>    <th>0.975]</th>  \n",
       "</tr>\n",
       "<tr>\n",
       "  <th>const</th> <td>    1.9772</td> <td>    0.102</td> <td>   19.382</td> <td> 0.000</td> <td>    1.775</td> <td>    2.180</td>\n",
       "</tr>\n",
       "<tr>\n",
       "  <th>x1</th>    <td>    0.3296</td> <td>    0.449</td> <td>    0.735</td> <td> 0.464</td> <td>   -0.561</td> <td>    1.220</td>\n",
       "</tr>\n",
       "<tr>\n",
       "  <th>x2</th>    <td>    3.4988</td> <td>    0.851</td> <td>    4.111</td> <td> 0.000</td> <td>    1.810</td> <td>    5.188</td>\n",
       "</tr>\n",
       "</table>\n",
       "<table class=\"simpletable\">\n",
       "<tr>\n",
       "  <th>Omnibus:</th>       <td> 0.782</td> <th>  Durbin-Watson:     </th> <td>   2.175</td>\n",
       "</tr>\n",
       "<tr>\n",
       "  <th>Prob(Omnibus):</th> <td> 0.676</td> <th>  Jarque-Bera (JB):  </th> <td>   0.478</td>\n",
       "</tr>\n",
       "<tr>\n",
       "  <th>Skew:</th>          <td>-0.159</td> <th>  Prob(JB):          </th> <td>   0.788</td>\n",
       "</tr>\n",
       "<tr>\n",
       "  <th>Kurtosis:</th>      <td> 3.108</td> <th>  Cond. No.          </th> <td>    9.91</td>\n",
       "</tr>\n",
       "</table><br/><br/>Notes:<br/>[1] Standard Errors assume that the covariance matrix of the errors is correctly specified."
      ],
      "text/plain": [
       "<class 'statsmodels.iolib.summary.Summary'>\n",
       "\"\"\"\n",
       "                            OLS Regression Results                            \n",
       "==============================================================================\n",
       "Dep. Variable:                      y   R-squared:                       0.787\n",
       "Model:                            OLS   Adj. R-squared:                  0.783\n",
       "Method:                 Least Squares   F-statistic:                     181.6\n",
       "Date:                Mon, 26 Sep 2022   Prob (F-statistic):           1.10e-33\n",
       "Time:                        03:07:18   Log-Likelihood:                -142.34\n",
       "No. Observations:                 101   AIC:                             290.7\n",
       "Df Residuals:                      98   BIC:                             298.5\n",
       "Df Model:                           2                                         \n",
       "Covariance Type:            nonrobust                                         \n",
       "==============================================================================\n",
       "                 coef    std err          t      P>|t|      [0.025      0.975]\n",
       "------------------------------------------------------------------------------\n",
       "const          1.9772      0.102     19.382      0.000       1.775       2.180\n",
       "x1             0.3296      0.449      0.735      0.464      -0.561       1.220\n",
       "x2             3.4988      0.851      4.111      0.000       1.810       5.188\n",
       "==============================================================================\n",
       "Omnibus:                        0.782   Durbin-Watson:                   2.175\n",
       "Prob(Omnibus):                  0.676   Jarque-Bera (JB):                0.478\n",
       "Skew:                          -0.159   Prob(JB):                        0.788\n",
       "Kurtosis:                       3.108   Cond. No.                         9.91\n",
       "==============================================================================\n",
       "\n",
       "Notes:\n",
       "[1] Standard Errors assume that the covariance matrix of the errors is correctly specified.\n",
       "\"\"\""
      ]
     },
     "execution_count": 27,
     "metadata": {},
     "output_type": "execute_result"
    }
   ],
   "source": [
    "# Define data\n",
    "X = pd.DataFrame({'x1':x1, 'x2':x2})\n",
    "X = sm.add_constant(X)  \n",
    "# No constant is added by the model unless we're using formulas, so we have to add it\n",
    "\n",
    "# Create model\n",
    "model = sm.OLS(y, X)\n",
    "\n",
    "# Fit regression model\n",
    "results = model.fit()\n",
    "\n",
    "# Print results\n",
    "results.summary()"
   ]
  },
  {
   "cell_type": "markdown",
   "metadata": {},
   "source": [
    "> Ans:  \n",
    "\n",
    "$\\hatβ0=1.9802 --> 1.9772$<br>\n",
    "$\\hatβ1=0.8462 --> 0.3296$<br>\n",
    "$\\hatβ2=2.4837 --> 3.4988$<br>\n",
    "\n",
    "$β0=2$<br> \n",
    "$β1=2$<br>\n",
    "$β2=0.3$\n",
    "\n",
    "除了截距項其他都差蠻多的\n",
    "\n",
    "看 p-value<br>\n",
    "𝐻0:𝛽1=0 大，不拒絕<br>\n",
    "𝐻0:𝛽2=0 小，拒絕\n",
    "\n",
    "R-squared:\t0.786 --> 0.787 上升"
   ]
  },
  {
   "cell_type": "markdown",
   "metadata": {},
   "source": [
    "### Model (d)"
   ]
  },
  {
   "cell_type": "code",
   "execution_count": 28,
   "metadata": {},
   "outputs": [
    {
     "name": "stdout",
     "output_type": "stream",
     "text": [
      "                            OLS Regression Results                            \n",
      "==============================================================================\n",
      "Dep. Variable:                      y   R-squared:                       0.751\n",
      "Model:                            OLS   Adj. R-squared:                  0.748\n",
      "Method:                 Least Squares   F-statistic:                     298.4\n",
      "Date:                Mon, 26 Sep 2022   Prob (F-statistic):           1.23e-31\n",
      "Time:                        03:07:19   Log-Likelihood:                -150.37\n",
      "No. Observations:                 101   AIC:                             304.7\n",
      "Df Residuals:                      99   BIC:                             310.0\n",
      "Df Model:                           1                                         \n",
      "Covariance Type:            nonrobust                                         \n",
      "==============================================================================\n",
      "                 coef    std err          t      P>|t|      [0.025      0.975]\n",
      "------------------------------------------------------------------------------\n",
      "const          2.0540      0.108     19.012      0.000       1.840       2.268\n",
      "x1             2.1137      0.122     17.273      0.000       1.871       2.356\n",
      "==============================================================================\n",
      "Omnibus:                        5.191   Durbin-Watson:                   2.006\n",
      "Prob(Omnibus):                  0.075   Jarque-Bera (JB):                4.577\n",
      "Skew:                           0.432   Prob(JB):                        0.101\n",
      "Kurtosis:                       3.584   Cond. No.                         1.15\n",
      "==============================================================================\n",
      "\n",
      "Notes:\n",
      "[1] Standard Errors assume that the covariance matrix of the errors is correctly specified.\n"
     ]
    }
   ],
   "source": [
    "X = pd.DataFrame({'x1':x1})\n",
    "X = sm.add_constant(X)\n",
    "\n",
    "model = sm.OLS(y, X)\n",
    "results = model.fit()\n",
    "\n",
    "print(results.summary())"
   ]
  },
  {
   "cell_type": "markdown",
   "metadata": {},
   "source": [
    "> Ans:  y = 2.0167 + 2.1137*x1；P 值為 0 ，拒絕 H0\n",
    "\n",
    "```\n",
    "結果差不多\n",
    "0.8462 --> 2.1118 --> 2.1137\n",
    "β1=2 \n",
    "\n",
    "R-squared: 0.774 --> 0.751 下降\n",
    "```"
   ]
  },
  {
   "cell_type": "markdown",
   "metadata": {},
   "source": [
    "### Model (e)"
   ]
  },
  {
   "cell_type": "code",
   "execution_count": 29,
   "metadata": {},
   "outputs": [
    {
     "name": "stdout",
     "output_type": "stream",
     "text": [
      "                            OLS Regression Results                            \n",
      "==============================================================================\n",
      "Dep. Variable:                      y   R-squared:                       0.786\n",
      "Model:                            OLS   Adj. R-squared:                  0.784\n",
      "Method:                 Least Squares   F-statistic:                     364.3\n",
      "Date:                Mon, 26 Sep 2022   Prob (F-statistic):           5.98e-35\n",
      "Time:                        03:07:20   Log-Likelihood:                -142.62\n",
      "No. Observations:                 101   AIC:                             289.2\n",
      "Df Residuals:                      99   BIC:                             294.5\n",
      "Df Model:                           1                                         \n",
      "Covariance Type:            nonrobust                                         \n",
      "==============================================================================\n",
      "                 coef    std err          t      P>|t|      [0.025      0.975]\n",
      "------------------------------------------------------------------------------\n",
      "const          1.9652      0.100     19.561      0.000       1.766       2.165\n",
      "x2             4.1038      0.215     19.087      0.000       3.677       4.530\n",
      "==============================================================================\n",
      "Omnibus:                        1.472   Durbin-Watson:                   2.181\n",
      "Prob(Omnibus):                  0.479   Jarque-Bera (JB):                1.005\n",
      "Skew:                          -0.220   Prob(JB):                        0.605\n",
      "Kurtosis:                       3.212   Cond. No.                         2.16\n",
      "==============================================================================\n",
      "\n",
      "Notes:\n",
      "[1] Standard Errors assume that the covariance matrix of the errors is correctly specified.\n"
     ]
    }
   ],
   "source": [
    "X = pd.DataFrame({'x2':x2})\n",
    "X = sm.add_constant(X)\n",
    "\n",
    "model = sm.OLS(y, X)\n",
    "results = model.fit()\n",
    "print(results.summary())"
   ]
  },
  {
   "cell_type": "markdown",
   "metadata": {},
   "source": [
    "> Ans:  y = 1.9589 + 4.1038*x2；P 值為 0 ，拒絕 H0\n",
    "```\n",
    "結果差不多\n",
    "2.4837 --> 4.0770 --> 4.1038\n",
    "β2=0.3\n",
    "\n",
    "R-squared: 0.781 --> 0.786 上升\n",
    "```"
   ]
  },
  {
   "cell_type": "markdown",
   "metadata": {},
   "source": [
    "**In each model, is this observation an outlier? A high-leverage point? Both? Explain your answers**"
   ]
  },
  {
   "cell_type": "code",
   "execution_count": 30,
   "metadata": {},
   "outputs": [
    {
     "data": {
      "text/html": [
       "<div>\n",
       "<style scoped>\n",
       "    .dataframe tbody tr th:only-of-type {\n",
       "        vertical-align: middle;\n",
       "    }\n",
       "\n",
       "    .dataframe tbody tr th {\n",
       "        vertical-align: top;\n",
       "    }\n",
       "\n",
       "    .dataframe thead th {\n",
       "        text-align: right;\n",
       "    }\n",
       "</style>\n",
       "<table border=\"1\" class=\"dataframe\">\n",
       "  <thead>\n",
       "    <tr style=\"text-align: right;\">\n",
       "      <th></th>\n",
       "      <th>x1</th>\n",
       "      <th>x2</th>\n",
       "      <th>y</th>\n",
       "    </tr>\n",
       "  </thead>\n",
       "  <tbody>\n",
       "    <tr>\n",
       "      <th>0</th>\n",
       "      <td>1.624345</td>\n",
       "      <td>0.767460</td>\n",
       "      <td>5.078050</td>\n",
       "    </tr>\n",
       "    <tr>\n",
       "      <th>1</th>\n",
       "      <td>-0.611756</td>\n",
       "      <td>-0.183427</td>\n",
       "      <td>1.545465</td>\n",
       "    </tr>\n",
       "    <tr>\n",
       "      <th>2</th>\n",
       "      <td>-0.528172</td>\n",
       "      <td>-0.223737</td>\n",
       "      <td>0.314230</td>\n",
       "    </tr>\n",
       "    <tr>\n",
       "      <th>3</th>\n",
       "      <td>-1.072969</td>\n",
       "      <td>-0.477126</td>\n",
       "      <td>1.665803</td>\n",
       "    </tr>\n",
       "    <tr>\n",
       "      <th>4</th>\n",
       "      <td>0.865408</td>\n",
       "      <td>0.323213</td>\n",
       "      <td>2.495827</td>\n",
       "    </tr>\n",
       "    <tr>\n",
       "      <th>...</th>\n",
       "      <td>...</td>\n",
       "      <td>...</td>\n",
       "      <td>...</td>\n",
       "    </tr>\n",
       "    <tr>\n",
       "      <th>96</th>\n",
       "      <td>-0.343854</td>\n",
       "      <td>-0.111695</td>\n",
       "      <td>1.696086</td>\n",
       "    </tr>\n",
       "    <tr>\n",
       "      <th>97</th>\n",
       "      <td>0.043597</td>\n",
       "      <td>0.063827</td>\n",
       "      <td>2.891112</td>\n",
       "    </tr>\n",
       "    <tr>\n",
       "      <th>98</th>\n",
       "      <td>-0.620001</td>\n",
       "      <td>-0.228905</td>\n",
       "      <td>-0.264099</td>\n",
       "    </tr>\n",
       "    <tr>\n",
       "      <th>99</th>\n",
       "      <td>0.698032</td>\n",
       "      <td>0.453460</td>\n",
       "      <td>4.118013</td>\n",
       "    </tr>\n",
       "    <tr>\n",
       "      <th>100</th>\n",
       "      <td>0.100000</td>\n",
       "      <td>0.800000</td>\n",
       "      <td>6.000000</td>\n",
       "    </tr>\n",
       "  </tbody>\n",
       "</table>\n",
       "<p>101 rows × 3 columns</p>\n",
       "</div>"
      ],
      "text/plain": [
       "           x1        x2         y\n",
       "0    1.624345  0.767460  5.078050\n",
       "1   -0.611756 -0.183427  1.545465\n",
       "2   -0.528172 -0.223737  0.314230\n",
       "3   -1.072969 -0.477126  1.665803\n",
       "4    0.865408  0.323213  2.495827\n",
       "..        ...       ...       ...\n",
       "96  -0.343854 -0.111695  1.696086\n",
       "97   0.043597  0.063827  2.891112\n",
       "98  -0.620001 -0.228905 -0.264099\n",
       "99   0.698032  0.453460  4.118013\n",
       "100  0.100000  0.800000  6.000000\n",
       "\n",
       "[101 rows x 3 columns]"
      ]
     },
     "execution_count": 30,
     "metadata": {},
     "output_type": "execute_result"
    }
   ],
   "source": [
    "# Add to dataframe (easier for outlier analysis plots)\n",
    "\n",
    "sample = {'x1': .1, 'x2': .8, 'y': 6}  # Create point\n",
    "df = df.append(sample, ignore_index=True)  # Append sample to existing dataframe\n",
    "df"
   ]
  },
  {
   "cell_type": "code",
   "execution_count": 32,
   "metadata": {},
   "outputs": [
    {
     "data": {
      "image/png": "[encoded data removed]",
      "text/plain": [
       "<Figure size 432x288 with 1 Axes>"
      ]
     },
     "metadata": {
      "needs_background": "light"
     },
     "output_type": "display_data"
    }
   ],
   "source": [
    "# Bivariate analysis (x1,x2)\n",
    "\n",
    "sample = df.iloc[-1:]  # To get the last observation\n",
    "other = df.iloc[:-1]  # To get all the observations but the last\n",
    "\n",
    "ax = other.plot(kind='scatter',x='x1',y='x2', color='blue');  # Plot all observations but the last in blue\n",
    "sample.plot(ax=ax, kind='scatter',x='x1',y='x2', color='red');  # Plot last observation added in red"
   ]
  },
  {
   "cell_type": "markdown",
   "metadata": {},
   "source": [
    "預測值的組合看起來還好，沒特別超出雙邊範圍，感覺像一個沒那麼嚴重的槓桿點。\n",
    "\n",
    "**注意：**\n",
    "\n",
    "**我們沒有將預測變量與響應進行比較，也沒有評估是否與模型預測的值相差甚遠。**\n",
    "\n",
    "**因此，根據這個情節討論它是否是異常值是沒有意義的。**"
   ]
  },
  {
   "cell_type": "code",
   "execution_count": 36,
   "metadata": {},
   "outputs": [
    {
     "data": {
      "image/png": "[encoded data removed]",
      "text/plain": [
       "<Figure size 432x288 with 1 Axes>"
      ]
     },
     "metadata": {
      "needs_background": "light"
     },
     "output_type": "display_data"
    }
   ],
   "source": [
    "# Bivariate analysis (x1,y)\n",
    "\n",
    "sample = df.iloc[-1:]  # To get the last observation\n",
    "other = df.iloc[:-1]  # To get all the observations but the last\n",
    "\n",
    "ax = other.plot(kind='scatter',x='x1',y='y', color='blue');  # Plot all observations but the last in blue\n",
    "sample.plot(ax=ax, kind='scatter',x='x1',y='y', color='red');  # Plot last observation added in red"
   ]
  },
  {
   "cell_type": "markdown",
   "metadata": {},
   "source": [
    "紅點勉強隨趨勢，看起來其實不像一個異常值。<br>\n",
    "紅點沒有異常X1價值，所以它看起來不像是一個高槓桿點。"
   ]
  },
  {
   "cell_type": "code",
   "execution_count": 37,
   "metadata": {},
   "outputs": [
    {
     "data": {
      "image/png": "[encoded data removed]",
      "text/plain": [
       "<Figure size 432x288 with 1 Axes>"
      ]
     },
     "metadata": {
      "needs_background": "light"
     },
     "output_type": "display_data"
    }
   ],
   "source": [
    "# Bivariate analysis (x2,y)\n",
    "\n",
    "sample = df.iloc[-1:]  # To get the last observation\n",
    "other = df.iloc[:-1]  # To get all the observations but the last\n",
    "\n",
    "ax = other.plot(kind='scatter',x='x2',y='y', color='blue');  # Plot all observations but the last in blue\n",
    "sample.plot(ax=ax, kind='scatter',x='x2',y='y', color='red');  # Plot last observation added in red"
   ]
  },
  {
   "cell_type": "markdown",
   "metadata": {},
   "source": [
    "紅點跟隨趨勢，看起來不像異常值。<br>\n",
    "紅點落在X2範圍，看起來不像一個高槓桿點。"
   ]
  },
  {
   "cell_type": "markdown",
   "metadata": {},
   "source": [
    "```\n",
    "總之：\n",
    "觀察值增加影響模型，主要是在X1和X2模型\n",
    "這意味著即使是 100 次中的 1 次觀察，這種觀察減少了現有的共線性現象。\n",
    "\n",
    "根據散點圖，添加的觀察值似乎不是異常值，勉強算槓桿點。\n",
    "\n",
    "結論可以從\n",
    "面對剩余觀察時添加的觀察的視覺觀察得出、與幾種情況下的其他觀察結果相比。\n",
    "\n",
    "添加的觀察結果顯示了\n",
    "預測變量值、預測變量值和顯著不同行為的不明顯，可能利用檢定會更確定。\n",
    "```"
   ]
  },
  {
   "cell_type": "markdown",
   "metadata": {},
   "source": [
    "[練習 3.14](https://botlnec.github.io/islp/sols/chapter3/exercise14/)\n",
    "  \n",
    "```\n",
    "離群值 :\n",
    "一個點與模型擬合預測的預期範圍相差甚遠。是否代表母體的問題。\n",
    "\n",
    "可以根據所考慮的變量（特徵）的數量從單變量、雙變量或多變量的角度識別異常值。\n",
    "我們應該使用盡可能多的視角，在它們之間尋找一致的模式來識別異常值。\n",
    "\n",
    "明顯超出其他觀察範圍的案例將被視為散點圖中的孤立點。\n",
    "通常，雙變量方法的一個缺點是隨著變量數量的增加，可能會出現大量散點圖。\n",
    "\n",
    "高槓桿點 :\n",
    "異常值是響應的觀察值是不尋常的，給定預測X \n",
    "相比之下，具有高槓桿的觀測值具有不尋常的X \n",
    "\n",
    "槓桿是衡量一個觀察值的自變量值與其他觀察值的距離的度量\n",
    "對於單個預測變量，極值 x 只是一個特別高或特別低的值\n",
    "\n",
    "但是在具有許多預測變量的多元線性回歸中，\n",
    "可能有一個觀察值恰好在每個單獨的預測變量值的範圍內，但在整個預測變量集方面是不尋常的。\n",
    "對於多個預測變量，\n",
    "一個或多個預測變量的極端 x 值可能特別高或特別低，或者可能是預測變量值的“不尋常”組合\n",
    "（例如，對於正相關的兩個預測變量，預測變量值的不尋常組合可能是高一個預測變量的值與另一個預測變量的低值配對）。\n",
    "```"
   ]
  }
 ],
 "metadata": {
  "colab": {
   "collapsed_sections": [],
   "provenance": []
  },
  "kernelspec": {
   "display_name": "Python 3",
   "language": "python",
   "name": "python3"
  },
  "language_info": {
   "codemirror_mode": {
    "name": "ipython",
    "version": 3
   },
   "file_extension": ".py",
   "mimetype": "text/x-python",
   "name": "python",
   "nbconvert_exporter": "python",
   "pygments_lexer": "ipython3",
   "version": "3.8.8"
  }
 },
 "nbformat": 4,
 "nbformat_minor": 1
}
