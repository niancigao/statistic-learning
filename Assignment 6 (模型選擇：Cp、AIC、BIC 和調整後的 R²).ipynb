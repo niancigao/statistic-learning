{
 "cells": [
  {
   "cell_type": "markdown",
   "metadata": {},
   "source": [
    "# Assignment 6"
   ]
  },
  {
   "cell_type": "markdown",
   "metadata": {},
   "source": [
    "[套索模型選擇：AIC-BIC / 交叉驗證](https://scikit-learn.org/stable/auto_examples/linear_model/plot_lasso_model_selection.html)"
   ]
  },
  {
   "cell_type": "markdown",
   "metadata": {},
   "source": [
    "#### Student ID: B082040005\n",
    "\n",
    "#### Name: 高念慈"
   ]
  },
  {
   "cell_type": "markdown",
   "metadata": {},
   "source": [
    "## 2\n",
    "For parts (a) through (c), indicate (指明) which of i. through iv. is correct.\n",
    "Justify your answer."
   ]
  },
  {
   "cell_type": "markdown",
   "metadata": {},
   "source": [
    "(a) The lasso, relative to least squares, is:\n",
    "    <ol style=\"list-style-type:lower-roman\">\n",
    "    <li>More flexible and hence will give improved prediction accuracy when its increase in bias is less than its decrease in variance.</li>\n",
    "    <li>More flexible and hence will give improved prediction accuracy when its increase in variance is less than its decrease in bias.</li>\n",
    "    <li>Less flexible and hence will give improved prediction accuracy when its increase in bias is less than its decrease in variance.</li>\n",
    "    <li>Less flexible and hence will give improved prediction accuracy when its increase in variance is less than its decrease in bias.</li>\n",
    "    </ol>"
   ]
  },
  {
   "cell_type": "markdown",
   "metadata": {},
   "source": [
    "> Ans: (iii)<br><br>\n",
    "(i)錯誤的。Lasso 減少了變量的數量，因此不太靈活。<br>\n",
    "(ii)錯誤的。與 (i) 中的理由相同。<br>\n",
    "(iv)錯誤的。一般來說，lasso 會減少方差並增加偏差。方差的減少應該補償偏差的增加。\n",
    "\n",
    "> Ans: (iii)<br>加入懲罰項會降低模型的 flexible，因此 bias 上升，variance 下降，若 bias 上升速度小於 variance 下降速度，則整體 MSE 下降。"
   ]
  },
  {
   "cell_type": "markdown",
   "metadata": {},
   "source": [
    "(b) Repeat (a) for ridge regression relative to least squares."
   ]
  },
  {
   "cell_type": "markdown",
   "metadata": {},
   "source": [
    "> Ans: (iii)<br><br>\n",
    "(i)錯誤的。減少了變量的數量，因此不太靈活。<br>\n",
    "(ii)錯誤的。與 (i) 中的理由相同。<br>\n",
    "(iv)錯誤的。一般來說，會減少方差並增加偏差。方差的減少應該補償偏差的增加。\n",
    "\n",
    "> Ans: (iii)<br>加入懲罰項會降低模型的 flexible，因此 bias 上升，variance 下降，若 bias 上升速度小於 variance 下降速度，則整體 MSE 下降。"
   ]
  },
  {
   "cell_type": "markdown",
   "metadata": {},
   "source": [
    "(c) Repeat (a) for non-linear methods relative to least squares."
   ]
  },
  {
   "cell_type": "markdown",
   "metadata": {},
   "source": [
    "> Ans: (ii)<br><br>\n",
    "(i)錯誤的。一般來說，非線性方法會減少偏差並增加方差。偏差的減少應該補償方差的增加。<br>\n",
    "(ii)是的。<br>\n",
    "(iii)錯誤。非線性方法更靈活，因為它們適應數據。與最小二乘法不同，非線性方法不假定預測變量和響應之間的參數化關係。<br>\n",
    "(iv)錯誤的。與 (iii) 中的理由相同。\n",
    "\n",
    "> Ans: (ii) <br>越 flexible 的方法越能降低 bias，因此當 variance 上升速度小於 bias下降速度時，整體 MSE 下降。"
   ]
  },
  {
   "cell_type": "markdown",
   "metadata": {},
   "source": [
    "## 3\n",
    "Suppose we estimate the regression coefficients in a linear regression\n",
    "model by minimizing\n",
    "\n",
    "$$\\sum_{i=1}^n\\left(y_i-\\beta_0-\\sum_{j=1}^{p} \\beta_jx_{ij}\\right)^2\\ \\text{subject to}\\ \\sum_{j=1}^{p} |\\beta_j|\\leq s$$ \n",
    "\n",
    "for a particular value of s. For parts (a) through (e), indicate which\n",
    "of i. through v. is correct. Justify your answer."
   ]
  },
  {
   "cell_type": "markdown",
   "metadata": {},
   "source": [
    "(a) As we increase s from 0, the training RSS will:\n",
    "    <ol style=\"list-style-type:lower-roman\">\n",
    "    <li>Increase initially, and then eventually start decreasing in an\n",
    "inverted U shape.</li>\n",
    "    <li>Decrease initially, and then eventually start increasing in a\n",
    "U shape.</li>\n",
    "    <li>Steadily increase.</li>\n",
    "    <li>Steadily decrease.</li>\n",
    "    <li>Remain constant.</li>\n",
    "    </ol>"
   ]
  },
  {
   "cell_type": "markdown",
   "metadata": {},
   "source": [
    "> Ans: (iv)<br><br>\n",
    "穩步下降。隨著我們增加s, 我們正在解除限制βj，增加模型的靈活性並允許持續減少訓練錯誤"
   ]
  },
  {
   "cell_type": "markdown",
   "metadata": {},
   "source": [
    "(b) Repeat (a) for test RSS."
   ]
  },
  {
   "cell_type": "markdown",
   "metadata": {},
   "source": [
    "> Ans: (ii)<br><br>\n",
    "最初減少，然後最終開始以 U 形增加。<br><br>\n",
    "隨著我們增加s, 我們正在解除限制βj，不斷增加模型的靈活性，從而導致偏差-方差權衡。<br><br>\n",
    "首先，偏差的減少將大於方差的增加，從而導致測試誤差的減少。<br>\n",
    "但最終模型會變得過於靈活，方差的增加會大於導致過擬合的偏差減少，以及測試誤差的增加。\n"
   ]
  },
  {
   "cell_type": "markdown",
   "metadata": {},
   "source": [
    "(c) Repeat (a) for variance."
   ]
  },
  {
   "cell_type": "markdown",
   "metadata": {},
   "source": [
    "> Ans: (iii)<br><br>\n",
    "穩步增加。因為我們要解除限制βj，為了更好地擬合和減少訓練誤差，<br>\n",
    "我們不斷地增加模型的靈活性，從而增加它的方差。<br><br>"
   ]
  },
  {
   "cell_type": "markdown",
   "metadata": {},
   "source": [
    "(d) Repeat (a) for (squared) bias."
   ]
  },
  {
   "cell_type": "markdown",
   "metadata": {},
   "source": [
    "> Ans: (iv)<br><br>\n",
    "穩步下降。<br>\n",
    "一般來說，更靈活的模型具有更少的偏差和更高的方差<br>\n",
    "相比之下，更嚴格的模型具有較高的偏差和較低的方差"
   ]
  },
  {
   "cell_type": "markdown",
   "metadata": {},
   "source": [
    "(e) Repeat (a) for the irreducible error."
   ]
  },
  {
   "cell_type": "markdown",
   "metadata": {},
   "source": [
    "> Ans: (v)<br><br>\n",
    "Remain constant.<br>\n",
    "根據定義，模型無法捕捉到不可約誤差，\n",
    "與 s 的值無關、獨立。"
   ]
  },
  {
   "cell_type": "code",
   "execution_count": 1,
   "metadata": {},
   "outputs": [],
   "source": [
    "import pandas as pd\n",
    "import numpy as np\n",
    "import matplotlib.pyplot as plt\n",
    "import seaborn as sns\n",
    "import os\n",
    "import itertools\n",
    "from tqdm import tqdm, trange\n",
    "\n",
    "import statsmodels.formula.api as smf\n",
    "import statsmodels.api as sm\n",
    "from mlxtend.feature_selection import ExhaustiveFeatureSelector as EFS\n",
    "from mlxtend.feature_selection import SequentialFeatureSelector as SFS\n",
    "\n",
    "from sklearn.model_selection import train_test_split,KFold, cross_val_score\n",
    "from sklearn.preprocessing import scale, StandardScaler \n",
    "from sklearn.linear_model import LinearRegression, Ridge, RidgeCV, Lasso, LassoCV\n",
    "from sklearn.decomposition import PCA\n",
    "from sklearn.metrics import mean_squared_error\n",
    "from sklearn.cross_decomposition import PLSRegression, PLSSVD\n",
    "\n",
    "# PLS 回歸。\n",
    "# PLSRegression 也稱為 PLS2 或 PLS1，具體取決於目標的數量。\n",
    "\n",
    "# PLSSVD\n",
    "# 偏最小二乘 SVD。\n",
    "# 該轉換器只是對交叉協方差矩陣執行 SVD X'Y。它能夠投影訓練數據X和目標 Y。\n",
    "# 訓練數據X投影在左奇異向量上，而目標投影在右奇異向量上。"
   ]
  },
  {
   "cell_type": "markdown",
   "metadata": {},
   "source": [
    "## 8\n",
    "In this exercise, we will generate simulated data, and will then use\n",
    "this data to perform best subset selection."
   ]
  },
  {
   "cell_type": "markdown",
   "metadata": {},
   "source": [
    "(a) Use the <span style=\"color:red\">np.random.normal()</span> function to generate a predictor $X$ of length\n",
    "$n = 100$, as well as a noise vector $\\epsilon$ of length $n = 100$."
   ]
  },
  {
   "cell_type": "code",
   "execution_count": 2,
   "metadata": {},
   "outputs": [],
   "source": [
    "# X, 𝜖"
   ]
  },
  {
   "cell_type": "code",
   "execution_count": 3,
   "metadata": {},
   "outputs": [],
   "source": [
    "# coding your answer here.\n",
    "n = 100\n",
    "X = np.random.normal(size = n)\n",
    "𝜖 = np.random.normal(size = n)"
   ]
  },
  {
   "cell_type": "markdown",
   "metadata": {},
   "source": [
    "(b) Generate a response vector $Y$ of length $n = 100$ according to\n",
    "the model\n",
    "\n",
    "$$Y=\\beta_0 +\\beta_1 X+\\beta_2 X^2 +\\beta_3 X^3+\\epsilon$$\n",
    "\n",
    "where $\\beta_0,\\ \\beta_1,\\ \\beta_2,\\ \\text{and}\\ \\beta_3$ are constants of your choice."
   ]
  },
  {
   "cell_type": "code",
   "execution_count": 4,
   "metadata": {},
   "outputs": [],
   "source": [
    "# coding your answer here.\n",
    "𝛽0, 𝛽1, 𝛽2, 𝛽3 = 4, 3, 2, 1\n",
    "Y = 𝛽0 + 𝛽1 * X + 𝛽2 * X**2 + 𝛽3 * X**3 + 𝜖"
   ]
  },
  {
   "cell_type": "markdown",
   "metadata": {},
   "source": [
    "(c) Perform best subset selection (最佳子集選擇、向前逐步和向後逐步) in order to choose the best model containing the predictors $X,X^2, \\dots ,X^{10}$. What is the best model obtained according to $C_p$, BIC, and adjusted $R^2$? Show some plots to provide evidence for your answer, and report the coefficients of the best model obtained."
   ]
  },
  {
   "cell_type": "markdown",
   "metadata": {},
   "source": [
    "[模型選擇：Cp、AIC、BIC 和調整後的 R²](https://github.com/phonchi/nsysu-math524/blob/master/static_files/presentations/Chapter_6_Lab.ipynb)"
   ]
  },
  {
   "cell_type": "code",
   "execution_count": 5,
   "metadata": {},
   "outputs": [],
   "source": [
    "def all_subsets(p):\n",
    "    return np.array([np.array(\n",
    "        list(f\"%0{p}d\"%int(\"{0:b}\".format(i)))\n",
    "        , dtype=int\n",
    "    ) > 0 for i in range(2 ** p)])[1:]\n",
    "\n",
    "def Cp(part_model, full_model):\n",
    "    n = full_model.nobs\n",
    "    p = full_model.df_model\n",
    "    d = part_model.df_model\n",
    "    return (1 / n) * (part_model.ssr + 2 * d * full_model.ssr / (n - p - 1))"
   ]
  },
  {
   "cell_type": "code",
   "execution_count": 6,
   "metadata": {},
   "outputs": [],
   "source": [
    "p = 10\n",
    "XS = X[None,:].T.dot(np.ones((1, p))) ** np.arange(1, p + 1)\n",
    "subs = all_subsets(p)\n",
    "\n",
    "XS_train, XS_test, Y_train, Y_test = train_test_split(XS, Y, train_size=1)"
   ]
  },
  {
   "cell_type": "code",
   "execution_count": 9,
   "metadata": {},
   "outputs": [
    {
     "data": {
      "text/plain": [
       "(100, 10)"
      ]
     },
     "execution_count": 9,
     "metadata": {},
     "output_type": "execute_result"
    }
   ],
   "source": [
    "XS.shape"
   ]
  },
  {
   "cell_type": "code",
   "execution_count": 7,
   "metadata": {},
   "outputs": [
    {
     "data": {
      "text/plain": [
       "array([[False, False,  True],\n",
       "       [False,  True, False],\n",
       "       [False,  True,  True],\n",
       "       [ True, False, False],\n",
       "       [ True, False,  True],\n",
       "       [ True,  True, False],\n",
       "       [ True,  True,  True]])"
      ]
     },
     "execution_count": 7,
     "metadata": {},
     "output_type": "execute_result"
    }
   ],
   "source": [
    "all_subsets(3)"
   ]
  },
  {
   "cell_type": "markdown",
   "metadata": {},
   "source": [
    "### Model"
   ]
  },
  {
   "cell_type": "code",
   "execution_count": 8,
   "metadata": {},
   "outputs": [
    {
     "name": "stderr",
     "output_type": "stream",
     "text": [
      "100%|████████████████████████████████████████████████████████████████████████████| 1023/1023 [00:00<00:00, 1610.23it/s]\n"
     ]
    }
   ],
   "source": [
    "full_model = sm.OLS(Y, XS).fit()\n",
    "\n",
    "best_aic = [np.inf, None, None]\n",
    "best_bic = [np.inf, None, None]\n",
    "best_rsquared_adj = [0, None, None]\n",
    "best_Cp = [np.inf, None, None]\n",
    "\n",
    "all_models = []\n",
    "\n",
    "for i in tqdm(range(len(subs)), position=0):\n",
    "    part_model = sm.OLS(Y, sm.add_constant(XS[:,subs[i]])).fit()\n",
    "    part_model.Cp = Cp(part_model, full_model)\n",
    "    \n",
    "    all_models.append(part_model)\n",
    "    \n",
    "    if best_aic[0] > part_model.aic:\n",
    "        best_aic[0] = part_model.aic\n",
    "        best_aic[1] = i\n",
    "        best_aic[2] = part_model\n",
    "    \n",
    "    if best_bic[0] > part_model.bic:\n",
    "        best_bic[0] = part_model.bic\n",
    "        best_bic[1] = i\n",
    "        best_bic[2] = part_model\n",
    "    \n",
    "    if best_rsquared_adj[0] < part_model.rsquared_adj:\n",
    "        best_rsquared_adj[0] = part_model.rsquared_adj\n",
    "        best_rsquared_adj[1] = i\n",
    "        best_rsquared_adj[2] = part_model\n",
    "    \n",
    "    if best_Cp[0] > part_model.Cp:\n",
    "        best_Cp[0] = part_model.Cp\n",
    "        best_Cp[1] = i\n",
    "        best_Cp[2] = part_model"
   ]
  },
  {
   "cell_type": "code",
   "execution_count": 8,
   "metadata": {},
   "outputs": [],
   "source": [
    "def split_by_first_value(ls):\n",
    "    s = set()\n",
    "    for elem in ls:\n",
    "        s.add(elem[0])\n",
    "    d = {}\n",
    "    for i in s:\n",
    "        d[f'{i}'] = []\n",
    "    for elem in ls:\n",
    "        d[f'{elem[0]}'].append(elem)\n",
    "    return [it[1] for it in d.items()]"
   ]
  },
  {
   "cell_type": "code",
   "execution_count": 9,
   "metadata": {},
   "outputs": [],
   "source": [
    "vs_aic = []\n",
    "vs_bic = []\n",
    "vs_rsquared_adj = []\n",
    "vs_Cp = []\n",
    "for md in all_models:\n",
    "    d = len(md.params) - 1\n",
    "    vs_aic.append([d, md.aic])\n",
    "    vs_bic.append([d, md.bic])\n",
    "    vs_rsquared_adj.append([d, md.rsquared_adj])\n",
    "    vs_Cp.append([d, md.Cp])\n",
    "\n",
    "vs_aic =          split_by_first_value(vs_aic)\n",
    "vs_bic =          split_by_first_value(vs_bic)\n",
    "vs_rsquared_adj = split_by_first_value(vs_rsquared_adj)\n",
    "vs_Cp =           split_by_first_value(vs_Cp)\n",
    "\n",
    "[x.sort() for x in vs_aic]\n",
    "[x.sort() for x in vs_bic]\n",
    "[x.sort() for x in vs_rsquared_adj]\n",
    "[x.sort() for x in vs_Cp]\n",
    "\n",
    "vs_aic =          np.array([i[0] for i in vs_aic]).T\n",
    "vs_bic =          np.array([i[0] for i in vs_bic]).T\n",
    "vs_rsquared_adj = np.array([i[-1] for i in vs_rsquared_adj]).T\n",
    "vs_Cp =           np.array([i[0] for i in vs_Cp]).T"
   ]
  },
  {
   "cell_type": "code",
   "execution_count": 10,
   "metadata": {},
   "outputs": [
    {
     "data": {
      "text/plain": [
       "Text(0, 0.5, \"Mallows's Cp\")"
      ]
     },
     "execution_count": 10,
     "metadata": {},
     "output_type": "execute_result"
    },
    {
     "data": {
      "image/png": "[encoded data removed]",
      "text/plain": [
       "<Figure size 1080x648 with 4 Axes>"
      ]
     },
     "metadata": {
      "needs_background": "light"
     },
     "output_type": "display_data"
    }
   ],
   "source": [
    "# coding your answer here.\n",
    "plt.figure(figsize=(15,9))\n",
    "plt.rcParams.update({'font.size': 14, 'lines.markersize': 10})\n",
    "\n",
    "ax = plt.subplot(2, 2, 1)\n",
    "plt.plot(*vs_aic)\n",
    "plt.plot(*vs_aic[:,vs_aic[1].argmin()], 'or')\n",
    "ax.set_xlabel('# Predictors')\n",
    "ax.set_ylabel('AIC')\n",
    "\n",
    "ax = plt.subplot(2, 2, 2)\n",
    "plt.plot(*vs_bic)\n",
    "plt.plot(*vs_bic[:,vs_bic[1].argmin()], 'or')\n",
    "ax.set_xlabel('# Predictors')\n",
    "ax.set_ylabel('BIC')\n",
    "\n",
    "ax = plt.subplot(2, 2, 3)\n",
    "plt.plot(*vs_rsquared_adj)\n",
    "plt.plot(*vs_rsquared_adj[:,vs_rsquared_adj[1].argmax()], 'or')\n",
    "ax.set_xlabel('# Predictors')\n",
    "ax.set_ylabel('adjusted rsquared')\n",
    "\n",
    "ax = plt.subplot(2, 2, 4)\n",
    "plt.plot(*vs_Cp)\n",
    "plt.plot(*vs_Cp[:,vs_Cp[1].argmin()], 'or')\n",
    "ax.set_xlabel('# Predictors')\n",
    "ax.set_ylabel('Mallows\\'s Cp')"
   ]
  },
  {
   "cell_type": "code",
   "execution_count": 11,
   "metadata": {
    "scrolled": true
   },
   "outputs": [],
   "source": [
    "betas = np.array([f'beta{i}' for i in range(XS.shape[-1] + 1)])"
   ]
  },
  {
   "cell_type": "code",
   "execution_count": 62,
   "metadata": {},
   "outputs": [
    {
     "data": {
      "text/plain": [
       "array(['beta0', 'beta1', 'beta2', 'beta3', 'beta4', 'beta5', 'beta6',\n",
       "       'beta7', 'beta8', 'beta9', 'beta10'], dtype='<U6')"
      ]
     },
     "execution_count": 62,
     "metadata": {},
     "output_type": "execute_result"
    }
   ],
   "source": [
    "betas"
   ]
  },
  {
   "cell_type": "markdown",
   "metadata": {},
   "source": [
    "# Coefficients of $\\mbox{AIC}$ model"
   ]
  },
  {
   "cell_type": "code",
   "execution_count": 12,
   "metadata": {},
   "outputs": [
    {
     "data": {
      "text/plain": [
       "{'beta0': 3.7368453330563307,\n",
       " 'beta1': 2.4661356838253465,\n",
       " 'beta2': 2.660208863926494,\n",
       " 'beta3': 1.2100859366019612,\n",
       " 'beta4': -0.3920096185732398,\n",
       " 'beta6': 0.04821284684957158}"
      ]
     },
     "execution_count": 12,
     "metadata": {},
     "output_type": "execute_result"
    }
   ],
   "source": [
    "dict(zip(betas[np.hstack([[True], subs[best_aic[1]]])], best_aic[2].params))"
   ]
  },
  {
   "cell_type": "markdown",
   "metadata": {},
   "source": [
    "# Coefficients of $\\mbox{BIC}$ model"
   ]
  },
  {
   "cell_type": "code",
   "execution_count": 13,
   "metadata": {},
   "outputs": [
    {
     "data": {
      "text/plain": [
       "{'beta0': 3.863214775997744,\n",
       " 'beta1': 2.59863529104834,\n",
       " 'beta2': 1.991233468676993,\n",
       " 'beta3': 1.1462655913185709}"
      ]
     },
     "execution_count": 13,
     "metadata": {},
     "output_type": "execute_result"
    }
   ],
   "source": [
    "dict(zip(betas[np.hstack([[True], subs[best_aic[1]]])], best_bic[2].params))"
   ]
  },
  {
   "cell_type": "markdown",
   "metadata": {},
   "source": [
    "# Coefficients of $\\mbox{Adj } R^2$ model"
   ]
  },
  {
   "cell_type": "code",
   "execution_count": 14,
   "metadata": {},
   "outputs": [
    {
     "data": {
      "text/plain": [
       "{'beta0': 3.7368453330563307,\n",
       " 'beta1': 2.4661356838253465,\n",
       " 'beta2': 2.660208863926494,\n",
       " 'beta3': 1.2100859366019612,\n",
       " 'beta4': -0.3920096185732398,\n",
       " 'beta6': 0.04821284684957158}"
      ]
     },
     "execution_count": 14,
     "metadata": {},
     "output_type": "execute_result"
    }
   ],
   "source": [
    "dict(zip(betas[np.hstack([[True], subs[best_aic[1]]])], best_rsquared_adj[2].params))"
   ]
  },
  {
   "cell_type": "markdown",
   "metadata": {},
   "source": [
    "# Coefficients of $\\mbox{Cp}$ model"
   ]
  },
  {
   "cell_type": "code",
   "execution_count": 15,
   "metadata": {},
   "outputs": [
    {
     "data": {
      "text/plain": [
       "{'beta0': 3.863214775997744,\n",
       " 'beta1': 2.59863529104834,\n",
       " 'beta2': 1.991233468676993,\n",
       " 'beta3': 1.1462655913185709}"
      ]
     },
     "execution_count": 15,
     "metadata": {},
     "output_type": "execute_result"
    }
   ],
   "source": [
    "dict(zip(betas[np.hstack([[True], subs[best_aic[1]]])], best_Cp[2].params))"
   ]
  },
  {
   "cell_type": "markdown",
   "metadata": {},
   "source": [
    "(d) Repeat (c), using **forward stepwise selection** and also using **backwards stepwise selection**. How does your answer compare to the results in (c)?"
   ]
  },
  {
   "cell_type": "code",
   "execution_count": 16,
   "metadata": {},
   "outputs": [],
   "source": [
    "# coding your answer here.\n",
    "def as_bool_array(p, size):\n",
    "    bool_arr = np.ones(size, dtype=int)\n",
    "    bool_arr[p] = 0\n",
    "    return bool_arr == 0\n",
    "\n",
    "def as_number_array(bool_array):\n",
    "    return np.arange(bool_array.shape[0])[bool_array]"
   ]
  },
  {
   "cell_type": "code",
   "execution_count": 17,
   "metadata": {},
   "outputs": [],
   "source": [
    "def make_model(X, Y, full_model = None):\n",
    "    model = sm.OLS(Y, sm.add_constant(X)).fit()\n",
    "    if (full_model == None):\n",
    "        full_model = model\n",
    "    model.Cp = Cp(model, full_model)\n",
    "    return model\n",
    "\n",
    "def forward(X, Y, p, sel_rule = 'aic <'):\n",
    "    n = X.shape[-1]\n",
    "    partial_sel = as_bool_array(p, n)\n",
    "    remaining_predictors = as_number_array(~partial_sel)\n",
    "    # full model\n",
    "    full_model = make_model(X, Y)\n",
    "\n",
    "    rules = sel_rule.split(' ')\n",
    "    \n",
    "    # selector\n",
    "    sel = [np.inf if rules[1] == '<' else -np.inf, None, None]\n",
    "    # make partial models\n",
    "    for new_pred in remaining_predictors:\n",
    "        model_predictors_selector = partial_sel.copy()\n",
    "        model_predictors_selector[new_pred] = True\n",
    "        \n",
    "        part_model = make_model(X[:,model_predictors_selector], Y)\n",
    "        \n",
    "        if eval(f'part_model.{rules[0]} {rules[1]} sel[0]', {}, {'part_model': part_model, 'sel': sel}):\n",
    "            sel[0] = eval(f'part_model.{rules[0]}', {}, {'part_model': part_model})\n",
    "            sel[1] = part_model\n",
    "            sel[2] = as_number_array(model_predictors_selector)\n",
    "    \n",
    "    return sel\n",
    "\n",
    "def backward(X, Y, p, sel_rule = 'aic <'):\n",
    "    n = X.shape[-1]\n",
    "    partial_sel = as_bool_array(p, n)\n",
    "    # full model\n",
    "    full_model = make_model(X, Y)\n",
    "\n",
    "    rules = sel_rule.split(' ')\n",
    "    \n",
    "    # selector\n",
    "    sel = [np.inf if rules[1] == '<' else -np.inf, None, None]\n",
    "    # make partial models\n",
    "    for rm_pred in p:\n",
    "        model_predictors_selector = partial_sel.copy()\n",
    "        model_predictors_selector[rm_pred] = False\n",
    "        \n",
    "        part_model = make_model(X[:,model_predictors_selector], Y)\n",
    "        \n",
    "        if eval(f'part_model.{rules[0]} {rules[1]} sel[0]', {}, {'part_model': part_model, 'sel': sel}):\n",
    "            sel[0] = eval(f'part_model.{rules[0]}', {}, {'part_model': part_model})\n",
    "            sel[1] = part_model\n",
    "            sel[2] = as_number_array(model_predictors_selector)\n",
    "    \n",
    "    return sel\n",
    "\n",
    "extract = lambda res: np.array([[len(elem[2]), elem[0]] for elem in res]).T  # 提煉"
   ]
  },
  {
   "cell_type": "markdown",
   "metadata": {},
   "source": [
    "# Do forward"
   ]
  },
  {
   "cell_type": "code",
   "execution_count": 18,
   "metadata": {
    "scrolled": false
   },
   "outputs": [],
   "source": [
    "first_model = make_model(np.ones_like(X), Y, make_model(XS, Y))\n",
    "\n",
    "use_aic = [[first_model.aic, first_model, []]]\n",
    "use_bic = [[first_model.bic, first_model, []]]\n",
    "use_rsq = [[first_model.rsquared_adj, first_model, []]]\n",
    "use_Cp  = [[first_model.Cp, first_model, []]]\n",
    "\n",
    "for i in range(XS.shape[-1]):\n",
    "    ac = forward(XS, Y, use_aic[-1][2], 'aic <')\n",
    "    bc = forward(XS, Y, use_bic[-1][2], 'bic <')\n",
    "    rs = forward(XS, Y, use_rsq[-1][2], 'rsquared_adj >')\n",
    "    cp = forward(XS, Y, use_Cp[-1][2], 'Cp <')\n",
    "    use_aic.append(ac)\n",
    "    use_bic.append(bc)\n",
    "    use_rsq.append(rs)\n",
    "    use_Cp.append(cp)"
   ]
  },
  {
   "cell_type": "markdown",
   "metadata": {},
   "source": [
    "# Plot forward results"
   ]
  },
  {
   "cell_type": "code",
   "execution_count": 19,
   "metadata": {},
   "outputs": [
    {
     "data": {
      "text/plain": [
       "Text(0, 0.5, \"Mallows's Cp\")"
      ]
     },
     "execution_count": 19,
     "metadata": {},
     "output_type": "execute_result"
    },
    {
     "data": {
      "image/png": "[encoded data removed]",
      "text/plain": [
       "<Figure size 1080x648 with 4 Axes>"
      ]
     },
     "metadata": {
      "needs_background": "light"
     },
     "output_type": "display_data"
    }
   ],
   "source": [
    "vs_aic = extract(use_aic)\n",
    "vs_bic = extract(use_bic)\n",
    "vs_rsquared_adj = extract(use_rsq)\n",
    "vs_Cp = extract(use_Cp)\n",
    "\n",
    "plt.figure(figsize=(15,9))\n",
    "plt.rcParams.update({'font.size': 14, 'lines.markersize': 10})\n",
    "\n",
    "ax = plt.subplot(2, 2, 1)\n",
    "plt.plot(*vs_aic)\n",
    "plt.plot(*vs_aic[:,vs_aic[1].argmin()], 'or')\n",
    "ax.set_xlabel('# Predictors')\n",
    "ax.set_ylabel('AIC')\n",
    "\n",
    "ax = plt.subplot(2, 2, 2)\n",
    "plt.plot(*vs_bic)\n",
    "plt.plot(*vs_bic[:,vs_bic[1].argmin()], 'or')\n",
    "ax.set_xlabel('# Predictors')\n",
    "ax.set_ylabel('BIC')\n",
    "\n",
    "ax = plt.subplot(2, 2, 3)\n",
    "plt.plot(*vs_rsquared_adj)\n",
    "plt.plot(*vs_rsquared_adj[:,vs_rsquared_adj[1].argmax()], 'or')\n",
    "ax.set_xlabel('# Predictors')\n",
    "ax.set_ylabel('adjusted rsquared')\n",
    "\n",
    "ax = plt.subplot(2, 2, 4)\n",
    "plt.plot(*vs_Cp)\n",
    "plt.plot(*vs_Cp[:,vs_Cp[1].argmin()], 'or')\n",
    "ax.set_xlabel('# Predictors')\n",
    "ax.set_ylabel('Mallows\\'s Cp')"
   ]
  },
  {
   "cell_type": "code",
   "execution_count": 64,
   "metadata": {},
   "outputs": [
    {
     "data": {
      "text/plain": [
       "array([3.        , 1.22506078])"
      ]
     },
     "execution_count": 64,
     "metadata": {},
     "output_type": "execute_result"
    }
   ],
   "source": [
    "vs_Cp[:,vs_Cp[1].argmin()]"
   ]
  },
  {
   "cell_type": "markdown",
   "metadata": {},
   "source": [
    "# Forward model coefficient"
   ]
  },
  {
   "cell_type": "code",
   "execution_count": 20,
   "metadata": {},
   "outputs": [
    {
     "data": {
      "text/plain": [
       "{'beta0': 3.863214775997744,\n",
       " 'beta1': 2.59863529104834,\n",
       " 'beta2': 1.991233468676993,\n",
       " 'beta3': 1.1462655913185709}"
      ]
     },
     "execution_count": 20,
     "metadata": {},
     "output_type": "execute_result"
    }
   ],
   "source": [
    "dict(zip(\n",
    "    betas[np.hstack([[True],as_bool_array(use_aic[vs_aic[1].argmin()][2], p)])],\n",
    "    use_aic[vs_aic[1].argmin()][1].params))"
   ]
  },
  {
   "cell_type": "markdown",
   "metadata": {},
   "source": [
    "# 結論"
   ]
  },
  {
   "cell_type": "markdown",
   "metadata": {},
   "source": [
    "Forward model 結果與 (c) 相同。"
   ]
  },
  {
   "cell_type": "markdown",
   "metadata": {},
   "source": [
    "# Do backward"
   ]
  },
  {
   "cell_type": "code",
   "execution_count": 21,
   "metadata": {},
   "outputs": [],
   "source": [
    "first_model = make_model(XS, Y)\n",
    "\n",
    "init_ps = np.arange(XS.shape[-1])\n",
    "\n",
    "use_aic = [[first_model.aic, first_model, init_ps]]\n",
    "use_bic = [[first_model.bic, first_model, init_ps]]\n",
    "use_rsq = [[first_model.rsquared_adj, first_model, init_ps]]\n",
    "use_Cp  = [[first_model.Cp, first_model, init_ps]]\n",
    "\n",
    "for i in range(XS.shape[-1]):\n",
    "    ac = backward(XS, Y, use_aic[-1][2], 'aic <')\n",
    "    bc = backward(XS, Y, use_bic[-1][2], 'bic <')\n",
    "    rs = backward(XS, Y, use_rsq[-1][2], 'rsquared_adj >')\n",
    "    cp = backward(XS, Y, use_Cp[-1][2], 'Cp <')\n",
    "    use_aic.append(ac)\n",
    "    use_bic.append(bc)\n",
    "    use_rsq.append(rs)\n",
    "    use_Cp.append(cp)"
   ]
  },
  {
   "cell_type": "markdown",
   "metadata": {},
   "source": [
    "# Plot backward results"
   ]
  },
  {
   "cell_type": "code",
   "execution_count": 22,
   "metadata": {},
   "outputs": [
    {
     "data": {
      "text/plain": [
       "Text(0, 0.5, \"Mallows's Cp\")"
      ]
     },
     "execution_count": 22,
     "metadata": {},
     "output_type": "execute_result"
    },
    {
     "data": {
      "image/png": "[encoded data removed]",
      "text/plain": [
       "<Figure size 1080x648 with 4 Axes>"
      ]
     },
     "metadata": {
      "needs_background": "light"
     },
     "output_type": "display_data"
    }
   ],
   "source": [
    "vs_aic = extract(use_aic)\n",
    "vs_bic = extract(use_bic)\n",
    "vs_rsquared_adj = extract(use_rsq)\n",
    "vs_Cp = extract(use_Cp)\n",
    "\n",
    "plt.figure(figsize=(15,9))\n",
    "plt.rcParams.update({'font.size': 14, 'lines.markersize': 10})\n",
    "\n",
    "ax = plt.subplot(2, 2, 1)\n",
    "plt.plot(*vs_aic)\n",
    "plt.plot(*vs_aic[:,vs_aic[1].argmin()], 'or')\n",
    "ax.set_xlabel('# Predictors')\n",
    "ax.set_ylabel('AIC')\n",
    "\n",
    "ax = plt.subplot(2, 2, 2)\n",
    "plt.plot(*vs_bic)\n",
    "plt.plot(*vs_bic[:,vs_bic[1].argmin()], 'or')\n",
    "ax.set_xlabel('# Predictors')\n",
    "ax.set_ylabel('BIC')\n",
    "\n",
    "ax = plt.subplot(2, 2, 3)\n",
    "plt.plot(*vs_rsquared_adj)\n",
    "plt.plot(*vs_rsquared_adj[:,vs_rsquared_adj[1].argmax()], 'or')\n",
    "ax.set_xlabel('# Predictors')\n",
    "ax.set_ylabel('adjusted rsquared')\n",
    "\n",
    "ax = plt.subplot(2, 2, 4)\n",
    "plt.plot(*vs_Cp)\n",
    "plt.plot(*vs_Cp[:,vs_Cp[1].argmin()], 'or')\n",
    "ax.set_xlabel('# Predictors')\n",
    "ax.set_ylabel('Mallows\\'s Cp')"
   ]
  },
  {
   "cell_type": "markdown",
   "metadata": {},
   "source": [
    "# Backward model coefficient"
   ]
  },
  {
   "cell_type": "code",
   "execution_count": 23,
   "metadata": {},
   "outputs": [
    {
     "data": {
      "text/plain": [
       "{'beta0': 3.863214775997744,\n",
       " 'beta1': 2.59863529104834,\n",
       " 'beta2': 1.991233468676993,\n",
       " 'beta3': 1.1462655913185709}"
      ]
     },
     "execution_count": 23,
     "metadata": {},
     "output_type": "execute_result"
    }
   ],
   "source": [
    "dict(zip(\n",
    "    betas[np.hstack([[True],as_bool_array(use_aic[vs_aic[1].argmin()][2], p)])],\n",
    "    use_aic[vs_aic[1].argmin()][1].params))"
   ]
  },
  {
   "cell_type": "markdown",
   "metadata": {},
   "source": [
    "# 結論"
   ]
  },
  {
   "cell_type": "markdown",
   "metadata": {},
   "source": [
    "Backward model 結果與 (c) 相同。"
   ]
  },
  {
   "cell_type": "markdown",
   "metadata": {},
   "source": [
    "(e) Now fit a lasso model to the simulated data, again using $X,X^2, \\dots ,X^{10}$ as predictors. Use cross-validation to select the optimal\n",
    "value of $\\lambda$. Create plots of the cross-validation error as a function\n",
    "of $\\lambda$. Report the resulting coefficient estimates, and discuss the\n",
    "results obtained."
   ]
  },
  {
   "cell_type": "markdown",
   "metadata": {},
   "source": [
    "[sklearn.linear_model.LassoCV](https://scikit-learn.org/stable/modules/generated/sklearn.linear_model.LassoCV.html)<br>\n",
    "[skLearn 回归模型](https://blog.csdn.net/qq_45797116/article/details/112676554)"
   ]
  },
  {
   "cell_type": "code",
   "execution_count": 24,
   "metadata": {
    "scrolled": false
   },
   "outputs": [
    {
     "data": {
      "text/plain": [
       "array([0.0900628 , 1.38480224])"
      ]
     },
     "execution_count": 24,
     "metadata": {},
     "output_type": "execute_result"
    },
    {
     "data": {
      "image/png": "[encoded data removed]",
      "text/plain": [
       "<Figure size 1080x648 with 1 Axes>"
      ]
     },
     "metadata": {
      "needs_background": "light"
     },
     "output_type": "display_data"
    }
   ],
   "source": [
    "# coding your answer here.\n",
    "alphas = 10**np.linspace(2.3,-2.5,100)\n",
    "\n",
    "kf = KFold(n_splits=10, shuffle=True, random_state=1)\n",
    "lassocv = LassoCV(alphas=alphas, cv=kf, max_iter=10000000)\n",
    "\n",
    "lassocv.fit(XS, Y)\n",
    "\n",
    "XX = np.array([alphas, lassocv.mse_path_.mean(axis=1)])  # 改變 alpha，每個摺疊上測試集的均方誤差\n",
    "\n",
    "plt.figure(figsize=(15,9))\n",
    "plt.plot(*XX)\n",
    "plt.plot(*XX[:,XX[1].argmin()], \"or\")\n",
    "plt.xscale(\"log\")\n",
    "\n",
    "plt.xlabel('alpha')\n",
    "plt.ylabel('cross-validation error')\n",
    "\n",
    "XX[:,XX[1].argmin()]"
   ]
  },
  {
   "cell_type": "code",
   "execution_count": 80,
   "metadata": {},
   "outputs": [
    {
     "data": {
      "text/plain": [
       "array([[ 1.        ,  2.        ,  3.        ,  4.        ,  5.        ,\n",
       "         6.        ,  7.        ,  8.        ,  9.        , 10.        ,\n",
       "        11.        , 12.        , 13.        , 14.        , 15.        ,\n",
       "        16.        , 17.        , 18.        , 19.        , 20.        ],\n",
       "       [16.10859204, 12.75827737,  9.65362072,  7.18480346,  5.13802543,\n",
       "         3.07830561,  1.76910026,  1.153996  ,  1.13669748,  1.11603286,\n",
       "         1.13575007,  1.15909038,  1.18689563,  1.21488039,  1.23108672,\n",
       "         1.24053083,  1.2420591 ,  1.23927747,  1.23864904,  1.23863722]])"
      ]
     },
     "execution_count": 80,
     "metadata": {},
     "output_type": "execute_result"
    }
   ],
   "source": [
    "# XX"
   ]
  },
  {
   "cell_type": "code",
   "execution_count": 81,
   "metadata": {},
   "outputs": [
    {
     "data": {
      "text/plain": [
       "array([10.        ,  1.11603286])"
      ]
     },
     "execution_count": 81,
     "metadata": {},
     "output_type": "execute_result"
    }
   ],
   "source": [
    "# XX[:,XX[1].argmin()]"
   ]
  },
  {
   "cell_type": "code",
   "execution_count": 25,
   "metadata": {},
   "outputs": [
    {
     "data": {
      "text/plain": [
       "Text(0, 0.5, 'coefficient')"
      ]
     },
     "execution_count": 25,
     "metadata": {},
     "output_type": "execute_result"
    },
    {
     "data": {
      "image/png": "[encoded data removed]",
      "text/plain": [
       "<Figure size 432x288 with 1 Axes>"
      ]
     },
     "metadata": {
      "needs_background": "light"
     },
     "output_type": "display_data"
    }
   ],
   "source": [
    "plt.scatter(np.arange(lassocv.coef_.shape[0] + 1), [lassocv.intercept_] + list(lassocv.coef_))\n",
    "plt.xlabel('# Predictors')\n",
    "plt.ylabel('coefficient')"
   ]
  },
  {
   "cell_type": "markdown",
   "metadata": {},
   "source": [
    "# Cross-validation Lasso model coefficients"
   ]
  },
  {
   "cell_type": "code",
   "execution_count": 26,
   "metadata": {},
   "outputs": [
    {
     "data": {
      "text/plain": [
       "{'beta0': 3.993244436872855,\n",
       " 'beta1': 2.353896775463213,\n",
       " 'beta2': 1.7286847647158352,\n",
       " 'beta3': 1.0593893401114811,\n",
       " 'beta4': 0.056010761871674475,\n",
       " 'beta5': 0.0785298210297785,\n",
       " 'beta6': 0.0,\n",
       " 'beta7': 0.0,\n",
       " 'beta8': -0.0,\n",
       " 'beta9': -0.0016914269166037879,\n",
       " 'beta10': -0.00017590432718289636}"
      ]
     },
     "execution_count": 26,
     "metadata": {},
     "output_type": "execute_result"
    }
   ],
   "source": [
    "dict(zip(betas, [lassocv.intercept_] + list(lassocv.coef_)))"
   ]
  },
  {
   "cell_type": "markdown",
   "metadata": {},
   "source": [
    "> Ans:  \n",
    "  從以上的報表我們可以看出模型做出來的 $\\hat{\\beta}$ 都與真實的 $\\beta$ 很接近。"
   ]
  },
  {
   "cell_type": "markdown",
   "metadata": {},
   "source": [
    "## 10\n",
    "We have seen that as the number of features used in a model increases,\n",
    "the training error will necessarily decrease, but the test error may not.\n",
    "We will now explore this in a simulated data set."
   ]
  },
  {
   "cell_type": "code",
   "execution_count": 27,
   "metadata": {},
   "outputs": [],
   "source": [
    "# pip install mlxtend"
   ]
  },
  {
   "cell_type": "markdown",
   "metadata": {},
   "source": [
    "```python\n",
    "import pandas as pd\n",
    "import numpy as np\n",
    "\n",
    "from sklearn.model_selection import train_test_split  # To split dataset (train + test datasets)\n",
    "from mlxtend.feature_selection import ExhaustiveFeatureSelector as EFS  \n",
    "# mlxtend package: exhaustive (詳盡) search for feature selection\n",
    "\n",
    "from sklearn.preprocessing import PolynomialFeatures\n",
    "from sklearn.linear_model import LinearRegression\n",
    "```"
   ]
  },
  {
   "cell_type": "markdown",
   "metadata": {},
   "source": [
    "(a) Generate a data set with $p = 20$ features, $n = 1,000$ observations,\n",
    "and an associated quantitative response vector generated according to the model\n",
    "\n",
    "$$Y=X\\beta+\\epsilon$$\n",
    "\n",
    "where $\\beta$ has some elements that are exactly equal to zero."
   ]
  },
  {
   "cell_type": "markdown",
   "metadata": {},
   "source": [
    "```python\n",
    "# coding your answer here.\n",
    "\n",
    "np.random.seed(0)\n",
    "\n",
    "# Dataframe with random numbers and the specified dimensions\n",
    "n = 1000\n",
    "p = 20\n",
    "X = pd.DataFrame(np.random.normal(size=(n, p)))\n",
    "\n",
    "# Epsilon\n",
    "epsilon = np.random.normal(size=n)\n",
    "\n",
    "# Coefficient b1\n",
    "b1 = np.random.normal(size=p)\n",
    "# Random number of b1 elements with value zero\n",
    "for i in range(0, np.random.randint(0,p)):\n",
    "    b1[np.random.randint(0,p)] = 0\n",
    "\n",
    "# Final expression\n",
    "# y must be a vector with 1000 rows.\n",
    "y = np.dot(X, b1) + epsilon\n",
    "```"
   ]
  },
  {
   "cell_type": "code",
   "execution_count": 28,
   "metadata": {},
   "outputs": [
    {
     "name": "stdout",
     "output_type": "stream",
     "text": [
      "[-1.39232162 -0.         -1.72092274 -0.          0.          2.0502262\n",
      "  2.00246163 -0.         -0.         -0.1808161   0.          0.\n",
      " -0.70096066  1.68348329  0.         -0.19770791 -1.01131877  0.\n",
      " -0.         -1.49923546]\n"
     ]
    }
   ],
   "source": [
    "# coding your answer here.\n",
    "p = 20\n",
    "n = 1000\n",
    "X = np.random.randn(n, p)\n",
    "𝛽 = np.random.randint(0, 2, p) * np.random.randn(p)\n",
    "𝜖 = np.random.normal(size = n)\n",
    "\n",
    "Y = X.dot(𝛽) + 𝜖\n",
    "\n",
    "print(𝛽)"
   ]
  },
  {
   "cell_type": "code",
   "execution_count": 45,
   "metadata": {},
   "outputs": [
    {
     "data": {
      "text/plain": [
       "array([1, 0, 1, 0, 1, 1, 1, 0, 0, 0])"
      ]
     },
     "execution_count": 45,
     "metadata": {},
     "output_type": "execute_result"
    }
   ],
   "source": [
    "np.random.randint(0, 2, 10)  # low, high=None 0-1"
   ]
  },
  {
   "cell_type": "markdown",
   "metadata": {},
   "source": [
    "(b) Split your data set into a training set containing $100$ observations\n",
    "and a test set containing $900$ observations."
   ]
  },
  {
   "cell_type": "code",
   "execution_count": 29,
   "metadata": {
    "scrolled": false
   },
   "outputs": [],
   "source": [
    "# coding your answer here.\n",
    "X_train, X_test, Y_train, Y_test = train_test_split(X, Y, test_size=0.9)"
   ]
  },
  {
   "cell_type": "markdown",
   "metadata": {},
   "source": [
    "(c) Perform best subset selection on the training set, and plot the training set MSE associated with the best model of each size."
   ]
  },
  {
   "cell_type": "code",
   "execution_count": 30,
   "metadata": {},
   "outputs": [
    {
     "data": {
      "text/plain": [
       "75"
      ]
     },
     "execution_count": 30,
     "metadata": {},
     "output_type": "execute_result"
    }
   ],
   "source": [
    "import gc\n",
    "gc.collect()\n",
    "\n",
    "# 清除内存，尽量避免主动调用 gc.collect()\n",
    "# 除非当你 new 出一个大对象，使用完毕后希望立刻回收，释放内存"
   ]
  },
  {
   "cell_type": "code",
   "execution_count": 31,
   "metadata": {},
   "outputs": [],
   "source": [
    "subs = all_subsets(p)\n",
    "\n",
    "X_train_with_const = sm.add_constant(X_train)\n",
    "\n",
    "subs_with_const = [[True] + list(bool_arr) for bool_arr in subs]\n",
    "\n",
    "subs_with_const_and_length = [(sum(bool_arr), bool_arr) for bool_arr in subs_with_const]\n",
    "\n",
    "subs_with_const_and_length.sort()"
   ]
  },
  {
   "cell_type": "code",
   "execution_count": 32,
   "metadata": {},
   "outputs": [
    {
     "name": "stderr",
     "output_type": "stream",
     "text": [
      "100%|██████████████████████████████████████████████████████████████████████| 1048575/1048575 [08:17<00:00, 2106.40it/s]\n"
     ]
    }
   ],
   "source": [
    "# coding your answer here.\n",
    "full_model = sm.OLS(Y_train, X_train).fit()\n",
    "\n",
    "best_ssr_model = [[np.inf, None, None] for i in range(p)]\n",
    "\n",
    "for i in tqdm(range(len(subs_with_const_and_length)), position=0):\n",
    "    part_model = sm.OLS(Y_train, sm.add_constant(X_train_with_const[:,subs_with_const_and_length[i][1]])).fit()\n",
    "    part_model.Cp = Cp(part_model, full_model)\n",
    "    \n",
    "    if best_ssr_model[subs_with_const_and_length[i][0] - 2][0] > part_model.ssr:\n",
    "        best_ssr_model[subs_with_const_and_length[i][0] - 2][0] = part_model.ssr\n",
    "        best_ssr_model[subs_with_const_and_length[i][0] - 2][1] = i\n",
    "        best_ssr_model[subs_with_const_and_length[i][0] - 2][2] = part_model"
   ]
  },
  {
   "cell_type": "code",
   "execution_count": 33,
   "metadata": {},
   "outputs": [],
   "source": [
    "MSE = lambda model: model.ssr / (model.nobs - model.df_model - 1)"
   ]
  },
  {
   "cell_type": "code",
   "execution_count": 34,
   "metadata": {},
   "outputs": [
    {
     "name": "stdout",
     "output_type": "stream",
     "text": [
      "# Predictors: 12\n"
     ]
    },
    {
     "data": {
      "image/png": "[encoded data removed]",
      "text/plain": [
       "<Figure size 432x288 with 1 Axes>"
      ]
     },
     "metadata": {
      "needs_background": "light"
     },
     "output_type": "display_data"
    }
   ],
   "source": [
    "XX = np.array([[i, MSE(item[2])] for i, item in enumerate(best_ssr_model, 1)]).T\n",
    "plt.plot(*XX)\n",
    "plt.plot(*XX[:,XX[1].argmin()], \"or\")\n",
    "plt.title('Train set MSE')\n",
    "plt.xlabel('# Predictors')\n",
    "plt.ylabel('MSE')\n",
    "\n",
    "print(\"# Predictors:\", sum(subs_with_const_and_length[best_ssr_model[XX[1].argmin()][1]][1][1:]))"
   ]
  },
  {
   "cell_type": "markdown",
   "metadata": {},
   "source": [
    "(d) Plot the test set MSE associated with the best model of each size."
   ]
  },
  {
   "cell_type": "code",
   "execution_count": 35,
   "metadata": {},
   "outputs": [
    {
     "name": "stdout",
     "output_type": "stream",
     "text": [
      "# Predictors: 10\n"
     ]
    },
    {
     "data": {
      "image/png": "[encoded data removed]",
      "text/plain": [
       "<Figure size 432x288 with 1 Axes>"
      ]
     },
     "metadata": {
      "needs_background": "light"
     },
     "output_type": "display_data"
    }
   ],
   "source": [
    "# coding your answer here.\n",
    "get_partial = lambda ssr_model: sm.add_constant(X_test)[:,subs_with_const_and_length[ssr_model[1]][1]]\n",
    "get_predict = lambda ssr_model: ssr_model[2].predict(get_partial(ssr_model))\n",
    "\n",
    "XX = np.array([[i, mean_squared_error(Y_test, get_predict(item))] for i, item in enumerate(best_ssr_model, 1)]).T\n",
    "plt.plot(*XX)\n",
    "plt.plot(*XX[:,XX[1].argmin()], \"or\")\n",
    "plt.title('Test set MSE')\n",
    "plt.xlabel('# Predictors')\n",
    "plt.ylabel('MSE')\n",
    "\n",
    "print(\"# Predictors:\", sum(subs_with_const_and_length[best_ssr_model[XX[1].argmin()][1]][1][1:]))"
   ]
  },
  {
   "cell_type": "markdown",
   "metadata": {},
   "source": [
    "(e) For which model size does the test set MSE take on its minimum value? Comment on your results. If it takes on its minimum value for a model containing only an intercept or a model containing all of the features, then play around with the way that you are generating the data in (a) until you come up with a scenario in which the test set MSE is minimized for an intermediate model size."
   ]
  },
  {
   "cell_type": "code",
   "execution_count": 36,
   "metadata": {},
   "outputs": [
    {
     "name": "stdout",
     "output_type": "stream",
     "text": [
      "                            OLS Regression Results                            \n",
      "==============================================================================\n",
      "Dep. Variable:                      y   R-squared:                       0.945\n",
      "Model:                            OLS   Adj. R-squared:                  0.938\n",
      "Method:                 Least Squares   F-statistic:                     152.0\n",
      "Date:                Sun, 23 Oct 2022   Prob (F-statistic):           1.84e-51\n",
      "Time:                        19:50:24   Log-Likelihood:                -135.18\n",
      "No. Observations:                 100   AIC:                             292.4\n",
      "Df Residuals:                      89   BIC:                             321.0\n",
      "Df Model:                          10                                         \n",
      "Covariance Type:            nonrobust                                         \n",
      "==============================================================================\n",
      "                 coef    std err          t      P>|t|      [0.025      0.975]\n",
      "------------------------------------------------------------------------------\n",
      "const         -0.0387      0.106     -0.365      0.716      -0.249       0.172\n",
      "x1            -1.2124      0.109    -11.076      0.000      -1.430      -0.995\n",
      "x2            -1.8010      0.098    -18.322      0.000      -1.996      -1.606\n",
      "x3             2.0292      0.110     18.440      0.000       1.811       2.248\n",
      "x4             1.8975      0.103     18.354      0.000       1.692       2.103\n",
      "x5            -0.2024      0.109     -1.852      0.067      -0.420       0.015\n",
      "x6            -0.6752      0.092     -7.333      0.000      -0.858      -0.492\n",
      "x7             1.7183      0.108     15.942      0.000       1.504       1.932\n",
      "x8            -0.2156      0.101     -2.136      0.035      -0.416      -0.015\n",
      "x9            -1.0985      0.111     -9.861      0.000      -1.320      -0.877\n",
      "x10           -1.4195      0.104    -13.685      0.000      -1.626      -1.213\n",
      "==============================================================================\n",
      "Omnibus:                        1.041   Durbin-Watson:                   1.734\n",
      "Prob(Omnibus):                  0.594   Jarque-Bera (JB):                1.100\n",
      "Skew:                           0.232   Prob(JB):                        0.577\n",
      "Kurtosis:                       2.779   Cond. No.                         1.70\n",
      "==============================================================================\n",
      "\n",
      "Notes:\n",
      "[1] Standard Errors assume that the covariance matrix of the errors is correctly specified.\n"
     ]
    }
   ],
   "source": [
    "# coding your answer here.\n",
    "print(best_ssr_model[XX[1].argmin()][2].summary())"
   ]
  },
  {
   "cell_type": "markdown",
   "metadata": {},
   "source": [
    "> Ans: 11"
   ]
  },
  {
   "cell_type": "markdown",
   "metadata": {},
   "source": [
    "(f) How does the model at which the test set MSE is minimized compare to the true model used to generate the data? Comment on the coefficient values."
   ]
  },
  {
   "cell_type": "code",
   "execution_count": 37,
   "metadata": {},
   "outputs": [],
   "source": [
    "coefs = np.array(subs_with_const_and_length[best_ssr_model[XX[1].argmin()][1]][1], dtype=float)\n",
    "coefs[subs_with_const_and_length[best_ssr_model[XX[1].argmin()][1]][1]] = best_ssr_model[XX[1].argmin()][2].params"
   ]
  },
  {
   "cell_type": "code",
   "execution_count": 38,
   "metadata": {},
   "outputs": [
    {
     "name": "stdout",
     "output_type": "stream",
     "text": [
      "Estimate betas:\n",
      "beta0: -0.038720860970739124\n",
      "beta1: -1.212430362695351\n",
      "beta2: 0.0\n",
      "beta3: -1.801020345646451\n",
      "beta4: 0.0\n",
      "beta5: 0.0\n",
      "beta6: 2.0291684414409783\n",
      "beta7: 1.8975490977876486\n",
      "beta8: 0.0\n",
      "beta9: 0.0\n",
      "beta10: -0.20237363724806456\n",
      "beta11: 0.0\n",
      "beta12: 0.0\n",
      "beta13: -0.6751758219508981\n",
      "beta14: 1.7182668475978027\n",
      "beta15: 0.0\n",
      "beta16: -0.21555117541244184\n",
      "beta17: -1.0985320444113\n",
      "beta18: 0.0\n",
      "beta19: 0.0\n",
      "beta20: -1.4195376891581208\n",
      "\n",
      "True betas:\n",
      "beta0: 0.0\n",
      "beta1: -1.3923216203501407\n",
      "beta2: -0.0\n",
      "beta3: -1.7209227375914464\n",
      "beta4: -0.0\n",
      "beta5: 0.0\n",
      "beta6: 2.0502262033862286\n",
      "beta7: 2.002461634826464\n",
      "beta8: -0.0\n",
      "beta9: -0.0\n",
      "beta10: -0.18081610481579105\n",
      "beta11: 0.0\n",
      "beta12: 0.0\n",
      "beta13: -0.7009606639450695\n",
      "beta14: 1.683483289490785\n",
      "beta15: 0.0\n",
      "beta16: -0.19770790667915128\n",
      "beta17: -1.0113187741294054\n",
      "beta18: 0.0\n",
      "beta19: -0.0\n",
      "beta20: -1.4992354607595042\n"
     ]
    }
   ],
   "source": [
    "# coding your answer here.\n",
    "print(\"Estimate betas:\")\n",
    "for i, c in enumerate(coefs):\n",
    "    print(f\"beta{i}:\", c)\n",
    "    \n",
    "print()\n",
    "    \n",
    "print(\"True betas:\")\n",
    "for i, c in enumerate(np.hstack([[0], 𝛽])):\n",
    "    print(f\"beta{i}:\", c)"
   ]
  },
  {
   "cell_type": "markdown",
   "metadata": {},
   "source": [
    "> Ans:  \n",
    "$\\text{Estimate betas:}$  \n",
    "$\n",
    "\\beta_{0}: -0.1999 \\\\\n",
    "\\beta_{1}: 0.0000 \\\\\n",
    "\\beta_{2}: 0.0000 \\\\\n",
    "\\beta_{3}: -1.4221 \\\\\n",
    "\\beta_{4}: -0.4268 \\\\\n",
    "\\beta_{5}: -0.6899 \\\\\n",
    "\\beta_{6}: 0.5854 \\\\\n",
    "\\beta_{7}: -0.1990 \\\\\n",
    "\\beta_{8}: -0.5611 \\\\\n",
    "\\beta_{9}: 0.2426 \\\\\n",
    "\\beta_{10}: 0.0000 \\\\\n",
    "\\beta_{11}: 0.0000 \\\\\n",
    "\\beta_{12}: 0.0000 \\\\\n",
    "\\beta_{13}: 0.0000 \\\\\n",
    "\\beta_{14}: 0.0000 \\\\\n",
    "\\beta_{15}: 0.5484 \\\\\n",
    "\\beta_{16}: -0.8283 \\\\\n",
    "\\beta_{17}: 0.0000 \\\\\n",
    "\\beta_{18}: 0.6819 \\\\\n",
    "\\beta_{19}: -0.8241 \\\\\n",
    "\\beta_{20}: 0.0000 \\\\\n",
    "$\n",
    "\n",
    "> $\\text{True betas:}$  \n",
    "$\n",
    "\\beta_{0}: 0.0000 \\\\\n",
    "\\beta_{1}: 0.0000 \\\\\n",
    "\\beta_{2}: -1.3869 \\\\\n",
    "\\beta_{3}: -0.2869 \\\\\n",
    "\\beta_{4}: -0.6718 \\\\\n",
    "\\beta_{5}: 0.6277 \\\\\n",
    "\\beta_{6}: -0.2877 \\\\\n",
    "\\beta_{7}: -0.5374 \\\\\n",
    "\\beta_{8}: 0.2378 \\\\\n",
    "\\beta_{9}: 0.0000 \\\\\n",
    "\\beta_{10}: -0.0000 \\\\\n",
    "\\beta_{11}: -0.0000 \\\\\n",
    "\\beta_{12}: -0.0000 \\\\\n",
    "\\beta_{13}: 0.0000 \\\\\n",
    "\\beta_{14}: 0.6156 \\\\\n",
    "\\beta_{15}: -0.8570 \\\\\n",
    "\\beta_{16}: -0.0000 \\\\\n",
    "\\beta_{17}: 0.4746 \\\\\n",
    "\\beta_{18}: -0.7618 \\\\\n",
    "\\beta_{19}: -0.0000 \\\\\n",
    "$"
   ]
  },
  {
   "cell_type": "markdown",
   "metadata": {},
   "source": [
    "(g) Create a plot displaying $\\sqrt{\\sum_{j=1}^p\\left(\\beta_j-\\hat{\\beta}_j^r\\right)^2}$ for a range of values of $r$, where $\\hat{\\beta}_j^r$ is the $j$th coefficient estimate for the best model containing $r$ coefficients. Comment on what you observe. How does this compare to the test MSE plot from (d)?"
   ]
  },
  {
   "cell_type": "code",
   "execution_count": 39,
   "metadata": {},
   "outputs": [
    {
     "data": {
      "text/plain": [
       "Text(0, 0.5, 'Coefficient error & Test set MSE')"
      ]
     },
     "execution_count": 39,
     "metadata": {},
     "output_type": "execute_result"
    },
    {
     "data": {
      "image/png": "[encoded data removed]",
      "text/plain": [
       "<Figure size 432x288 with 1 Axes>"
      ]
     },
     "metadata": {
      "needs_background": "light"
     },
     "output_type": "display_data"
    }
   ],
   "source": [
    "# coding your answer here.\n",
    "def get_coefs(nps):\n",
    "    coefs = np.array(subs_with_const_and_length[best_ssr_model[nps][1]][1], dtype=float)\n",
    "    coefs[subs_with_const_and_length[best_ssr_model[nps][1]][1]] = best_ssr_model[nps][2].params\n",
    "    return coefs\n",
    "\n",
    "xys = np.array([[i + 1, ((get_coefs(i) - np.hstack([[0], 𝛽]))**2).sum()] for i in range(20)]).T\n",
    "\n",
    "plt.plot(*xys)\n",
    "plt.plot(*xys[:,xys[1].argmin()], \"or\")\n",
    "\n",
    "plt.plot(*XX)\n",
    "plt.plot(*XX[:,XX[1].argmin()], \"or\")\n",
    "\n",
    "plt.xlabel('# Predictors')\n",
    "plt.ylabel('Coefficient error & Test set MSE')"
   ]
  },
  {
   "cell_type": "markdown",
   "metadata": {},
   "source": [
    "> Ans:  \n",
    "藍線是係數誤差，橘線是 (d) 中的圖，雖然兩者 y 軸單位不同，但可看出相關性很高，且最低點相同。"
   ]
  }
 ],
 "metadata": {
  "kernelspec": {
   "display_name": "Python 3",
   "language": "python",
   "name": "python3"
  },
  "language_info": {
   "codemirror_mode": {
    "name": "ipython",
    "version": 3
   },
   "file_extension": ".py",
   "mimetype": "text/x-python",
   "name": "python",
   "nbconvert_exporter": "python",
   "pygments_lexer": "ipython3",
   "version": "3.8.8"
  }
 },
 "nbformat": 4,
 "nbformat_minor": 4
}
