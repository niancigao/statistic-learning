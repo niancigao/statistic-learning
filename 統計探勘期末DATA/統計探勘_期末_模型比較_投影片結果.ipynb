{
 "cells": [
  {
   "cell_type": "markdown",
   "id": "44a24675",
   "metadata": {},
   "source": [
    "## Dataset \n",
    "\n",
    "* [肝細胞癌](https://www.cbioportal.org/study/clinicalData?id=lihc_tcga)"
   ]
  },
  {
   "cell_type": "markdown",
   "id": "e209d2af",
   "metadata": {},
   "source": [
    "The recommended (推薦) subject can be divided into two categories:\n",
    "1. Application(應用)-oriented(面向). \n",
    "\n",
    "- **how best to apply the learning algorithms**，you have learned in this course to examine (檢查) them. \n",
    "\n",
    "- use the **EDA technique first** to explore the dataset.\n",
    "- **preprocessing may be required** for most real-world datasets.\n",
    "\n",
    "- At the end of the project, you should be able to **report some insights (見解) about the dataset you choose**."
   ]
  },
  {
   "cell_type": "markdown",
   "id": "42df8085",
   "metadata": {},
   "source": [
    "1. The following databases are suggested to search for datasets\n",
    "\n",
    "- [政府資料開放平台](https://data.gov.tw/)\n",
    "- [Kaggle](https://www.kaggle.com/datasets)\n",
    "- [Google dataset search](https://datasetsearch.research.google.com/)\n",
    "\n",
    "2. The following packages are suggested for looking for algorithms that you are interested in or you can use when you are exploring your dataset\n",
    "\n",
    "- [scikit-learn Machine Learning in Python](https://scikit-learn.org/stable/)\n",
    "- [statistical models, hypothesis tests, and data exploration](https://www.statsmodels.org/stable/index.html)\n",
    "- [Welcome to mlxtend's documentation!](http://rasbt.github.io/mlxtend/)\n",
    "- [scikit-學習貢獻](https://github.com/scikit-learn-contrib/scikit-learn-contrib/blob/master/README.md)\n",
    "- [cuML - RAPIDS 機器學習庫](https://github.com/rapidsai/cuml)"
   ]
  },
  {
   "cell_type": "markdown",
   "id": "344fb8f7",
   "metadata": {},
   "source": [
    "Procedure (程序)"
   ]
  },
  {
   "cell_type": "markdown",
   "id": "3b51d6f7",
   "metadata": {},
   "source": [
    "- Application-oriented Project\n",
    "\n",
    "1. try to achieve a **high leaderboard (排行榜) score or gain new insight (見解)** into the analysis.<br>\n",
    "\n",
    "\n",
    "2. Perform **preprocessing and EDA** (Do some data analysis using the **unsupervised methods or utilize (利用) different plots** to understand your data)<br>\n",
    "\n",
    "\n",
    "3. **Build a model** and try to **find important features**. You can **use statistical approaches (方法)** to argue that one feature is more important than some other feature<br>\n",
    "\n",
    "\n",
    "4. Compare different models with proper **parameter-selection** techniques (i.e.,cross-validation). You may employ (採用) **statistical hypothesis testing to compare two or more models**. (you might set up logistic regression or linear regression as baselines). Notice you can test them on both synthetic (合成) or the selected dataset<br>\n",
    "\n",
    "\n",
    "5. Report what you have discovered"
   ]
  },
  {
   "cell_type": "markdown",
   "id": "284dfcde",
   "metadata": {},
   "source": [
    "- 12 minutes with additional 3 minutes for Q & A\n",
    "- 課程中教授的主題相關性、技術質量\n",
    " \n",
    "- Abstract (摘要)\n",
    "1. ■ Introduction and related work (簡介及相關工作)\n",
    "2. ■ Dataset (數據集)\n",
    "3. ■ Methods (方法)\n",
    "4. ■ Experiments and results (實驗與結果)\n",
    "5. ■ Discussion (討論)\n",
    "6. ■ Conclusion and future work (結論和未來的工作)\n",
    "7. ■ Contributions (貢獻)\n",
    "8. ■ Reference (參考)\n",
    "\n",
    "- 最多 10 頁 (參考文獻可不算)\n",
    "- A4 或 8.5 x 11 英寸，字體大於或等於 10pt\n",
    "- 自由使用單列或雙列佈局\n",
    "- 貢獻分工表\n",
    "- 交出代碼，使用 Python 編寫"
   ]
  },
  {
   "cell_type": "markdown",
   "id": "8f3f0d62",
   "metadata": {},
   "source": [
    "### 流程\n",
    "\n",
    "```\n",
    "第一輪刪變數               我\n",
    "整理數據(NA跟轉類別...)    \n",
    "\n",
    "模型排/挑變數              變數重要性(隨機森林/LDA) --> 模型覺得重要的變數 (forward/backward)\n",
    "第二輪刪變數 \n",
    "\n",
    "視覺化                     你\n",
    "--------------\n",
    "CV\n",
    "跑模型                   Boosting : Catboost、light GBM\n",
    "                         Bagging : Random forest、SVM、GAM\n",
    "                         \n",
    "結果視覺化                 \n",
    "解釋\n",
    "```"
   ]
  },
  {
   "cell_type": "markdown",
   "id": "a3ee3fb8",
   "metadata": {},
   "source": [
    "### 第一輪刪變數\n",
    "\n",
    "+ 手動刪變數，全NA的、重複的、變異性小的( 9 成 : 379*0.9 = 341 )、資訊不足又有多 NA，怕亂補出事\n",
    "\n",
    "\n",
    "+ 第一輪刪了 53 個變數"
   ]
  },
  {
   "cell_type": "code",
   "execution_count": 1,
   "id": "14711525",
   "metadata": {},
   "outputs": [],
   "source": [
    "import pandas as pd\n",
    "import matplotlib.pyplot as plt\n",
    "import seaborn as sns\n",
    "import numpy as np"
   ]
  },
  {
   "cell_type": "markdown",
   "id": "ee04155c",
   "metadata": {
    "scrolled": true
   },
   "source": [
    "#### 原始尚未分割Training與Testing時，Target的直方圖"
   ]
  },
  {
   "cell_type": "code",
   "execution_count": 2,
   "id": "633fc8e5",
   "metadata": {},
   "outputs": [],
   "source": [
    "df= pd.read_csv(r\"C:\\Users\\l8902\\OneDrive\\文件\\liver_total_data.csv\")"
   ]
  },
  {
   "cell_type": "code",
   "execution_count": 3,
   "id": "dded7671",
   "metadata": {
    "scrolled": true
   },
   "outputs": [
    {
     "data": {
      "text/plain": [
       "<AxesSubplot: xlabel='Overall.Survival.Status', ylabel='count'>"
      ]
     },
     "execution_count": 3,
     "metadata": {},
     "output_type": "execute_result"
    },
    {
     "data": {
      "image/png": "[encoded data removed]",
      "text/plain": [
       "<Figure size 432x288 with 1 Axes>"
      ]
     },
     "metadata": {
      "needs_background": "light"
     },
     "output_type": "display_data"
    }
   ],
   "source": [
    "sns.countplot(x = 'Overall.Survival.Status',data=df.loc[:,['Overall.Survival.Status']])"
   ]
  },
  {
   "cell_type": "code",
   "execution_count": 4,
   "id": "d1d2097f",
   "metadata": {},
   "outputs": [
    {
     "data": {
      "text/plain": [
       "0:LIVING      0.651715\n",
       "1:DECEASED    0.348285\n",
       "Name: Overall.Survival.Status, dtype: float64"
      ]
     },
     "execution_count": 4,
     "metadata": {},
     "output_type": "execute_result"
    }
   ],
   "source": [
    "df['Overall.Survival.Status'].value_counts()/df.shape[0]"
   ]
  },
  {
   "cell_type": "markdown",
   "id": "5f1bcec3",
   "metadata": {},
   "source": [
    "#### 以Train4,Test4資料下去做"
   ]
  },
  {
   "cell_type": "code",
   "execution_count": 5,
   "id": "fc2e1543",
   "metadata": {},
   "outputs": [],
   "source": [
    "#!pip install catboost"
   ]
  },
  {
   "cell_type": "code",
   "execution_count": 6,
   "id": "45ff3f37",
   "metadata": {},
   "outputs": [],
   "source": [
    "from sklearn import datasets\n",
    "from sklearn.inspection import plot_partial_dependence\n",
    "from sklearn.model_selection import train_test_split,KFold, cross_val_score, GridSearchCV, RandomizedSearchCV, StratifiedKFold\n",
    "from sklearn.tree import DecisionTreeClassifier, DecisionTreeRegressor\n",
    "from sklearn.ensemble import RandomForestClassifier, RandomForestRegressor, GradientBoostingClassifier, GradientBoostingRegressor, AdaBoostClassifier, AdaBoostRegressor, StackingClassifier, VotingClassifier\n",
    "from sklearn import tree\n",
    "from numpy import mean\n",
    "from sklearn.metrics import confusion_matrix, roc_auc_score, mean_squared_error\n",
    "from sklearn.metrics import accuracy_score\n",
    "from sklearn.metrics import mean_absolute_error\n",
    "from sklearn.preprocessing import LabelEncoder\n",
    "from sklearn.model_selection import KFold\n",
    "from sklearn.linear_model import LogisticRegression\n",
    "\n",
    "# Require extra installation\n",
    "from xgboost import XGBRegressor\n",
    "from xgboost import XGBClassifier\n",
    "from lightgbm import LGBMRegressor\n",
    "import lightgbm as lgb\n",
    "from catboost import CatBoostClassifier, CatBoostRegressor, Pool\n",
    "\n",
    "import graphviz \n",
    "import matplotlib.pyplot as plt\n",
    "import seaborn as sns\n",
    "import pandas as pd\n",
    "import numpy as np"
   ]
  },
  {
   "cell_type": "code",
   "execution_count": 7,
   "id": "f6c134b4",
   "metadata": {},
   "outputs": [],
   "source": [
    "train_data4 = pd.read_csv(r\"C:\\Users\\l8902\\OneDrive\\文件\\Train_data4.csv\")\n",
    "test_data4 = pd.read_csv(r\"C:\\Users\\l8902\\OneDrive\\文件\\Test_data4.csv\")"
   ]
  },
  {
   "cell_type": "code",
   "execution_count": 8,
   "id": "114c262a",
   "metadata": {},
   "outputs": [
    {
     "data": {
      "text/plain": [
       "<AxesSubplot: xlabel='Overall.Survival.Status', ylabel='count'>"
      ]
     },
     "execution_count": 8,
     "metadata": {},
     "output_type": "execute_result"
    },
    {
     "data": {
      "image/png": "[encoded data removed]",
      "text/plain": [
       "<Figure size 432x288 with 1 Axes>"
      ]
     },
     "metadata": {
      "needs_background": "light"
     },
     "output_type": "display_data"
    }
   ],
   "source": [
    "sns.countplot(x = 'Overall.Survival.Status',data=train_data4.loc[:,['Overall.Survival.Status']])"
   ]
  },
  {
   "cell_type": "code",
   "execution_count": 9,
   "id": "c08553f9",
   "metadata": {},
   "outputs": [
    {
     "data": {
      "text/plain": [
       "<AxesSubplot: xlabel='Overall.Survival.Status', ylabel='count'>"
      ]
     },
     "execution_count": 9,
     "metadata": {},
     "output_type": "execute_result"
    },
    {
     "data": {
      "image/png": "[encoded data removed]",
      "text/plain": [
       "<Figure size 432x288 with 1 Axes>"
      ]
     },
     "metadata": {
      "needs_background": "light"
     },
     "output_type": "display_data"
    }
   ],
   "source": [
    "sns.countplot(x = 'Overall.Survival.Status',data=test_data4.loc[:,['Overall.Survival.Status']])"
   ]
  },
  {
   "cell_type": "code",
   "execution_count": 10,
   "id": "0a33855e",
   "metadata": {},
   "outputs": [
    {
     "data": {
      "text/html": [
       "<div>\n",
       "<style scoped>\n",
       "    .dataframe tbody tr th:only-of-type {\n",
       "        vertical-align: middle;\n",
       "    }\n",
       "\n",
       "    .dataframe tbody tr th {\n",
       "        vertical-align: top;\n",
       "    }\n",
       "\n",
       "    .dataframe thead th {\n",
       "        text-align: right;\n",
       "    }\n",
       "</style>\n",
       "<table border=\"1\" class=\"dataframe\">\n",
       "  <thead>\n",
       "    <tr style=\"text-align: right;\">\n",
       "      <th></th>\n",
       "      <th>Unnamed: 0</th>\n",
       "      <th>Ablation.embolization.tx.adjuvant</th>\n",
       "      <th>AFP.Normal.Range.Lower.Bound</th>\n",
       "      <th>Neoplasm.Disease.Lymph.Node.Stage.American.Joint.Committee.on.Cancer.Code</th>\n",
       "      <th>Bilirubin.Total</th>\n",
       "      <th>Bilirubin.Total.Norm.Range.Upper</th>\n",
       "      <th>Child.pugh.classification.grade</th>\n",
       "      <th>Specimen.collection.method.name</th>\n",
       "      <th>Disease.Free.Status</th>\n",
       "      <th>Family.History.of.Cancer</th>\n",
       "      <th>...</th>\n",
       "      <th>Platelet.count.preresection</th>\n",
       "      <th>Laboratory.prcoedure.platelet.result.lower.limit.of.normal.value</th>\n",
       "      <th>Laboratory.prcoedure.platelet.result.upper.limit.of.normal.value</th>\n",
       "      <th>Laboratory.procedure.prothrombin.time.result.value</th>\n",
       "      <th>Laboratory.procedure.international.normalization.ratio.result.lower.limit.of.normal.value</th>\n",
       "      <th>Laboratory.procedure.albumin.result.specified.value</th>\n",
       "      <th>Tissue.Source.Site</th>\n",
       "      <th>Person.Neoplasm.Status</th>\n",
       "      <th>Patient.Weight</th>\n",
       "      <th>Overall.Survival.Status</th>\n",
       "    </tr>\n",
       "  </thead>\n",
       "  <tbody>\n",
       "    <tr>\n",
       "      <th>0</th>\n",
       "      <td>0</td>\n",
       "      <td>0.0</td>\n",
       "      <td>0.0</td>\n",
       "      <td>1</td>\n",
       "      <td>0.9</td>\n",
       "      <td>1.2</td>\n",
       "      <td>0.0</td>\n",
       "      <td>0.243750</td>\n",
       "      <td>1.0</td>\n",
       "      <td>0.0</td>\n",
       "      <td>...</td>\n",
       "      <td>175.0</td>\n",
       "      <td>130.0</td>\n",
       "      <td>400.0</td>\n",
       "      <td>0.9</td>\n",
       "      <td>1.0</td>\n",
       "      <td>4.4</td>\n",
       "      <td>0.452381</td>\n",
       "      <td>1.0</td>\n",
       "      <td>62.0</td>\n",
       "      <td>0</td>\n",
       "    </tr>\n",
       "    <tr>\n",
       "      <th>1</th>\n",
       "      <td>1</td>\n",
       "      <td>1.0</td>\n",
       "      <td>0.0</td>\n",
       "      <td>0</td>\n",
       "      <td>0.3</td>\n",
       "      <td>1.3</td>\n",
       "      <td>0.0</td>\n",
       "      <td>0.626316</td>\n",
       "      <td>1.0</td>\n",
       "      <td>1.0</td>\n",
       "      <td>...</td>\n",
       "      <td>245.0</td>\n",
       "      <td>143.0</td>\n",
       "      <td>382.0</td>\n",
       "      <td>10.5</td>\n",
       "      <td>8.3</td>\n",
       "      <td>5.3</td>\n",
       "      <td>0.637931</td>\n",
       "      <td>0.0</td>\n",
       "      <td>105.0</td>\n",
       "      <td>0</td>\n",
       "    </tr>\n",
       "    <tr>\n",
       "      <th>2</th>\n",
       "      <td>2</td>\n",
       "      <td>0.0</td>\n",
       "      <td>0.0</td>\n",
       "      <td>1</td>\n",
       "      <td>1.3</td>\n",
       "      <td>1.2</td>\n",
       "      <td>0.0</td>\n",
       "      <td>0.626316</td>\n",
       "      <td>1.0</td>\n",
       "      <td>0.0</td>\n",
       "      <td>...</td>\n",
       "      <td>102.0</td>\n",
       "      <td>150.0</td>\n",
       "      <td>400.0</td>\n",
       "      <td>1.4</td>\n",
       "      <td>8.3</td>\n",
       "      <td>2.8</td>\n",
       "      <td>0.416667</td>\n",
       "      <td>0.0</td>\n",
       "      <td>66.0</td>\n",
       "      <td>1</td>\n",
       "    </tr>\n",
       "    <tr>\n",
       "      <th>3</th>\n",
       "      <td>3</td>\n",
       "      <td>0.0</td>\n",
       "      <td>0.0</td>\n",
       "      <td>1</td>\n",
       "      <td>0.8</td>\n",
       "      <td>1.2</td>\n",
       "      <td>0.0</td>\n",
       "      <td>0.503205</td>\n",
       "      <td>1.0</td>\n",
       "      <td>0.0</td>\n",
       "      <td>...</td>\n",
       "      <td>113.0</td>\n",
       "      <td>130.0</td>\n",
       "      <td>400.0</td>\n",
       "      <td>1.1</td>\n",
       "      <td>1.0</td>\n",
       "      <td>4.0</td>\n",
       "      <td>0.452381</td>\n",
       "      <td>0.0</td>\n",
       "      <td>62.0</td>\n",
       "      <td>0</td>\n",
       "    </tr>\n",
       "    <tr>\n",
       "      <th>4</th>\n",
       "      <td>4</td>\n",
       "      <td>0.0</td>\n",
       "      <td>0.0</td>\n",
       "      <td>1</td>\n",
       "      <td>1.0</td>\n",
       "      <td>1.2</td>\n",
       "      <td>0.0</td>\n",
       "      <td>0.626316</td>\n",
       "      <td>0.0</td>\n",
       "      <td>0.0</td>\n",
       "      <td>...</td>\n",
       "      <td>281.0</td>\n",
       "      <td>130.0</td>\n",
       "      <td>400.0</td>\n",
       "      <td>1.1</td>\n",
       "      <td>0.8</td>\n",
       "      <td>3.0</td>\n",
       "      <td>0.452381</td>\n",
       "      <td>0.0</td>\n",
       "      <td>72.0</td>\n",
       "      <td>0</td>\n",
       "    </tr>\n",
       "  </tbody>\n",
       "</table>\n",
       "<p>5 rows × 27 columns</p>\n",
       "</div>"
      ],
      "text/plain": [
       "   Unnamed: 0  Ablation.embolization.tx.adjuvant  \\\n",
       "0           0                                0.0   \n",
       "1           1                                1.0   \n",
       "2           2                                0.0   \n",
       "3           3                                0.0   \n",
       "4           4                                0.0   \n",
       "\n",
       "   AFP.Normal.Range.Lower.Bound  \\\n",
       "0                           0.0   \n",
       "1                           0.0   \n",
       "2                           0.0   \n",
       "3                           0.0   \n",
       "4                           0.0   \n",
       "\n",
       "   Neoplasm.Disease.Lymph.Node.Stage.American.Joint.Committee.on.Cancer.Code  \\\n",
       "0                                                  1                           \n",
       "1                                                  0                           \n",
       "2                                                  1                           \n",
       "3                                                  1                           \n",
       "4                                                  1                           \n",
       "\n",
       "   Bilirubin.Total  Bilirubin.Total.Norm.Range.Upper  \\\n",
       "0              0.9                               1.2   \n",
       "1              0.3                               1.3   \n",
       "2              1.3                               1.2   \n",
       "3              0.8                               1.2   \n",
       "4              1.0                               1.2   \n",
       "\n",
       "   Child.pugh.classification.grade  Specimen.collection.method.name  \\\n",
       "0                              0.0                         0.243750   \n",
       "1                              0.0                         0.626316   \n",
       "2                              0.0                         0.626316   \n",
       "3                              0.0                         0.503205   \n",
       "4                              0.0                         0.626316   \n",
       "\n",
       "   Disease.Free.Status  Family.History.of.Cancer  ...  \\\n",
       "0                  1.0                       0.0  ...   \n",
       "1                  1.0                       1.0  ...   \n",
       "2                  1.0                       0.0  ...   \n",
       "3                  1.0                       0.0  ...   \n",
       "4                  0.0                       0.0  ...   \n",
       "\n",
       "   Platelet.count.preresection  \\\n",
       "0                        175.0   \n",
       "1                        245.0   \n",
       "2                        102.0   \n",
       "3                        113.0   \n",
       "4                        281.0   \n",
       "\n",
       "   Laboratory.prcoedure.platelet.result.lower.limit.of.normal.value  \\\n",
       "0                                              130.0                  \n",
       "1                                              143.0                  \n",
       "2                                              150.0                  \n",
       "3                                              130.0                  \n",
       "4                                              130.0                  \n",
       "\n",
       "   Laboratory.prcoedure.platelet.result.upper.limit.of.normal.value  \\\n",
       "0                                              400.0                  \n",
       "1                                              382.0                  \n",
       "2                                              400.0                  \n",
       "3                                              400.0                  \n",
       "4                                              400.0                  \n",
       "\n",
       "   Laboratory.procedure.prothrombin.time.result.value  \\\n",
       "0                                                0.9    \n",
       "1                                               10.5    \n",
       "2                                                1.4    \n",
       "3                                                1.1    \n",
       "4                                                1.1    \n",
       "\n",
       "   Laboratory.procedure.international.normalization.ratio.result.lower.limit.of.normal.value  \\\n",
       "0                                                1.0                                           \n",
       "1                                                8.3                                           \n",
       "2                                                8.3                                           \n",
       "3                                                1.0                                           \n",
       "4                                                0.8                                           \n",
       "\n",
       "   Laboratory.procedure.albumin.result.specified.value  Tissue.Source.Site  \\\n",
       "0                                                4.4              0.452381   \n",
       "1                                                5.3              0.637931   \n",
       "2                                                2.8              0.416667   \n",
       "3                                                4.0              0.452381   \n",
       "4                                                3.0              0.452381   \n",
       "\n",
       "   Person.Neoplasm.Status  Patient.Weight  Overall.Survival.Status  \n",
       "0                     1.0            62.0                        0  \n",
       "1                     0.0           105.0                        0  \n",
       "2                     0.0            66.0                        1  \n",
       "3                     0.0            62.0                        0  \n",
       "4                     0.0            72.0                        0  \n",
       "\n",
       "[5 rows x 27 columns]"
      ]
     },
     "execution_count": 10,
     "metadata": {},
     "output_type": "execute_result"
    }
   ],
   "source": [
    "train_data4.head()"
   ]
  },
  {
   "cell_type": "code",
   "execution_count": 11,
   "id": "0547f0cf",
   "metadata": {},
   "outputs": [],
   "source": [
    "train_data4 = train_data4.drop(\"Unnamed: 0\", axis=1)\n",
    "test_data4 = test_data4.drop(\"Unnamed: 0\", axis=1)\n",
    "\n",
    "X_train = train_data4.drop(\"Overall.Survival.Status\", axis=1)\n",
    "y_train = train_data4[\"Overall.Survival.Status\"]\n",
    "\n",
    "X_test = test_data4.drop(\"Overall.Survival.Status\", axis=1)\n",
    "y_test = test_data4[\"Overall.Survival.Status\"]"
   ]
  },
  {
   "cell_type": "markdown",
   "id": "6b58ee0f",
   "metadata": {},
   "source": [
    "- KFold中在K的選取參考連結: https://www.naukri.com/learning/articles/how-to-set-the-value-of-k-in-k-fold-cross-validation/"
   ]
  },
  {
   "cell_type": "code",
   "execution_count": 12,
   "id": "c6f21329",
   "metadata": {},
   "outputs": [
    {
     "name": "stdout",
     "output_type": "stream",
     "text": [
      "-> folds=2, accuracy=0.597 (0.557,0.636)\n",
      "-> folds=3, accuracy=0.648 (0.579,0.744)\n",
      "-> folds=4, accuracy=0.674 (0.580,0.783)\n",
      "-> folds=5, accuracy=0.664 (0.474,0.765)\n",
      "-> folds=6, accuracy=0.662 (0.528,0.763)\n",
      "-> folds=7, accuracy=0.659 (0.420,0.877)\n",
      "-> folds=8, accuracy=0.671 (0.547,0.837)\n",
      "-> folds=9, accuracy=0.664 (0.504,0.838)\n",
      "-> folds=10, accuracy=0.675 (0.414,0.824)\n",
      "-> folds=11, accuracy=0.671 (0.471,0.926)\n",
      "-> folds=12, accuracy=0.678 (0.443,0.865)\n",
      "-> folds=13, accuracy=0.654 (0.371,0.943)\n",
      "-> folds=14, accuracy=0.661 (0.423,0.900)\n",
      "-> folds=15, accuracy=0.663 (0.471,0.913)\n",
      "-> folds=16, accuracy=0.638 (0.357,0.914)\n",
      "-> folds=17, accuracy=0.672 (0.446,0.893)\n",
      "-> folds=18, accuracy=0.664 (0.472,0.880)\n",
      "-> folds=19, accuracy=0.669 (0.360,0.920)\n",
      "-> folds=20, accuracy=0.671 (0.405,0.943)\n",
      "-> folds=21, accuracy=0.640 (0.370,0.862)\n",
      "-> folds=22, accuracy=0.657 (0.351,0.943)\n",
      "-> folds=23, accuracy=0.658 (0.361,0.921)\n",
      "-> folds=24, accuracy=0.659 (0.400,0.922)\n",
      "-> folds=25, accuracy=0.669 (0.357,0.929)\n",
      "-> folds=26, accuracy=0.666 (0.339,0.956)\n",
      "-> folds=27, accuracy=0.672 (0.400,0.956)\n",
      "-> folds=28, accuracy=0.662 (0.396,0.905)\n",
      "-> folds=29, accuracy=0.662 (0.375,0.905)\n",
      "-> folds=30, accuracy=0.651 (0.357,0.963)\n"
     ]
    }
   ],
   "source": [
    "# evaluate the model using a given test condition\n",
    "def evaluate_model(cv):\n",
    "  # get the model\n",
    "  model = LogisticRegression()\n",
    "  # evaluate the model\n",
    "  scores = cross_val_score(model, X_train, y_train, scoring='roc_auc', cv=cv, n_jobs=-1)\n",
    "  # return scores\n",
    "  return mean(scores), scores.min(), scores.max()\n",
    "\n",
    "\n",
    "folds = range(2,31)\n",
    "for k in folds:\n",
    "  # define the test condition\n",
    "  cv = KFold(n_splits=k, shuffle=True, random_state=5)\n",
    "  # record mean and min/max of each set of results\n",
    "  k_mean, k_min, k_max = evaluate_model(cv)\n",
    "  # report performance\n",
    "  print('-> folds=%d, accuracy=%.3f (%.3f,%.3f)' % (k, k_mean, k_min, k_max))"
   ]
  },
  {
   "cell_type": "code",
   "execution_count": 13,
   "id": "5c819d12",
   "metadata": {},
   "outputs": [
    {
     "data": {
      "image/png": "[encoded data removed]",
      "text/plain": [
       "<Figure size 864x360 with 1 Axes>"
      ]
     },
     "metadata": {
      "needs_background": "light"
     },
     "output_type": "display_data"
    }
   ],
   "source": [
    "tree_sizes = range(1, 50)  # tree_sizes 定義為我們想要找的樹的深度，樹越深模型複雜度越高\n",
    "\n",
    "k = 10 \n",
    "#以常見的(模型性能估計中提供低計算成本和低偏差的良好折衷)為10作為出發點，然而在我們的模型中10也是個不錯的假設\n",
    "kf5 = KFold(n_splits=k, shuffle=True, random_state=5)\n",
    "AUC_scores = []\n",
    "\n",
    "# 10-Fold CV for each tree size \n",
    "for size in tree_sizes:\n",
    "    clf_tree = DecisionTreeClassifier(max_depth=size, random_state=5, criterion='entropy') \n",
    "    AUC_s = cross_val_score(clf_tree, X_train, y_train, cv=kf5, scoring='roc_auc')\n",
    "    AUC_scores.append(np.mean(AUC_s)) #針對不同的樹的深度找出在哪個深度底下ROC_AUC做的最好\n",
    "    \n",
    "# plot CV-Accuracy and AUC socres w.r.t tree sizes \n",
    "fig, ax = plt.subplots(nrows=1, ncols=1, figsize=(12, 5))          \n",
    "fig.subplots_adjust(wspace=0.5)\n",
    "\n",
    "ax.plot(tree_sizes, AUC_scores)\n",
    "ax.set_title('10-CV AUC scores')\n",
    "ax.set_xlabel('Tree Size')\n",
    "ax.set_ylabel('AUC scores')\n",
    "ax.grid(True)\n",
    "#fig.savefig(\"10_CV.jpg\")"
   ]
  },
  {
   "cell_type": "code",
   "execution_count": null,
   "id": "922921d5",
   "metadata": {},
   "outputs": [],
   "source": []
  },
  {
   "cell_type": "code",
   "execution_count": 14,
   "id": "c5418b22",
   "metadata": {},
   "outputs": [
    {
     "data": {
      "text/plain": [
       "3"
      ]
     },
     "execution_count": 14,
     "metadata": {},
     "output_type": "execute_result"
    }
   ],
   "source": [
    "np.array(AUC_scores).argmax()"
   ]
  },
  {
   "cell_type": "code",
   "execution_count": 15,
   "id": "f089714a",
   "metadata": {},
   "outputs": [],
   "source": [
    "#### Tree size從1開始，所以最大值在4"
   ]
  },
  {
   "cell_type": "markdown",
   "id": "c3783b5e",
   "metadata": {},
   "source": [
    "#### Logistic regression without CV"
   ]
  },
  {
   "cell_type": "code",
   "execution_count": 16,
   "id": "ee7dc72e",
   "metadata": {},
   "outputs": [
    {
     "name": "stdout",
     "output_type": "stream",
     "text": [
      "Logistic Regression train roc_auc : 0.6860009319919959\n",
      "Logistic Regression test roc_auc : 0.6466165413533834\n"
     ]
    }
   ],
   "source": [
    "from sklearn.linear_model import LogisticRegression\n",
    "log_classifier = LogisticRegression()\n",
    "log_classifier.fit(X_train, y_train)\n",
    "y_train_pred = log_classifier.predict_proba(X_train)\n",
    "y_test_pred = log_classifier.predict_proba(X_test)\n",
    "print(f\"Logistic Regression train roc_auc : {roc_auc_score(y_train, y_train_pred[:,1])}\")\n",
    "print(f\"Logistic Regression test roc_auc : {roc_auc_score(y_test, y_test_pred[:,1])}\")"
   ]
  },
  {
   "cell_type": "markdown",
   "id": "ed843aba",
   "metadata": {},
   "source": [
    "#### Logistic regression with 10-Fold CV"
   ]
  },
  {
   "cell_type": "code",
   "execution_count": 17,
   "id": "2c0985ab",
   "metadata": {},
   "outputs": [
    {
     "name": "stdout",
     "output_type": "stream",
     "text": [
      "AUC Score of 10FoldCV in logistic regression:  0.6745333658520067\n"
     ]
    }
   ],
   "source": [
    "from sklearn.linear_model import LogisticRegression\n",
    "from sklearn.model_selection import cross_val_score\n",
    "from numpy import mean\n",
    "  # get the dataset\n",
    "  # get the model\n",
    "model = LogisticRegression()\n",
    "  # evaluate the model\n",
    "cv = KFold(n_splits=10, shuffle=True, random_state=5)\n",
    "scores = cross_val_score(model,X_train, y_train, scoring='roc_auc', cv=cv, n_jobs=-1)\n",
    "  # return scores\n",
    "print(\"AUC Score of 10FoldCV in logistic regression: \",mean(scores))"
   ]
  },
  {
   "cell_type": "markdown",
   "id": "effec8ca",
   "metadata": {},
   "source": [
    "#### n_estimator 參數選擇"
   ]
  },
  {
   "cell_type": "code",
   "execution_count": 18,
   "id": "03807971",
   "metadata": {
    "scrolled": true
   },
   "outputs": [
    {
     "name": "stdout",
     "output_type": "stream",
     "text": [
      "[LightGBM] [Info] Number of positive: 169, number of negative: 173\n",
      "[LightGBM] [Warning] Auto-choosing row-wise multi-threading, the overhead of testing was 0.000342 seconds.\n",
      "You can set `force_row_wise=true` to remove the overhead.\n",
      "And if memory is not enough, you can set `force_col_wise=true`.\n",
      "[LightGBM] [Info] Total Bins 677\n",
      "[LightGBM] [Info] Number of data points in the train set: 342, number of used features: 23\n",
      "[LightGBM] [Info] Number of positive: 171, number of negative: 171\n",
      "[LightGBM] [Warning] Auto-choosing row-wise multi-threading, the overhead of testing was 0.000261 seconds.\n",
      "You can set `force_row_wise=true` to remove the overhead.\n",
      "And if memory is not enough, you can set `force_col_wise=true`.\n",
      "[LightGBM] [Info] Total Bins 677\n",
      "[LightGBM] [Info] Number of data points in the train set: 342, number of used features: 23\n",
      "[LightGBM] [Info] Number of positive: 171, number of negative: 171\n",
      "[LightGBM] [Warning] Auto-choosing col-wise multi-threading, the overhead of testing was 0.000314 seconds.\n",
      "You can set `force_col_wise=true` to remove the overhead.\n",
      "[LightGBM] [Info] Total Bins 677\n",
      "[LightGBM] [Info] Number of data points in the train set: 342, number of used features: 23\n",
      "[LightGBM] [Info] Number of positive: 170, number of negative: 172\n",
      "[LightGBM] [Warning] Auto-choosing col-wise multi-threading, the overhead of testing was 0.000595 seconds.\n",
      "You can set `force_col_wise=true` to remove the overhead.\n",
      "[LightGBM] [Info] Total Bins 677\n",
      "[LightGBM] [Info] Number of data points in the train set: 342, number of used features: 23\n",
      "[LightGBM] [Info] Number of positive: 169, number of negative: 173\n",
      "[LightGBM] [Warning] Auto-choosing col-wise multi-threading, the overhead of testing was 0.000448 seconds.\n",
      "You can set `force_col_wise=true` to remove the overhead.\n",
      "[LightGBM] [Info] Total Bins 677\n",
      "[LightGBM] [Info] Number of data points in the train set: 342, number of used features: 23\n",
      "[LightGBM] [Info] Number of positive: 173, number of negative: 169\n",
      "[LightGBM] [Warning] Auto-choosing col-wise multi-threading, the overhead of testing was 0.000656 seconds.\n",
      "You can set `force_col_wise=true` to remove the overhead.\n",
      "[LightGBM] [Info] Total Bins 677\n",
      "[LightGBM] [Info] Number of data points in the train set: 342, number of used features: 23\n",
      "[LightGBM] [Info] Number of positive: 173, number of negative: 169\n",
      "[LightGBM] [Warning] Auto-choosing col-wise multi-threading, the overhead of testing was 0.000653 seconds.\n",
      "You can set `force_col_wise=true` to remove the overhead.\n",
      "[LightGBM] [Info] Total Bins 677\n",
      "[LightGBM] [Info] Number of data points in the train set: 342, number of used features: 23\n",
      "[LightGBM] [Info] Number of positive: 170, number of negative: 172\n",
      "[LightGBM] [Warning] Auto-choosing col-wise multi-threading, the overhead of testing was 0.000531 seconds.\n",
      "You can set `force_col_wise=true` to remove the overhead.\n",
      "[LightGBM] [Info] Total Bins 677\n",
      "[LightGBM] [Info] Number of data points in the train set: 342, number of used features: 23\n",
      "[LightGBM] [Info] Number of positive: 169, number of negative: 173\n",
      "[LightGBM] [Warning] Auto-choosing col-wise multi-threading, the overhead of testing was 0.000709 seconds.\n",
      "You can set `force_col_wise=true` to remove the overhead.\n",
      "[LightGBM] [Info] Total Bins 677\n",
      "[LightGBM] [Info] Number of data points in the train set: 342, number of used features: 23\n",
      "[LightGBM] [Info] Number of positive: 175, number of negative: 167\n",
      "[LightGBM] [Warning] Auto-choosing col-wise multi-threading, the overhead of testing was 0.000680 seconds.\n",
      "You can set `force_col_wise=true` to remove the overhead.\n",
      "[LightGBM] [Info] Total Bins 677\n",
      "[LightGBM] [Info] Number of data points in the train set: 342, number of used features: 23\n",
      "[LightGBM] [Info] [binary:BoostFromScore]: pavg=0.494152 -> initscore=-0.023393\n",
      "[LightGBM] [Info] Start training from score -0.023393\n",
      "[LightGBM] [Warning] No further splits with positive gain, best gain: -inf\n",
      "[LightGBM] [Info] [binary:BoostFromScore]: pavg=0.500000 -> initscore=0.000000\n",
      "[LightGBM] [Warning] No further splits with positive gain, best gain: -inf\n",
      "[LightGBM] [Info] [binary:BoostFromScore]: pavg=0.500000 -> initscore=0.000000\n",
      "[LightGBM] [Warning] No further splits with positive gain, best gain: -inf\n",
      "[LightGBM] [Info] [binary:BoostFromScore]: pavg=0.497076 -> initscore=-0.011696\n",
      "[LightGBM] [Info] Start training from score -0.011696\n",
      "[LightGBM] [Warning] No further splits with positive gain, best gain: -inf\n",
      "[LightGBM] [Info] [binary:BoostFromScore]: pavg=0.494152 -> initscore=-0.023393\n",
      "[LightGBM] [Info] Start training from score -0.023393\n",
      "[LightGBM] [Warning] No further splits with positive gain, best gain: -inf\n",
      "[LightGBM] [Info] [binary:BoostFromScore]: pavg=0.505848 -> initscore=0.023393\n",
      "[LightGBM] [Info] Start training from score 0.023393\n",
      "[LightGBM] [Warning] No further splits with positive gain, best gain: -inf\n",
      "[LightGBM] [Info] [binary:BoostFromScore]: pavg=0.505848 -> initscore=0.023393\n",
      "[LightGBM] [Info] Start training from score 0.023393\n",
      "[LightGBM] [Warning] No further splits with positive gain, best gain: -inf\n",
      "[LightGBM] [Info] [binary:BoostFromScore]: pavg=0.497076 -> initscore=-0.011696\n",
      "[LightGBM] [Info] Start training from score -0.011696\n",
      "[LightGBM] [Warning] No further splits with positive gain, best gain: -inf\n",
      "[LightGBM] [Info] [binary:BoostFromScore]: pavg=0.494152 -> initscore=-0.023393\n",
      "[LightGBM] [Info] Start training from score -0.023393\n",
      "[LightGBM] [Warning] No further splits with positive gain, best gain: -inf\n",
      "[LightGBM] [Info] [binary:BoostFromScore]: pavg=0.511696 -> initscore=0.046792\n",
      "[LightGBM] [Info] Start training from score 0.046792\n",
      "[LightGBM] [Warning] No further splits with positive gain, best gain: -inf\n",
      "[LightGBM] [Warning] No further splits with positive gain, best gain: -inf\n",
      "[LightGBM] [Warning] No further splits with positive gain, best gain: -inf\n",
      "[LightGBM] [Warning] No further splits with positive gain, best gain: -inf\n",
      "[LightGBM] [Warning] No further splits with positive gain, best gain: -inf\n",
      "[LightGBM] [Warning] No further splits with positive gain, best gain: -inf\n",
      "[LightGBM] [Warning] No further splits with positive gain, best gain: -inf\n",
      "[LightGBM] [Warning] No further splits with positive gain, best gain: -inf\n",
      "[LightGBM] [Warning] No further splits with positive gain, best gain: -inf\n",
      "[LightGBM] [Warning] No further splits with positive gain, best gain: -inf\n",
      "[LightGBM] [Warning] No further splits with positive gain, best gain: -inf\n",
      "[LightGBM] [Warning] No further splits with positive gain, best gain: -inf\n",
      "[LightGBM] [Warning] No further splits with positive gain, best gain: -inf\n",
      "[LightGBM] [Warning] No further splits with positive gain, best gain: -inf\n",
      "[LightGBM] [Warning] No further splits with positive gain, best gain: -inf\n",
      "[LightGBM] [Warning] No further splits with positive gain, best gain: -inf\n",
      "[LightGBM] [Warning] No further splits with positive gain, best gain: -inf\n",
      "[LightGBM] [Warning] No further splits with positive gain, best gain: -inf\n",
      "[LightGBM] [Warning] No further splits with positive gain, best gain: -inf\n",
      "[LightGBM] [Warning] No further splits with positive gain, best gain: -inf\n",
      "[LightGBM] [Warning] No further splits with positive gain, best gain: -inf\n",
      "[LightGBM] [Warning] No further splits with positive gain, best gain: -inf\n",
      "[LightGBM] [Warning] No further splits with positive gain, best gain: -inf\n",
      "[LightGBM] [Warning] No further splits with positive gain, best gain: -inf\n",
      "[LightGBM] [Warning] No further splits with positive gain, best gain: -inf\n",
      "[LightGBM] [Warning] No further splits with positive gain, best gain: -inf\n",
      "[LightGBM] [Warning] No further splits with positive gain, best gain: -inf\n",
      "[LightGBM] [Warning] No further splits with positive gain, best gain: -inf\n",
      "[LightGBM] [Warning] No further splits with positive gain, best gain: -inf\n",
      "[LightGBM] [Warning] No further splits with positive gain, best gain: -inf\n",
      "[LightGBM] [Warning] No further splits with positive gain, best gain: -inf\n",
      "[LightGBM] [Warning] No further splits with positive gain, best gain: -inf\n",
      "[LightGBM] [Warning] No further splits with positive gain, best gain: -inf\n",
      "[LightGBM] [Warning] No further splits with positive gain, best gain: -inf\n",
      "[LightGBM] [Warning] No further splits with positive gain, best gain: -inf\n",
      "[LightGBM] [Warning] No further splits with positive gain, best gain: -inf\n",
      "[LightGBM] [Warning] No further splits with positive gain, best gain: -inf\n",
      "[LightGBM] [Warning] No further splits with positive gain, best gain: -inf\n",
      "[LightGBM] [Warning] No further splits with positive gain, best gain: -inf\n",
      "[LightGBM] [Warning] No further splits with positive gain, best gain: -inf\n",
      "[LightGBM] [Warning] No further splits with positive gain, best gain: -inf\n",
      "[LightGBM] [Warning] No further splits with positive gain, best gain: -inf\n",
      "[LightGBM] [Warning] No further splits with positive gain, best gain: -inf\n",
      "[LightGBM] [Warning] No further splits with positive gain, best gain: -inf\n",
      "[LightGBM] [Warning] No further splits with positive gain, best gain: -inf\n",
      "[LightGBM] [Warning] No further splits with positive gain, best gain: -inf\n",
      "[LightGBM] [Warning] No further splits with positive gain, best gain: -inf\n",
      "[LightGBM] [Warning] No further splits with positive gain, best gain: -inf\n",
      "[LightGBM] [Warning] No further splits with positive gain, best gain: -inf\n",
      "[LightGBM] [Warning] No further splits with positive gain, best gain: -inf\n",
      "[LightGBM] [Warning] No further splits with positive gain, best gain: -inf\n",
      "[LightGBM] [Warning] No further splits with positive gain, best gain: -inf\n",
      "[LightGBM] [Warning] No further splits with positive gain, best gain: -inf\n",
      "[LightGBM] [Warning] No further splits with positive gain, best gain: -inf\n",
      "[LightGBM] [Warning] No further splits with positive gain, best gain: -inf\n",
      "[LightGBM] [Warning] No further splits with positive gain, best gain: -inf\n",
      "[LightGBM] [Warning] No further splits with positive gain, best gain: -inf\n",
      "[LightGBM] [Warning] No further splits with positive gain, best gain: -inf\n",
      "[LightGBM] [Warning] No further splits with positive gain, best gain: -inf\n",
      "[LightGBM] [Warning] No further splits with positive gain, best gain: -inf\n",
      "[LightGBM] [Warning] No further splits with positive gain, best gain: -inf\n",
      "[LightGBM] [Warning] No further splits with positive gain, best gain: -inf\n",
      "[LightGBM] [Warning] No further splits with positive gain, best gain: -inf\n",
      "[LightGBM] [Warning] No further splits with positive gain, best gain: -inf\n",
      "[LightGBM] [Warning] No further splits with positive gain, best gain: -inf\n",
      "[LightGBM] [Warning] No further splits with positive gain, best gain: -inf\n",
      "[LightGBM] [Warning] No further splits with positive gain, best gain: -inf\n",
      "[LightGBM] [Warning] No further splits with positive gain, best gain: -inf\n",
      "[LightGBM] [Warning] No further splits with positive gain, best gain: -inf\n",
      "[LightGBM] [Warning] No further splits with positive gain, best gain: -inf\n",
      "[LightGBM] [Warning] No further splits with positive gain, best gain: -inf\n",
      "[LightGBM] [Warning] No further splits with positive gain, best gain: -inf\n",
      "[LightGBM] [Warning] No further splits with positive gain, best gain: -inf\n",
      "[LightGBM] [Warning] No further splits with positive gain, best gain: -inf\n",
      "[LightGBM] [Warning] No further splits with positive gain, best gain: -inf\n",
      "[LightGBM] [Warning] No further splits with positive gain, best gain: -inf\n",
      "[LightGBM] [Warning] No further splits with positive gain, best gain: -inf\n",
      "[LightGBM] [Warning] No further splits with positive gain, best gain: -inf\n",
      "[LightGBM] [Warning] No further splits with positive gain, best gain: -inf\n",
      "[LightGBM] [Warning] No further splits with positive gain, best gain: -inf\n",
      "[LightGBM] [Warning] No further splits with positive gain, best gain: -inf\n",
      "[LightGBM] [Warning] No further splits with positive gain, best gain: -inf\n"
     ]
    },
    {
     "name": "stderr",
     "output_type": "stream",
     "text": [
      "C:\\Users\\l8902\\anaconda3\\lib\\site-packages\\lightgbm\\engine.py:577: UserWarning: 'early_stopping_rounds' argument is deprecated and will be removed in a future release of LightGBM. Pass 'early_stopping()' callback via 'callbacks' argument instead.\n",
      "  _log_warning(\"'early_stopping_rounds' argument is deprecated and will be removed in a future release of LightGBM. \"\n"
     ]
    },
    {
     "name": "stdout",
     "output_type": "stream",
     "text": [
      "[LightGBM] [Warning] No further splits with positive gain, best gain: -inf\n",
      "[LightGBM] [Warning] No further splits with positive gain, best gain: -inf\n",
      "[LightGBM] [Warning] No further splits with positive gain, best gain: -inf\n",
      "[LightGBM] [Warning] No further splits with positive gain, best gain: -inf\n",
      "[LightGBM] [Warning] No further splits with positive gain, best gain: -inf\n",
      "[LightGBM] [Warning] No further splits with positive gain, best gain: -inf\n",
      "[LightGBM] [Warning] No further splits with positive gain, best gain: -inf\n",
      "[LightGBM] [Warning] No further splits with positive gain, best gain: -inf\n",
      "[LightGBM] [Warning] No further splits with positive gain, best gain: -inf\n",
      "[LightGBM] [Warning] No further splits with positive gain, best gain: -inf\n",
      "[LightGBM] [Warning] No further splits with positive gain, best gain: -inf\n",
      "[LightGBM] [Warning] No further splits with positive gain, best gain: -inf\n",
      "[LightGBM] [Warning] No further splits with positive gain, best gain: -inf\n",
      "[LightGBM] [Warning] No further splits with positive gain, best gain: -inf\n",
      "[LightGBM] [Warning] No further splits with positive gain, best gain: -inf\n",
      "[LightGBM] [Warning] No further splits with positive gain, best gain: -inf\n",
      "[LightGBM] [Warning] No further splits with positive gain, best gain: -inf\n",
      "[LightGBM] [Warning] No further splits with positive gain, best gain: -inf\n",
      "[LightGBM] [Warning] No further splits with positive gain, best gain: -inf\n",
      "[LightGBM] [Warning] No further splits with positive gain, best gain: -inf\n",
      "[LightGBM] [Warning] No further splits with positive gain, best gain: -inf\n",
      "[LightGBM] [Warning] No further splits with positive gain, best gain: -inf\n",
      "[LightGBM] [Warning] No further splits with positive gain, best gain: -inf\n",
      "[LightGBM] [Warning] No further splits with positive gain, best gain: -inf\n",
      "[LightGBM] [Warning] No further splits with positive gain, best gain: -inf\n",
      "[LightGBM] [Warning] No further splits with positive gain, best gain: -inf\n",
      "[LightGBM] [Warning] No further splits with positive gain, best gain: -inf\n",
      "[LightGBM] [Warning] No further splits with positive gain, best gain: -inf\n",
      "[LightGBM] [Warning] No further splits with positive gain, best gain: -inf\n",
      "[LightGBM] [Warning] No further splits with positive gain, best gain: -inf\n",
      "[LightGBM] [Warning] No further splits with positive gain, best gain: -inf\n",
      "[LightGBM] [Warning] No further splits with positive gain, best gain: -inf\n",
      "[LightGBM] [Warning] No further splits with positive gain, best gain: -inf\n",
      "[LightGBM] [Warning] No further splits with positive gain, best gain: -inf\n",
      "[LightGBM] [Warning] No further splits with positive gain, best gain: -inf\n",
      "[LightGBM] [Warning] No further splits with positive gain, best gain: -inf\n",
      "[LightGBM] [Warning] No further splits with positive gain, best gain: -inf\n",
      "[LightGBM] [Warning] No further splits with positive gain, best gain: -inf\n",
      "[LightGBM] [Warning] No further splits with positive gain, best gain: -inf\n",
      "[LightGBM] [Warning] No further splits with positive gain, best gain: -inf\n",
      "[LightGBM] [Warning] No further splits with positive gain, best gain: -inf\n",
      "[LightGBM] [Warning] No further splits with positive gain, best gain: -inf\n",
      "[LightGBM] [Warning] No further splits with positive gain, best gain: -inf\n",
      "[LightGBM] [Warning] No further splits with positive gain, best gain: -inf\n",
      "[LightGBM] [Warning] No further splits with positive gain, best gain: -inf\n",
      "[LightGBM] [Warning] No further splits with positive gain, best gain: -inf\n",
      "[LightGBM] [Warning] No further splits with positive gain, best gain: -inf\n",
      "[LightGBM] [Warning] No further splits with positive gain, best gain: -inf\n",
      "[LightGBM] [Warning] No further splits with positive gain, best gain: -inf\n",
      "[LightGBM] [Warning] No further splits with positive gain, best gain: -inf\n",
      "[LightGBM] [Warning] No further splits with positive gain, best gain: -inf\n",
      "[LightGBM] [Warning] No further splits with positive gain, best gain: -inf\n",
      "[LightGBM] [Warning] No further splits with positive gain, best gain: -inf\n",
      "[LightGBM] [Warning] No further splits with positive gain, best gain: -inf\n",
      "[LightGBM] [Warning] No further splits with positive gain, best gain: -inf\n",
      "[LightGBM] [Warning] No further splits with positive gain, best gain: -inf\n",
      "[LightGBM] [Warning] No further splits with positive gain, best gain: -inf\n",
      "[LightGBM] [Warning] No further splits with positive gain, best gain: -inf\n",
      "[LightGBM] [Warning] No further splits with positive gain, best gain: -inf\n",
      "[LightGBM] [Warning] No further splits with positive gain, best gain: -inf\n",
      "[LightGBM] [Warning] No further splits with positive gain, best gain: -inf\n",
      "[LightGBM] [Warning] No further splits with positive gain, best gain: -inf\n",
      "[LightGBM] [Warning] No further splits with positive gain, best gain: -inf\n",
      "[LightGBM] [Warning] No further splits with positive gain, best gain: -inf\n",
      "[LightGBM] [Warning] No further splits with positive gain, best gain: -inf\n",
      "[LightGBM] [Warning] No further splits with positive gain, best gain: -inf\n",
      "[LightGBM] [Warning] No further splits with positive gain, best gain: -inf\n",
      "[LightGBM] [Warning] No further splits with positive gain, best gain: -inf\n",
      "[LightGBM] [Warning] No further splits with positive gain, best gain: -inf\n",
      "[LightGBM] [Warning] No further splits with positive gain, best gain: -inf\n",
      "[LightGBM] [Warning] No further splits with positive gain, best gain: -inf\n",
      "[LightGBM] [Warning] No further splits with positive gain, best gain: -inf\n",
      "[LightGBM] [Warning] No further splits with positive gain, best gain: -inf\n",
      "[LightGBM] [Warning] No further splits with positive gain, best gain: -inf\n",
      "[LightGBM] [Warning] No further splits with positive gain, best gain: -inf\n",
      "[LightGBM] [Warning] No further splits with positive gain, best gain: -inf\n",
      "[LightGBM] [Warning] No further splits with positive gain, best gain: -inf\n",
      "[LightGBM] [Warning] No further splits with positive gain, best gain: -inf\n",
      "[LightGBM] [Warning] No further splits with positive gain, best gain: -inf\n",
      "[LightGBM] [Warning] No further splits with positive gain, best gain: -inf\n",
      "[LightGBM] [Warning] No further splits with positive gain, best gain: -inf\n",
      "[LightGBM] [Warning] No further splits with positive gain, best gain: -inf\n",
      "[LightGBM] [Warning] No further splits with positive gain, best gain: -inf\n",
      "[LightGBM] [Warning] No further splits with positive gain, best gain: -inf\n",
      "[LightGBM] [Warning] No further splits with positive gain, best gain: -inf\n",
      "[LightGBM] [Warning] No further splits with positive gain, best gain: -inf\n",
      "[LightGBM] [Warning] No further splits with positive gain, best gain: -inf\n",
      "[LightGBM] [Warning] No further splits with positive gain, best gain: -inf\n",
      "[LightGBM] [Warning] No further splits with positive gain, best gain: -inf\n",
      "[LightGBM] [Warning] No further splits with positive gain, best gain: -inf\n",
      "[LightGBM] [Warning] No further splits with positive gain, best gain: -inf\n",
      "[LightGBM] [Warning] No further splits with positive gain, best gain: -inf\n",
      "[LightGBM] [Warning] No further splits with positive gain, best gain: -inf\n",
      "[LightGBM] [Warning] No further splits with positive gain, best gain: -inf\n",
      "[LightGBM] [Warning] No further splits with positive gain, best gain: -inf\n",
      "[LightGBM] [Warning] No further splits with positive gain, best gain: -inf\n",
      "[LightGBM] [Warning] No further splits with positive gain, best gain: -inf\n",
      "[LightGBM] [Warning] No further splits with positive gain, best gain: -inf\n",
      "[LightGBM] [Warning] No further splits with positive gain, best gain: -inf\n",
      "[LightGBM] [Warning] No further splits with positive gain, best gain: -inf\n",
      "[LightGBM] [Warning] No further splits with positive gain, best gain: -inf\n",
      "[LightGBM] [Warning] No further splits with positive gain, best gain: -inf\n",
      "[LightGBM] [Warning] No further splits with positive gain, best gain: -inf\n",
      "[LightGBM] [Warning] No further splits with positive gain, best gain: -inf\n",
      "[LightGBM] [Warning] No further splits with positive gain, best gain: -inf\n",
      "[LightGBM] [Warning] No further splits with positive gain, best gain: -inf\n",
      "[LightGBM] [Warning] No further splits with positive gain, best gain: -inf\n",
      "[LightGBM] [Warning] No further splits with positive gain, best gain: -inf\n",
      "[LightGBM] [Warning] No further splits with positive gain, best gain: -inf\n",
      "[LightGBM] [Warning] No further splits with positive gain, best gain: -inf\n",
      "[LightGBM] [Warning] No further splits with positive gain, best gain: -inf\n",
      "[LightGBM] [Warning] No further splits with positive gain, best gain: -inf\n",
      "[LightGBM] [Warning] No further splits with positive gain, best gain: -inf\n",
      "[LightGBM] [Warning] No further splits with positive gain, best gain: -inf\n",
      "[LightGBM] [Warning] No further splits with positive gain, best gain: -inf\n",
      "[LightGBM] [Warning] No further splits with positive gain, best gain: -inf\n",
      "[LightGBM] [Warning] No further splits with positive gain, best gain: -inf\n",
      "[LightGBM] [Warning] No further splits with positive gain, best gain: -inf\n",
      "[LightGBM] [Warning] No further splits with positive gain, best gain: -inf\n",
      "[LightGBM] [Warning] No further splits with positive gain, best gain: -inf\n",
      "[LightGBM] [Warning] No further splits with positive gain, best gain: -inf\n",
      "[LightGBM] [Warning] No further splits with positive gain, best gain: -inf\n",
      "[LightGBM] [Warning] No further splits with positive gain, best gain: -inf\n",
      "[LightGBM] [Warning] No further splits with positive gain, best gain: -inf\n",
      "[LightGBM] [Warning] No further splits with positive gain, best gain: -inf\n",
      "[LightGBM] [Warning] No further splits with positive gain, best gain: -inf\n",
      "[LightGBM] [Warning] No further splits with positive gain, best gain: -inf\n",
      "[LightGBM] [Warning] No further splits with positive gain, best gain: -inf\n",
      "[LightGBM] [Warning] No further splits with positive gain, best gain: -inf\n",
      "[LightGBM] [Warning] No further splits with positive gain, best gain: -inf\n",
      "[LightGBM] [Warning] No further splits with positive gain, best gain: -inf\n",
      "[LightGBM] [Warning] No further splits with positive gain, best gain: -inf\n",
      "[LightGBM] [Warning] No further splits with positive gain, best gain: -inf\n",
      "[LightGBM] [Warning] No further splits with positive gain, best gain: -inf\n",
      "[LightGBM] [Warning] No further splits with positive gain, best gain: -inf\n",
      "[LightGBM] [Warning] No further splits with positive gain, best gain: -inf\n",
      "[LightGBM] [Warning] No further splits with positive gain, best gain: -inf\n",
      "[LightGBM] [Warning] No further splits with positive gain, best gain: -inf\n",
      "[LightGBM] [Warning] No further splits with positive gain, best gain: -inf\n",
      "[LightGBM] [Warning] No further splits with positive gain, best gain: -inf\n",
      "[LightGBM] [Warning] No further splits with positive gain, best gain: -inf\n",
      "[LightGBM] [Warning] No further splits with positive gain, best gain: -inf\n",
      "[LightGBM] [Warning] No further splits with positive gain, best gain: -inf\n",
      "[LightGBM] [Warning] No further splits with positive gain, best gain: -inf\n",
      "[LightGBM] [Warning] No further splits with positive gain, best gain: -inf\n",
      "[LightGBM] [Warning] No further splits with positive gain, best gain: -inf\n",
      "[LightGBM] [Warning] No further splits with positive gain, best gain: -inf\n",
      "[LightGBM] [Warning] No further splits with positive gain, best gain: -inf\n",
      "[LightGBM] [Warning] No further splits with positive gain, best gain: -inf\n",
      "[LightGBM] [Warning] No further splits with positive gain, best gain: -inf\n",
      "[LightGBM] [Warning] No further splits with positive gain, best gain: -inf\n",
      "[LightGBM] [Warning] No further splits with positive gain, best gain: -inf\n",
      "[LightGBM] [Warning] No further splits with positive gain, best gain: -inf\n",
      "[LightGBM] [Warning] No further splits with positive gain, best gain: -inf\n",
      "[LightGBM] [Warning] No further splits with positive gain, best gain: -inf\n",
      "[LightGBM] [Warning] No further splits with positive gain, best gain: -inf\n",
      "[LightGBM] [Warning] No further splits with positive gain, best gain: -inf\n",
      "[LightGBM] [Warning] No further splits with positive gain, best gain: -inf\n",
      "[LightGBM] [Warning] No further splits with positive gain, best gain: -inf\n",
      "[LightGBM] [Warning] No further splits with positive gain, best gain: -inf\n",
      "[LightGBM] [Warning] No further splits with positive gain, best gain: -inf\n",
      "[LightGBM] [Warning] No further splits with positive gain, best gain: -inf\n",
      "[LightGBM] [Warning] No further splits with positive gain, best gain: -inf\n",
      "[LightGBM] [Warning] No further splits with positive gain, best gain: -inf\n",
      "[LightGBM] [Warning] No further splits with positive gain, best gain: -inf\n",
      "[LightGBM] [Warning] No further splits with positive gain, best gain: -inf\n",
      "[LightGBM] [Warning] No further splits with positive gain, best gain: -inf\n",
      "[LightGBM] [Warning] No further splits with positive gain, best gain: -inf\n",
      "[LightGBM] [Warning] No further splits with positive gain, best gain: -inf\n",
      "[LightGBM] [Warning] No further splits with positive gain, best gain: -inf\n",
      "[LightGBM] [Warning] No further splits with positive gain, best gain: -inf\n",
      "[LightGBM] [Warning] No further splits with positive gain, best gain: -inf\n",
      "[LightGBM] [Warning] No further splits with positive gain, best gain: -inf\n",
      "[LightGBM] [Warning] No further splits with positive gain, best gain: -inf\n",
      "[LightGBM] [Warning] No further splits with positive gain, best gain: -inf\n",
      "[LightGBM] [Warning] No further splits with positive gain, best gain: -inf\n",
      "[LightGBM] [Warning] No further splits with positive gain, best gain: -inf\n",
      "[LightGBM] [Warning] No further splits with positive gain, best gain: -inf\n",
      "[LightGBM] [Warning] No further splits with positive gain, best gain: -inf\n",
      "[LightGBM] [Warning] No further splits with positive gain, best gain: -inf\n",
      "[LightGBM] [Warning] No further splits with positive gain, best gain: -inf\n",
      "[LightGBM] [Warning] No further splits with positive gain, best gain: -inf\n",
      "[LightGBM] [Warning] No further splits with positive gain, best gain: -inf\n",
      "[LightGBM] [Warning] No further splits with positive gain, best gain: -inf\n",
      "[LightGBM] [Warning] No further splits with positive gain, best gain: -inf\n",
      "[LightGBM] [Warning] No further splits with positive gain, best gain: -inf\n",
      "[LightGBM] [Warning] No further splits with positive gain, best gain: -inf\n",
      "[LightGBM] [Warning] No further splits with positive gain, best gain: -inf\n",
      "[LightGBM] [Warning] No further splits with positive gain, best gain: -inf\n",
      "[LightGBM] [Warning] No further splits with positive gain, best gain: -inf\n",
      "[LightGBM] [Warning] No further splits with positive gain, best gain: -inf\n",
      "[LightGBM] [Warning] No further splits with positive gain, best gain: -inf\n",
      "[LightGBM] [Warning] No further splits with positive gain, best gain: -inf\n",
      "[LightGBM] [Warning] No further splits with positive gain, best gain: -inf\n",
      "[LightGBM] [Warning] No further splits with positive gain, best gain: -inf\n",
      "[LightGBM] [Warning] No further splits with positive gain, best gain: -inf\n",
      "[LightGBM] [Warning] No further splits with positive gain, best gain: -inf\n",
      "[LightGBM] [Warning] No further splits with positive gain, best gain: -inf\n",
      "[LightGBM] [Warning] No further splits with positive gain, best gain: -inf\n",
      "[LightGBM] [Warning] No further splits with positive gain, best gain: -inf\n",
      "[LightGBM] [Warning] No further splits with positive gain, best gain: -inf\n",
      "[LightGBM] [Warning] No further splits with positive gain, best gain: -inf\n",
      "[LightGBM] [Warning] No further splits with positive gain, best gain: -inf\n",
      "[LightGBM] [Warning] No further splits with positive gain, best gain: -inf\n",
      "[LightGBM] [Warning] No further splits with positive gain, best gain: -inf\n",
      "[LightGBM] [Warning] No further splits with positive gain, best gain: -inf\n",
      "[LightGBM] [Warning] No further splits with positive gain, best gain: -inf\n",
      "[LightGBM] [Warning] No further splits with positive gain, best gain: -inf\n",
      "[LightGBM] [Warning] No further splits with positive gain, best gain: -inf\n",
      "[LightGBM] [Warning] No further splits with positive gain, best gain: -inf\n",
      "[LightGBM] [Warning] No further splits with positive gain, best gain: -inf\n",
      "[LightGBM] [Warning] No further splits with positive gain, best gain: -inf\n",
      "[LightGBM] [Warning] No further splits with positive gain, best gain: -inf\n",
      "[LightGBM] [Warning] No further splits with positive gain, best gain: -inf\n",
      "[LightGBM] [Warning] No further splits with positive gain, best gain: -inf\n",
      "[LightGBM] [Warning] No further splits with positive gain, best gain: -inf\n",
      "[LightGBM] [Warning] No further splits with positive gain, best gain: -inf\n",
      "[LightGBM] [Warning] No further splits with positive gain, best gain: -inf\n",
      "[LightGBM] [Warning] No further splits with positive gain, best gain: -inf\n",
      "[LightGBM] [Warning] No further splits with positive gain, best gain: -inf\n",
      "[LightGBM] [Warning] No further splits with positive gain, best gain: -inf\n",
      "[LightGBM] [Warning] No further splits with positive gain, best gain: -inf\n",
      "[LightGBM] [Warning] No further splits with positive gain, best gain: -inf\n",
      "[LightGBM] [Warning] No further splits with positive gain, best gain: -inf\n",
      "[LightGBM] [Warning] No further splits with positive gain, best gain: -inf\n",
      "[LightGBM] [Warning] No further splits with positive gain, best gain: -inf\n",
      "[LightGBM] [Warning] No further splits with positive gain, best gain: -inf\n",
      "[LightGBM] [Warning] No further splits with positive gain, best gain: -inf\n",
      "[LightGBM] [Warning] No further splits with positive gain, best gain: -inf\n",
      "[LightGBM] [Warning] No further splits with positive gain, best gain: -inf\n",
      "[LightGBM] [Warning] No further splits with positive gain, best gain: -inf\n",
      "[LightGBM] [Warning] No further splits with positive gain, best gain: -inf\n",
      "[LightGBM] [Warning] No further splits with positive gain, best gain: -inf\n",
      "[LightGBM] [Warning] No further splits with positive gain, best gain: -inf\n",
      "[LightGBM] [Warning] No further splits with positive gain, best gain: -inf\n",
      "[LightGBM] [Warning] No further splits with positive gain, best gain: -inf\n",
      "[LightGBM] [Warning] No further splits with positive gain, best gain: -inf\n",
      "[LightGBM] [Warning] No further splits with positive gain, best gain: -inf\n",
      "[LightGBM] [Warning] No further splits with positive gain, best gain: -inf\n",
      "[LightGBM] [Warning] No further splits with positive gain, best gain: -inf\n",
      "[LightGBM] [Warning] No further splits with positive gain, best gain: -inf\n",
      "[LightGBM] [Warning] No further splits with positive gain, best gain: -inf\n",
      "[LightGBM] [Warning] No further splits with positive gain, best gain: -inf\n",
      "[LightGBM] [Warning] No further splits with positive gain, best gain: -inf\n",
      "[LightGBM] [Warning] No further splits with positive gain, best gain: -inf\n",
      "[LightGBM] [Warning] No further splits with positive gain, best gain: -inf\n",
      "[LightGBM] [Warning] No further splits with positive gain, best gain: -inf\n",
      "[LightGBM] [Warning] No further splits with positive gain, best gain: -inf\n",
      "[LightGBM] [Warning] No further splits with positive gain, best gain: -inf\n",
      "[LightGBM] [Warning] No further splits with positive gain, best gain: -inf\n",
      "[LightGBM] [Warning] No further splits with positive gain, best gain: -inf\n",
      "[LightGBM] [Warning] No further splits with positive gain, best gain: -inf\n",
      "[LightGBM] [Warning] No further splits with positive gain, best gain: -inf\n",
      "[LightGBM] [Warning] No further splits with positive gain, best gain: -inf\n",
      "[LightGBM] [Warning] No further splits with positive gain, best gain: -inf\n",
      "[LightGBM] [Warning] No further splits with positive gain, best gain: -inf\n",
      "[LightGBM] [Warning] No further splits with positive gain, best gain: -inf\n",
      "[LightGBM] [Warning] No further splits with positive gain, best gain: -inf\n",
      "[LightGBM] [Warning] No further splits with positive gain, best gain: -inf\n",
      "[LightGBM] [Warning] No further splits with positive gain, best gain: -inf\n",
      "[LightGBM] [Warning] No further splits with positive gain, best gain: -inf\n",
      "[LightGBM] [Warning] No further splits with positive gain, best gain: -inf\n",
      "[LightGBM] [Warning] No further splits with positive gain, best gain: -inf\n",
      "[LightGBM] [Warning] No further splits with positive gain, best gain: -inf\n",
      "[LightGBM] [Warning] No further splits with positive gain, best gain: -inf\n",
      "[LightGBM] [Warning] No further splits with positive gain, best gain: -inf\n",
      "[LightGBM] [Warning] No further splits with positive gain, best gain: -inf\n",
      "[LightGBM] [Warning] No further splits with positive gain, best gain: -inf\n",
      "[LightGBM] [Warning] No further splits with positive gain, best gain: -inf\n",
      "[LightGBM] [Warning] No further splits with positive gain, best gain: -inf\n",
      "[LightGBM] [Warning] No further splits with positive gain, best gain: -inf\n",
      "[LightGBM] [Warning] No further splits with positive gain, best gain: -inf\n",
      "[LightGBM] [Warning] No further splits with positive gain, best gain: -inf\n",
      "[LightGBM] [Warning] No further splits with positive gain, best gain: -inf\n",
      "[LightGBM] [Warning] No further splits with positive gain, best gain: -inf\n",
      "[LightGBM] [Warning] No further splits with positive gain, best gain: -inf\n",
      "[LightGBM] [Warning] No further splits with positive gain, best gain: -inf\n",
      "[LightGBM] [Warning] No further splits with positive gain, best gain: -inf\n",
      "[LightGBM] [Warning] No further splits with positive gain, best gain: -inf\n",
      "[LightGBM] [Warning] No further splits with positive gain, best gain: -inf\n",
      "[LightGBM] [Warning] No further splits with positive gain, best gain: -inf\n",
      "[LightGBM] [Warning] No further splits with positive gain, best gain: -inf\n",
      "[LightGBM] [Warning] No further splits with positive gain, best gain: -inf\n",
      "[LightGBM] [Warning] No further splits with positive gain, best gain: -inf\n",
      "[LightGBM] [Warning] No further splits with positive gain, best gain: -inf\n",
      "[LightGBM] [Warning] No further splits with positive gain, best gain: -inf\n",
      "[LightGBM] [Warning] No further splits with positive gain, best gain: -inf\n",
      "[LightGBM] [Warning] No further splits with positive gain, best gain: -inf\n",
      "[LightGBM] [Warning] No further splits with positive gain, best gain: -inf\n",
      "[LightGBM] [Warning] No further splits with positive gain, best gain: -inf\n",
      "[LightGBM] [Warning] No further splits with positive gain, best gain: -inf\n",
      "[LightGBM] [Warning] No further splits with positive gain, best gain: -inf\n",
      "[LightGBM] [Warning] No further splits with positive gain, best gain: -inf\n",
      "[LightGBM] [Warning] No further splits with positive gain, best gain: -inf\n",
      "[LightGBM] [Warning] No further splits with positive gain, best gain: -inf\n",
      "[LightGBM] [Warning] No further splits with positive gain, best gain: -inf\n",
      "[LightGBM] [Warning] No further splits with positive gain, best gain: -inf\n",
      "[LightGBM] [Warning] No further splits with positive gain, best gain: -inf\n",
      "[LightGBM] [Warning] No further splits with positive gain, best gain: -inf\n",
      "[LightGBM] [Warning] No further splits with positive gain, best gain: -inf\n",
      "[LightGBM] [Warning] No further splits with positive gain, best gain: -inf\n",
      "[LightGBM] [Warning] No further splits with positive gain, best gain: -inf\n",
      "[LightGBM] [Warning] No further splits with positive gain, best gain: -inf\n",
      "[LightGBM] [Warning] No further splits with positive gain, best gain: -inf\n",
      "[LightGBM] [Warning] No further splits with positive gain, best gain: -inf\n",
      "[LightGBM] [Warning] No further splits with positive gain, best gain: -inf\n",
      "[LightGBM] [Warning] No further splits with positive gain, best gain: -inf\n",
      "[LightGBM] [Warning] No further splits with positive gain, best gain: -inf\n",
      "[LightGBM] [Warning] No further splits with positive gain, best gain: -inf\n",
      "[LightGBM] [Warning] No further splits with positive gain, best gain: -inf\n",
      "[LightGBM] [Warning] No further splits with positive gain, best gain: -inf\n",
      "[LightGBM] [Warning] No further splits with positive gain, best gain: -inf\n",
      "[LightGBM] [Warning] No further splits with positive gain, best gain: -inf\n",
      "[LightGBM] [Warning] No further splits with positive gain, best gain: -inf\n",
      "[LightGBM] [Warning] No further splits with positive gain, best gain: -inf\n",
      "[LightGBM] [Warning] No further splits with positive gain, best gain: -inf\n",
      "[LightGBM] [Warning] No further splits with positive gain, best gain: -inf\n",
      "[LightGBM] [Warning] No further splits with positive gain, best gain: -inf\n",
      "[LightGBM] [Warning] No further splits with positive gain, best gain: -inf\n",
      "[LightGBM] [Warning] No further splits with positive gain, best gain: -inf\n",
      "[LightGBM] [Warning] No further splits with positive gain, best gain: -inf\n",
      "[LightGBM] [Warning] No further splits with positive gain, best gain: -inf\n",
      "[LightGBM] [Warning] No further splits with positive gain, best gain: -inf\n",
      "[LightGBM] [Warning] No further splits with positive gain, best gain: -inf\n",
      "[LightGBM] [Warning] No further splits with positive gain, best gain: -inf\n",
      "[LightGBM] [Warning] No further splits with positive gain, best gain: -inf\n",
      "[LightGBM] [Warning] No further splits with positive gain, best gain: -inf\n",
      "[LightGBM] [Warning] No further splits with positive gain, best gain: -inf\n",
      "[LightGBM] [Warning] No further splits with positive gain, best gain: -inf\n",
      "[LightGBM] [Warning] No further splits with positive gain, best gain: -inf\n",
      "[LightGBM] [Warning] No further splits with positive gain, best gain: -inf\n",
      "[LightGBM] [Warning] No further splits with positive gain, best gain: -inf\n",
      "[LightGBM] [Warning] No further splits with positive gain, best gain: -inf\n",
      "[LightGBM] [Warning] No further splits with positive gain, best gain: -inf\n",
      "[LightGBM] [Warning] No further splits with positive gain, best gain: -inf\n",
      "[LightGBM] [Warning] No further splits with positive gain, best gain: -inf\n",
      "[LightGBM] [Warning] No further splits with positive gain, best gain: -inf\n",
      "[LightGBM] [Warning] No further splits with positive gain, best gain: -inf\n",
      "[LightGBM] [Warning] No further splits with positive gain, best gain: -inf\n",
      "[LightGBM] [Warning] No further splits with positive gain, best gain: -inf\n",
      "[LightGBM] [Warning] No further splits with positive gain, best gain: -inf\n",
      "[LightGBM] [Warning] No further splits with positive gain, best gain: -inf\n",
      "[LightGBM] [Warning] No further splits with positive gain, best gain: -inf\n",
      "[LightGBM] [Warning] No further splits with positive gain, best gain: -inf\n",
      "[LightGBM] [Warning] No further splits with positive gain, best gain: -inf\n",
      "[LightGBM] [Warning] No further splits with positive gain, best gain: -inf\n",
      "[LightGBM] [Warning] No further splits with positive gain, best gain: -inf\n",
      "[LightGBM] [Warning] No further splits with positive gain, best gain: -inf\n",
      "[LightGBM] [Warning] No further splits with positive gain, best gain: -inf\n",
      "[LightGBM] [Warning] No further splits with positive gain, best gain: -inf\n",
      "[LightGBM] [Warning] No further splits with positive gain, best gain: -inf\n",
      "[LightGBM] [Warning] No further splits with positive gain, best gain: -inf\n",
      "[LightGBM] [Warning] No further splits with positive gain, best gain: -inf\n",
      "[LightGBM] [Warning] No further splits with positive gain, best gain: -inf\n",
      "[LightGBM] [Warning] No further splits with positive gain, best gain: -inf\n",
      "[LightGBM] [Warning] No further splits with positive gain, best gain: -inf\n",
      "[LightGBM] [Warning] No further splits with positive gain, best gain: -inf\n",
      "[LightGBM] [Warning] No further splits with positive gain, best gain: -inf\n",
      "[LightGBM] [Warning] No further splits with positive gain, best gain: -inf\n",
      "[LightGBM] [Warning] No further splits with positive gain, best gain: -inf\n",
      "[LightGBM] [Warning] No further splits with positive gain, best gain: -inf\n",
      "[LightGBM] [Warning] No further splits with positive gain, best gain: -inf\n",
      "[LightGBM] [Warning] No further splits with positive gain, best gain: -inf\n",
      "[LightGBM] [Warning] No further splits with positive gain, best gain: -inf\n",
      "[LightGBM] [Warning] No further splits with positive gain, best gain: -inf\n",
      "[LightGBM] [Warning] No further splits with positive gain, best gain: -inf\n",
      "[LightGBM] [Warning] No further splits with positive gain, best gain: -inf\n",
      "[LightGBM] [Warning] No further splits with positive gain, best gain: -inf\n",
      "[LightGBM] [Warning] No further splits with positive gain, best gain: -inf\n",
      "[LightGBM] [Warning] No further splits with positive gain, best gain: -inf\n",
      "[LightGBM] [Warning] No further splits with positive gain, best gain: -inf\n",
      "[LightGBM] [Warning] No further splits with positive gain, best gain: -inf\n",
      "[LightGBM] [Warning] No further splits with positive gain, best gain: -inf\n",
      "[LightGBM] [Warning] No further splits with positive gain, best gain: -inf\n",
      "[LightGBM] [Warning] No further splits with positive gain, best gain: -inf\n",
      "[LightGBM] [Warning] No further splits with positive gain, best gain: -inf\n",
      "[LightGBM] [Warning] No further splits with positive gain, best gain: -inf\n",
      "[LightGBM] [Warning] No further splits with positive gain, best gain: -inf\n",
      "[LightGBM] [Warning] No further splits with positive gain, best gain: -inf\n",
      "[LightGBM] [Warning] No further splits with positive gain, best gain: -inf\n",
      "[LightGBM] [Warning] No further splits with positive gain, best gain: -inf\n",
      "[LightGBM] [Warning] No further splits with positive gain, best gain: -inf\n",
      "[LightGBM] [Warning] No further splits with positive gain, best gain: -inf\n",
      "[LightGBM] [Warning] No further splits with positive gain, best gain: -inf\n",
      "[LightGBM] [Warning] No further splits with positive gain, best gain: -inf\n",
      "[LightGBM] [Warning] No further splits with positive gain, best gain: -inf\n",
      "[LightGBM] [Warning] No further splits with positive gain, best gain: -inf\n",
      "[LightGBM] [Warning] No further splits with positive gain, best gain: -inf\n",
      "[LightGBM] [Warning] No further splits with positive gain, best gain: -inf\n",
      "[LightGBM] [Warning] No further splits with positive gain, best gain: -inf\n",
      "[LightGBM] [Warning] No further splits with positive gain, best gain: -inf\n",
      "[LightGBM] [Warning] No further splits with positive gain, best gain: -inf\n",
      "[LightGBM] [Warning] No further splits with positive gain, best gain: -inf\n",
      "[LightGBM] [Warning] No further splits with positive gain, best gain: -inf\n",
      "[LightGBM] [Warning] No further splits with positive gain, best gain: -inf\n",
      "[LightGBM] [Warning] No further splits with positive gain, best gain: -inf\n",
      "[LightGBM] [Warning] No further splits with positive gain, best gain: -inf\n",
      "[LightGBM] [Warning] No further splits with positive gain, best gain: -inf\n",
      "[LightGBM] [Warning] No further splits with positive gain, best gain: -inf\n",
      "[LightGBM] [Warning] No further splits with positive gain, best gain: -inf\n",
      "[LightGBM] [Warning] No further splits with positive gain, best gain: -inf\n",
      "[LightGBM] [Warning] No further splits with positive gain, best gain: -inf\n",
      "[LightGBM] [Warning] No further splits with positive gain, best gain: -inf\n",
      "[LightGBM] [Warning] No further splits with positive gain, best gain: -inf\n",
      "[LightGBM] [Warning] No further splits with positive gain, best gain: -inf\n",
      "[LightGBM] [Warning] No further splits with positive gain, best gain: -inf\n",
      "[LightGBM] [Warning] No further splits with positive gain, best gain: -inf\n",
      "[LightGBM] [Warning] No further splits with positive gain, best gain: -inf\n",
      "[LightGBM] [Warning] No further splits with positive gain, best gain: -inf\n",
      "[LightGBM] [Warning] No further splits with positive gain, best gain: -inf\n",
      "[LightGBM] [Warning] No further splits with positive gain, best gain: -inf\n",
      "[LightGBM] [Warning] No further splits with positive gain, best gain: -inf\n",
      "[LightGBM] [Warning] No further splits with positive gain, best gain: -inf\n",
      "[LightGBM] [Warning] No further splits with positive gain, best gain: -inf\n",
      "[LightGBM] [Warning] No further splits with positive gain, best gain: -inf\n",
      "[LightGBM] [Warning] No further splits with positive gain, best gain: -inf\n",
      "[LightGBM] [Warning] No further splits with positive gain, best gain: -inf\n",
      "[LightGBM] [Warning] No further splits with positive gain, best gain: -inf\n",
      "[LightGBM] [Warning] No further splits with positive gain, best gain: -inf\n",
      "[LightGBM] [Warning] No further splits with positive gain, best gain: -inf\n",
      "[LightGBM] [Warning] No further splits with positive gain, best gain: -inf\n",
      "[LightGBM] [Warning] No further splits with positive gain, best gain: -inf\n",
      "[LightGBM] [Warning] No further splits with positive gain, best gain: -inf\n",
      "[LightGBM] [Warning] No further splits with positive gain, best gain: -inf\n",
      "[LightGBM] [Warning] No further splits with positive gain, best gain: -inf\n",
      "[LightGBM] [Warning] No further splits with positive gain, best gain: -inf\n",
      "[LightGBM] [Warning] No further splits with positive gain, best gain: -inf\n",
      "[LightGBM] [Warning] No further splits with positive gain, best gain: -inf\n",
      "[LightGBM] [Warning] No further splits with positive gain, best gain: -inf\n",
      "[LightGBM] [Warning] No further splits with positive gain, best gain: -inf\n",
      "[LightGBM] [Warning] No further splits with positive gain, best gain: -inf\n",
      "[LightGBM] [Warning] No further splits with positive gain, best gain: -inf\n",
      "[LightGBM] [Warning] No further splits with positive gain, best gain: -inf\n",
      "[LightGBM] [Warning] No further splits with positive gain, best gain: -inf\n",
      "[LightGBM] [Warning] No further splits with positive gain, best gain: -inf\n",
      "[LightGBM] [Warning] No further splits with positive gain, best gain: -inf\n",
      "[LightGBM] [Warning] No further splits with positive gain, best gain: -inf\n",
      "[LightGBM] [Warning] No further splits with positive gain, best gain: -inf\n",
      "[LightGBM] [Warning] No further splits with positive gain, best gain: -inf\n",
      "[LightGBM] [Warning] No further splits with positive gain, best gain: -inf\n",
      "[LightGBM] [Warning] No further splits with positive gain, best gain: -inf\n",
      "[LightGBM] [Warning] No further splits with positive gain, best gain: -inf\n",
      "[LightGBM] [Warning] No further splits with positive gain, best gain: -inf\n",
      "[LightGBM] [Warning] No further splits with positive gain, best gain: -inf\n",
      "[LightGBM] [Warning] No further splits with positive gain, best gain: -inf\n",
      "[LightGBM] [Warning] No further splits with positive gain, best gain: -inf\n",
      "[LightGBM] [Warning] No further splits with positive gain, best gain: -inf\n",
      "[LightGBM] [Warning] No further splits with positive gain, best gain: -inf\n",
      "[LightGBM] [Warning] No further splits with positive gain, best gain: -inf\n",
      "[LightGBM] [Warning] No further splits with positive gain, best gain: -inf\n",
      "[LightGBM] [Warning] No further splits with positive gain, best gain: -inf\n",
      "[LightGBM] [Warning] No further splits with positive gain, best gain: -inf\n",
      "[LightGBM] [Warning] No further splits with positive gain, best gain: -inf\n",
      "[LightGBM] [Warning] No further splits with positive gain, best gain: -inf\n",
      "[LightGBM] [Warning] No further splits with positive gain, best gain: -inf\n",
      "[LightGBM] [Warning] No further splits with positive gain, best gain: -inf\n",
      "[LightGBM] [Warning] No further splits with positive gain, best gain: -inf\n",
      "[LightGBM] [Warning] No further splits with positive gain, best gain: -inf\n",
      "[LightGBM] [Warning] No further splits with positive gain, best gain: -inf\n",
      "[LightGBM] [Warning] No further splits with positive gain, best gain: -inf\n",
      "[LightGBM] [Warning] No further splits with positive gain, best gain: -inf\n",
      "[LightGBM] [Warning] No further splits with positive gain, best gain: -inf\n",
      "[LightGBM] [Warning] No further splits with positive gain, best gain: -inf\n",
      "[LightGBM] [Warning] No further splits with positive gain, best gain: -inf\n",
      "[LightGBM] [Warning] No further splits with positive gain, best gain: -inf\n",
      "[LightGBM] [Warning] No further splits with positive gain, best gain: -inf\n",
      "[LightGBM] [Warning] No further splits with positive gain, best gain: -inf\n",
      "[LightGBM] [Warning] No further splits with positive gain, best gain: -inf\n",
      "[LightGBM] [Warning] No further splits with positive gain, best gain: -inf\n",
      "[LightGBM] [Warning] No further splits with positive gain, best gain: -inf\n",
      "[LightGBM] [Warning] No further splits with positive gain, best gain: -inf\n",
      "[LightGBM] [Warning] No further splits with positive gain, best gain: -inf\n",
      "[LightGBM] [Warning] No further splits with positive gain, best gain: -inf\n",
      "[LightGBM] [Warning] No further splits with positive gain, best gain: -inf\n",
      "[LightGBM] [Warning] No further splits with positive gain, best gain: -inf\n",
      "[LightGBM] [Warning] No further splits with positive gain, best gain: -inf\n",
      "[LightGBM] [Warning] No further splits with positive gain, best gain: -inf\n",
      "[LightGBM] [Warning] No further splits with positive gain, best gain: -inf\n",
      "[LightGBM] [Warning] No further splits with positive gain, best gain: -inf\n",
      "[LightGBM] [Warning] No further splits with positive gain, best gain: -inf\n",
      "[LightGBM] [Warning] No further splits with positive gain, best gain: -inf\n",
      "[LightGBM] [Warning] No further splits with positive gain, best gain: -inf\n",
      "[LightGBM] [Warning] No further splits with positive gain, best gain: -inf\n",
      "[LightGBM] [Warning] No further splits with positive gain, best gain: -inf\n",
      "[LightGBM] [Warning] No further splits with positive gain, best gain: -inf\n",
      "[LightGBM] [Warning] No further splits with positive gain, best gain: -inf\n",
      "[LightGBM] [Warning] No further splits with positive gain, best gain: -inf\n",
      "[LightGBM] [Warning] No further splits with positive gain, best gain: -inf\n",
      "[LightGBM] [Warning] No further splits with positive gain, best gain: -inf\n",
      "[LightGBM] [Warning] No further splits with positive gain, best gain: -inf\n",
      "[LightGBM] [Warning] No further splits with positive gain, best gain: -inf\n",
      "[LightGBM] [Warning] No further splits with positive gain, best gain: -inf\n",
      "[LightGBM] [Warning] No further splits with positive gain, best gain: -inf\n",
      "[LightGBM] [Warning] No further splits with positive gain, best gain: -inf\n",
      "[LightGBM] [Warning] No further splits with positive gain, best gain: -inf\n",
      "[LightGBM] [Warning] No further splits with positive gain, best gain: -inf\n",
      "[LightGBM] [Warning] No further splits with positive gain, best gain: -inf\n",
      "[LightGBM] [Warning] No further splits with positive gain, best gain: -inf\n",
      "[LightGBM] [Warning] No further splits with positive gain, best gain: -inf\n",
      "[LightGBM] [Warning] No further splits with positive gain, best gain: -inf\n",
      "[LightGBM] [Warning] No further splits with positive gain, best gain: -inf\n",
      "[LightGBM] [Warning] No further splits with positive gain, best gain: -inf\n",
      "[LightGBM] [Warning] No further splits with positive gain, best gain: -inf\n",
      "[LightGBM] [Warning] No further splits with positive gain, best gain: -inf\n",
      "[LightGBM] [Warning] No further splits with positive gain, best gain: -inf\n",
      "[LightGBM] [Warning] No further splits with positive gain, best gain: -inf\n",
      "[LightGBM] [Warning] No further splits with positive gain, best gain: -inf\n",
      "[LightGBM] [Warning] No further splits with positive gain, best gain: -inf\n",
      "[LightGBM] [Warning] No further splits with positive gain, best gain: -inf\n",
      "[LightGBM] [Warning] No further splits with positive gain, best gain: -inf\n",
      "[LightGBM] [Warning] No further splits with positive gain, best gain: -inf\n",
      "[LightGBM] [Warning] No further splits with positive gain, best gain: -inf\n",
      "[LightGBM] [Warning] No further splits with positive gain, best gain: -inf\n",
      "[LightGBM] [Warning] No further splits with positive gain, best gain: -inf\n",
      "[LightGBM] [Warning] No further splits with positive gain, best gain: -inf\n",
      "[LightGBM] [Warning] No further splits with positive gain, best gain: -inf\n",
      "[LightGBM] [Warning] No further splits with positive gain, best gain: -inf\n",
      "[LightGBM] [Warning] No further splits with positive gain, best gain: -inf\n",
      "[LightGBM] [Warning] No further splits with positive gain, best gain: -inf\n",
      "[LightGBM] [Warning] No further splits with positive gain, best gain: -inf\n",
      "[LightGBM] [Warning] No further splits with positive gain, best gain: -inf\n",
      "[LightGBM] [Warning] No further splits with positive gain, best gain: -inf\n",
      "[LightGBM] [Warning] No further splits with positive gain, best gain: -inf\n",
      "[LightGBM] [Warning] No further splits with positive gain, best gain: -inf\n",
      "[LightGBM] [Warning] No further splits with positive gain, best gain: -inf\n",
      "[LightGBM] [Warning] No further splits with positive gain, best gain: -inf\n",
      "[LightGBM] [Warning] No further splits with positive gain, best gain: -inf\n",
      "[LightGBM] [Warning] No further splits with positive gain, best gain: -inf\n",
      "[LightGBM] [Warning] No further splits with positive gain, best gain: -inf\n",
      "[LightGBM] [Warning] No further splits with positive gain, best gain: -inf\n",
      "[LightGBM] [Warning] No further splits with positive gain, best gain: -inf\n",
      "[LightGBM] [Warning] No further splits with positive gain, best gain: -inf\n",
      "[LightGBM] [Warning] No further splits with positive gain, best gain: -inf\n",
      "[LightGBM] [Warning] No further splits with positive gain, best gain: -inf\n",
      "[LightGBM] [Warning] No further splits with positive gain, best gain: -inf\n",
      "[LightGBM] [Warning] No further splits with positive gain, best gain: -inf\n",
      "[LightGBM] [Warning] No further splits with positive gain, best gain: -inf\n",
      "[LightGBM] [Warning] No further splits with positive gain, best gain: -inf\n",
      "[LightGBM] [Warning] No further splits with positive gain, best gain: -inf\n",
      "[LightGBM] [Warning] No further splits with positive gain, best gain: -inf\n",
      "[LightGBM] [Warning] No further splits with positive gain, best gain: -inf\n",
      "[LightGBM] [Warning] No further splits with positive gain, best gain: -inf\n",
      "[LightGBM] [Warning] No further splits with positive gain, best gain: -inf\n",
      "[LightGBM] [Warning] No further splits with positive gain, best gain: -inf\n",
      "[LightGBM] [Warning] No further splits with positive gain, best gain: -inf\n",
      "[LightGBM] [Warning] No further splits with positive gain, best gain: -inf\n",
      "[LightGBM] [Warning] No further splits with positive gain, best gain: -inf\n",
      "[LightGBM] [Warning] No further splits with positive gain, best gain: -inf\n",
      "[LightGBM] [Warning] No further splits with positive gain, best gain: -inf\n",
      "[LightGBM] [Warning] No further splits with positive gain, best gain: -inf\n",
      "[LightGBM] [Warning] No further splits with positive gain, best gain: -inf\n",
      "[LightGBM] [Warning] No further splits with positive gain, best gain: -inf\n",
      "[LightGBM] [Warning] No further splits with positive gain, best gain: -inf\n",
      "[LightGBM] [Warning] No further splits with positive gain, best gain: -inf\n",
      "[LightGBM] [Warning] No further splits with positive gain, best gain: -inf\n",
      "[LightGBM] [Warning] No further splits with positive gain, best gain: -inf\n",
      "[LightGBM] [Warning] No further splits with positive gain, best gain: -inf\n",
      "[LightGBM] [Warning] No further splits with positive gain, best gain: -inf\n",
      "[LightGBM] [Warning] No further splits with positive gain, best gain: -inf\n",
      "[LightGBM] [Warning] No further splits with positive gain, best gain: -inf\n",
      "[LightGBM] [Warning] No further splits with positive gain, best gain: -inf\n",
      "[LightGBM] [Warning] No further splits with positive gain, best gain: -inf\n",
      "[LightGBM] [Warning] No further splits with positive gain, best gain: -inf\n",
      "[LightGBM] [Warning] No further splits with positive gain, best gain: -inf\n",
      "[LightGBM] [Warning] No further splits with positive gain, best gain: -inf\n",
      "[LightGBM] [Warning] No further splits with positive gain, best gain: -inf\n",
      "[LightGBM] [Warning] No further splits with positive gain, best gain: -inf\n",
      "[LightGBM] [Warning] No further splits with positive gain, best gain: -inf\n",
      "[LightGBM] [Warning] No further splits with positive gain, best gain: -inf\n",
      "[LightGBM] [Warning] No further splits with positive gain, best gain: -inf\n",
      "[LightGBM] [Warning] No further splits with positive gain, best gain: -inf\n",
      "[LightGBM] [Warning] No further splits with positive gain, best gain: -inf\n",
      "[LightGBM] [Warning] No further splits with positive gain, best gain: -inf\n",
      "[LightGBM] [Warning] No further splits with positive gain, best gain: -inf\n",
      "[LightGBM] [Warning] No further splits with positive gain, best gain: -inf\n",
      "[LightGBM] [Warning] No further splits with positive gain, best gain: -inf\n",
      "[LightGBM] [Warning] No further splits with positive gain, best gain: -inf\n",
      "[LightGBM] [Warning] No further splits with positive gain, best gain: -inf\n",
      "[LightGBM] [Warning] No further splits with positive gain, best gain: -inf\n",
      "[LightGBM] [Warning] No further splits with positive gain, best gain: -inf\n",
      "[LightGBM] [Warning] No further splits with positive gain, best gain: -inf\n",
      "[LightGBM] [Warning] No further splits with positive gain, best gain: -inf\n",
      "[LightGBM] [Warning] No further splits with positive gain, best gain: -inf\n",
      "[LightGBM] [Warning] No further splits with positive gain, best gain: -inf\n",
      "[LightGBM] [Warning] No further splits with positive gain, best gain: -inf\n",
      "[LightGBM] [Warning] No further splits with positive gain, best gain: -inf\n",
      "[LightGBM] [Warning] No further splits with positive gain, best gain: -inf\n",
      "[LightGBM] [Warning] No further splits with positive gain, best gain: -inf\n",
      "[LightGBM] [Warning] No further splits with positive gain, best gain: -inf\n",
      "[LightGBM] [Warning] No further splits with positive gain, best gain: -inf\n",
      "[LightGBM] [Warning] No further splits with positive gain, best gain: -inf\n",
      "[LightGBM] [Warning] No further splits with positive gain, best gain: -inf\n",
      "[LightGBM] [Warning] No further splits with positive gain, best gain: -inf\n",
      "[LightGBM] [Warning] No further splits with positive gain, best gain: -inf\n",
      "[LightGBM] [Warning] No further splits with positive gain, best gain: -inf\n",
      "[LightGBM] [Warning] No further splits with positive gain, best gain: -inf\n",
      "[LightGBM] [Warning] No further splits with positive gain, best gain: -inf\n",
      "[LightGBM] [Warning] No further splits with positive gain, best gain: -inf\n",
      "[LightGBM] [Warning] No further splits with positive gain, best gain: -inf\n",
      "[LightGBM] [Warning] No further splits with positive gain, best gain: -inf\n",
      "[LightGBM] [Warning] No further splits with positive gain, best gain: -inf\n",
      "[LightGBM] [Warning] No further splits with positive gain, best gain: -inf\n",
      "[LightGBM] [Warning] No further splits with positive gain, best gain: -inf\n",
      "[LightGBM] [Warning] No further splits with positive gain, best gain: -inf\n",
      "[LightGBM] [Warning] No further splits with positive gain, best gain: -inf\n",
      "[LightGBM] [Warning] No further splits with positive gain, best gain: -inf\n",
      "[LightGBM] [Warning] No further splits with positive gain, best gain: -inf\n",
      "[LightGBM] [Warning] No further splits with positive gain, best gain: -inf\n",
      "[LightGBM] [Warning] No further splits with positive gain, best gain: -inf\n",
      "[LightGBM] [Warning] No further splits with positive gain, best gain: -inf\n",
      "[LightGBM] [Warning] No further splits with positive gain, best gain: -inf\n",
      "[LightGBM] [Warning] No further splits with positive gain, best gain: -inf\n",
      "[LightGBM] [Warning] No further splits with positive gain, best gain: -inf\n",
      "[LightGBM] [Warning] No further splits with positive gain, best gain: -inf\n",
      "[LightGBM] [Warning] No further splits with positive gain, best gain: -inf\n",
      "[LightGBM] [Warning] No further splits with positive gain, best gain: -inf\n",
      "[LightGBM] [Warning] No further splits with positive gain, best gain: -inf\n",
      "[LightGBM] [Warning] No further splits with positive gain, best gain: -inf\n",
      "[LightGBM] [Warning] No further splits with positive gain, best gain: -inf\n",
      "[LightGBM] [Warning] No further splits with positive gain, best gain: -inf\n",
      "[LightGBM] [Warning] No further splits with positive gain, best gain: -inf\n",
      "[LightGBM] [Warning] No further splits with positive gain, best gain: -inf\n",
      "[LightGBM] [Warning] No further splits with positive gain, best gain: -inf\n",
      "[LightGBM] [Warning] No further splits with positive gain, best gain: -inf\n",
      "[LightGBM] [Warning] No further splits with positive gain, best gain: -inf\n",
      "[LightGBM] [Warning] No further splits with positive gain, best gain: -inf\n",
      "[LightGBM] [Warning] No further splits with positive gain, best gain: -inf\n",
      "[LightGBM] [Warning] No further splits with positive gain, best gain: -inf\n",
      "[LightGBM] [Warning] No further splits with positive gain, best gain: -inf\n",
      "[LightGBM] [Warning] No further splits with positive gain, best gain: -inf\n",
      "[LightGBM] [Warning] No further splits with positive gain, best gain: -inf\n",
      "[LightGBM] [Warning] No further splits with positive gain, best gain: -inf\n",
      "[LightGBM] [Warning] No further splits with positive gain, best gain: -inf\n",
      "[LightGBM] [Warning] No further splits with positive gain, best gain: -inf\n",
      "[LightGBM] [Warning] No further splits with positive gain, best gain: -inf\n",
      "[LightGBM] [Warning] No further splits with positive gain, best gain: -inf\n",
      "[LightGBM] [Warning] No further splits with positive gain, best gain: -inf\n",
      "[LightGBM] [Warning] No further splits with positive gain, best gain: -inf\n",
      "[LightGBM] [Warning] No further splits with positive gain, best gain: -inf\n",
      "[LightGBM] [Warning] No further splits with positive gain, best gain: -inf\n",
      "[LightGBM] [Warning] No further splits with positive gain, best gain: -inf\n",
      "[LightGBM] [Warning] No further splits with positive gain, best gain: -inf\n",
      "[LightGBM] [Warning] No further splits with positive gain, best gain: -inf\n",
      "[LightGBM] [Warning] No further splits with positive gain, best gain: -inf\n",
      "[LightGBM] [Warning] No further splits with positive gain, best gain: -inf\n",
      "[LightGBM] [Warning] No further splits with positive gain, best gain: -inf\n",
      "[LightGBM] [Warning] No further splits with positive gain, best gain: -inf\n",
      "[LightGBM] [Warning] No further splits with positive gain, best gain: -inf\n",
      "[LightGBM] [Warning] No further splits with positive gain, best gain: -inf\n",
      "[LightGBM] [Warning] No further splits with positive gain, best gain: -inf\n",
      "[LightGBM] [Warning] No further splits with positive gain, best gain: -inf\n",
      "[LightGBM] [Warning] No further splits with positive gain, best gain: -inf\n",
      "[LightGBM] [Warning] No further splits with positive gain, best gain: -inf\n",
      "[LightGBM] [Warning] No further splits with positive gain, best gain: -inf\n",
      "[LightGBM] [Warning] No further splits with positive gain, best gain: -inf\n",
      "[LightGBM] [Warning] No further splits with positive gain, best gain: -inf\n",
      "[LightGBM] [Warning] No further splits with positive gain, best gain: -inf\n",
      "[LightGBM] [Warning] No further splits with positive gain, best gain: -inf\n",
      "[LightGBM] [Warning] No further splits with positive gain, best gain: -inf\n",
      "[LightGBM] [Warning] No further splits with positive gain, best gain: -inf\n",
      "[LightGBM] [Warning] No further splits with positive gain, best gain: -inf\n",
      "[LightGBM] [Warning] No further splits with positive gain, best gain: -inf\n",
      "[LightGBM] [Warning] No further splits with positive gain, best gain: -inf\n",
      "[LightGBM] [Warning] No further splits with positive gain, best gain: -inf\n",
      "[LightGBM] [Warning] No further splits with positive gain, best gain: -inf\n",
      "[LightGBM] [Warning] No further splits with positive gain, best gain: -inf\n",
      "[LightGBM] [Warning] No further splits with positive gain, best gain: -inf\n",
      "[LightGBM] [Warning] No further splits with positive gain, best gain: -inf\n",
      "[LightGBM] [Warning] No further splits with positive gain, best gain: -inf\n",
      "[LightGBM] [Warning] No further splits with positive gain, best gain: -inf\n",
      "[LightGBM] [Warning] No further splits with positive gain, best gain: -inf\n",
      "[LightGBM] [Warning] No further splits with positive gain, best gain: -inf\n",
      "[LightGBM] [Warning] No further splits with positive gain, best gain: -inf\n",
      "[LightGBM] [Warning] No further splits with positive gain, best gain: -inf\n",
      "[LightGBM] [Warning] No further splits with positive gain, best gain: -inf\n",
      "[LightGBM] [Warning] No further splits with positive gain, best gain: -inf\n",
      "[LightGBM] [Warning] No further splits with positive gain, best gain: -inf\n",
      "[LightGBM] [Warning] No further splits with positive gain, best gain: -inf\n",
      "[LightGBM] [Warning] No further splits with positive gain, best gain: -inf\n",
      "[LightGBM] [Warning] No further splits with positive gain, best gain: -inf\n",
      "[LightGBM] [Warning] No further splits with positive gain, best gain: -inf\n",
      "[LightGBM] [Warning] No further splits with positive gain, best gain: -inf\n",
      "[LightGBM] [Warning] No further splits with positive gain, best gain: -inf\n",
      "[LightGBM] [Warning] No further splits with positive gain, best gain: -inf\n",
      "[LightGBM] [Warning] No further splits with positive gain, best gain: -inf\n",
      "[LightGBM] [Warning] No further splits with positive gain, best gain: -inf\n",
      "[LightGBM] [Warning] No further splits with positive gain, best gain: -inf\n",
      "[LightGBM] [Warning] No further splits with positive gain, best gain: -inf\n",
      "[LightGBM] [Warning] No further splits with positive gain, best gain: -inf\n",
      "[LightGBM] [Warning] No further splits with positive gain, best gain: -inf\n",
      "[LightGBM] [Warning] No further splits with positive gain, best gain: -inf\n",
      "[LightGBM] [Warning] No further splits with positive gain, best gain: -inf\n",
      "[LightGBM] [Warning] No further splits with positive gain, best gain: -inf\n",
      "[LightGBM] [Warning] No further splits with positive gain, best gain: -inf\n",
      "[LightGBM] [Warning] No further splits with positive gain, best gain: -inf\n",
      "[LightGBM] [Warning] No further splits with positive gain, best gain: -inf\n",
      "[LightGBM] [Warning] No further splits with positive gain, best gain: -inf\n",
      "[LightGBM] [Warning] No further splits with positive gain, best gain: -inf\n",
      "[LightGBM] [Warning] No further splits with positive gain, best gain: -inf\n",
      "[LightGBM] [Warning] No further splits with positive gain, best gain: -inf\n",
      "[LightGBM] [Warning] No further splits with positive gain, best gain: -inf\n",
      "[LightGBM] [Warning] No further splits with positive gain, best gain: -inf\n",
      "[LightGBM] [Warning] No further splits with positive gain, best gain: -inf\n",
      "[LightGBM] [Warning] No further splits with positive gain, best gain: -inf\n",
      "[LightGBM] [Warning] No further splits with positive gain, best gain: -inf\n",
      "[LightGBM] [Warning] No further splits with positive gain, best gain: -inf\n",
      "[LightGBM] [Warning] No further splits with positive gain, best gain: -inf\n",
      "[LightGBM] [Warning] No further splits with positive gain, best gain: -inf\n",
      "[LightGBM] [Warning] No further splits with positive gain, best gain: -inf\n",
      "[LightGBM] [Warning] No further splits with positive gain, best gain: -inf\n",
      "[LightGBM] [Warning] No further splits with positive gain, best gain: -inf\n",
      "[LightGBM] [Warning] No further splits with positive gain, best gain: -inf\n",
      "[LightGBM] [Warning] No further splits with positive gain, best gain: -inf\n",
      "[LightGBM] [Warning] No further splits with positive gain, best gain: -inf\n",
      "[LightGBM] [Warning] No further splits with positive gain, best gain: -inf\n",
      "[LightGBM] [Warning] No further splits with positive gain, best gain: -inf\n",
      "[LightGBM] [Warning] No further splits with positive gain, best gain: -inf\n",
      "[LightGBM] [Warning] No further splits with positive gain, best gain: -inf\n",
      "[LightGBM] [Warning] No further splits with positive gain, best gain: -inf\n",
      "[LightGBM] [Warning] No further splits with positive gain, best gain: -inf\n",
      "[LightGBM] [Warning] No further splits with positive gain, best gain: -inf\n",
      "[LightGBM] [Warning] No further splits with positive gain, best gain: -inf\n",
      "[LightGBM] [Warning] No further splits with positive gain, best gain: -inf\n",
      "[LightGBM] [Warning] No further splits with positive gain, best gain: -inf\n",
      "[LightGBM] [Warning] No further splits with positive gain, best gain: -inf\n",
      "[LightGBM] [Warning] No further splits with positive gain, best gain: -inf\n",
      "[LightGBM] [Warning] No further splits with positive gain, best gain: -inf\n",
      "[LightGBM] [Warning] No further splits with positive gain, best gain: -inf\n",
      "[LightGBM] [Warning] No further splits with positive gain, best gain: -inf\n",
      "[LightGBM] [Warning] No further splits with positive gain, best gain: -inf\n",
      "[LightGBM] [Warning] No further splits with positive gain, best gain: -inf\n",
      "[LightGBM] [Warning] No further splits with positive gain, best gain: -inf\n",
      "[LightGBM] [Warning] No further splits with positive gain, best gain: -inf\n",
      "[LightGBM] [Warning] No further splits with positive gain, best gain: -inf\n",
      "[LightGBM] [Warning] No further splits with positive gain, best gain: -inf\n",
      "[LightGBM] [Warning] No further splits with positive gain, best gain: -inf\n",
      "[LightGBM] [Warning] No further splits with positive gain, best gain: -inf\n",
      "[LightGBM] [Warning] No further splits with positive gain, best gain: -inf\n",
      "[LightGBM] [Warning] No further splits with positive gain, best gain: -inf\n",
      "[LightGBM] [Warning] No further splits with positive gain, best gain: -inf\n",
      "[LightGBM] [Warning] No further splits with positive gain, best gain: -inf\n",
      "[LightGBM] [Warning] No further splits with positive gain, best gain: -inf\n",
      "[LightGBM] [Warning] No further splits with positive gain, best gain: -inf\n",
      "[LightGBM] [Warning] No further splits with positive gain, best gain: -inf\n",
      "[LightGBM] [Warning] No further splits with positive gain, best gain: -inf\n",
      "[LightGBM] [Warning] No further splits with positive gain, best gain: -inf\n",
      "[LightGBM] [Warning] No further splits with positive gain, best gain: -inf\n",
      "[LightGBM] [Warning] No further splits with positive gain, best gain: -inf\n",
      "[LightGBM] [Warning] No further splits with positive gain, best gain: -inf\n",
      "[LightGBM] [Warning] No further splits with positive gain, best gain: -inf\n",
      "[LightGBM] [Warning] No further splits with positive gain, best gain: -inf\n",
      "[LightGBM] [Warning] No further splits with positive gain, best gain: -inf\n",
      "[LightGBM] [Warning] No further splits with positive gain, best gain: -inf\n",
      "[LightGBM] [Warning] No further splits with positive gain, best gain: -inf\n",
      "[LightGBM] [Warning] No further splits with positive gain, best gain: -inf\n",
      "[LightGBM] [Warning] No further splits with positive gain, best gain: -inf\n",
      "[LightGBM] [Warning] No further splits with positive gain, best gain: -inf\n",
      "[LightGBM] [Warning] No further splits with positive gain, best gain: -inf\n",
      "[LightGBM] [Warning] No further splits with positive gain, best gain: -inf\n",
      "[LightGBM] [Warning] No further splits with positive gain, best gain: -inf\n",
      "[LightGBM] [Warning] No further splits with positive gain, best gain: -inf\n",
      "[LightGBM] [Warning] No further splits with positive gain, best gain: -inf\n",
      "[LightGBM] [Warning] No further splits with positive gain, best gain: -inf\n",
      "[LightGBM] [Warning] No further splits with positive gain, best gain: -inf\n",
      "[LightGBM] [Warning] No further splits with positive gain, best gain: -inf\n",
      "[LightGBM] [Warning] No further splits with positive gain, best gain: -inf\n",
      "[LightGBM] [Warning] No further splits with positive gain, best gain: -inf\n",
      "[LightGBM] [Warning] No further splits with positive gain, best gain: -inf\n",
      "[LightGBM] [Warning] No further splits with positive gain, best gain: -inf\n",
      "[LightGBM] [Warning] No further splits with positive gain, best gain: -inf\n",
      "[LightGBM] [Warning] No further splits with positive gain, best gain: -inf\n",
      "[LightGBM] [Warning] No further splits with positive gain, best gain: -inf\n",
      "[LightGBM] [Warning] No further splits with positive gain, best gain: -inf\n",
      "[LightGBM] [Warning] No further splits with positive gain, best gain: -inf\n",
      "[LightGBM] [Warning] No further splits with positive gain, best gain: -inf\n",
      "[LightGBM] [Warning] No further splits with positive gain, best gain: -inf\n",
      "[LightGBM] [Warning] No further splits with positive gain, best gain: -inf\n",
      "[LightGBM] [Warning] No further splits with positive gain, best gain: -inf\n",
      "[LightGBM] [Warning] No further splits with positive gain, best gain: -inf\n",
      "[LightGBM] [Warning] No further splits with positive gain, best gain: -inf\n",
      "[LightGBM] [Warning] No further splits with positive gain, best gain: -inf\n",
      "[LightGBM] [Warning] No further splits with positive gain, best gain: -inf\n",
      "[LightGBM] [Warning] No further splits with positive gain, best gain: -inf\n",
      "[LightGBM] [Warning] No further splits with positive gain, best gain: -inf\n",
      "[LightGBM] [Warning] No further splits with positive gain, best gain: -inf\n",
      "[LightGBM] [Warning] No further splits with positive gain, best gain: -inf\n",
      "[LightGBM] [Warning] No further splits with positive gain, best gain: -inf\n",
      "[LightGBM] [Warning] No further splits with positive gain, best gain: -inf\n",
      "[LightGBM] [Warning] No further splits with positive gain, best gain: -inf\n",
      "[LightGBM] [Warning] No further splits with positive gain, best gain: -inf\n",
      "[LightGBM] [Warning] No further splits with positive gain, best gain: -inf\n",
      "[LightGBM] [Warning] No further splits with positive gain, best gain: -inf\n",
      "[LightGBM] [Warning] No further splits with positive gain, best gain: -inf\n",
      "[LightGBM] [Warning] No further splits with positive gain, best gain: -inf\n",
      "[LightGBM] [Warning] No further splits with positive gain, best gain: -inf\n",
      "[LightGBM] [Warning] No further splits with positive gain, best gain: -inf\n",
      "[LightGBM] [Warning] No further splits with positive gain, best gain: -inf\n",
      "[LightGBM] [Warning] No further splits with positive gain, best gain: -inf\n",
      "[LightGBM] [Warning] No further splits with positive gain, best gain: -inf\n",
      "[LightGBM] [Warning] No further splits with positive gain, best gain: -inf\n",
      "[LightGBM] [Warning] No further splits with positive gain, best gain: -inf\n",
      "[LightGBM] [Warning] No further splits with positive gain, best gain: -inf\n",
      "[LightGBM] [Warning] No further splits with positive gain, best gain: -inf\n",
      "[LightGBM] [Warning] No further splits with positive gain, best gain: -inf\n",
      "[LightGBM] [Warning] No further splits with positive gain, best gain: -inf\n",
      "[LightGBM] [Warning] No further splits with positive gain, best gain: -inf\n",
      "[LightGBM] [Warning] No further splits with positive gain, best gain: -inf\n",
      "[LightGBM] [Warning] No further splits with positive gain, best gain: -inf\n",
      "[LightGBM] [Warning] No further splits with positive gain, best gain: -inf\n",
      "[LightGBM] [Warning] No further splits with positive gain, best gain: -inf\n",
      "[LightGBM] [Warning] No further splits with positive gain, best gain: -inf\n",
      "[LightGBM] [Warning] No further splits with positive gain, best gain: -inf\n",
      "[LightGBM] [Warning] No further splits with positive gain, best gain: -inf\n",
      "[LightGBM] [Warning] No further splits with positive gain, best gain: -inf\n",
      "[LightGBM] [Warning] No further splits with positive gain, best gain: -inf\n",
      "[LightGBM] [Warning] No further splits with positive gain, best gain: -inf\n",
      "[LightGBM] [Warning] No further splits with positive gain, best gain: -inf\n",
      "[LightGBM] [Warning] No further splits with positive gain, best gain: -inf\n",
      "[LightGBM] [Warning] No further splits with positive gain, best gain: -inf\n",
      "[LightGBM] [Warning] No further splits with positive gain, best gain: -inf\n",
      "[LightGBM] [Warning] No further splits with positive gain, best gain: -inf\n",
      "[LightGBM] [Warning] No further splits with positive gain, best gain: -inf\n",
      "[LightGBM] [Warning] No further splits with positive gain, best gain: -inf\n",
      "[LightGBM] [Warning] No further splits with positive gain, best gain: -inf\n",
      "[LightGBM] [Warning] No further splits with positive gain, best gain: -inf\n",
      "[LightGBM] [Warning] No further splits with positive gain, best gain: -inf\n",
      "[LightGBM] [Warning] No further splits with positive gain, best gain: -inf\n",
      "[LightGBM] [Warning] No further splits with positive gain, best gain: -inf\n",
      "[LightGBM] [Warning] No further splits with positive gain, best gain: -inf\n",
      "[LightGBM] [Warning] No further splits with positive gain, best gain: -inf\n",
      "[LightGBM] [Warning] No further splits with positive gain, best gain: -inf\n",
      "[LightGBM] [Warning] No further splits with positive gain, best gain: -inf\n",
      "[LightGBM] [Warning] No further splits with positive gain, best gain: -inf\n",
      "[LightGBM] [Warning] No further splits with positive gain, best gain: -inf\n",
      "[LightGBM] [Warning] No further splits with positive gain, best gain: -inf\n",
      "[LightGBM] [Warning] No further splits with positive gain, best gain: -inf\n",
      "[LightGBM] [Warning] No further splits with positive gain, best gain: -inf\n",
      "[LightGBM] [Warning] No further splits with positive gain, best gain: -inf\n",
      "[LightGBM] [Warning] No further splits with positive gain, best gain: -inf\n",
      "[LightGBM] [Warning] No further splits with positive gain, best gain: -inf\n",
      "[LightGBM] [Warning] No further splits with positive gain, best gain: -inf\n",
      "[LightGBM] [Warning] No further splits with positive gain, best gain: -inf\n",
      "[LightGBM] [Warning] No further splits with positive gain, best gain: -inf\n",
      "[LightGBM] [Warning] No further splits with positive gain, best gain: -inf\n",
      "[LightGBM] [Warning] No further splits with positive gain, best gain: -inf\n",
      "[LightGBM] [Warning] No further splits with positive gain, best gain: -inf\n",
      "[LightGBM] [Warning] No further splits with positive gain, best gain: -inf\n",
      "[LightGBM] [Warning] No further splits with positive gain, best gain: -inf\n",
      "[LightGBM] [Warning] No further splits with positive gain, best gain: -inf\n",
      "[LightGBM] [Warning] No further splits with positive gain, best gain: -inf\n",
      "[LightGBM] [Warning] No further splits with positive gain, best gain: -inf\n",
      "[LightGBM] [Warning] No further splits with positive gain, best gain: -inf\n",
      "[LightGBM] [Warning] No further splits with positive gain, best gain: -inf\n",
      "[LightGBM] [Warning] No further splits with positive gain, best gain: -inf\n",
      "[LightGBM] [Warning] No further splits with positive gain, best gain: -inf\n",
      "[LightGBM] [Warning] No further splits with positive gain, best gain: -inf\n",
      "[LightGBM] [Warning] No further splits with positive gain, best gain: -inf\n",
      "[LightGBM] [Warning] No further splits with positive gain, best gain: -inf\n",
      "[LightGBM] [Warning] No further splits with positive gain, best gain: -inf\n",
      "[LightGBM] [Warning] No further splits with positive gain, best gain: -inf\n",
      "[LightGBM] [Warning] No further splits with positive gain, best gain: -inf\n",
      "[LightGBM] [Warning] No further splits with positive gain, best gain: -inf\n",
      "[LightGBM] [Warning] No further splits with positive gain, best gain: -inf\n",
      "[LightGBM] [Warning] No further splits with positive gain, best gain: -inf\n",
      "[LightGBM] [Warning] No further splits with positive gain, best gain: -inf\n",
      "[LightGBM] [Warning] No further splits with positive gain, best gain: -inf\n",
      "[LightGBM] [Warning] No further splits with positive gain, best gain: -inf\n",
      "[LightGBM] [Warning] No further splits with positive gain, best gain: -inf\n",
      "[LightGBM] [Warning] No further splits with positive gain, best gain: -inf\n",
      "[LightGBM] [Warning] No further splits with positive gain, best gain: -inf\n",
      "[LightGBM] [Warning] No further splits with positive gain, best gain: -inf\n",
      "[LightGBM] [Warning] No further splits with positive gain, best gain: -inf\n",
      "[LightGBM] [Warning] No further splits with positive gain, best gain: -inf\n",
      "[LightGBM] [Warning] No further splits with positive gain, best gain: -inf\n",
      "[LightGBM] [Warning] No further splits with positive gain, best gain: -inf\n",
      "[LightGBM] [Warning] No further splits with positive gain, best gain: -inf\n",
      "[LightGBM] [Warning] No further splits with positive gain, best gain: -inf\n",
      "[LightGBM] [Warning] No further splits with positive gain, best gain: -inf\n",
      "[LightGBM] [Warning] No further splits with positive gain, best gain: -inf\n",
      "[LightGBM] [Warning] No further splits with positive gain, best gain: -inf\n",
      "[LightGBM] [Warning] No further splits with positive gain, best gain: -inf\n",
      "[LightGBM] [Warning] No further splits with positive gain, best gain: -inf\n",
      "[LightGBM] [Warning] No further splits with positive gain, best gain: -inf\n",
      "[LightGBM] [Warning] No further splits with positive gain, best gain: -inf\n",
      "[LightGBM] [Warning] No further splits with positive gain, best gain: -inf\n",
      "[LightGBM] [Warning] No further splits with positive gain, best gain: -inf\n",
      "[LightGBM] [Warning] No further splits with positive gain, best gain: -inf\n",
      "[LightGBM] [Warning] No further splits with positive gain, best gain: -inf\n",
      "[LightGBM] [Warning] No further splits with positive gain, best gain: -inf\n",
      "[LightGBM] [Warning] No further splits with positive gain, best gain: -inf\n",
      "[LightGBM] [Warning] No further splits with positive gain, best gain: -inf\n",
      "[LightGBM] [Warning] No further splits with positive gain, best gain: -inf\n",
      "[LightGBM] [Warning] No further splits with positive gain, best gain: -inf\n",
      "[LightGBM] [Warning] No further splits with positive gain, best gain: -inf\n",
      "[LightGBM] [Warning] No further splits with positive gain, best gain: -inf\n",
      "[LightGBM] [Warning] No further splits with positive gain, best gain: -inf\n",
      "[LightGBM] [Warning] No further splits with positive gain, best gain: -inf\n",
      "[LightGBM] [Warning] No further splits with positive gain, best gain: -inf\n",
      "[LightGBM] [Warning] No further splits with positive gain, best gain: -inf\n",
      "[LightGBM] [Warning] No further splits with positive gain, best gain: -inf\n",
      "[LightGBM] [Warning] No further splits with positive gain, best gain: -inf\n",
      "[LightGBM] [Warning] No further splits with positive gain, best gain: -inf\n",
      "[LightGBM] [Warning] No further splits with positive gain, best gain: -inf\n",
      "[LightGBM] [Warning] No further splits with positive gain, best gain: -inf\n",
      "[LightGBM] [Warning] No further splits with positive gain, best gain: -inf\n",
      "[LightGBM] [Warning] No further splits with positive gain, best gain: -inf\n",
      "[LightGBM] [Warning] No further splits with positive gain, best gain: -inf\n",
      "[LightGBM] [Warning] No further splits with positive gain, best gain: -inf\n",
      "[LightGBM] [Warning] No further splits with positive gain, best gain: -inf\n",
      "[LightGBM] [Warning] No further splits with positive gain, best gain: -inf\n",
      "[LightGBM] [Warning] No further splits with positive gain, best gain: -inf\n",
      "[LightGBM] [Warning] No further splits with positive gain, best gain: -inf\n",
      "[LightGBM] [Warning] No further splits with positive gain, best gain: -inf\n",
      "[LightGBM] [Warning] No further splits with positive gain, best gain: -inf\n",
      "[LightGBM] [Warning] No further splits with positive gain, best gain: -inf\n",
      "[LightGBM] [Warning] No further splits with positive gain, best gain: -inf\n",
      "[LightGBM] [Warning] No further splits with positive gain, best gain: -inf\n",
      "[LightGBM] [Warning] No further splits with positive gain, best gain: -inf\n",
      "[LightGBM] [Warning] No further splits with positive gain, best gain: -inf\n",
      "[LightGBM] [Warning] No further splits with positive gain, best gain: -inf\n",
      "[LightGBM] [Warning] No further splits with positive gain, best gain: -inf\n",
      "[LightGBM] [Warning] No further splits with positive gain, best gain: -inf\n",
      "[LightGBM] [Warning] No further splits with positive gain, best gain: -inf\n",
      "[LightGBM] [Warning] No further splits with positive gain, best gain: -inf\n",
      "[LightGBM] [Warning] No further splits with positive gain, best gain: -inf\n",
      "[LightGBM] [Warning] No further splits with positive gain, best gain: -inf\n",
      "[LightGBM] [Warning] No further splits with positive gain, best gain: -inf\n",
      "[LightGBM] [Warning] No further splits with positive gain, best gain: -inf\n",
      "[LightGBM] [Warning] No further splits with positive gain, best gain: -inf\n",
      "[LightGBM] [Warning] No further splits with positive gain, best gain: -inf\n",
      "[LightGBM] [Warning] No further splits with positive gain, best gain: -inf\n",
      "[LightGBM] [Warning] No further splits with positive gain, best gain: -inf\n",
      "[LightGBM] [Warning] No further splits with positive gain, best gain: -inf\n",
      "[LightGBM] [Warning] No further splits with positive gain, best gain: -inf\n",
      "[LightGBM] [Warning] No further splits with positive gain, best gain: -inf\n",
      "[LightGBM] [Warning] No further splits with positive gain, best gain: -inf\n",
      "[LightGBM] [Warning] No further splits with positive gain, best gain: -inf\n",
      "[LightGBM] [Warning] No further splits with positive gain, best gain: -inf\n",
      "[LightGBM] [Warning] No further splits with positive gain, best gain: -inf\n",
      "[LightGBM] [Warning] No further splits with positive gain, best gain: -inf\n",
      "[LightGBM] [Warning] No further splits with positive gain, best gain: -inf\n",
      "[LightGBM] [Warning] No further splits with positive gain, best gain: -inf\n",
      "[LightGBM] [Warning] No further splits with positive gain, best gain: -inf\n",
      "[LightGBM] [Warning] No further splits with positive gain, best gain: -inf\n",
      "[LightGBM] [Warning] No further splits with positive gain, best gain: -inf\n",
      "[LightGBM] [Warning] No further splits with positive gain, best gain: -inf\n",
      "[LightGBM] [Warning] No further splits with positive gain, best gain: -inf\n",
      "[LightGBM] [Warning] No further splits with positive gain, best gain: -inf\n",
      "[LightGBM] [Warning] No further splits with positive gain, best gain: -inf\n",
      "[LightGBM] [Warning] No further splits with positive gain, best gain: -inf\n",
      "[LightGBM] [Warning] No further splits with positive gain, best gain: -inf\n",
      "[LightGBM] [Warning] No further splits with positive gain, best gain: -inf\n",
      "[LightGBM] [Warning] No further splits with positive gain, best gain: -inf\n",
      "[LightGBM] [Warning] No further splits with positive gain, best gain: -inf\n",
      "[LightGBM] [Warning] No further splits with positive gain, best gain: -inf\n",
      "[LightGBM] [Warning] No further splits with positive gain, best gain: -inf\n",
      "[LightGBM] [Warning] No further splits with positive gain, best gain: -inf\n",
      "[LightGBM] [Warning] No further splits with positive gain, best gain: -inf\n",
      "[LightGBM] [Warning] No further splits with positive gain, best gain: -inf\n",
      "[LightGBM] [Warning] No further splits with positive gain, best gain: -inf\n",
      "[LightGBM] [Warning] No further splits with positive gain, best gain: -inf\n",
      "[LightGBM] [Warning] No further splits with positive gain, best gain: -inf\n",
      "[LightGBM] [Warning] No further splits with positive gain, best gain: -inf\n",
      "[LightGBM] [Warning] No further splits with positive gain, best gain: -inf\n",
      "[LightGBM] [Warning] No further splits with positive gain, best gain: -inf\n",
      "[LightGBM] [Warning] No further splits with positive gain, best gain: -inf\n",
      "[LightGBM] [Warning] No further splits with positive gain, best gain: -inf\n",
      "[LightGBM] [Warning] No further splits with positive gain, best gain: -inf\n",
      "[LightGBM] [Warning] No further splits with positive gain, best gain: -inf\n",
      "best n_estimators: 56\n"
     ]
    }
   ],
   "source": [
    "#converting the dataset into proper LGB format \n",
    "#d_train=lgb.Dataset(X_train, label=y_train)\n",
    "#Specifying the parameter\n",
    "params = {    \n",
    "          'boosting_type': 'gbdt',\n",
    "          'objective': 'binary',\n",
    "          'metric': 'auc',\n",
    "         'learning_rate':0.1,\n",
    "            'num_leaves':30, \n",
    "           'max_depth': 4,   \n",
    "    }\n",
    "data_train = lgb.Dataset(X_train, y_train)\n",
    "cv_results = lgb.cv(params, data_train, num_boost_round=1000, nfold=10, stratified=False, shuffle=True, metrics='auc',early_stopping_rounds=50,seed=5)\n",
    "print('best n_estimators:', len(cv_results['auc-mean']))"
   ]
  },
  {
   "cell_type": "markdown",
   "id": "69e23898",
   "metadata": {},
   "source": [
    "- 以上述程式碼best n_estimators=56 (LightGBM)"
   ]
  },
  {
   "cell_type": "markdown",
   "id": "0c106b5a",
   "metadata": {},
   "source": [
    "#### LightGBM with max depth of tree = 4 computed by 10-Fold CV (上課講義CH8)"
   ]
  },
  {
   "cell_type": "code",
   "execution_count": 19,
   "id": "ac0889d2",
   "metadata": {},
   "outputs": [],
   "source": [
    "clf = lgb.LGBMClassifier(boosting_type='gbdt', learning_rate=0.1, n_estimators=56\n",
    "                         ,objective = 'binary',metric='binary_logloss',max_depth=4,\n",
    "                         random_state=5, n_jobs=-1)\n",
    "clf.fit(X_train, y_train)\n",
    "y_pred = clf.predict(X_test)\n",
    "y_train_pred=clf.predict(X_train)\n",
    "\n",
    "y_pred_prob = clf.predict_proba(X_test)\n",
    "y_train_pred_prob = clf.predict_proba(X_train)"
   ]
  },
  {
   "cell_type": "markdown",
   "id": "cfe12cb8",
   "metadata": {},
   "source": [
    "#### Training AUC of LightGBM"
   ]
  },
  {
   "cell_type": "code",
   "execution_count": 20,
   "id": "e321769c",
   "metadata": {
    "scrolled": true
   },
   "outputs": [
    {
     "name": "stdout",
     "output_type": "stream",
     "text": [
      "AUC Score:  0.9963268550752447\n"
     ]
    }
   ],
   "source": [
    "print(\"AUC Score: \", roc_auc_score(y_train, y_train_pred_prob[:,1]) )"
   ]
  },
  {
   "cell_type": "markdown",
   "id": "3e6a1440",
   "metadata": {},
   "source": [
    "#### Testing AUC of LightGBM"
   ]
  },
  {
   "cell_type": "code",
   "execution_count": 21,
   "id": "01869279",
   "metadata": {},
   "outputs": [
    {
     "name": "stdout",
     "output_type": "stream",
     "text": [
      "AUC Score:  0.7678571428571428\n"
     ]
    }
   ],
   "source": [
    "print(\"AUC Score: \", roc_auc_score(y_test, y_pred_prob[:,1]) )"
   ]
  },
  {
   "cell_type": "markdown",
   "id": "641945aa",
   "metadata": {},
   "source": [
    "#### Feature importance plot of LightGBM"
   ]
  },
  {
   "cell_type": "code",
   "execution_count": 22,
   "id": "fe3b59bb",
   "metadata": {},
   "outputs": [
    {
     "data": {
      "image/png": "[encoded data removed]",
      "text/plain": [
       "<Figure size 720x720 with 1 Axes>"
      ]
     },
     "metadata": {
      "needs_background": "light"
     },
     "output_type": "display_data"
    }
   ],
   "source": [
    "# Plot feature by importance in this model\n",
    "\n",
    "plot_df = pd.DataFrame({'feature': X_train.columns, 'importance': clf.feature_importances_})\n",
    "\n",
    "plt.figure(figsize=(10,10))\n",
    "sns.barplot(x='importance', y='feature', data=plot_df.sort_values('importance', ascending=False),\n",
    "            color='b')\n",
    "plt.xticks(rotation=90);"
   ]
  },
  {
   "cell_type": "markdown",
   "id": "35b9a695",
   "metadata": {},
   "source": [
    "#### Random forest with max depth of tree = 4 computed by 10-Fold CV"
   ]
  },
  {
   "cell_type": "code",
   "execution_count": 24,
   "id": "3e9c8686",
   "metadata": {},
   "outputs": [],
   "source": [
    "max_features = X_train.shape[1]\n",
    "tree_count   = 100\n",
    "bagging = RandomForestClassifier(max_depth=4, max_features=max_features, random_state=5, n_estimators=tree_count)\n",
    "bagging.fit(X_train, y_train)\n",
    "\n",
    "y_pred_prob2 = bagging.predict_proba(X_test)\n",
    "y_train_pred_prob2 = bagging.predict_proba(X_train)"
   ]
  },
  {
   "cell_type": "markdown",
   "id": "da5f26bf",
   "metadata": {},
   "source": [
    "#### Training AUC of Random forest"
   ]
  },
  {
   "cell_type": "code",
   "execution_count": 25,
   "id": "c786484c",
   "metadata": {},
   "outputs": [
    {
     "name": "stdout",
     "output_type": "stream",
     "text": [
      "AUC Score:  0.9720402401249965\n"
     ]
    }
   ],
   "source": [
    "print(\"AUC Score: \", roc_auc_score(y_train, y_train_pred_prob2[:,1]) )"
   ]
  },
  {
   "cell_type": "markdown",
   "id": "1af07f3a",
   "metadata": {},
   "source": [
    "#### Testing AUC of Random forest"
   ]
  },
  {
   "cell_type": "code",
   "execution_count": 26,
   "id": "5c46a248",
   "metadata": {},
   "outputs": [
    {
     "name": "stdout",
     "output_type": "stream",
     "text": [
      "AUC Score:  0.7377819548872181\n"
     ]
    }
   ],
   "source": [
    "print(\"AUC Score: \", roc_auc_score(y_test, y_pred_prob2[:,1]) )"
   ]
  },
  {
   "cell_type": "markdown",
   "id": "839bf58b",
   "metadata": {},
   "source": [
    "#### Feature importance of Random forest"
   ]
  },
  {
   "cell_type": "code",
   "execution_count": 27,
   "id": "36f36148",
   "metadata": {},
   "outputs": [
    {
     "data": {
      "image/png": "[encoded data removed]",
      "text/plain": [
       "<Figure size 720x720 with 1 Axes>"
      ]
     },
     "metadata": {
      "needs_background": "light"
     },
     "output_type": "display_data"
    }
   ],
   "source": [
    "# Plot feature by importance in this model\n",
    "\n",
    "plot_df = pd.DataFrame({'feature': X_train.columns, 'importance': bagging.feature_importances_})\n",
    "\n",
    "plt.figure(figsize=(10,10))\n",
    "sns.barplot(x='importance', y='feature', data=plot_df.sort_values('importance', ascending=False),\n",
    "            color='b')\n",
    "plt.xticks(rotation=90);"
   ]
  },
  {
   "cell_type": "markdown",
   "id": "565ed2c7",
   "metadata": {},
   "source": [
    "#### Catboost with max depth of tree = 4 find n_estimators with GridSearchCV computed by 10-Fold CV"
   ]
  },
  {
   "cell_type": "markdown",
   "id": "816b0687",
   "metadata": {},
   "source": [
    "- 參考連結: https://www.projectpro.io/recipes/find-optimal-parameters-for-catboost-using-gridsearchcv-for-classification"
   ]
  },
  {
   "cell_type": "code",
   "execution_count": 28,
   "id": "95735ef6",
   "metadata": {},
   "outputs": [],
   "source": [
    "#CBC = CatBoostClassifier()\n",
    "#parameters = {'depth'         : [4],\n",
    " #             'learning_rate' : [0.1],\n",
    "  #            'iterations'    : range(1,100)\n",
    "   #              }\n",
    "\n",
    "#Grid_CBC = GridSearchCV(estimator=CBC, param_grid = parameters, cv = 10, n_jobs=-1)\n",
    "#Grid_CBC.fit(X_train, y_train)\n",
    "#print(\"\\n The best parameters across ALL searched params:\\n\",Grid_CBC.best_params_)"
   ]
  },
  {
   "cell_type": "markdown",
   "id": "7d69bc3d",
   "metadata": {},
   "source": [
    "- 以上述程式碼找到最好的n_estimator=86"
   ]
  },
  {
   "cell_type": "markdown",
   "id": "dd841661",
   "metadata": {},
   "source": [
    "#### Catboost with max depth of tree = 4 computed by 10-Fold CV"
   ]
  },
  {
   "cell_type": "code",
   "execution_count": 29,
   "id": "14671b51",
   "metadata": {},
   "outputs": [],
   "source": [
    "cat = CatBoostClassifier(boosting_type='Plain', learning_rate=0.1, n_estimators=86, random_state=5\n",
    "                         ,thread_count=-1, logging_level = 'Silent',depth = 4)\n",
    "cat.fit(X_train, y_train)\n",
    "\n",
    "y_pred_prob3 = cat.predict_proba(X_test)\n",
    "y_train_pred_prob3 = cat.predict_proba(X_train)"
   ]
  },
  {
   "cell_type": "markdown",
   "id": "1610e147",
   "metadata": {},
   "source": [
    "#### Training AUC of Catboost"
   ]
  },
  {
   "cell_type": "code",
   "execution_count": 30,
   "id": "88c1b27d",
   "metadata": {},
   "outputs": [
    {
     "name": "stdout",
     "output_type": "stream",
     "text": [
      "AUC Score:  0.9982456621254899\n"
     ]
    }
   ],
   "source": [
    "print(\"AUC Score: \", roc_auc_score(y_train, y_train_pred_prob3[:,1]) )"
   ]
  },
  {
   "cell_type": "markdown",
   "id": "1ad7c678",
   "metadata": {},
   "source": [
    "#### Testing AUC of Catboost"
   ]
  },
  {
   "cell_type": "code",
   "execution_count": 31,
   "id": "b33f6189",
   "metadata": {},
   "outputs": [
    {
     "name": "stdout",
     "output_type": "stream",
     "text": [
      "AUC Score:  0.7819548872180452\n"
     ]
    }
   ],
   "source": [
    "print(\"AUC Score: \", roc_auc_score(y_test, y_pred_prob3[:,1]) )"
   ]
  },
  {
   "cell_type": "markdown",
   "id": "33162258",
   "metadata": {},
   "source": [
    "#### Feature importance of Catboost"
   ]
  },
  {
   "cell_type": "code",
   "execution_count": 32,
   "id": "8fb3ae0b",
   "metadata": {
    "scrolled": true
   },
   "outputs": [
    {
     "data": {
      "image/png": "[encoded data removed]",
      "text/plain": [
       "<Figure size 720x720 with 1 Axes>"
      ]
     },
     "metadata": {
      "needs_background": "light"
     },
     "output_type": "display_data"
    }
   ],
   "source": [
    "# Plot feature by importance in this model\n",
    "\n",
    "plot_df = pd.DataFrame({'feature': X_train.columns, 'importance': cat.feature_importances_})\n",
    "\n",
    "plt.figure(figsize=(10,10))\n",
    "sns.barplot(x='importance', y='feature', data=plot_df.sort_values('importance', ascending=False),\n",
    "            color='b')\n",
    "plt.xticks(rotation=90);"
   ]
  },
  {
   "cell_type": "code",
   "execution_count": null,
   "id": "ca964bf3",
   "metadata": {},
   "outputs": [],
   "source": []
  },
  {
   "cell_type": "markdown",
   "id": "f57ae47a",
   "metadata": {},
   "source": [
    "#### 畫AUC ROC Curve in training set of LightGBM,Random forest, catboost"
   ]
  },
  {
   "cell_type": "code",
   "execution_count": 33,
   "id": "714285a1",
   "metadata": {},
   "outputs": [
    {
     "name": "stderr",
     "output_type": "stream",
     "text": [
      "C:\\Users\\l8902\\AppData\\Local\\Temp\\ipykernel_22664\\733933212.py:11: MatplotlibDeprecationWarning: The seaborn styles shipped by Matplotlib are deprecated since 3.6, as they no longer correspond to the styles shipped by seaborn. However, they will remain available as 'seaborn-v0_8-<style>'. Alternatively, directly use the seaborn API instead.\n",
      "  plt.style.use('seaborn')\n"
     ]
    },
    {
     "data": {
      "image/png": "[encoded data removed]",
      "text/plain": [
       "<Figure size 576x396 with 1 Axes>"
      ]
     },
     "metadata": {},
     "output_type": "display_data"
    }
   ],
   "source": [
    "from sklearn.metrics import roc_curve, roc_auc_score\n",
    "\n",
    "random_probs = [0 for i in range(len(y_train))]\n",
    "p_fpr, p_tpr, _ = roc_curve(y_train, random_probs)\n",
    "# roc curve for models\n",
    "fpr1_0, tpr1_0, thresh1_0 = roc_curve(y_train, y_train_pred_prob[:,1])\n",
    "fpr2_0, tpr2_0, thresh2_0 = roc_curve(y_train, y_train_pred_prob2[:,1])\n",
    "fpr3_0, tpr3_0, thresh3_0 = roc_curve(y_train, y_train_pred_prob3[:,1])\n",
    "# matplotlib\n",
    "import matplotlib.pyplot as plt\n",
    "plt.style.use('seaborn')\n",
    "\n",
    "# plot roc curves\n",
    "plt.plot(fpr1_0, tpr1_0, linestyle='--',color='orange', label='LightGBM')\n",
    "plt.plot(fpr2_0, tpr2_0, linestyle='--',color='green', label='Random Forest')\n",
    "plt.plot(fpr3_0, tpr3_0, linestyle='--',color='red', label='CatBoost')\n",
    "plt.plot(p_fpr, p_tpr, linestyle='--', color='blue')\n",
    "# title\n",
    "plt.title('ROC curve')\n",
    "# x label\n",
    "plt.xlabel('False Positive Rate')\n",
    "# y label\n",
    "plt.ylabel('True Positive rate')\n",
    "\n",
    "plt.legend(loc='best')\n",
    "plt.savefig('ROC_train',dpi=300)\n",
    "plt.show();"
   ]
  },
  {
   "cell_type": "markdown",
   "id": "570141cb",
   "metadata": {},
   "source": [
    "#### 畫AUC ROC Curve in testing set of LightGBM,Random forest, catboost"
   ]
  },
  {
   "cell_type": "code",
   "execution_count": 34,
   "id": "c4176e23",
   "metadata": {
    "scrolled": false
   },
   "outputs": [
    {
     "name": "stderr",
     "output_type": "stream",
     "text": [
      "C:\\Users\\l8902\\AppData\\Local\\Temp\\ipykernel_22664\\3701709342.py:11: MatplotlibDeprecationWarning: The seaborn styles shipped by Matplotlib are deprecated since 3.6, as they no longer correspond to the styles shipped by seaborn. However, they will remain available as 'seaborn-v0_8-<style>'. Alternatively, directly use the seaborn API instead.\n",
      "  plt.style.use('seaborn')\n"
     ]
    },
    {
     "data": {
      "image/png": "[encoded data removed]",
      "text/plain": [
       "<Figure size 576x396 with 1 Axes>"
      ]
     },
     "metadata": {},
     "output_type": "display_data"
    }
   ],
   "source": [
    "from sklearn.metrics import roc_curve, roc_auc_score\n",
    "\n",
    "random_probs = [0 for i in range(len(y_test))]\n",
    "p_fpr, p_tpr, _ = roc_curve(y_test, random_probs)\n",
    "# roc curve for models\n",
    "fpr1, tpr1, thresh1 = roc_curve(y_test, y_pred_prob[:,1])\n",
    "fpr2, tpr2, thresh2 = roc_curve(y_test, y_pred_prob2[:,1])\n",
    "fpr3, tpr3, thresh3 = roc_curve(y_test, y_pred_prob3[:,1])\n",
    "# matplotlib\n",
    "import matplotlib.pyplot as plt\n",
    "plt.style.use('seaborn')\n",
    "\n",
    "# plot roc curves\n",
    "plt.plot(fpr1, tpr1, linestyle='--',color='orange', label='LightGBM')\n",
    "plt.plot(fpr2, tpr2, linestyle='--',color='green', label='Random Forest')\n",
    "plt.plot(fpr3, tpr3, linestyle='--',color='red', label='CatBoost')\n",
    "plt.plot(p_fpr, p_tpr, linestyle='--', color='blue')\n",
    "# title\n",
    "plt.title('ROC curve')\n",
    "# x label\n",
    "plt.xlabel('False Positive Rate')\n",
    "# y label\n",
    "plt.ylabel('True Positive rate')\n",
    "\n",
    "plt.legend(loc='best')\n",
    "plt.savefig('ROC',dpi=300)\n",
    "plt.show();"
   ]
  },
  {
   "cell_type": "markdown",
   "id": "1e6636ca",
   "metadata": {},
   "source": [
    "#### plot Confusion matrix function code"
   ]
  },
  {
   "cell_type": "code",
   "execution_count": 35,
   "id": "5dd4d5f4",
   "metadata": {},
   "outputs": [],
   "source": [
    "import pandas as pd\n",
    "import matplotlib.pyplot as plt\n",
    "import seaborn as sns\n",
    "import numpy as np\n",
    "\n",
    "##### (評分指標)\n",
    "from sklearn.metrics import roc_auc_score, confusion_matrix\n",
    "\n",
    "##### 由多種方法組成，在各種迭代器中用於計算快速且代碼高效的解決方案\n",
    "import itertools                        # 用在 confusion matrix\n",
    "\n",
    "##### Progress bar (進度條)\n",
    "from tqdm import tqdm\n",
    "\n",
    "##### KFOLD\n",
    "from sklearn.model_selection import KFold\n",
    "\n",
    "##### you may import itertools\n",
    "\n",
    "def plot_confusion_matrix(cm, classes):\n",
    "\n",
    "    plt.imshow(cm, interpolation='nearest', cmap=plt.cm.Blues)   # interpolation : 插值 \n",
    "    plt.title('Confusion matrix', fontweight='bold', pad=15)     # 字體重量 :'bold'(粗體), pad : 標題放置距離\n",
    "    \n",
    "    plt.colorbar()\n",
    "    tick_marks = np.arange(len(classes))                # classes : list，的長度，的 array，X 的位置\n",
    "    plt.xticks(tick_marks, classes, rotation=0)         # xticks : 把坐標軸變成自己想要的樣子，類似覆蓋，覆蓋長度要和原來坐標長度一致\n",
    "    plt.yticks(tick_marks, classes)                     # rotation=0 : 以度為單位的角度\n",
    "                                                        # rotation='vertical' : 跟座標垂直\n",
    "    \n",
    "    thresh = cm.max() / 2.                              # threshold (臨界點)\n",
    "    for i, j in itertools.product(range(cm.shape[0]), range(cm.shape[1])):\n",
    "                                                        # itertools.product : 兩個集合的笛卡爾積，定義為所有有序對 (a, b) 的集合\n",
    "                                                        # ex : (0,0)、(0,1)、(1,0)、(1,1)\n",
    "        plt.text(j, i, format(cm[i, j], 'g'),           # 'd' 十進制整數，輸出以 10 為底的數字，細節 : help('FORMATTING')\n",
    "                 horizontalalignment=\"center\",          # 水平對齊 {'center', 'right', 'left'}\n",
    "                 color=\"white\" if cm[i, j] > thresh else \"black\")\n",
    "                                                        # 數字大於 threshold (臨界點)，給白色，因為 Blues 是淺藍到深\n",
    "                                                        # 'g' 浮點數 & 整數 ...\n",
    "    plt.ylabel('True label', fontweight='bold')\n",
    "    plt.xlabel('Predicted label', fontweight='bold')\n",
    "    plt.tight_layout()                                  # 調整子圖之間和周圍的填充\n",
    " "
   ]
  },
  {
   "cell_type": "markdown",
   "id": "49b7fcad",
   "metadata": {},
   "source": [
    "- Threshold 選取"
   ]
  },
  {
   "cell_type": "code",
   "execution_count": 36,
   "id": "fde7cc64",
   "metadata": {},
   "outputs": [],
   "source": [
    "# 以AUC score作為thresholds選取\n",
    "fpr1, tpr1, thresh1 = roc_curve(y_test, y_pred_prob[:,1])\n",
    "fpr2, tpr2, thresh2 = roc_curve(y_test, y_pred_prob2[:,1])\n",
    "fpr3, tpr3, thresh3 = roc_curve(y_test, y_pred_prob3[:,1])\n",
    "\n",
    "fpr1_0, tpr1_0, thresh1_0 = roc_curve(y_train, y_train_pred_prob[:,1])\n",
    "fpr2_0, tpr2_0, thresh2_0 = roc_curve(y_train, y_train_pred_prob2[:,1])\n",
    "fpr3_0, tpr3_0, thresh3_0 = roc_curve(y_train, y_train_pred_prob3[:,1])"
   ]
  },
  {
   "cell_type": "markdown",
   "id": "b53a21c4",
   "metadata": {},
   "source": [
    "- LightGBM training set threshold"
   ]
  },
  {
   "cell_type": "code",
   "execution_count": 37,
   "id": "67fe1c2e",
   "metadata": {},
   "outputs": [],
   "source": [
    "auc_train_thres_lightgbm = []\n",
    "for thres in thresh1_0:\n",
    "    y_train_pred = np.where(y_train_pred_prob[:,1] > thres,1,0)\n",
    "    auc_train_thres_lightgbm.append(roc_auc_score(y_train, y_train_pred))\n",
    "    \n",
    "auc_train_lgb = pd.concat([pd.Series(thresh1_0), pd.Series(fpr1_0), pd.Series(tpr1_0)\n",
    "                           , pd.Series(auc_train_thres_lightgbm)],axis = 1)\n",
    "auc_train_lgb.columns = ['Thresholds', 'FPR', 'TPR', 'AUC']\n",
    "auc_train_lgb.sort_values(by ='AUC', ascending = False, inplace = True)\n",
    "auc_train_lgb.reset_index(drop = True,inplace = True)"
   ]
  },
  {
   "cell_type": "code",
   "execution_count": 38,
   "id": "f4419fdb",
   "metadata": {},
   "outputs": [
    {
     "data": {
      "text/plain": [
       "0.5325597954072553"
      ]
     },
     "execution_count": 38,
     "metadata": {},
     "output_type": "execute_result"
    }
   ],
   "source": [
    "auc_train_lgb['Thresholds'][0]\n",
    "# 以AUC最大值作為Thresholds"
   ]
  },
  {
   "cell_type": "code",
   "execution_count": 39,
   "id": "d91e00c8",
   "metadata": {},
   "outputs": [
    {
     "data": {
      "image/png": "[encoded data removed]",
      "text/plain": [
       "<Figure size 576x360 with 2 Axes>"
      ]
     },
     "metadata": {},
     "output_type": "display_data"
    }
   ],
   "source": [
    "predictions_nominal1_0 = [ 1 if x > 0.4 else 0 for x in y_train_pred_prob[:,1]]\n",
    "cnf_matrix1 = confusion_matrix(y_train, predictions_nominal1_0 , labels=[0, 1])  \n",
    "plt.figure(figsize=(8, 5))\n",
    "fig=plot_confusion_matrix(cnf_matrix1, classes=[0, 1])\n",
    "plt.savefig('train_cm_lgb.jpg')"
   ]
  },
  {
   "cell_type": "code",
   "execution_count": 40,
   "id": "5d530ef5",
   "metadata": {},
   "outputs": [],
   "source": [
    "recall_train_lgb=cnf_matrix1[1][1]/(cnf_matrix1[1][0]+cnf_matrix1[1][1])"
   ]
  },
  {
   "cell_type": "code",
   "execution_count": 41,
   "id": "7e795845",
   "metadata": {},
   "outputs": [
    {
     "data": {
      "text/plain": [
       "0.9947643979057592"
      ]
     },
     "execution_count": 41,
     "metadata": {},
     "output_type": "execute_result"
    }
   ],
   "source": [
    "recall_train_lgb"
   ]
  },
  {
   "cell_type": "markdown",
   "id": "d9cfd716",
   "metadata": {},
   "source": [
    "- LightGBM testing set threshold"
   ]
  },
  {
   "cell_type": "code",
   "execution_count": 42,
   "id": "321af566",
   "metadata": {},
   "outputs": [],
   "source": [
    "auc_thres_lightgbm = []\n",
    "for thres in thresh1:\n",
    "    y_pred = np.where(y_pred_prob[:,1] > thres,1,0)\n",
    "    auc_thres_lightgbm.append(roc_auc_score(y_test, y_pred))\n",
    "    \n",
    "auc_lgb = pd.concat([pd.Series(thresh1), pd.Series(fpr1), pd.Series(tpr1), pd.Series(auc_thres_lightgbm)],\n",
    "                        axis = 1)\n",
    "auc_lgb.columns = ['Thresholds', 'FPR', 'TPR', 'AUC']\n",
    "auc_lgb.sort_values(by ='AUC', ascending = False, inplace = True)\n",
    "auc_lgb.reset_index(drop = True,inplace = True)"
   ]
  },
  {
   "cell_type": "code",
   "execution_count": 43,
   "id": "24da2138",
   "metadata": {},
   "outputs": [
    {
     "data": {
      "text/plain": [
       "0.8647695995433698"
      ]
     },
     "execution_count": 43,
     "metadata": {},
     "output_type": "execute_result"
    }
   ],
   "source": [
    "auc_lgb['Thresholds'][0]\n",
    "# 以AUC最大值作為Thresholds"
   ]
  },
  {
   "cell_type": "code",
   "execution_count": 44,
   "id": "3ad2f0ae",
   "metadata": {
    "scrolled": false
   },
   "outputs": [
    {
     "data": {
      "image/png": "[encoded data removed]",
      "text/plain": [
       "<Figure size 576x360 with 2 Axes>"
      ]
     },
     "metadata": {},
     "output_type": "display_data"
    }
   ],
   "source": [
    "predictions_nominal1 = [ 1 if x > 0.4 else 0 for x in y_pred_prob[:,1]]\n",
    "cnf_matrix2 = confusion_matrix(y_test, predictions_nominal1 , labels=[0, 1])  \n",
    "plt.figure(figsize=(8, 5))\n",
    "fig=plot_confusion_matrix(cnf_matrix2, classes=[0, 1])\n",
    "plt.savefig('test_cm_lgb.jpg')"
   ]
  },
  {
   "cell_type": "code",
   "execution_count": 45,
   "id": "827f860f",
   "metadata": {},
   "outputs": [],
   "source": [
    "recall_test_lgb=cnf_matrix2[1][1]/(cnf_matrix2[1][0]+cnf_matrix2[1][1])"
   ]
  },
  {
   "cell_type": "code",
   "execution_count": 46,
   "id": "247671c5",
   "metadata": {},
   "outputs": [
    {
     "data": {
      "text/plain": [
       "0.631578947368421"
      ]
     },
     "execution_count": 46,
     "metadata": {},
     "output_type": "execute_result"
    }
   ],
   "source": [
    "recall_test_lgb"
   ]
  },
  {
   "cell_type": "markdown",
   "id": "1e951db9",
   "metadata": {},
   "source": [
    "- Random forest training set threshold"
   ]
  },
  {
   "cell_type": "code",
   "execution_count": 47,
   "id": "91294d33",
   "metadata": {},
   "outputs": [],
   "source": [
    "auc_train_thres_rf = []\n",
    "for thres in thresh2_0:\n",
    "    y_train_pred2 = np.where(y_train_pred_prob2[:,1] > thres,1,0)\n",
    "    auc_train_thres_rf.append(roc_auc_score(y_train, y_train_pred2))\n",
    "    \n",
    "auc_train_rf = pd.concat([pd.Series(thresh2_0), pd.Series(fpr2_0), pd.Series(tpr2_0)\n",
    "                           , pd.Series(auc_train_thres_rf)],axis = 1)\n",
    "auc_train_rf.columns = ['Thresholds', 'FPR', 'TPR', 'AUC']\n",
    "auc_train_rf.sort_values(by ='AUC', ascending = False, inplace = True)\n",
    "auc_train_rf.reset_index(drop = True,inplace = True)"
   ]
  },
  {
   "cell_type": "code",
   "execution_count": 48,
   "id": "8fa0b39b",
   "metadata": {},
   "outputs": [
    {
     "data": {
      "text/plain": [
       "0.6508670006984575"
      ]
     },
     "execution_count": 48,
     "metadata": {},
     "output_type": "execute_result"
    }
   ],
   "source": [
    "auc_train_rf['Thresholds'][0]\n",
    "# 以AUC最大值作為Thresholds"
   ]
  },
  {
   "cell_type": "code",
   "execution_count": 49,
   "id": "6b4194d2",
   "metadata": {},
   "outputs": [
    {
     "data": {
      "image/png": "[encoded data removed]",
      "text/plain": [
       "<Figure size 576x360 with 2 Axes>"
      ]
     },
     "metadata": {},
     "output_type": "display_data"
    }
   ],
   "source": [
    "predictions_nominal2_0 = [ 1 if x > 0.4 else 0 for x in y_train_pred_prob2[:,1]]\n",
    "cnf_matrix3 = confusion_matrix(y_train, predictions_nominal2_0 , labels=[0, 1])  \n",
    "plt.figure(figsize=(8, 5))\n",
    "fig=plot_confusion_matrix(cnf_matrix3, classes=[0, 1])\n",
    "plt.savefig('train_cm_rf.jpg')"
   ]
  },
  {
   "cell_type": "code",
   "execution_count": 50,
   "id": "fc09c19f",
   "metadata": {},
   "outputs": [],
   "source": [
    "recall_train_rf=cnf_matrix3[1][1]/(cnf_matrix3[1][0]+cnf_matrix3[1][1])"
   ]
  },
  {
   "cell_type": "code",
   "execution_count": 51,
   "id": "d09c4c7f",
   "metadata": {},
   "outputs": [
    {
     "data": {
      "text/plain": [
       "0.9790575916230366"
      ]
     },
     "execution_count": 51,
     "metadata": {},
     "output_type": "execute_result"
    }
   ],
   "source": [
    "recall_train_rf"
   ]
  },
  {
   "cell_type": "markdown",
   "id": "13b56727",
   "metadata": {},
   "source": [
    "- Random Forest testing set threshold"
   ]
  },
  {
   "cell_type": "code",
   "execution_count": 52,
   "id": "0d565ae6",
   "metadata": {},
   "outputs": [],
   "source": [
    "auc_thres_rf = []\n",
    "for thres in thresh2:\n",
    "    y_pred2 = np.where(y_pred_prob2[:,1] > thres,1,0)\n",
    "    auc_thres_rf.append(roc_auc_score(y_test, y_pred2))\n",
    "    \n",
    "auc_rf = pd.concat([pd.Series(thresh2), pd.Series(fpr2), pd.Series(tpr2), pd.Series(auc_thres_rf)],\n",
    "                        axis = 1)\n",
    "auc_rf.columns = ['Thresholds', 'FPR', 'TPR', 'AUC']\n",
    "auc_rf.sort_values(by ='AUC', ascending = False, inplace = True)\n",
    "auc_rf.reset_index(drop = True,inplace = True)"
   ]
  },
  {
   "cell_type": "code",
   "execution_count": 53,
   "id": "a7f5f107",
   "metadata": {},
   "outputs": [
    {
     "data": {
      "text/plain": [
       "0.7924965918198223"
      ]
     },
     "execution_count": 53,
     "metadata": {},
     "output_type": "execute_result"
    }
   ],
   "source": [
    "auc_rf['Thresholds'][0]\n",
    "# 以AUC最大值作為Thresholds"
   ]
  },
  {
   "cell_type": "code",
   "execution_count": 54,
   "id": "f90d45dc",
   "metadata": {
    "scrolled": false
   },
   "outputs": [
    {
     "data": {
      "image/png": "[encoded data removed]",
      "text/plain": [
       "<Figure size 576x360 with 2 Axes>"
      ]
     },
     "metadata": {},
     "output_type": "display_data"
    }
   ],
   "source": [
    "predictions_nominal2 = [ 1 if x > 0.4 else 0 for x in y_pred_prob2[:,1]]\n",
    "cnf_matrix4 = confusion_matrix(y_test, predictions_nominal2 , labels=[0, 1])  \n",
    "plt.figure(figsize=(8, 5))\n",
    "fig=plot_confusion_matrix(cnf_matrix4, classes=[0, 1])\n",
    "plt.savefig('test_cm_rf.jpg')"
   ]
  },
  {
   "cell_type": "code",
   "execution_count": 55,
   "id": "6518c4b0",
   "metadata": {},
   "outputs": [],
   "source": [
    "recall_test_rf=cnf_matrix4[1][1]/(cnf_matrix4[1][0]+cnf_matrix4[1][1])"
   ]
  },
  {
   "cell_type": "code",
   "execution_count": 56,
   "id": "475c1237",
   "metadata": {},
   "outputs": [
    {
     "data": {
      "text/plain": [
       "0.6842105263157895"
      ]
     },
     "execution_count": 56,
     "metadata": {},
     "output_type": "execute_result"
    }
   ],
   "source": [
    "recall_test_rf"
   ]
  },
  {
   "cell_type": "markdown",
   "id": "f97e8114",
   "metadata": {},
   "source": [
    "- Catboost training set threshold"
   ]
  },
  {
   "cell_type": "code",
   "execution_count": 57,
   "id": "bfa2face",
   "metadata": {},
   "outputs": [],
   "source": [
    "auc_train_thres_cat = []\n",
    "for thres in thresh3_0:\n",
    "    y_train_pred3 = np.where(y_train_pred_prob3[:,1] > thres,1,0)\n",
    "    auc_train_thres_cat.append(roc_auc_score(y_train, y_train_pred3))\n",
    "    \n",
    "auc_train_cat = pd.concat([pd.Series(thresh3_0), pd.Series(fpr3_0), pd.Series(tpr3_0)\n",
    "                           , pd.Series(auc_train_thres_cat)],axis = 1)\n",
    "auc_train_cat.columns = ['Thresholds', 'FPR', 'TPR', 'AUC']\n",
    "auc_train_cat.sort_values(by ='AUC', ascending = False, inplace = True)\n",
    "auc_train_cat.reset_index(drop = True,inplace = True)"
   ]
  },
  {
   "cell_type": "code",
   "execution_count": 58,
   "id": "fea5f85b",
   "metadata": {},
   "outputs": [
    {
     "data": {
      "text/plain": [
       "0.5603010902571974"
      ]
     },
     "execution_count": 58,
     "metadata": {},
     "output_type": "execute_result"
    }
   ],
   "source": [
    "auc_train_cat['Thresholds'][0]\n",
    "# 以AUC最大值作為Thresholds"
   ]
  },
  {
   "cell_type": "code",
   "execution_count": 59,
   "id": "d6d188a3",
   "metadata": {},
   "outputs": [
    {
     "data": {
      "image/png": "[encoded data removed]",
      "text/plain": [
       "<Figure size 576x360 with 2 Axes>"
      ]
     },
     "metadata": {},
     "output_type": "display_data"
    }
   ],
   "source": [
    "predictions_nominal3_0 = [ 1 if x > 0.4 else 0 for x in y_train_pred_prob3[:,1]]\n",
    "cnf_matrix5 = confusion_matrix(y_train, predictions_nominal3_0 , labels=[0, 1])  \n",
    "plt.figure(figsize=(8, 5))\n",
    "fig=plot_confusion_matrix(cnf_matrix5, classes=[0, 1])\n",
    "plt.savefig('train_cm_cat.jpg')"
   ]
  },
  {
   "cell_type": "code",
   "execution_count": 60,
   "id": "6c9c56cd",
   "metadata": {},
   "outputs": [],
   "source": [
    "recall_train_cat=cnf_matrix5[1][1]/(cnf_matrix5[1][0]+cnf_matrix5[1][1])"
   ]
  },
  {
   "cell_type": "code",
   "execution_count": 61,
   "id": "5db237b2",
   "metadata": {},
   "outputs": [
    {
     "data": {
      "text/plain": [
       "1.0"
      ]
     },
     "execution_count": 61,
     "metadata": {},
     "output_type": "execute_result"
    }
   ],
   "source": [
    "recall_train_cat"
   ]
  },
  {
   "cell_type": "markdown",
   "id": "5b2d5d45",
   "metadata": {},
   "source": [
    "- Catboost testing set threshold"
   ]
  },
  {
   "cell_type": "code",
   "execution_count": 62,
   "id": "9d3811f5",
   "metadata": {},
   "outputs": [],
   "source": [
    "auc_thres_cat = []\n",
    "for thres in thresh3:\n",
    "    y_pred3 = np.where(y_pred_prob3[:,1] > thres,1,0)\n",
    "    auc_thres_cat.append(roc_auc_score(y_test, y_pred3))\n",
    "    \n",
    "auc_cat = pd.concat([pd.Series(thresh3), pd.Series(fpr3), pd.Series(tpr3), pd.Series(auc_thres_cat)],\n",
    "                        axis = 1)\n",
    "auc_cat.columns = ['Thresholds', 'FPR', 'TPR', 'AUC']\n",
    "auc_cat.sort_values(by ='AUC', ascending = False, inplace = True)\n",
    "auc_cat.reset_index(drop = True,inplace = True)"
   ]
  },
  {
   "cell_type": "code",
   "execution_count": 63,
   "id": "84edbfde",
   "metadata": {},
   "outputs": [
    {
     "data": {
      "text/plain": [
       "0.8877644019781092"
      ]
     },
     "execution_count": 63,
     "metadata": {},
     "output_type": "execute_result"
    }
   ],
   "source": [
    "auc_cat['Thresholds'][0]\n",
    "# 以AUC最大值作為Thresholds"
   ]
  },
  {
   "cell_type": "code",
   "execution_count": 64,
   "id": "495c8b11",
   "metadata": {
    "scrolled": false
   },
   "outputs": [
    {
     "data": {
      "image/png": "[encoded data removed]",
      "text/plain": [
       "<Figure size 576x360 with 2 Axes>"
      ]
     },
     "metadata": {},
     "output_type": "display_data"
    }
   ],
   "source": [
    "predictions_nominal3 = [ 1 if x > 0.4 else 0 for x in y_pred_prob3[:,1]]\n",
    "cnf_matrix6 = confusion_matrix(y_test, predictions_nominal3 , labels=[0, 1])  \n",
    "plt.figure(figsize=(8, 5))\n",
    "fig=plot_confusion_matrix(cnf_matrix6, classes=[0, 1])\n",
    "plt.savefig('test_cm_cat.jpg')"
   ]
  },
  {
   "cell_type": "code",
   "execution_count": 65,
   "id": "68544a05",
   "metadata": {},
   "outputs": [],
   "source": [
    "recall_test_cat=cnf_matrix6[1][1]/(cnf_matrix6[1][0]+cnf_matrix6[1][1])"
   ]
  },
  {
   "cell_type": "code",
   "execution_count": 66,
   "id": "6d7af022",
   "metadata": {},
   "outputs": [
    {
     "data": {
      "text/plain": [
       "0.6842105263157895"
      ]
     },
     "execution_count": 66,
     "metadata": {},
     "output_type": "execute_result"
    }
   ],
   "source": [
    "recall_test_cat"
   ]
  },
  {
   "cell_type": "code",
   "execution_count": null,
   "id": "39ee91eb",
   "metadata": {},
   "outputs": [],
   "source": [
    "\n"
   ]
  },
  {
   "cell_type": "code",
   "execution_count": null,
   "id": "18dc65bb",
   "metadata": {},
   "outputs": [],
   "source": []
  },
  {
   "cell_type": "markdown",
   "id": "247e7585",
   "metadata": {},
   "source": [
    "#### Ensemble method within lightGBM, Random Forest, catBoost"
   ]
  },
  {
   "cell_type": "code",
   "execution_count": 67,
   "id": "46e00187",
   "metadata": {},
   "outputs": [],
   "source": [
    "#from sklearn.ensemble import VotingClassifier\n",
    "#clf1 = VotingClassifier(estimators=[('lgb', clf), ('rf', bagging), ('cat', cat)], voting='hard')"
   ]
  },
  {
   "cell_type": "code",
   "execution_count": 68,
   "id": "4e5125f9",
   "metadata": {},
   "outputs": [
    {
     "name": "stdout",
     "output_type": "stream",
     "text": [
      "Ensemble training roc-auc: 0.9955319207258574\n",
      "Ensemble test roc-auc: 0.7716165413533834\n"
     ]
    }
   ],
   "source": [
    "# Taking the mean of the predictions made by all the models\n",
    "ensemble_train_pred=[]\n",
    "ensemble_pred = []\n",
    "for model in [clf,bagging,cat]:\n",
    "    ensemble_train_pred.append(pd.Series(model.predict_proba(X_train)[:,1]))\n",
    "    ensemble_pred.append(pd.Series(model.predict_proba(X_test)[:,1]))\n",
    "finaltrain_prediction = pd.concat(ensemble_train_pred,axis = 1).mean(axis = 1)\n",
    "finaltest_prediction = pd.concat(ensemble_pred,axis = 1).mean(axis = 1)\n",
    "print(f\"Ensemble training roc-auc: {roc_auc_score(y_train,finaltrain_prediction)}\")\n",
    "print(f\"Ensemble test roc-auc: {roc_auc_score(y_test,finaltest_prediction)}\")"
   ]
  },
  {
   "cell_type": "code",
   "execution_count": 69,
   "id": "9881a7d8",
   "metadata": {},
   "outputs": [],
   "source": [
    "fpr4, tpr4, thresh4 = roc_curve(y_test,finaltest_prediction)\n",
    "\n",
    "fpr4_0, tpr4_0, thresh4_0 = roc_curve(y_train,finaltrain_prediction)"
   ]
  },
  {
   "cell_type": "markdown",
   "id": "9348e8e6",
   "metadata": {},
   "source": [
    "- Ensemble in training set"
   ]
  },
  {
   "cell_type": "code",
   "execution_count": 70,
   "id": "3ce2d80c",
   "metadata": {},
   "outputs": [],
   "source": [
    "auc_train_thres_ensemble = []\n",
    "for thres in thresh4_0:\n",
    "    y_train_pred4 = np.where(finaltrain_prediction> thres,1,0)\n",
    "    auc_train_thres_ensemble.append(roc_auc_score(y_train, y_train_pred4))\n",
    "    \n",
    "auc_train_ensemble = pd.concat([pd.Series(thresh4_0), pd.Series(fpr4_0), pd.Series(tpr4_0)\n",
    "                                , pd.Series(auc_train_thres_ensemble)],axis = 1)\n",
    "auc_train_ensemble.columns = ['Thresholds', 'FPR', 'TPR', 'AUC']\n",
    "auc_train_ensemble.sort_values(by ='AUC', ascending = False, inplace = True)\n",
    "auc_train_ensemble.reset_index(drop = True,inplace = True)"
   ]
  },
  {
   "cell_type": "code",
   "execution_count": 71,
   "id": "217235be",
   "metadata": {},
   "outputs": [
    {
     "data": {
      "text/plain": [
       "0.6174428600319507"
      ]
     },
     "execution_count": 71,
     "metadata": {},
     "output_type": "execute_result"
    }
   ],
   "source": [
    "auc_train_ensemble['Thresholds'][0]\n",
    "# 以AUC最大值作為Thresholds"
   ]
  },
  {
   "cell_type": "code",
   "execution_count": 72,
   "id": "d9a503d8",
   "metadata": {
    "scrolled": true
   },
   "outputs": [
    {
     "data": {
      "image/png": "[encoded data removed]",
      "text/plain": [
       "<Figure size 576x360 with 2 Axes>"
      ]
     },
     "metadata": {},
     "output_type": "display_data"
    }
   ],
   "source": [
    "predictions_nominal4_0 = [ 1 if x > 0.4 else 0 for x in finaltrain_prediction]\n",
    "cnf_matrix7 = confusion_matrix(y_train, predictions_nominal4_0 , labels=[0, 1])  \n",
    "plt.figure(figsize=(8, 5))\n",
    "fig=plot_confusion_matrix(cnf_matrix7, classes=[0, 1])\n",
    "plt.savefig('train_cm_en.jpg')"
   ]
  },
  {
   "cell_type": "code",
   "execution_count": 73,
   "id": "1d7fdde8",
   "metadata": {},
   "outputs": [],
   "source": [
    "recall_train_en=cnf_matrix7[1][1]/(cnf_matrix7[1][0]+cnf_matrix7[1][1])"
   ]
  },
  {
   "cell_type": "code",
   "execution_count": 74,
   "id": "3b00cbed",
   "metadata": {},
   "outputs": [
    {
     "data": {
      "text/plain": [
       "1.0"
      ]
     },
     "execution_count": 74,
     "metadata": {},
     "output_type": "execute_result"
    }
   ],
   "source": [
    "recall_train_en"
   ]
  },
  {
   "cell_type": "markdown",
   "id": "b2f45cbd",
   "metadata": {},
   "source": [
    "- Ensemble in testing set"
   ]
  },
  {
   "cell_type": "code",
   "execution_count": 75,
   "id": "0dc68332",
   "metadata": {},
   "outputs": [],
   "source": [
    "auc_thres_ensemble = []\n",
    "for thres in thresh4:\n",
    "    y_pred4 = np.where(finaltest_prediction> thres,1,0)\n",
    "    auc_thres_ensemble.append(roc_auc_score(y_test, y_pred4))\n",
    "    \n",
    "auc_ensemble = pd.concat([pd.Series(thresh4), pd.Series(fpr4), pd.Series(tpr4), pd.Series(auc_thres_ensemble)],\n",
    "                        axis = 1)\n",
    "auc_ensemble.columns = ['Thresholds', 'FPR', 'TPR', 'AUC']\n",
    "auc_ensemble.sort_values(by ='AUC', ascending = False, inplace = True)\n",
    "auc_ensemble.reset_index(drop = True,inplace = True)"
   ]
  },
  {
   "cell_type": "code",
   "execution_count": 76,
   "id": "44cf5071",
   "metadata": {},
   "outputs": [
    {
     "data": {
      "text/plain": [
       "0.8609362684098326"
      ]
     },
     "execution_count": 76,
     "metadata": {},
     "output_type": "execute_result"
    }
   ],
   "source": [
    "auc_ensemble['Thresholds'][0]\n",
    "# 以AUC最大值作為Thresholds"
   ]
  },
  {
   "cell_type": "code",
   "execution_count": 77,
   "id": "c8ebe118",
   "metadata": {
    "scrolled": true
   },
   "outputs": [
    {
     "data": {
      "image/png": "[encoded data removed]",
      "text/plain": [
       "<Figure size 576x360 with 2 Axes>"
      ]
     },
     "metadata": {},
     "output_type": "display_data"
    }
   ],
   "source": [
    "predictions_nominal4 = [ 1 if x > 0.4 else 0 for x in finaltest_prediction]\n",
    "cnf_matrix8 = confusion_matrix(y_test, predictions_nominal4 , labels=[0, 1])  \n",
    "plt.figure(figsize=(8, 5))\n",
    "fig=plot_confusion_matrix(cnf_matrix8, classes=[0, 1])\n",
    "plt.savefig('test_cm_en.jpg')"
   ]
  },
  {
   "cell_type": "code",
   "execution_count": 78,
   "id": "bf348990",
   "metadata": {},
   "outputs": [],
   "source": [
    "recall_test_en=cnf_matrix8[1][1]/(cnf_matrix8[1][0]+cnf_matrix8[1][1])"
   ]
  },
  {
   "cell_type": "code",
   "execution_count": 79,
   "id": "26852b14",
   "metadata": {},
   "outputs": [
    {
     "data": {
      "text/plain": [
       "0.6842105263157895"
      ]
     },
     "execution_count": 79,
     "metadata": {},
     "output_type": "execute_result"
    }
   ],
   "source": [
    "recall_test_en"
   ]
  },
  {
   "cell_type": "code",
   "execution_count": 80,
   "id": "e36e1c6e",
   "metadata": {},
   "outputs": [
    {
     "name": "stderr",
     "output_type": "stream",
     "text": [
      "C:\\Users\\l8902\\AppData\\Local\\Temp\\ipykernel_22664\\970778265.py:12: MatplotlibDeprecationWarning: The seaborn styles shipped by Matplotlib are deprecated since 3.6, as they no longer correspond to the styles shipped by seaborn. However, they will remain available as 'seaborn-v0_8-<style>'. Alternatively, directly use the seaborn API instead.\n",
      "  plt.style.use('seaborn')\n"
     ]
    },
    {
     "data": {
      "image/png": "[encoded data removed]",
      "text/plain": [
       "<Figure size 576x396 with 1 Axes>"
      ]
     },
     "metadata": {},
     "output_type": "display_data"
    }
   ],
   "source": [
    "from sklearn.metrics import roc_curve, roc_auc_score\n",
    "\n",
    "random_probs = [0 for i in range(len(y_train))]\n",
    "p_fpr, p_tpr, _ = roc_curve(y_train, random_probs)\n",
    "# roc curve for models\n",
    "fpr0, tpr0, thresh0 = roc_curve(y_train, finaltrain_prediction)\n",
    "fpr1_0, tpr1_0, thresh1_0 = roc_curve(y_train, y_train_pred_prob[:,1])\n",
    "fpr2_0, tpr2_0, thresh2_0 = roc_curve(y_train, y_train_pred_prob2[:,1])\n",
    "fpr3_0, tpr3_0, thresh3_0 = roc_curve(y_train, y_train_pred_prob3[:,1])\n",
    "# matplotlib\n",
    "import matplotlib.pyplot as plt\n",
    "plt.style.use('seaborn')\n",
    "\n",
    "# plot roc curves\n",
    "plt.plot(fpr0, tpr0, linestyle='--',color='purple', label='Ensemble')\n",
    "plt.plot(fpr1_0, tpr1_0, linestyle='--',color='orange', label='LightGBM')\n",
    "plt.plot(fpr2_0, tpr2_0, linestyle='--',color='green', label='Random Forest')\n",
    "plt.plot(fpr3_0, tpr3_0, linestyle='--',color='red', label='CatBoost')\n",
    "plt.plot(p_fpr, p_tpr, linestyle='--', color='blue')\n",
    "# title\n",
    "plt.title('ROC curve')\n",
    "# x label\n",
    "plt.xlabel('False Positive Rate')\n",
    "# y label\n",
    "plt.ylabel('True Positive rate')\n",
    "\n",
    "plt.legend(loc='best')\n",
    "plt.savefig('ROC_train_total',dpi=300)\n",
    "plt.show();"
   ]
  },
  {
   "cell_type": "code",
   "execution_count": null,
   "id": "3bf3c6e9",
   "metadata": {},
   "outputs": [],
   "source": []
  },
  {
   "cell_type": "code",
   "execution_count": 81,
   "id": "2d0b53c8",
   "metadata": {},
   "outputs": [],
   "source": [
    "thresholds_model = pd.concat([pd.Series([auc_train_lgb['Thresholds'][0],auc_lgb['Thresholds'][0]]), \n",
    "                              pd.Series([auc_train_rf['Thresholds'][0],auc_rf['Thresholds'][0]]), \n",
    "                              pd.Series([auc_train_cat['Thresholds'][0],auc_cat['Thresholds'][0]]), \n",
    "                              pd.Series([auc_train_ensemble['Thresholds'][0],auc_ensemble['Thresholds'][0]])],\n",
    "                        axis = 1)"
   ]
  },
  {
   "cell_type": "code",
   "execution_count": 82,
   "id": "3b7260f5",
   "metadata": {},
   "outputs": [],
   "source": [
    "thresholds_model.columns = ['lightgbm', 'randomforest', 'catboost', 'ensemble']"
   ]
  },
  {
   "cell_type": "code",
   "execution_count": 83,
   "id": "1956c02d",
   "metadata": {},
   "outputs": [],
   "source": [
    "thresholds_model.index = ['training','testing']"
   ]
  },
  {
   "cell_type": "code",
   "execution_count": 84,
   "id": "10c2ca78",
   "metadata": {},
   "outputs": [
    {
     "data": {
      "text/html": [
       "<div>\n",
       "<style scoped>\n",
       "    .dataframe tbody tr th:only-of-type {\n",
       "        vertical-align: middle;\n",
       "    }\n",
       "\n",
       "    .dataframe tbody tr th {\n",
       "        vertical-align: top;\n",
       "    }\n",
       "\n",
       "    .dataframe thead th {\n",
       "        text-align: right;\n",
       "    }\n",
       "</style>\n",
       "<table border=\"1\" class=\"dataframe\">\n",
       "  <thead>\n",
       "    <tr style=\"text-align: right;\">\n",
       "      <th></th>\n",
       "      <th>lightgbm</th>\n",
       "      <th>randomforest</th>\n",
       "      <th>catboost</th>\n",
       "      <th>ensemble</th>\n",
       "    </tr>\n",
       "  </thead>\n",
       "  <tbody>\n",
       "    <tr>\n",
       "      <th>training</th>\n",
       "      <td>0.53256</td>\n",
       "      <td>0.650867</td>\n",
       "      <td>0.560301</td>\n",
       "      <td>0.617443</td>\n",
       "    </tr>\n",
       "    <tr>\n",
       "      <th>testing</th>\n",
       "      <td>0.86477</td>\n",
       "      <td>0.792497</td>\n",
       "      <td>0.887764</td>\n",
       "      <td>0.860936</td>\n",
       "    </tr>\n",
       "  </tbody>\n",
       "</table>\n",
       "</div>"
      ],
      "text/plain": [
       "          lightgbm  randomforest  catboost  ensemble\n",
       "training   0.53256      0.650867  0.560301  0.617443\n",
       "testing    0.86477      0.792497  0.887764  0.860936"
      ]
     },
     "execution_count": 84,
     "metadata": {},
     "output_type": "execute_result"
    }
   ],
   "source": [
    "thresholds_model"
   ]
  },
  {
   "cell_type": "code",
   "execution_count": 85,
   "id": "4dddfda0",
   "metadata": {},
   "outputs": [
    {
     "name": "stdout",
     "output_type": "stream",
     "text": [
      "Logistic Regression train roc_auc : 0.6860009319919959\n",
      "Logistic Regression test roc_auc : 0.6466165413533834\n"
     ]
    }
   ],
   "source": [
    "from sklearn.linear_model import LogisticRegression\n",
    "log_classifier = LogisticRegression()\n",
    "log_classifier.fit(X_train, y_train)\n",
    "y_train_pred = log_classifier.predict_proba(X_train)\n",
    "y_test_pred = log_classifier.predict_proba(X_test)\n",
    "print(f\"Logistic Regression train roc_auc : {roc_auc_score(y_train, y_train_pred[:,1])}\")\n",
    "print(f\"Logistic Regression test roc_auc : {roc_auc_score(y_test, y_test_pred[:,1])}\")"
   ]
  },
  {
   "cell_type": "markdown",
   "id": "28cf7993",
   "metadata": {},
   "source": [
    "#### 所有模型的AUC"
   ]
  },
  {
   "cell_type": "code",
   "execution_count": 86,
   "id": "a0a3686f",
   "metadata": {},
   "outputs": [],
   "source": [
    "AUC_forall_model = pd.concat([pd.Series([roc_auc_score(y_train, y_train_pred[:,1]),roc_auc_score(y_test, y_test_pred[:,1])]),\n",
    "pd.Series([roc_auc_score(y_train, y_train_pred_prob[:,1]),roc_auc_score(y_test, y_pred_prob[:,1])]),\n",
    "pd.Series([roc_auc_score(y_train, y_train_pred_prob2[:,1]),roc_auc_score(y_test, y_pred_prob2[:,1])]),\n",
    "pd.Series([roc_auc_score(y_train, y_train_pred_prob3[:,1]),roc_auc_score(y_test, y_pred_prob3[:,1])]),\n",
    "pd.Series([roc_auc_score(y_train,finaltrain_prediction),roc_auc_score(y_test,finaltest_prediction)])],axis=1)\n",
    "\n",
    "AUC_forall_model.columns = ['logistic','lightgbm', 'randomforest', 'catboost', 'ensemble']\n",
    "AUC_forall_model.index = ['training','testing']"
   ]
  },
  {
   "cell_type": "code",
   "execution_count": 87,
   "id": "896bf218",
   "metadata": {
    "scrolled": true
   },
   "outputs": [
    {
     "data": {
      "text/html": [
       "<div>\n",
       "<style scoped>\n",
       "    .dataframe tbody tr th:only-of-type {\n",
       "        vertical-align: middle;\n",
       "    }\n",
       "\n",
       "    .dataframe tbody tr th {\n",
       "        vertical-align: top;\n",
       "    }\n",
       "\n",
       "    .dataframe thead th {\n",
       "        text-align: right;\n",
       "    }\n",
       "</style>\n",
       "<table border=\"1\" class=\"dataframe\">\n",
       "  <thead>\n",
       "    <tr style=\"text-align: right;\">\n",
       "      <th></th>\n",
       "      <th>logistic</th>\n",
       "      <th>lightgbm</th>\n",
       "      <th>randomforest</th>\n",
       "      <th>catboost</th>\n",
       "      <th>ensemble</th>\n",
       "    </tr>\n",
       "  </thead>\n",
       "  <tbody>\n",
       "    <tr>\n",
       "      <th>training</th>\n",
       "      <td>0.686001</td>\n",
       "      <td>0.996327</td>\n",
       "      <td>0.972040</td>\n",
       "      <td>0.998246</td>\n",
       "      <td>0.995532</td>\n",
       "    </tr>\n",
       "    <tr>\n",
       "      <th>testing</th>\n",
       "      <td>0.646617</td>\n",
       "      <td>0.767857</td>\n",
       "      <td>0.737782</td>\n",
       "      <td>0.781955</td>\n",
       "      <td>0.771617</td>\n",
       "    </tr>\n",
       "  </tbody>\n",
       "</table>\n",
       "</div>"
      ],
      "text/plain": [
       "          logistic  lightgbm  randomforest  catboost  ensemble\n",
       "training  0.686001  0.996327      0.972040  0.998246  0.995532\n",
       "testing   0.646617  0.767857      0.737782  0.781955  0.771617"
      ]
     },
     "execution_count": 87,
     "metadata": {},
     "output_type": "execute_result"
    }
   ],
   "source": [
    "AUC_forall_model"
   ]
  },
  {
   "cell_type": "code",
   "execution_count": 94,
   "id": "73a10a1e",
   "metadata": {},
   "outputs": [],
   "source": [
    "recall = pd.concat([pd.Series([recall_train_lgb,recall_test_lgb]), \n",
    "                              pd.Series([recall_train_rf,recall_test_rf]), \n",
    "                              pd.Series([recall_train_cat,recall_test_cat]), \n",
    "                              pd.Series([recall_train_cat,recall_test_en])],\n",
    "                        axis = 1)"
   ]
  },
  {
   "cell_type": "code",
   "execution_count": 95,
   "id": "cb9721fb",
   "metadata": {},
   "outputs": [],
   "source": [
    "recall.columns = ['lightgbm', 'randomforest', 'catboost', 'ensemble']"
   ]
  },
  {
   "cell_type": "code",
   "execution_count": 96,
   "id": "7367a5bc",
   "metadata": {},
   "outputs": [],
   "source": [
    "recall.index = ['training','testing']"
   ]
  },
  {
   "cell_type": "code",
   "execution_count": 97,
   "id": "79840341",
   "metadata": {},
   "outputs": [
    {
     "data": {
      "text/html": [
       "<div>\n",
       "<style scoped>\n",
       "    .dataframe tbody tr th:only-of-type {\n",
       "        vertical-align: middle;\n",
       "    }\n",
       "\n",
       "    .dataframe tbody tr th {\n",
       "        vertical-align: top;\n",
       "    }\n",
       "\n",
       "    .dataframe thead th {\n",
       "        text-align: right;\n",
       "    }\n",
       "</style>\n",
       "<table border=\"1\" class=\"dataframe\">\n",
       "  <thead>\n",
       "    <tr style=\"text-align: right;\">\n",
       "      <th></th>\n",
       "      <th>lightgbm</th>\n",
       "      <th>randomforest</th>\n",
       "      <th>catboost</th>\n",
       "      <th>ensemble</th>\n",
       "    </tr>\n",
       "  </thead>\n",
       "  <tbody>\n",
       "    <tr>\n",
       "      <th>training</th>\n",
       "      <td>0.994764</td>\n",
       "      <td>0.979058</td>\n",
       "      <td>1.000000</td>\n",
       "      <td>1.000000</td>\n",
       "    </tr>\n",
       "    <tr>\n",
       "      <th>testing</th>\n",
       "      <td>0.631579</td>\n",
       "      <td>0.684211</td>\n",
       "      <td>0.684211</td>\n",
       "      <td>0.684211</td>\n",
       "    </tr>\n",
       "  </tbody>\n",
       "</table>\n",
       "</div>"
      ],
      "text/plain": [
       "          lightgbm  randomforest  catboost  ensemble\n",
       "training  0.994764      0.979058  1.000000  1.000000\n",
       "testing   0.631579      0.684211  0.684211  0.684211"
      ]
     },
     "execution_count": 97,
     "metadata": {},
     "output_type": "execute_result"
    }
   ],
   "source": [
    "recall"
   ]
  },
  {
   "cell_type": "code",
   "execution_count": 92,
   "id": "9882c22d",
   "metadata": {},
   "outputs": [
    {
     "name": "stderr",
     "output_type": "stream",
     "text": [
      "C:\\Users\\l8902\\AppData\\Local\\Temp\\ipykernel_22664\\796175228.py:12: MatplotlibDeprecationWarning: The seaborn styles shipped by Matplotlib are deprecated since 3.6, as they no longer correspond to the styles shipped by seaborn. However, they will remain available as 'seaborn-v0_8-<style>'. Alternatively, directly use the seaborn API instead.\n",
      "  plt.style.use('seaborn')\n"
     ]
    },
    {
     "data": {
      "image/png": "[encoded data removed]",
      "text/plain": [
       "<Figure size 576x396 with 1 Axes>"
      ]
     },
     "metadata": {},
     "output_type": "display_data"
    }
   ],
   "source": [
    "from sklearn.metrics import roc_curve, roc_auc_score\n",
    "\n",
    "random_probs = [0 for i in range(len(y_train))]\n",
    "p_fpr, p_tpr, _ = roc_curve(y_train, random_probs)\n",
    "# roc curve for models\n",
    "fpr0, tpr0, thresh0 = roc_curve(y_train, finaltrain_prediction)\n",
    "fpr1_0, tpr1_0, thresh1_0 = roc_curve(y_train, y_train_pred_prob[:,1])\n",
    "fpr2_0, tpr2_0, thresh2_0 = roc_curve(y_train, y_train_pred_prob2[:,1])\n",
    "fpr3_0, tpr3_0, thresh3_0 = roc_curve(y_train, y_train_pred_prob3[:,1])\n",
    "# matplotlib\n",
    "import matplotlib.pyplot as plt\n",
    "plt.style.use('seaborn')\n",
    "\n",
    "# plot roc curves\n",
    "plt.plot(fpr0, tpr0, linestyle='--',color='purple', label=f\"Ensemble(AUC = {roc_auc_score(y_train,finaltrain_prediction):.3f}\")\n",
    "plt.plot(fpr1_0, tpr1_0, linestyle='--',color='orange', label=f'LightGBM(AUC = {roc_auc_score(y_train, y_train_pred_prob[:,1]):.3f}')\n",
    "plt.plot(fpr2_0, tpr2_0, linestyle='--',color='green', label=f'Random Forest(AUC = {roc_auc_score(y_train, y_train_pred_prob2[:,1]):.3f}')\n",
    "plt.plot(fpr3_0, tpr3_0, linestyle='--',color='red', label=f'CatBoost(AUC = {roc_auc_score(y_train, y_train_pred_prob3[:,1]):.3f}')\n",
    "plt.plot(p_fpr, p_tpr, linestyle='--', color='blue')\n",
    "# title\n",
    "plt.title('ROC curve')\n",
    "# x label\n",
    "plt.xlabel('False Positive Rate')\n",
    "# y label\n",
    "plt.ylabel('True Positive rate')\n",
    "\n",
    "plt.legend(loc='best')\n",
    "plt.savefig('ROC_train_total',dpi=300)\n",
    "plt.show();"
   ]
  },
  {
   "cell_type": "code",
   "execution_count": 91,
   "id": "3e96b131",
   "metadata": {},
   "outputs": [
    {
     "name": "stderr",
     "output_type": "stream",
     "text": [
      "C:\\Users\\l8902\\AppData\\Local\\Temp\\ipykernel_22664\\2258057863.py:9: MatplotlibDeprecationWarning: The seaborn styles shipped by Matplotlib are deprecated since 3.6, as they no longer correspond to the styles shipped by seaborn. However, they will remain available as 'seaborn-v0_8-<style>'. Alternatively, directly use the seaborn API instead.\n",
      "  plt.style.use('seaborn')\n"
     ]
    },
    {
     "data": {
      "image/png": "[encoded data removed]",
      "text/plain": [
       "<Figure size 576x396 with 1 Axes>"
      ]
     },
     "metadata": {},
     "output_type": "display_data"
    }
   ],
   "source": [
    "from sklearn.metrics import roc_curve, roc_auc_score\n",
    "\n",
    "random_probs = [0 for i in range(len(y_test))]\n",
    "p_fpr, p_tpr, _ = roc_curve(y_test, random_probs)\n",
    "# roc curve for models\n",
    "fpr, tpr, thresh = roc_curve(y_test, finaltest_prediction)\n",
    "# matplotlib\n",
    "import matplotlib.pyplot as plt\n",
    "plt.style.use('seaborn')\n",
    "\n",
    "# plot roc curves\n",
    "plt.plot(fpr, tpr, linestyle='--',color='purple', label=f\"Ensemble(AUC = {roc_auc_score(y_test,finaltest_prediction):.3f})\")\n",
    "plt.plot(fpr1, tpr1, linestyle='--',color='orange', label=f\"LightGBM(AUC = {roc_auc_score(y_test, y_pred_prob[:,1]):.3f})\")\n",
    "plt.plot(fpr2, tpr2, linestyle='--',color='green', label=f\"Random Forest(AUC = {roc_auc_score(y_test, y_pred_prob2[:,1]):.3f})\")\n",
    "plt.plot(fpr3, tpr3, linestyle='--',color='red', label=f\"CatBoost(AUC = {roc_auc_score(y_test, y_pred_prob3[:,1]):.3f})\")\n",
    "plt.plot(p_fpr, p_tpr, linestyle='--', color='blue')\n",
    "# title\n",
    "plt.title('ROC curve')\n",
    "# x label\n",
    "plt.xlabel('False Positive Rate')\n",
    "# y label\n",
    "plt.ylabel('True Positive rate')\n",
    "\n",
    "plt.legend(loc='best')\n",
    "plt.savefig('ROC_total',dpi=300)\n",
    "plt.show();"
   ]
  },
  {
   "cell_type": "markdown",
   "id": "b363730b",
   "metadata": {},
   "source": [
    "### 整理數據(NA跟轉類別...)"
   ]
  },
  {
   "cell_type": "markdown",
   "id": "86321ecd",
   "metadata": {},
   "source": [
    "### 模型排/挑變數  -->  第二輪刪變數        \n",
    "\n",
    "+ 變數重要性(隨機森林/LDA)  -->  模型覺得重要的變數 (forward/backward)\n",
    " "
   ]
  },
  {
   "cell_type": "code",
   "execution_count": null,
   "id": "e5317c1f",
   "metadata": {},
   "outputs": [],
   "source": []
  },
  {
   "cell_type": "code",
   "execution_count": null,
   "id": "a3513da3",
   "metadata": {},
   "outputs": [],
   "source": []
  },
  {
   "cell_type": "code",
   "execution_count": null,
   "id": "50db51c2",
   "metadata": {},
   "outputs": [],
   "source": []
  },
  {
   "cell_type": "code",
   "execution_count": null,
   "id": "5f6375c6",
   "metadata": {},
   "outputs": [],
   "source": []
  },
  {
   "cell_type": "markdown",
   "id": "a508f321",
   "metadata": {},
   "source": [
    "## 數據集"
   ]
  },
  {
   "cell_type": "markdown",
   "id": "5f522f63",
   "metadata": {},
   "source": [
    "1. Study.ID : 全都是lihc_tcga (刪)\n",
    "2. Patient.ID : 病人ID        (刪)\n",
    "3. Sample.ID : 病人ID(第幾次測量)，第 156,157 & 378,379 (第一行為column name)\n",
    "4. Ablation.embolization.tx.adjuvant : 消融(剝蝕).栓塞.tx.佐(輔助)劑，(類別，Yes/No)\n",
    "\n",
    "```\n",
    "消融和栓塞治療是破壞腫瘤的不同方法，\n",
    "用於幫助預防或緩解症狀，並且通常與其他類型的治療一起使用。\n",
    "```\n",
    "\n",
    "5. AFP.At.Procurement : 採購AFP(甲型胎兒蛋白)，(int.)\n",
    "\n",
    "```\n",
    "AFP 是人類發現的第一個具有臨床應用價值的腫瘤標誌物。\n",
    "AFP 具有通過抑制樹突狀細胞、自然殺傷細胞和 T 淋巴細胞的功能來誘導免疫逃逸的能力。\n",
    "通過體外修飾，可以增強AFP的免疫原性和免疫應答。\n",
    "AFP修飾的免疫細胞疫苗或多肽疫苗顯示出對AFP陽性腫瘤細胞的特異性抗腫瘤免疫，\n",
    "為肝癌的免疫治療奠定了更好的基礎。\n",
    "AFP : 被常規用作肝細胞癌 (HCC) 篩查、診斷和治療隨訪的腫瘤標誌物。\n",
    "然而，相當大比例的 HCC 患者即使處於晚期疾病狀態也具有正常的 AFP 水平，正常值應小於20ng/ml\n",
    "```\n",
    "\n",
    "6. AFP.Normal.Range.Lower.Bound : 正常範圍下界(int)\n",
    "7. AFP.Normal.Range.Higher.Bound : 正常範圍上界(int)\n",
    "\n",
    "```\n",
    "AFP，1.31–7.89 ng/ml（男性）和 1.01–7.10 ng/ml（女性）\n",
    "```\n",
    "\n",
    "8. Diagnosis.Age : 診斷.年齡(int)\n",
    "9. American.Joint.Committee.on.Cancer.Metastasis.Stage.Code : 美國聯合委員會癌症.轉移.分期.代碼，(類別，MX，M0，M1)\n",
    "10. Neoplasm.Disease.Lymph.Node.Stage.American.Joint.Committee.on.Cancer.Code : 腫瘤。疾病。淋巴。節點。階段。美國癌症聯合委員會，(類別，NX，N0，N1)\n",
    "\n",
    "```\n",
    "T category 類別描述了原始（原發性）腫瘤\n",
    "TX 無法評估原發腫瘤\n",
    "T0 沒有原發腫瘤的證據\n",
    "Tis 原位癌（尚未擴散到鄰近組織的早期癌症）\n",
    "T1–T4 原發腫瘤的大小和/或範圍\n",
    "\n",
    "N category 描述癌症是否已經到達附近的淋巴結 \n",
    "NX 無法評估區域淋巴結\n",
    "N0 無區域淋巴結受累（淋巴結中未發現癌症）\n",
    "N1-N3 區域淋巴結受累（數量和/或擴散範圍）\n",
    "\n",
    "M category 表明是否存在遠處轉移（癌症擴散到身體的其他部位）\n",
    "MX 無法評估\n",
    "M0 無遠處轉移（癌症尚未擴散到身體其他部位）\n",
    "M1 遠處轉移（癌症已經擴散到身體的遠處部位）\n",
    "\n",
    "一旦確定了 T、N 和 M，就將它們組合起來，並分配一個整體階段 0、I、II、III、IV。有時這些階段也被細分，使用 IIIA 和 IIIB 等字母。\n",
    "```\n",
    "\n",
    "11. Neoplasm.Disease.Stage.American.Joint.Committee.on.Cancer.Code : 腫瘤。疾病。階段。美國人。聯合委員會。癌症代碼，(類別，癌症階段)\n",
    "\n",
    "```\n",
    "Stage 0 : 存在異常細胞，但尚未擴散到附近的組織。也稱為原位癌或 CIS。CIS 不是癌症，但它可能會變成癌症\n",
    "Stage I, Stage II, and Stage III : 癌症存在。數字越高，癌症腫瘤越大，擴散到附近組織的程度也越大\n",
    "Stage IV (may also be written as Stage 4) : 癌症已經擴散到身體的遠處\n",
    "\n",
    "數字越高，癌症越晚期。通常在第一個數字之後使用字母和數字來更詳細地描述癌症。\n",
    "例如，2 期前列腺癌可進一步分為 2A、2B 或 2C\n",
    "```\n",
    "\n",
    "12. American.Joint.Committee.on.Cancer.Publication.Version.Type : 美國人。聯合的。委員會。上。癌症.出版物.版本.類型，(類別，4th-7th)    (刪)\n",
    "\n",
    "13. American.Joint.Committee.on.Cancer.Tumor.Stage.Code : 美國人。聯合的。委員會。上。癌症。腫瘤。階段代碼，(類別，T1，T2a，T2，T3...)\n",
    "\n",
    "14. Bilirubin.Total : 總膽紅素，正常總膽紅素大約在1.2mg/dL以下，(num.)\n",
    "15. Bilirubin.Total.Norm.Range.Lower : 膽紅素.總計.正常。範圍.下限，(num.)\n",
    "16. Bilirubin.Total.Norm.Range.Upper : 膽紅素.總計.正常。範圍.上限，(num.)\n",
    "\n",
    "```\n",
    "膽紅素數值的重要性，不下於肝發炎指數\n",
    "\n",
    "1老化的紅血球分解→2形成間接膽紅素→3肝臟處理→4直接膽紅素→\n",
    "5成為膽汁的一部分→6進入膽囊→7進入十二指腸幫助消化→\n",
    "8在腸道菌的作用下變成『糞膽素』(黃色)→9隨糞便排出體外。\n",
    "\n",
    "『總膽紅素』(T-Bil，直接型膽紅素＋間接型膽紅素)\n",
    "\n",
    "1.總膽紅素(T-Bil)：濃度高時可將皮膚、眼白等染色，稱為黃疸，可能原因為：\n",
    "\n",
    "˙肝臟正常，但無法處理突然爆量的間接膽紅素(紅血球短時間內死掉太多)；\n",
    "\n",
    "˙肝臟發炎，無力處理間接膽紅素。\n",
    "\n",
    "˙常見於急性肝炎、溶血性黃疸、膽結石、膽管炎與阻塞性黃疸等。\n",
    "\n",
    "2.直接膽紅素(D-bil)：正常情況下，直接膽紅素應會釋出到膽囊，若因為肝炎、膽道阻塞，導致直接膽紅素無法釋入膽道、膽囊中，\n",
    "造成滯留肝臟而回到血液循環，血中濃度便會升高。\n",
    "```\n",
    "\n",
    "17. Cancer.Type : 癌症類型，全Hepatobiliary Cancer(肝膽癌) (刪)\n",
    "18. Cancer.Type.Detailed : (類別，肝細胞癌，肝細胞惡性腫瘤，NOS，肝細胞癌加肝內膽管癌，纖維板層癌)    (刪，80-90%以上就刪)\n",
    "19. Child.pugh.classification.grade : 肝硬化嚴重程度的 Child-Pugh 分級，(類別，A，B，C)\n",
    "\n",
    "```\n",
    "5 到 6 分被認為是 Child-Pugh A 級（代償良好的疾病）\n",
    "7 到 9 分是 B 級（顯著的功能損害），\n",
    "10 到 15 分是 C 級（失代償性疾病）。\n",
    "\n",
    "失代償是先前在補償的幫助下起作用的結構或系統的功能惡化。\n",
    "失代償可能由於疲勞，壓力，疾病或老年而發生。當系統被“補償”時，儘管存在壓力或缺陷，它也可以運行。\n",
    "\n",
    "這些等級與一年和兩年的患者存活率相關：A 級：100% 和 85%；B級：80%和60%；C類：45％和35％。\n",
    "```\n",
    "\n",
    "20. Neoplasm.American.Joint.Committee.on.Cancer.Clinical.Group.Stage : 腫瘤。美國人。聯合委員會。上。癌症.臨床.分組.分期，(全NA)  (刪)\n",
    "21. Neoplasm.American.Joint.Committee.on.Cancer.Clinical.Distant.Metastasis.M.Stage : 腫瘤。美國人。聯合委員會。上。癌症.臨床.遠處.轉移.M.階段，(全NA)  (刪)\n",
    "22. Neoplasm.American.Joint.Committee.on.Cancer.Clinical.Regional.Lymph.Node.N.Stage : 腫瘤。美國人。聯合的。委員會。癌症.臨床.區域性.淋巴結.N.分期，(全NA)  (刪)\n",
    "23. Neoplasm.American.Joint.Committee.on.Cancer.Clinical.Primary.Tumor.T.Stage : 腫瘤。美國.聯合。委員會。癌症.臨床.原發性.腫瘤.T.分期，(全NA) (刪)\n",
    "\n",
    "24. Hematology.serum.creatinine.laboratory.result.value.in.mg.dl :血液學血清肌酐實驗室結果值（以 mg dl 為單位)，(num.)\n",
    "25. Laboratory.procedure.creatinine.result.lower.limit.of.normal.value : 實驗室.程序.肌酸酐.結果.下限.的。普通的。價值，(num.)\n",
    "26. Laboratory.procedure.creatinine.result.upper.limit.of.normal.value : 實驗室.程序.肌酸酐.結果.上限.的。普通的。價值，(num.)\n",
    "\n",
    "```\n",
    "血清肌酸酐（Creatinine）：是正常肌肉活動分解而來。\n",
    "正常腎臟會將它從血液中過濾和尿液一起排出體外。\n",
    "當腎臟功能變差，creatinine也會升高。 其正常值每100cc血液中約0.6-1.2毫克，\n",
    "但每個醫院的正常值可能稍有差異，且與個人肌肉質量有關，所以男性正常值會略高於女性。\n",
    "\n",
    "增加於：腎絲球腎炎，腎盂腎炎，尿毒症，末端肥大症．巨人症，甲狀腺功能亢進\n",
    "減少於：衰弱、肌萎縮(因年紀太大或肌肉量少，尤其懷孕前六個月)\n",
    "```\n",
    "\n",
    "27. Days.to.Sample.Collection. : 樣品採集天數，可以前瞻性或回顧性地收集樣品。對於回顧性採集的樣本，這可能是負值，(int.)  (刪)\n",
    "28. Last.Alive.Less.Initial.Pathologic.Diagnosis.Date.Calculated.Day.Value : 最後的存活少於初步病理學診斷。日期。計算.天數，(一個NA，其餘0) (刪)\n",
    "29. Days.to.Sample.Procurement : 天。至。樣品.採購，(NA)    (刪)\n",
    "30. Specimen.collection.method.name : 標本.採集.方法.名稱，做了怎麼樣的手術\n",
    "31. Disease.Free..Months. : 無病..幾個月，(num.)  \n",
    "32. Disease.Free.Status : 無病狀態，(類別，有無復發)\n",
    "33. Disease.code : 疾病代碼，(NA)  (刪)\n",
    "34. Performance.Status : 癌症患者的表現狀態，0 表示功能齊全且無症狀，4 表示臥床不起，(int.)\n",
    "35. Ethnicity.Category : 種族.類別，  (刪，9成一樣)\n",
    "36. Lymphomatous.Extranodal.Site.Involvement.Indicator : 淋巴瘤.結外.部位.受累.指標，(NA)    (刪)\n",
    "37. Cancer.diagnosis.first.degree.relative.number : 癌症.診斷.首度.親屬.數，(NA多，int.) (刪，資訊不足，怕亂補出事)\n",
    "38. Family.History.of.Cancer : 癌症家族史，(類別)\n",
    "39. Form.completion.date : 表格.完成.日期  (刪)\n",
    "40. Fraction.Genome.Altered : 分數.基因組.改變，(num.) \n",
    "\n",
    "```\n",
    "受拷貝數增加或丟失影響的基因組百分比\n",
    "提供了關於腫瘤基因組構成的更深入的信息。\n",
    "這些屬性也可用於查找與特定改變或臨床屬性（例如生存期或腫瘤分期）的相關性。\n",
    "```\n",
    "\n",
    "41. Neoplasm.Histologic.Grade : 腫瘤.組織學.分級，(類別)\n",
    "\n",
    "```\n",
    "1 級：分化良好（低級），細胞看起來接近正常\n",
    "2 級：中度分化（中級）\n",
    "3 級：低分化（高等級）\n",
    "4 級：未分化（高級）\n",
    "```\n",
    "\n",
    "42. Patient.Height : 身高\n",
    "43. Adjacent.hepatic.tissue.inflammation.extent.type : 鄰近肝組織炎症範圍類型，(類別，嚴重，中，無)\n",
    "44. Neoplasm.Histologic.Type.Name : 腫瘤.組織學.類型.名稱，(全一樣) (刪)\n",
    "45. History.hepato.carcinoma.risk.factor : 歷史.肝癌.風險.因素，(類別)\n",
    "46. Neoadjuvant.Therapy.Type.Administered.Prior.To.Resection.Text : 新輔助。治療。類型。管理。之前。切除.文本，(NO 多數) (刪,90%以上)\n",
    "47. Prior.Cancer.Diagnosis.Occurence : 先前診斷是否可能發生癌症 (刪,90%以上)\n",
    "48. ICD.10.Classification : 國際疾病分類 (ICD)，編碼:根本死因 (刪)\n",
    "49. International.Classification.of.Diseases.for.Oncology..Third.Edition.ICD.O.3.Histology.Code : 腫瘤學國際疾病分類第三版 ICD.O.3 組織學代碼，對腫瘤進行分類，(刪)\n",
    "50. International.Classification.of.Diseases.for.Oncology..Third.Edition.ICD.O.3.Site.Code : 腫瘤學國際疾病分類第三版 ICD.O.3 網站代碼，跟 48.一樣 (刪)\n",
    "51. Informed.consent.verified : 知情.同意.核實，(全YES) (刪)\n",
    "52. Liver.fibrosis.ishak.score.category : 肝纖維化 ishak 評分。類別，0（無纖維化）到 6（肝硬化），(類別)\n"
   ]
  },
  {
   "cell_type": "markdown",
   "id": "ccdb1a8c",
   "metadata": {},
   "source": [
    "<<刪>>\n",
    "\n",
    "53 54 55 57(處理) 58 59 62(刪,90%以上) 63 64 65 66 67 72 73 80 81 82 83 84 89 90 91 92-97(CS) 98(解釋) 102(刪,90%以上) 104  \n",
    "61 目標"
   ]
  },
  {
   "cell_type": "code",
   "execution_count": null,
   "id": "67a5361b",
   "metadata": {},
   "outputs": [],
   "source": []
  }
 ],
 "metadata": {
  "kernelspec": {
   "display_name": "Python 3 (ipykernel)",
   "language": "python",
   "name": "python3"
  },
  "language_info": {
   "codemirror_mode": {
    "name": "ipython",
    "version": 3
   },
   "file_extension": ".py",
   "mimetype": "text/x-python",
   "name": "python",
   "nbconvert_exporter": "python",
   "pygments_lexer": "ipython3",
   "version": "3.9.12"
  }
 },
 "nbformat": 4,
 "nbformat_minor": 5
}
