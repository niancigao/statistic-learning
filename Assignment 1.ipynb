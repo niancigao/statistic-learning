{
 "cells": [
  {
   "cell_type": "markdown",
   "metadata": {
    "id": "XsMVgoYrbd0m"
   },
   "source": [
    "# Chapter 1 - Introduction Exercise"
   ]
  },
  {
   "cell_type": "markdown",
   "metadata": {
    "id": "7GTYMFANbd0t"
   },
   "source": [
    "## Conceptual"
   ]
  },
  {
   "cell_type": "markdown",
   "metadata": {
    "id": "Z_99BKJubd0u"
   },
   "source": [
    "### Q1: What is the difference between statistics, data science, data mining, statistics learning, machine learning, deep learning, and artificial intelligence?\n",
    "\n",
    "### Q1: 請概述統計、數據科學、資料探勘、統計學習、機器學習、深度學習與人工智慧的差異。"
   ]
  },
  {
   "cell_type": "markdown",
   "metadata": {
    "id": "Ia0b99CpnQRW"
   },
   "source": [
    "\n",
    "- **統計(statistics)**\n",
    "```\n",
    "描述資料特徵與不確定性並從中擷取重要訊息的科學，完全基於機率空間。\n",
    "統計學是帶有置信區間（confidence intervals）的機器學習，是為了預測或估計數量。\n",
    "```\n",
    "- **數據科學(data science)**\n",
    "```\n",
    "機器學習和統計學都是資料科學的一部分。\n",
    "資料科學覆蓋整個資料處理，\n",
    "應用科學化的數據分析工具，從數據中挖掘出知識(knowledge)\n",
    "並非只是演算法的或統計類分支。\n",
    "```\n",
    "細說之，也包括：\n",
    "```\n",
    "1 資料集成（data integration）\n",
    "2 分散式架構（distributed architecture）\n",
    "3 自動機器學習（automating machine learning）\n",
    "4 資料視覺化（data visualization）\n",
    "5 dashboards 和 BI\n",
    "6 資料工程（data engineering）\n",
    "7 產品模式中的部署（deployment in production mode）\n",
    "8 自動的、資料驅動的決策（automated, data-driven decisions）\n",
    "```\n",
    "- **資料探勘(data mining)**\n",
    "```\n",
    "資料探勘是機器學習的一環，\n",
    "利用各式演算法找出資料的隱藏結構(Pattern)，\n",
    "包括迴歸、分類、集群、異常檢測(Outlier Detection)、關聯...等類別的演算法。\n",
    "是用人工智慧、機器學習、統計學和資料庫的交叉方法\n",
    "在相對較大型的資料集中發現模式的計算過程\n",
    "```\n",
    "- **統計學習(statistics learning)**\n",
    "```\n",
    "機器學習和統計的主要差別在「目的」\n",
    "機器學習模型旨在使最準確的預測成為可能。統計模型是為推斷變數之間的關係而設計的。\n",
    "```\n",
    "\n",
    "- **機器學習(machine learning)**\n",
    "```\n",
    "機器學習則是更進一步，希望透過模型的訓練，使電腦愈來愈聰明，\n",
    "雖與資料探勘所使用的演算法高度重疊，但有更崇高的理想，\n",
    "希望經由資料的累積與修正，使模型不斷的精進，從而提高預測的準確率，\n",
    "讓電腦具有人工智慧。\n",
    "```\n",
    "- **深度學習(deep learning)**\n",
    "```\n",
    "深度學習也是機器學習的分支，它是利用多層式結構(Multi-layers)解決問題，\n",
    "例如神經網路(Neural Network)、強化學習(Reinforcement Learning)，\n",
    "通常很難用數學導出公式建構模型，而是採用優化(Optimization)演算法，\n",
    "逐步逼近最佳解，最後找出一個接近完美的近似解。\n",
    "通常會犧牲可解釋性以獲得強大的預測能力\n",
    "```\n",
    "- **人工智慧(artificial intelligence)**\n",
    "```\n",
    "當這些演算法被用於自動化的時候，\n",
    "就像在自動飛行或無人駕駛汽車中，它被稱為人工智慧\n",
    "```\n",
    "```\n",
    "人工智慧是電腦科學的一個子領域，它涉及到解決對人類而言簡單卻對計算機很難的任務。\n",
    "```\n",
    "```\n",
    "詳細來說，所謂的強人工智慧系統應該是能做人類所能做的任何事。\n",
    "這是相當通用的，包含所有的任務，\n",
    "比如規劃、到處移動、識別物體與聲音、說話、翻譯、完成社會或商業事務、創造性的工作（繪畫、作詩）等。\n",
    "```\n",
    "\n",
    "\n",
    "[資料科學、資料探勘、機器學習、深度學習是甚麼碗糕?](https://ithelp.ithome.com.tw/articles/10258393)\n",
    "\n",
    "[機器學習、資料科學、人工智慧、深度學習和統計學之間的區別](https://vitomag.com/tech/cbvonx.html)"
   ]
  },
  {
   "cell_type": "markdown",
   "metadata": {
    "id": "do66Q4etbd0u"
   },
   "source": [
    "### Q2: (a) In the Netflix prize example in the lecture, we mention that the training data is about 98% missing. Give an example that some values in data are missing, and give a reason for why it happens. (b) There are various techniques for dealing with missing values, such as imputation using mean, median, or mode. Describe at least two approaches to dealing with missing data in the dataset.\n",
    "### Q2: (a) 在第一週的課程中我們提到 2006 年 Netflix 的競賽中使用的訓練集中有 98% 的數據是缺失的。 請給出一個有缺失數據資料的例子，並說明其數據為何缺失。 (b) 在處理缺失值時有許多不同方法，其中一種方法是以變數的平均值、中位數或眾數做填補。請提出兩個處理缺失數據的方法。"
   ]
  },
  {
   "cell_type": "markdown",
   "metadata": {
    "id": "xJW0nNb3mPQB"
   },
   "source": [
    "- (a) \n",
    "[含缺失值保單資料](https://www.kaggle.com/competitions/tabular-playground-series-sep-2021/overview)\n",
    "```\n",
    "客戶為了更順利的提出索賠，可能故意隱藏對自身不利的信息，缺失值的存在對於索賠具有意義。\n",
    "```\n",
    "- (b)\n",
    "\n",
    "```\n",
    "1. 直接忽略\n",
    "2. KNN插補\n",
    "```"
   ]
  },
  {
   "cell_type": "markdown",
   "metadata": {
    "id": "mGJk_tAVbd0v"
   },
   "source": [
    "### Q3: (a) In the lecture, we mention that Python (NumPy) defaults to row-major, while R and Matlab default to column-major. Give at least one advantage for each storing method. (b) Is pandas row-major or column-major?\n",
    "\n",
    "### Q3: (a) 第一週的課程中我們提到 python (numpy) 主要是以 row-major 的順序儲存資料於資料庫，而非 R 或 Matlab 中的 column-major. 請為這兩種資料庫儲存方式各提出一個優點。 (b) pandas 是 row-major 還是 column-major?"
   ]
  },
  {
   "cell_type": "markdown",
   "metadata": {
    "id": "dzU3fj-Iolqp"
   },
   "source": [
    "- (a) \n",
    "\n",
    "row-major\n",
    "\n",
    "處理一般運算矩陣，行優先佈局使其規範優雅<br>\n",
    "\n",
    "column-major\n",
    "\n",
    "處理 feature 好用，就能讓任一 feature 都是在一段連續的記憶體上，<br>\n",
    "如果我們只取出其中一個 feature，使用 row major 會很慢<br>\n",
    "\n",
    "使用 column major，如果要取某個 feature，就只要把其中一段連續的記憶體拆出來就好<br>\n",
    "但 row major 就需要跳著拆，就會很慢，而且每種資料型態大小不一樣大，不同大小的東西排在一起也會讓讀取變慢\n",
    "\n",
    "而且列主順序更自然，例如。帶有 [x,y,z] 的圖片在文件中逐片存儲，這是列優先順序。<br>雖然在二維中選擇更好的順序可能會令人困惑，但在更高的維度中，很明顯列優先順序是許多情況下的唯一解決方案。\n",
    "- (b) \n",
    "```\n",
    "column-major\n",
    "```\n",
    "[](https://aman.ai/primers/pandas/#pandas-is-column-major)"
   ]
  },
  {
   "cell_type": "markdown",
   "metadata": {
    "id": "7fqDp0D0bd0w"
   },
   "source": [
    "## Applied"
   ]
  },
  {
   "cell_type": "markdown",
   "metadata": {
    "id": "Fkf9Hjl4bd0w"
   },
   "source": [
    "### Q4: Choose a dataset in the data folder, perform EDA with at least three different plots and describe what you have observed from the plots.\n",
    "\n",
    "### Q4: 在第一週課程的資料集中( https://phonchi.github.io/nsysu-math524//static_files/presentations/Data.zip )選擇一個資料，並透過至少三種不同視覺化方法搭配文字說明來進行EDA(探索式資料分析)。"
   ]
  },
  {
   "cell_type": "code",
   "execution_count": 1,
   "metadata": {
    "id": "Yj3diWu12c0V"
   },
   "outputs": [],
   "source": [
    "import pandas as pd\n",
    "import matplotlib.pyplot as plt\n",
    "import seaborn as sns\n",
    "import numpy as np"
   ]
  },
  {
   "cell_type": "code",
   "execution_count": 2,
   "metadata": {},
   "outputs": [
    {
     "data": {
      "text/html": [
       "<div>\n",
       "<style scoped>\n",
       "    .dataframe tbody tr th:only-of-type {\n",
       "        vertical-align: middle;\n",
       "    }\n",
       "\n",
       "    .dataframe tbody tr th {\n",
       "        vertical-align: top;\n",
       "    }\n",
       "\n",
       "    .dataframe thead th {\n",
       "        text-align: right;\n",
       "    }\n",
       "</style>\n",
       "<table border=\"1\" class=\"dataframe\">\n",
       "  <thead>\n",
       "    <tr style=\"text-align: right;\">\n",
       "      <th></th>\n",
       "      <th>date</th>\n",
       "      <th>day_of_week</th>\n",
       "      <th>DJ_return</th>\n",
       "      <th>log_volume</th>\n",
       "      <th>log_volatility</th>\n",
       "      <th>train</th>\n",
       "    </tr>\n",
       "  </thead>\n",
       "  <tbody>\n",
       "    <tr>\n",
       "      <th>1</th>\n",
       "      <td>1962-12-03</td>\n",
       "      <td>mon</td>\n",
       "      <td>-0.004461</td>\n",
       "      <td>0.032573</td>\n",
       "      <td>-13.127403</td>\n",
       "      <td>True</td>\n",
       "    </tr>\n",
       "    <tr>\n",
       "      <th>2</th>\n",
       "      <td>1962-12-04</td>\n",
       "      <td>tues</td>\n",
       "      <td>0.007813</td>\n",
       "      <td>0.346202</td>\n",
       "      <td>-11.749305</td>\n",
       "      <td>True</td>\n",
       "    </tr>\n",
       "    <tr>\n",
       "      <th>3</th>\n",
       "      <td>1962-12-05</td>\n",
       "      <td>wed</td>\n",
       "      <td>0.003845</td>\n",
       "      <td>0.525306</td>\n",
       "      <td>-11.665609</td>\n",
       "      <td>True</td>\n",
       "    </tr>\n",
       "    <tr>\n",
       "      <th>4</th>\n",
       "      <td>1962-12-06</td>\n",
       "      <td>thur</td>\n",
       "      <td>-0.003462</td>\n",
       "      <td>0.210182</td>\n",
       "      <td>-11.626772</td>\n",
       "      <td>True</td>\n",
       "    </tr>\n",
       "    <tr>\n",
       "      <th>5</th>\n",
       "      <td>1962-12-07</td>\n",
       "      <td>fri</td>\n",
       "      <td>0.000568</td>\n",
       "      <td>0.044187</td>\n",
       "      <td>-11.728130</td>\n",
       "      <td>True</td>\n",
       "    </tr>\n",
       "    <tr>\n",
       "      <th>...</th>\n",
       "      <td>...</td>\n",
       "      <td>...</td>\n",
       "      <td>...</td>\n",
       "      <td>...</td>\n",
       "      <td>...</td>\n",
       "      <td>...</td>\n",
       "    </tr>\n",
       "    <tr>\n",
       "      <th>6047</th>\n",
       "      <td>1986-12-24</td>\n",
       "      <td>wed</td>\n",
       "      <td>0.006514</td>\n",
       "      <td>-0.236104</td>\n",
       "      <td>-9.807366</td>\n",
       "      <td>False</td>\n",
       "    </tr>\n",
       "    <tr>\n",
       "      <th>6048</th>\n",
       "      <td>1986-12-26</td>\n",
       "      <td>fri</td>\n",
       "      <td>0.001825</td>\n",
       "      <td>-1.322425</td>\n",
       "      <td>-9.906025</td>\n",
       "      <td>False</td>\n",
       "    </tr>\n",
       "    <tr>\n",
       "      <th>6049</th>\n",
       "      <td>1986-12-29</td>\n",
       "      <td>mon</td>\n",
       "      <td>-0.009515</td>\n",
       "      <td>-0.371237</td>\n",
       "      <td>-9.827660</td>\n",
       "      <td>False</td>\n",
       "    </tr>\n",
       "    <tr>\n",
       "      <th>6050</th>\n",
       "      <td>1986-12-30</td>\n",
       "      <td>tues</td>\n",
       "      <td>-0.001837</td>\n",
       "      <td>-0.385638</td>\n",
       "      <td>-9.926091</td>\n",
       "      <td>False</td>\n",
       "    </tr>\n",
       "    <tr>\n",
       "      <th>6051</th>\n",
       "      <td>1986-12-31</td>\n",
       "      <td>wed</td>\n",
       "      <td>-0.006655</td>\n",
       "      <td>-0.264986</td>\n",
       "      <td>-9.935527</td>\n",
       "      <td>False</td>\n",
       "    </tr>\n",
       "  </tbody>\n",
       "</table>\n",
       "<p>6051 rows × 6 columns</p>\n",
       "</div>"
      ],
      "text/plain": [
       "            date day_of_week  DJ_return  log_volume  log_volatility  train\n",
       "1     1962-12-03         mon  -0.004461    0.032573      -13.127403   True\n",
       "2     1962-12-04        tues   0.007813    0.346202      -11.749305   True\n",
       "3     1962-12-05         wed   0.003845    0.525306      -11.665609   True\n",
       "4     1962-12-06        thur  -0.003462    0.210182      -11.626772   True\n",
       "5     1962-12-07         fri   0.000568    0.044187      -11.728130   True\n",
       "...          ...         ...        ...         ...             ...    ...\n",
       "6047  1986-12-24         wed   0.006514   -0.236104       -9.807366  False\n",
       "6048  1986-12-26         fri   0.001825   -1.322425       -9.906025  False\n",
       "6049  1986-12-29         mon  -0.009515   -0.371237       -9.827660  False\n",
       "6050  1986-12-30        tues  -0.001837   -0.385638       -9.926091  False\n",
       "6051  1986-12-31         wed  -0.006655   -0.264986       -9.935527  False\n",
       "\n",
       "[6051 rows x 6 columns]"
      ]
     },
     "execution_count": 2,
     "metadata": {},
     "output_type": "execute_result"
    }
   ],
   "source": [
    "df= pd.read_csv(r\"C:\\Users\\user\\Desktop\\Data\\NYSE.csv\",index_col = 0)\n",
    "\n",
    "# 路徑字串開頭要寫 r & 檔案名稱.csv                         \n",
    "# r :為了不讓 \\ 被讀成特殊字元 EX: \\n\n",
    "# 指定欄位 id 為索引 (取代原本 0.1...957918的位置)\n",
    "\n",
    "df #漂亮的形式"
   ]
  },
  {
   "cell_type": "markdown",
   "metadata": {},
   "source": [
    "數據包括紐約的\n",
    "1. 日期\n",
    "2. 星期\n",
    "3. 道瓊斯回報\n",
    "4. 對數交易量\n",
    "5. 對數波動率\n",
    "6. 對於前 4,281 個觀測值，設置為 TRUE"
   ]
  },
  {
   "cell_type": "code",
   "execution_count": 3,
   "metadata": {},
   "outputs": [
    {
     "data": {
      "text/html": [
       "<style  type=\"text/css\" >\n",
       "#T_11b79_row0_col0,#T_11b79_row0_col1,#T_11b79_row0_col2{\n",
       "            background-color:  #08306b;\n",
       "            color:  #f1f1f1;\n",
       "        }#T_11b79_row1_col0,#T_11b79_row1_col1,#T_11b79_row1_col2,#T_11b79_row2_col0,#T_11b79_row2_col1,#T_11b79_row2_col2,#T_11b79_row3_col0,#T_11b79_row3_col1,#T_11b79_row3_col2{\n",
       "            background-color:  #000000;\n",
       "            color:  #f1f1f1;\n",
       "        }#T_11b79_row4_col0,#T_11b79_row4_col1,#T_11b79_row4_col2,#T_11b79_row5_col0,#T_11b79_row5_col1,#T_11b79_row5_col2,#T_11b79_row6_col0,#T_11b79_row6_col1,#T_11b79_row6_col2,#T_11b79_row7_col0,#T_11b79_row7_col1,#T_11b79_row7_col2,#T_11b79_row8_col0,#T_11b79_row8_col1,#T_11b79_row8_col2,#T_11b79_row9_col0,#T_11b79_row9_col1,#T_11b79_row9_col2,#T_11b79_row10_col0,#T_11b79_row10_col1,#T_11b79_row10_col2{\n",
       "            background-color:  #f7fbff;\n",
       "            color:  #000000;\n",
       "        }</style><table id=\"T_11b79_\" ><thead>    <tr>        <th class=\"blank level0\" ></th>        <th class=\"col_heading level0 col0\" >DJ_return</th>        <th class=\"col_heading level0 col1\" >log_volume</th>        <th class=\"col_heading level0 col2\" >log_volatility</th>    </tr></thead><tbody>\n",
       "                <tr>\n",
       "                        <th id=\"T_11b79_level0_row0\" class=\"row_heading level0 row0\" >count</th>\n",
       "                        <td id=\"T_11b79_row0_col0\" class=\"data row0 col0\" >6051.000000</td>\n",
       "                        <td id=\"T_11b79_row0_col1\" class=\"data row0 col1\" >6051.000000</td>\n",
       "                        <td id=\"T_11b79_row0_col2\" class=\"data row0 col2\" >6051.000000</td>\n",
       "            </tr>\n",
       "            <tr>\n",
       "                        <th id=\"T_11b79_level0_row1\" class=\"row_heading level0 row1\" >unique</th>\n",
       "                        <td id=\"T_11b79_row1_col0\" class=\"data row1 col0\" >nan</td>\n",
       "                        <td id=\"T_11b79_row1_col1\" class=\"data row1 col1\" >nan</td>\n",
       "                        <td id=\"T_11b79_row1_col2\" class=\"data row1 col2\" >nan</td>\n",
       "            </tr>\n",
       "            <tr>\n",
       "                        <th id=\"T_11b79_level0_row2\" class=\"row_heading level0 row2\" >top</th>\n",
       "                        <td id=\"T_11b79_row2_col0\" class=\"data row2 col0\" >nan</td>\n",
       "                        <td id=\"T_11b79_row2_col1\" class=\"data row2 col1\" >nan</td>\n",
       "                        <td id=\"T_11b79_row2_col2\" class=\"data row2 col2\" >nan</td>\n",
       "            </tr>\n",
       "            <tr>\n",
       "                        <th id=\"T_11b79_level0_row3\" class=\"row_heading level0 row3\" >freq</th>\n",
       "                        <td id=\"T_11b79_row3_col0\" class=\"data row3 col0\" >nan</td>\n",
       "                        <td id=\"T_11b79_row3_col1\" class=\"data row3 col1\" >nan</td>\n",
       "                        <td id=\"T_11b79_row3_col2\" class=\"data row3 col2\" >nan</td>\n",
       "            </tr>\n",
       "            <tr>\n",
       "                        <th id=\"T_11b79_level0_row4\" class=\"row_heading level0 row4\" >mean</th>\n",
       "                        <td id=\"T_11b79_row4_col0\" class=\"data row4 col0\" >0.000177</td>\n",
       "                        <td id=\"T_11b79_row4_col1\" class=\"data row4 col1\" >-0.008336</td>\n",
       "                        <td id=\"T_11b79_row4_col2\" class=\"data row4 col2\" >-9.842713</td>\n",
       "            </tr>\n",
       "            <tr>\n",
       "                        <th id=\"T_11b79_level0_row5\" class=\"row_heading level0 row5\" >std</th>\n",
       "                        <td id=\"T_11b79_row5_col0\" class=\"data row5 col0\" >0.008436</td>\n",
       "                        <td id=\"T_11b79_row5_col1\" class=\"data row5 col1\" >0.233684</td>\n",
       "                        <td id=\"T_11b79_row5_col2\" class=\"data row5 col2\" >0.753937</td>\n",
       "            </tr>\n",
       "            <tr>\n",
       "                        <th id=\"T_11b79_level0_row6\" class=\"row_heading level0 row6\" >min</th>\n",
       "                        <td id=\"T_11b79_row6_col0\" class=\"data row6 col0\" >-0.047177</td>\n",
       "                        <td id=\"T_11b79_row6_col1\" class=\"data row6 col1\" >-1.322425</td>\n",
       "                        <td id=\"T_11b79_row6_col2\" class=\"data row6 col2\" >-13.127403</td>\n",
       "            </tr>\n",
       "            <tr>\n",
       "                        <th id=\"T_11b79_level0_row7\" class=\"row_heading level0 row7\" >25%</th>\n",
       "                        <td id=\"T_11b79_row7_col0\" class=\"data row7 col0\" >-0.004640</td>\n",
       "                        <td id=\"T_11b79_row7_col1\" class=\"data row7 col1\" >-0.159956</td>\n",
       "                        <td id=\"T_11b79_row7_col2\" class=\"data row7 col2\" >-10.334196</td>\n",
       "            </tr>\n",
       "            <tr>\n",
       "                        <th id=\"T_11b79_level0_row8\" class=\"row_heading level0 row8\" >50%</th>\n",
       "                        <td id=\"T_11b79_row8_col0\" class=\"data row8 col0\" >0.000125</td>\n",
       "                        <td id=\"T_11b79_row8_col1\" class=\"data row8 col1\" >-0.013249</td>\n",
       "                        <td id=\"T_11b79_row8_col2\" class=\"data row8 col2\" >-9.843592</td>\n",
       "            </tr>\n",
       "            <tr>\n",
       "                        <th id=\"T_11b79_level0_row9\" class=\"row_heading level0 row9\" >75%</th>\n",
       "                        <td id=\"T_11b79_row9_col0\" class=\"data row9 col0\" >0.004792</td>\n",
       "                        <td id=\"T_11b79_row9_col1\" class=\"data row9 col1\" >0.131632</td>\n",
       "                        <td id=\"T_11b79_row9_col2\" class=\"data row9 col2\" >-9.379632</td>\n",
       "            </tr>\n",
       "            <tr>\n",
       "                        <th id=\"T_11b79_level0_row10\" class=\"row_heading level0 row10\" >max</th>\n",
       "                        <td id=\"T_11b79_row10_col0\" class=\"data row10 col0\" >0.049517</td>\n",
       "                        <td id=\"T_11b79_row10_col1\" class=\"data row10 col1\" >1.039370</td>\n",
       "                        <td id=\"T_11b79_row10_col2\" class=\"data row10 col2\" >-7.477833</td>\n",
       "            </tr>\n",
       "    </tbody></table>"
      ],
      "text/plain": [
       "<pandas.io.formats.style.Styler at 0x20ff3b1c730>"
      ]
     },
     "execution_count": 3,
     "metadata": {},
     "output_type": "execute_result"
    }
   ],
   "source": [
    "#觀察每一個特徵的統計性質 (最大、小、中位數、標準差、平均值、range 等等)\n",
    "\n",
    "df.describe(include='all').loc[:, 'DJ_return':'log_volatility'].style.background_gradient('Blues')"
   ]
  },
  {
   "cell_type": "code",
   "execution_count": 4,
   "metadata": {},
   "outputs": [
    {
     "data": {
      "text/plain": [
       "[Text(0, 0.5, '')]"
      ]
     },
     "execution_count": 4,
     "metadata": {},
     "output_type": "execute_result"
    },
    {
     "data": {
      "image/png": "[encoded data removed]",
      "text/plain": [
       "<Figure size 432x288 with 3 Axes>"
      ]
     },
     "metadata": {
      "needs_background": "light"
     },
     "output_type": "display_data"
    }
   ],
   "source": [
    "plt.subplot(311) \n",
    "sns.histplot(data = df.iloc[:,2], palette = 'bone_r').set(ylabel = '')\n",
    "\n",
    "plt.subplot(312) \n",
    "sns.histplot(data = df.iloc[:,3], palette = 'bone_r').set(ylabel = '')\n",
    "\n",
    "plt.subplot(313) \n",
    "sns.histplot(data = df.iloc[:,4], palette = 'bone_r').set(ylabel = '')\n",
    "\n",
    "# palette 調色盤"
   ]
  },
  {
   "cell_type": "code",
   "execution_count": 5,
   "metadata": {},
   "outputs": [
    {
     "data": {
      "text/plain": [
       "<AxesSubplot:>"
      ]
     },
     "execution_count": 5,
     "metadata": {},
     "output_type": "execute_result"
    },
    {
     "data": {
      "image/png": "[encoded data removed]",
      "text/plain": [
       "<Figure size 432x288 with 1 Axes>"
      ]
     },
     "metadata": {
      "needs_background": "light"
     },
     "output_type": "display_data"
    }
   ],
   "source": [
    "sns.boxplot(data = df.iloc[:,2:5])"
   ]
  },
  {
   "cell_type": "markdown",
   "metadata": {},
   "source": [
    "### 上兩張圖都能看出，道瓊回報、對數交易量、對數波動率皆漸進常態分布"
   ]
  },
  {
   "cell_type": "code",
   "execution_count": 6,
   "metadata": {},
   "outputs": [
    {
     "data": {
      "text/html": [
       "<div>\n",
       "<style scoped>\n",
       "    .dataframe tbody tr th:only-of-type {\n",
       "        vertical-align: middle;\n",
       "    }\n",
       "\n",
       "    .dataframe tbody tr th {\n",
       "        vertical-align: top;\n",
       "    }\n",
       "\n",
       "    .dataframe thead th {\n",
       "        text-align: right;\n",
       "    }\n",
       "</style>\n",
       "<table border=\"1\" class=\"dataframe\">\n",
       "  <thead>\n",
       "    <tr style=\"text-align: right;\">\n",
       "      <th></th>\n",
       "      <th>DJ_return</th>\n",
       "      <th>log_volume</th>\n",
       "      <th>log_volatility</th>\n",
       "    </tr>\n",
       "  </thead>\n",
       "  <tbody>\n",
       "    <tr>\n",
       "      <th>DJ_return</th>\n",
       "      <td>1.000000</td>\n",
       "      <td>0.200892</td>\n",
       "      <td>0.026793</td>\n",
       "    </tr>\n",
       "    <tr>\n",
       "      <th>log_volume</th>\n",
       "      <td>0.200892</td>\n",
       "      <td>1.000000</td>\n",
       "      <td>0.046306</td>\n",
       "    </tr>\n",
       "    <tr>\n",
       "      <th>log_volatility</th>\n",
       "      <td>0.026793</td>\n",
       "      <td>0.046306</td>\n",
       "      <td>1.000000</td>\n",
       "    </tr>\n",
       "  </tbody>\n",
       "</table>\n",
       "</div>"
      ],
      "text/plain": [
       "                DJ_return  log_volume  log_volatility\n",
       "DJ_return        1.000000    0.200892        0.026793\n",
       "log_volume       0.200892    1.000000        0.046306\n",
       "log_volatility   0.026793    0.046306        1.000000"
      ]
     },
     "execution_count": 6,
     "metadata": {},
     "output_type": "execute_result"
    },
    {
     "data": {
      "image/png": "[encoded data removed]",
      "text/plain": [
       "<Figure size 864x648 with 2 Axes>"
      ]
     },
     "metadata": {
      "needs_background": "light"
     },
     "output_type": "display_data"
    }
   ],
   "source": [
    "# correlation matrix\n",
    "\n",
    "corrmat_ = df.iloc[:,2:5].corr()      # 'list' object has no attribute 'corr'\n",
    "\n",
    "f, ax = plt.subplots(figsize=(12, 9))\n",
    "sns.heatmap(corrmat_, square=True,annot=True,cmap = 'YlGnBu_r')\n",
    "\n",
    "corrmat_"
   ]
  },
  {
   "cell_type": "markdown",
   "metadata": {},
   "source": [
    "### 道瓊回報和交易量有低度正相關，波動率的變化則和前者幾乎 0 相關"
   ]
  },
  {
   "cell_type": "code",
   "execution_count": 7,
   "metadata": {},
   "outputs": [
    {
     "data": {
      "image/png": "[encoded data removed]",
      "text/plain": [
       "<Figure size 432x288 with 3 Axes>"
      ]
     },
     "metadata": {
      "needs_background": "light"
     },
     "output_type": "display_data"
    }
   ],
   "source": [
    "fig = plt.figure()  # To add space between subplots\n",
    "\n",
    "plt.subplot(311) \n",
    "plt.plot(df['DJ_return'])\n",
    "\n",
    "plt.subplot(312) \n",
    "plt.plot(df['log_volume'])\n",
    "\n",
    "plt.subplot(313)\n",
    "plt.plot(df['log_volatility'])\n",
    "\n",
    "fig.subplots_adjust(hspace=1)  # To add space between subplots"
   ]
  },
  {
   "cell_type": "markdown",
   "metadata": {},
   "source": [
    "### 時間拉得越長越能發現，道瓊回報、交易量、波動率皆進行了一輪又一輪的循環"
   ]
  }
 ],
 "metadata": {
  "colab": {
   "collapsed_sections": [],
   "provenance": []
  },
  "kernelspec": {
   "display_name": "Python 3",
   "language": "python",
   "name": "python3"
  },
  "language_info": {
   "codemirror_mode": {
    "name": "ipython",
    "version": 3
   },
   "file_extension": ".py",
   "mimetype": "text/x-python",
   "name": "python",
   "nbconvert_exporter": "python",
   "pygments_lexer": "ipython3",
   "version": "3.8.8"
  }
 },
 "nbformat": 4,
 "nbformat_minor": 1
}
