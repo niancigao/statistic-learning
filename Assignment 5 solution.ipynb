{
 "cells": [
  {
   "cell_type": "markdown",
   "metadata": {
    "id": "XsMVgoYrbd0m"
   },
   "source": [
    "# Chapter 5 - Resampling Methods Exercise"
   ]
  },
  {
   "cell_type": "markdown",
   "metadata": {
    "id": "h7w2vRTAk2HA"
   },
   "source": [
    "#### Student ID: 雖然不影響助教改題目但請各位寫一下學號\n",
    "\n",
    "#### Name: 雖然不影響助教改題目但請各位寫一下名字"
   ]
  },
  {
   "cell_type": "markdown",
   "metadata": {
    "id": "7GTYMFANbd0t"
   },
   "source": [
    "## Conceptual"
   ]
  },
  {
   "cell_type": "markdown",
   "metadata": {
    "id": "Z_99BKJubd0u"
   },
   "source": [
    "### Q1: We now review bootstrap method. (8 point)"
   ]
  },
  {
   "cell_type": "markdown",
   "metadata": {
    "id": "PUiktvyGF7dp"
   },
   "source": [
    "(a) Assume that we obtain a simple random sample (sample without replacement) from a set of n observation with sample size being $m$. What is the probability that the first sampled observation is *not* the $j$th observation from the original set? What is the probability that neither the first nor the second sampled observation is the $j$th observation from the original set? (1 point, 1 point)"
   ]
  },
  {
   "cell_type": "markdown",
   "metadata": {
    "id": "Ia0b99CpnQRW"
   },
   "source": [
    "> Ans: $(1-\\frac{1}{n})$. $(1-\\frac{2}{n})$."
   ]
  },
  {
   "cell_type": "markdown",
   "metadata": {
    "id": "d9z_hX-AtWTm"
   },
   "source": [
    "(b) Assume that we obtain a bootstrap sample from a set of n observation. What is the probability that the first bootstrap observation is *not* the $j$th observation from the original set? What is the probability that neither the first nor the second bootstrap observation is the $j$th observation from the original set? (1 point, 1 point)"
   ]
  },
  {
   "cell_type": "markdown",
   "metadata": {
    "id": "wDn7akjGtgGq"
   },
   "source": [
    "> Ans: $(1-\\frac{1}{n})$. $\\left(1-\\frac{1}{n}\\right)^2$."
   ]
  },
  {
   "cell_type": "markdown",
   "metadata": {
    "id": "t29ypB3Otknp"
   },
   "source": [
    "(c) Which sampling method is used to find a random subset from the data sample, simple random sample or bootstrap sample? Which sampling method is used to find a new random sample that approximate the true population, simple random sample or bootstrap sample? (1 point, 1 point)"
   ]
  },
  {
   "cell_type": "markdown",
   "metadata": {
    "id": "RVtP6dKotmgX"
   },
   "source": [
    "> Ans: Simple random sample. Bootstrap sample."
   ]
  },
  {
   "cell_type": "markdown",
   "metadata": {
    "id": "sPRbisuY4bc6"
   },
   "source": [
    "(d) If we obtain a bootstrap sample from a set of n observation, what is the probability that the $j$th observation is *not* in the bootstrap sample? (1 point)"
   ]
  },
  {
   "cell_type": "markdown",
   "metadata": {
    "id": "6jVLHDf-4bc7"
   },
   "source": [
    "> Ans: $\\left(1-\\frac{1}{n}\\right)^n$."
   ]
  },
  {
   "cell_type": "markdown",
   "metadata": {
    "id": "xVGCOd4_4bc7"
   },
   "source": [
    "(e) If we obtain a bootstrap sample from a extremely large set of observation, what is the probability that the $j$th observation is in the bootstrap sample? Write the probability using $1$ and $e$. (Hint: Something related to $e^{-1}$.) (1 point)"
   ]
  },
  {
   "cell_type": "markdown",
   "metadata": {
    "id": "IYQ-opVq4bc8"
   },
   "source": [
    "> Ans: $1-e^{-1}$."
   ]
  },
  {
   "cell_type": "markdown",
   "metadata": {
    "id": "do66Q4etbd0u"
   },
   "source": [
    "### Q2: We now review cross-validation. (10 point)"
   ]
  },
  {
   "cell_type": "markdown",
   "metadata": {
    "id": "T87Ifwl_4bc8"
   },
   "source": [
    "Two types of cross-validation can be distinguished: exhaustive and non-exhaustive cross-validation.\n",
    "Exhaustive cross-validation methods refer to methods that try all possible ways to divide the original sample into a training and a validation set, while non-exhaustive cross validation methods try only several possible ways."
   ]
  },
  {
   "cell_type": "markdown",
   "metadata": {
    "id": "rmpHuayB4bc8"
   },
   "source": [
    "(a) For validation set approach (holdout method), k-fold, and LOOCV, which of the cross-validation method are exhaustive? (1 point for each cross-validation, 3 point total)"
   ]
  },
  {
   "cell_type": "markdown",
   "metadata": {
    "id": "XRJNcKMr3BYD"
   },
   "source": [
    "> Ans: LOOCV. (多寫 k-fold if k=n 給對，但因為一般會稱 k-fold k=n 為 LOOCV，所以不需要寫這個)"
   ]
  },
  {
   "cell_type": "markdown",
   "metadata": {
    "id": "xJW0nNb3mPQB"
   },
   "source": [
    "(b) When we implement k-fold cross-validation, how many non-overlapping equal parts do we need to devided into? (1 point)"
   ]
  },
  {
   "cell_type": "markdown",
   "metadata": {
    "id": "J2Vo5lWq4bc9"
   },
   "source": [
    "> Ans: k. (寫 $1<k<n$ 不扣分，寫一般取多少不扣分)"
   ]
  },
  {
   "cell_type": "markdown",
   "metadata": {
    "id": "TGOiKPNf3Imu"
   },
   "source": [
    "(c) Which of the cross-validation is the fastest and which is the slowest between validation set approach, k-fold, and LOOCV? (1 point, 1 point)"
   ]
  },
  {
   "cell_type": "markdown",
   "metadata": {
    "id": "9G95F9gz3K2Z"
   },
   "source": [
    "> Ans: fastest: validation set approach. slowest: LOOCV."
   ]
  },
  {
   "cell_type": "markdown",
   "metadata": {
    "id": "glWz7ZWW4bc-"
   },
   "source": [
    "(d) Which of the cross-validation may tends to overestimate the test error, k-fold or validation set approach? (2 point)"
   ]
  },
  {
   "cell_type": "markdown",
   "metadata": {
    "id": "NhQSd-GH3UgY"
   },
   "source": [
    " \n",
    "> Ans:  validation set approach."
   ]
  },
  {
   "cell_type": "markdown",
   "metadata": {
    "id": "cUZZ2FIS4bc_"
   },
   "source": [
    "(e) Which of the cross-validation has less bias but more variance, validation set approach or LOOCV? (2 point)"
   ]
  },
  {
   "cell_type": "markdown",
   "metadata": {
    "id": "yEH-AkT94bc_"
   },
   "source": [
    " \n",
    "> Ans: LOOCV."
   ]
  },
  {
   "cell_type": "markdown",
   "metadata": {
    "id": "7fqDp0D0bd0w"
   },
   "source": [
    "## Applied"
   ]
  },
  {
   "cell_type": "markdown",
   "metadata": {
    "id": "mGJk_tAVbd0v"
   },
   "source": [
    "### Q3: We will now perform cross-validation on a simulated data set. (10 point)"
   ]
  },
  {
   "cell_type": "markdown",
   "metadata": {
    "id": "cx-kPT3E6LDV"
   },
   "source": [
    "(a) Generate a simulated data set as follows:"
   ]
  },
  {
   "cell_type": "code",
   "execution_count": null,
   "metadata": {
    "colab": {
     "base_uri": "https://localhost:8080/",
     "height": 282
    },
    "executionInfo": {
     "elapsed": 1086,
     "status": "ok",
     "timestamp": 1666037596746,
     "user": {
      "displayName": "周柏呈",
      "userId": "06390788947177930230"
     },
     "user_tz": -480
    },
    "id": "cgCZ-RfR7OV6",
    "outputId": "6ab4dc6b-c852-450a-fe19-64313010ae48",
    "scrolled": true
   },
   "outputs": [
    {
     "data": {
      "text/plain": [
       "<matplotlib.collections.PathCollection at 0x7f7c20063850>"
      ]
     },
     "execution_count": 2,
     "metadata": {},
     "output_type": "execute_result"
    },
    {
     "data": {
      "image/png": "[encoded data removed]",
      "text/plain": [
       "<Figure size 432x288 with 1 Axes>"
      ]
     },
     "metadata": {
      "needs_background": "light"
     },
     "output_type": "display_data"
    }
   ],
   "source": [
    "import numpy as np\n",
    "import matplotlib.pyplot as plt\n",
    "\n",
    "np.random.seed(2)\n",
    "\n",
    "x = np.sort(np.random.normal(size=1000))\n",
    "y = 3*x + 4*x**2 + np.random.normal(size=1000)\n",
    "x = x.reshape(-1,1)\n",
    "plt.scatter(x, y)"
   ]
  },
  {
   "cell_type": "markdown",
   "metadata": {
    "id": "_Voz9eKC4bdC"
   },
   "source": [
    "Write out the model used to generate the data in equation form. (1 point)"
   ]
  },
  {
   "cell_type": "markdown",
   "metadata": {
    "id": "nwxHR0fH4bdD"
   },
   "source": [
    " \n",
    "> Ans: $y=3x+4x^2+ϵ$"
   ]
  },
  {
   "cell_type": "markdown",
   "metadata": {
    "id": "dzU3fj-Iolqp"
   },
   "source": [
    "(b) Compute the $\\operatorname{LOOCV}$ errors from the following four models using least squares:\n",
    "\n",
    "> 1. Y = $\\beta_0+\\beta_1X+\\epsilon$<br>\n",
    "> 2. Y = $\\beta_0+\\beta_1X+\\beta_2X^2+\\epsilon$<br>\n",
    "> 3. Y = $\\beta_0+\\beta_1X+\\beta_2X^2+\\beta_3X^3+\\epsilon$<br>\n",
    "> 4. Y = $\\beta_0+\\beta_1X+\\beta_2X^2+\\beta_3X^3+\\beta_4X^4+\\epsilon$.\n",
    "\n",
    "*Note that you can only modify code that have been underlined.*"
   ]
  },
  {
   "cell_type": "markdown",
   "metadata": {
    "id": "9EGloIGsNRB7"
   },
   "source": [
    "會把資料弄成次方項放入線性迴歸，或直接使用多項式迴歸 (2 point)  \n",
    "會使用 LOOCV 分資料 (1 point)  \n",
    "會正確的只把各個模型的 errors 算平均 (1 point)  \n",
    "程式碼有跑出結果(上面的錯導致跑錯結果不會扣在這) (1 point)   \n",
    "更改沒畫底線的程式碼會倒扣 1 分"
   ]
  },
  {
   "cell_type": "code",
   "execution_count": null,
   "metadata": {
    "colab": {
     "base_uri": "https://localhost:8080/"
    },
    "executionInfo": {
     "elapsed": 14570,
     "status": "ok",
     "timestamp": 1666037613054,
     "user": {
      "displayName": "周柏呈",
      "userId": "06390788947177930230"
     },
     "user_tz": -480
    },
    "id": "1XTHl3AtCm_N",
    "outputId": "4260f1ad-4e0a-47a7-f60f-9dee7398222a"
   },
   "outputs": [
    {
     "name": "stdout",
     "output_type": "stream",
     "text": [
      "For the model 1 , MSE is 37.67593268683857\n",
      "For the model 2 , MSE is 0.9526578995621189\n",
      "For the model 3 , MSE is 0.9537449802453368\n",
      "For the model 4 , MSE is 0.9541133671183821\n"
     ]
    }
   ],
   "source": [
    "from sklearn.linear_model import LinearRegression\n",
    "from sklearn.preprocessing import PolynomialFeatures\n",
    "from sklearn.model_selection import cross_val_score\n",
    "\n",
    "np.random.seed(42)\n",
    "\n",
    "for i in range(1, 4+1): # i is the number of models\n",
    "    poly = PolynomialFeatures(i, include_bias=False)\n",
    "    predictors = poly.fit_transform(x)\n",
    "\n",
    "    lr = LinearRegression()\n",
    "    error = -1 * cross_val_score(lr, predictors, y, cv = len(x), scoring = 'neg_mean_squared_error').mean()\n",
    "    \n",
    "    print('For the model {} , MSE is {}'.format(i, error))"
   ]
  },
  {
   "cell_type": "code",
   "execution_count": null,
   "metadata": {
    "colab": {
     "base_uri": "https://localhost:8080/"
    },
    "executionInfo": {
     "elapsed": 12311,
     "status": "ok",
     "timestamp": 1666037625362,
     "user": {
      "displayName": "周柏呈",
      "userId": "06390788947177930230"
     },
     "user_tz": -480
    },
    "id": "lg-8aXw64bdD",
    "outputId": "b628a6a9-423a-4eda-a8ca-dcb2dedeb0c9"
   },
   "outputs": [
    {
     "name": "stdout",
     "output_type": "stream",
     "text": [
      "For the model 1 , MSE is 37.67593268683857\n",
      "For the model 2 , MSE is 0.9526578995621189\n",
      "For the model 3 , MSE is 0.9537449802453368\n",
      "For the model 4 , MSE is 0.9541133671183821\n"
     ]
    }
   ],
   "source": [
    "from sklearn.linear_model import LinearRegression\n",
    "from sklearn.preprocessing import PolynomialFeatures\n",
    "from sklearn.model_selection import LeaveOneOut\n",
    "from sklearn.metrics import mean_squared_error\n",
    "\n",
    "np.random.seed(42)\n",
    "\n",
    "for i in range(1, 4+1): # i is the number of models\n",
    "    lm = LinearRegression()\n",
    "    loocv = LeaveOneOut()\n",
    "    errors = []\n",
    "    for train_index, test_index in loocv.split(x):\n",
    "        x_train, x_test = x[train_index], x[test_index]\n",
    "        y_train, y_test = y[train_index], y[test_index]\n",
    "        \n",
    "        poly = PolynomialFeatures(i, include_bias=False)\n",
    "        x_train = poly.fit_transform(x_train)\n",
    "        x_test = poly.fit_transform(x_test)\n",
    "        \n",
    "        lm_fit = lm.fit(x_train, y_train)\n",
    "        lm_predict = lm_fit.predict(x_test)\n",
    "        \n",
    "        errors.append(mean_squared_error(y_test, lm_predict))\n",
    "    error = np.mean(errors)\n",
    "    \n",
    "    print('For the model {} , MSE is {}'.format(i, error))"
   ]
  },
  {
   "cell_type": "code",
   "execution_count": null,
   "metadata": {
    "colab": {
     "base_uri": "https://localhost:8080/"
    },
    "executionInfo": {
     "elapsed": 13584,
     "status": "ok",
     "timestamp": 1666037638930,
     "user": {
      "displayName": "周柏呈",
      "userId": "06390788947177930230"
     },
     "user_tz": -480
    },
    "id": "GDjcnxnQEf38",
    "outputId": "b2a712bc-a368-45d5-d369-b800b588cacb"
   },
   "outputs": [
    {
     "name": "stdout",
     "output_type": "stream",
     "text": [
      "For the model 1 , MSE is 37.675932686838564\n",
      "For the model 2 , MSE is 0.9526578995621185\n",
      "For the model 3 , MSE is 0.9537449802453359\n",
      "For the model 4 , MSE is 0.9541133671183831\n"
     ]
    }
   ],
   "source": [
    "from sklearn.linear_model import LinearRegression\n",
    "from sklearn.preprocessing import PolynomialFeatures\n",
    "import pandas as pd\n",
    "from sklearn.pipeline import Pipeline\n",
    "from sklearn.metrics import mean_squared_error\n",
    "\n",
    "np.random.seed(42)\n",
    "\n",
    "for i in range(1, 4+1): # i is the number of models\n",
    "    errors = []\n",
    "    loo = LeaveOneOut()\n",
    "    df = pd.DataFrame({'x':x.T[0], 'y':y})\n",
    "\n",
    "    for train, test in loo.split(df):\n",
    "        X_train, X_test = df['x'][train], df['x'][test]\n",
    "        y_train, y_test = df['y'][train], df['y'][test]\n",
    "\n",
    "        X_train = X_train.values.reshape(-1,1)\n",
    "        X_test = X_test.values.reshape(-1,1)\n",
    "\n",
    "        # Pipeline\n",
    "        model = Pipeline([('poly', PolynomialFeatures(degree = i)),\n",
    "                      ('linear', LinearRegression())]) \n",
    "        model.fit(X_train, y_train)\n",
    "        # MSE\n",
    "        score = mean_squared_error(y_test, model.predict(X_test))\n",
    "        errors.append(score)\n",
    "    error = np.mean(errors)\n",
    "\n",
    "    print('For the model {} , MSE is {}'.format(i, error))"
   ]
  },
  {
   "cell_type": "markdown",
   "metadata": {
    "id": "M6yFx2DfCa-l"
   },
   "source": [
    "(c) Repeat (b) using another random seed. Are your results the same as what you got in (c)? Why?  \n",
    "\n",
    "*Note that the code that have been underlined may be the same as the code in* (b)*.*"
   ]
  },
  {
   "cell_type": "markdown",
   "metadata": {
    "id": "xuq36HMZL9Lj"
   },
   "source": [
    "因為程式碼理論上跟上面一樣，所以不扣程式碼的分。  \n",
    "(1 point, 1 point)"
   ]
  },
  {
   "cell_type": "code",
   "execution_count": null,
   "metadata": {
    "colab": {
     "base_uri": "https://localhost:8080/"
    },
    "executionInfo": {
     "elapsed": 5280,
     "status": "ok",
     "timestamp": 1666037644181,
     "user": {
      "displayName": "周柏呈",
      "userId": "06390788947177930230"
     },
     "user_tz": -480
    },
    "id": "3znVqkIm4bdE",
    "outputId": "a0bc0559-9b9d-4368-98d8-03f4b57fe12b"
   },
   "outputs": [
    {
     "name": "stdout",
     "output_type": "stream",
     "text": [
      "For the model 1 , MSE is 37.67593268683857\n",
      "For the model 2 , MSE is 0.9526578995621189\n",
      "For the model 3 , MSE is 0.9537449802453368\n",
      "For the model 4 , MSE is 0.9541133671183821\n"
     ]
    }
   ],
   "source": [
    "np.random.seed(1)\n",
    "\n",
    "for i in range(1, 4+1): # i is the number of models\n",
    "    poly = PolynomialFeatures(i, include_bias=False)\n",
    "    predictors = poly.fit_transform(x)\n",
    "\n",
    "    lr = LinearRegression()\n",
    "    error = -1 * cross_val_score(lr, predictors, y, cv = len(x), scoring = 'neg_mean_squared_error').mean()\n",
    "    \n",
    "    print('For the model {} , MSE is {}'.format(i, error))"
   ]
  },
  {
   "cell_type": "markdown",
   "metadata": {
    "id": "UEcPYkW0Cbvp"
   },
   "source": [
    "> Ans: Yes. Because LOOCV is exhaustive. 這題解釋只要有提到隨機種子或隨機性就算對了"
   ]
  },
  {
   "cell_type": "markdown",
   "metadata": {
    "id": "H8JSoLAiCcHK"
   },
   "source": [
    "(d) Which of the models in (b) had the smallest $\\operatorname{LOOCV}$ error? Is this what you expected? (1 point, 1 point)"
   ]
  },
  {
   "cell_type": "markdown",
   "metadata": {
    "id": "CjJ0c5K0Chnz"
   },
   "source": [
    "> Ans: 2. Yes."
   ]
  },
  {
   "cell_type": "markdown",
   "metadata": {
    "id": "t3kQbKye4bdF"
   },
   "source": [
    "(e) <span style=\"color:red\">Bonus(加分題)</span>. Compute the errors from the model with the smallest LOOCV error in (b) using K-fold with shuffle and without shuffle. Comment on what you found."
   ]
  },
  {
   "cell_type": "markdown",
   "metadata": {
    "id": "sTKNJlLYHyI2"
   },
   "source": [
    "架構會（會寫 KFold 的迴圈） (1 point)  \n",
    "程式碼有跑出合理結果 (1 point)  \n",
    "發現有 shuffle 的 KFold 跟 LOOCV 差不多 (1 point)  \n",
    "發現 KFold 速度比 LOOCV 快 (1 point)  \n",
    "發現沒 shuffle 的資料有比較大的 error (1 point)  \n",
    "發現前一個事件發生的理由是因為資料有經排序(或有給出差不多的解釋) (1 point)  \n",
    "最多 4 point"
   ]
  },
  {
   "cell_type": "code",
   "execution_count": null,
   "metadata": {
    "colab": {
     "base_uri": "https://localhost:8080/"
    },
    "executionInfo": {
     "elapsed": 12,
     "status": "ok",
     "timestamp": 1666037644182,
     "user": {
      "displayName": "周柏呈",
      "userId": "06390788947177930230"
     },
     "user_tz": -480
    },
    "id": "GQPqzi7c4bdF",
    "outputId": "af775aa6-b5f7-4e1e-e1dd-9b02363fb70f"
   },
   "outputs": [
    {
     "name": "stdout",
     "output_type": "stream",
     "text": [
      "Model 2 (MSE): 1.009220\n"
     ]
    }
   ],
   "source": [
    "from sklearn.model_selection import KFold\n",
    "from sklearn.pipeline import Pipeline\n",
    "from sklearn.metrics import mean_squared_error\n",
    "\n",
    "kf = KFold(n_splits = 5, shuffle = False) \n",
    "error = []\n",
    "for train_index, test_index in kf.split(x):\n",
    "    # print(\"TRAIN:\", train_index, \"TEST:\", test_index)\n",
    "    X_train, X_test = x[train_index], x[test_index]\n",
    "    y_train, y_test = y[train_index], y[test_index]\n",
    "    \n",
    "    X_train = X_train.reshape(-1,1)\n",
    "    X_test = X_test.reshape(-1,1)\n",
    "    \n",
    "    # Pipeline\n",
    "    model = Pipeline([('poly', PolynomialFeatures(degree = 2)),\n",
    "                      ('linear', LinearRegression())]) \n",
    "    model.fit(X_train, y_train)\n",
    "    # MSE\n",
    "    score = mean_squared_error(y_test, model.predict(X_test))\n",
    "    error.append(score)\n",
    "        \n",
    "# print('For the model {} , MSE is {}'.format(i, error),'\\n\\n')\n",
    "print('Model %i (MSE): %f' % (2,np.mean(error)))"
   ]
  },
  {
   "cell_type": "code",
   "execution_count": null,
   "metadata": {
    "colab": {
     "base_uri": "https://localhost:8080/"
    },
    "executionInfo": {
     "elapsed": 11,
     "status": "ok",
     "timestamp": 1666037644182,
     "user": {
      "displayName": "周柏呈",
      "userId": "06390788947177930230"
     },
     "user_tz": -480
    },
    "id": "XvaKvycMD8yH",
    "outputId": "5b9eca6a-c84f-4580-9278-d31dbe31b0f2"
   },
   "outputs": [
    {
     "name": "stdout",
     "output_type": "stream",
     "text": [
      "Model 2 (MSE): 0.951246\n"
     ]
    }
   ],
   "source": [
    "kf = KFold(n_splits = 5, shuffle = True, random_state=1) \n",
    "error = []\n",
    "for train_index, test_index in kf.split(x):\n",
    "    # print(\"TRAIN:\", train_index, \"TEST:\", test_index)\n",
    "    X_train, X_test = x[train_index], x[test_index]\n",
    "    y_train, y_test = y[train_index], y[test_index]\n",
    "    \n",
    "    X_train = X_train.reshape(-1,1)\n",
    "    X_test = X_test.reshape(-1,1)\n",
    "    \n",
    "    # Pipeline\n",
    "    model = Pipeline([('poly', PolynomialFeatures(degree = 2)),\n",
    "                      ('linear', LinearRegression())]) \n",
    "    model.fit(X_train, y_train)\n",
    "    # MSE\n",
    "    score = mean_squared_error(y_test, model.predict(X_test))\n",
    "    error.append(score)\n",
    "        \n",
    "# print('For the model {} , MSE is {}'.format(i, error),'\\n\\n')\n",
    "print('Model %i (MSE): %f' % (2,np.mean(error)))"
   ]
  },
  {
   "cell_type": "code",
   "execution_count": null,
   "metadata": {
    "colab": {
     "base_uri": "https://localhost:8080/"
    },
    "executionInfo": {
     "elapsed": 8,
     "status": "ok",
     "timestamp": 1666037644182,
     "user": {
      "displayName": "周柏呈",
      "userId": "06390788947177930230"
     },
     "user_tz": -480
    },
    "id": "Msmok0xBuHyS",
    "outputId": "26fd76ab-d936-4d15-d19c-d612934d19f5"
   },
   "outputs": [
    {
     "name": "stdout",
     "output_type": "stream",
     "text": [
      "Model 2 (MSE): 0.953284\n"
     ]
    }
   ],
   "source": [
    "from sklearn.model_selection import KFold\n",
    "from sklearn.pipeline import Pipeline\n",
    "from sklearn.metrics import mean_squared_error\n",
    "\n",
    "kf = KFold(n_splits = 5, shuffle = True, random_state=1)\n",
    "poly = PolynomialFeatures(i, include_bias=False)\n",
    "predictors = poly.fit_transform(x)\n",
    "\n",
    "lr = LinearRegression()\n",
    "\n",
    "\n",
    "print('Model %i (MSE): %f' % (2, -1 * cross_val_score(lr, predictors, y, cv = kf, scoring = 'neg_mean_squared_error').mean()))"
   ]
  },
  {
   "cell_type": "markdown",
   "metadata": {
    "id": "9x-vUlW64bdF"
   },
   "source": [
    "> Ans: 沒 shuffle 大約 1，shuffle 大約 0.95。 "
   ]
  },
  {
   "cell_type": "markdown",
   "metadata": {
    "id": "53m2K81WEjNo"
   },
   "source": [
    "### Q4: 寫一個可以 bootstrap 的函數，<span style=\"color:red\">禁止使用套件中現成的 bootstrap function</span> 。 (7 point)"
   ]
  },
  {
   "cell_type": "markdown",
   "metadata": {
    "id": "aFa7rv2J4bdG"
   },
   "source": [
    "這題的用意是讓大家知道 bootstrap sample 以及 bootstrap estimate 是怎麼得到的，之後便可用得到的 bootstrap estimate 計算 bootstrap statistics 或 bootstrap estimators。這題滿分條件是下面的 block 沒跑錯誤，基本上函數定義下面那堆程式碼只是讓大家方便檢查程式哪裡有錯的。  \n",
    "*Note that you can only modify code that have been underlined.*"
   ]
  },
  {
   "cell_type": "markdown",
   "metadata": {
    "id": "Fz-q5Mo-Jy9D"
   },
   "source": [
    "知道要對 data 做 resample (1 point)  \n",
    "知道 resample 要放回 (1 point)  \n",
    "bootstrap sample 的 size = len(data) (1 point)  \n",
    "知道 resample 後要放到 function 裡 (1 point)  \n",
    "知道總共要抽出 n_resamples 個 bootstrap sample (1 point)  \n",
    "知道最後要把 bootstrap estimate 放入 list 回傳 (1 point)  \n",
    "程式碼合理，沒有加會讓結果錯誤的東西(上面的錯導致跑錯結果不會扣在這) (1 point)  \n",
    "例如：在 resample 時 random_state 使用 None 以外的數值算不合理，因為這會使每個 bootstrap sample 長一樣\n",
    "更改沒畫底線的程式碼會倒扣 1 分"
   ]
  },
  {
   "cell_type": "code",
   "execution_count": null,
   "metadata": {
    "colab": {
     "base_uri": "https://localhost:8080/"
    },
    "executionInfo": {
     "elapsed": 1567,
     "status": "ok",
     "timestamp": 1666037645743,
     "user": {
      "displayName": "周柏呈",
      "userId": "06390788947177930230"
     },
     "user_tz": -480
    },
    "id": "9DQzk6_VCAVa",
    "outputId": "7d5516a8-6c4c-493f-bb31-9ae6d515e841"
   },
   "outputs": [
    {
     "name": "stdout",
     "output_type": "stream",
     "text": [
      "o\n",
      "o\n",
      "29    o\n",
      "Name: y, dtype: object\n"
     ]
    }
   ],
   "source": [
    "import numpy as np\n",
    "import pandas as pd\n",
    "from sklearn.utils import resample\n",
    "\n",
    "\n",
    "# 一行的方法\n",
    "def bootstrap(data, function, n_resamples=999):\n",
    "    \"\"\"\n",
    "    Give a bootstrap sample\n",
    "\n",
    "    Parameters\n",
    "    ----------\n",
    "    data : sequence of array-like\n",
    "        Each element of data is a sample from an underlying distribution.\n",
    "    function : callable\n",
    "        Statistic or estimator for each bootstrap samples to be calculated.\n",
    "    n_resamples : int, optional\n",
    "        The number of resamples performed to form the bootstrap distribution of the statistic or estimator.\n",
    "\n",
    "    Returns\n",
    "    -------\n",
    "    data : list\n",
    "        A list that contain all bootstrap estimates.\n",
    "\n",
    "    \"\"\"\n",
    "    if type(n_resamples)!=int:\n",
    "        raise\n",
    "    return [function(resample(data, replace=True, n_samples=len(data))) for _ in range(n_resamples)]\n",
    "\n",
    "# Lab 的方法\n",
    "def bootstrap(data, function, n_resamples=999):\n",
    "    \"\"\"\n",
    "    Give a bootstrap sample\n",
    "\n",
    "    Parameters\n",
    "    ----------\n",
    "    data : sequence of array-like\n",
    "        Each element of data is a sample from an underlying distribution.\n",
    "    function : callable\n",
    "        Statistic or estimator for each bootstrap samples to be calculated.\n",
    "    n_resamples : int, optional\n",
    "        The number of resamples performed to form the bootstrap distribution of the statistic or estimator.\n",
    "\n",
    "    Returns\n",
    "    -------\n",
    "    data : list\n",
    "        A list that contain all bootstrap estimates.\n",
    "\n",
    "    \"\"\"\n",
    "    if type(n_resamples)!=int:\n",
    "        raise\n",
    "    result = []\n",
    "\n",
    "    for i in range(0, n_resamples):\n",
    "        result.append(\n",
    "            function(resample(data, replace=True, n_samples=len(data)))\n",
    "        )\n",
    "    return result\n",
    "\n",
    "# \"有可能\"比 Lab 快一點的辦法\n",
    "def bootstrap(data, function, n_resamples=999):\n",
    "    \"\"\"\n",
    "    Give a bootstrap sample\n",
    "\n",
    "    Parameters\n",
    "    ----------\n",
    "    data : sequence of array-like\n",
    "        Each element of data is a sample from an underlying distribution.\n",
    "    function : callable\n",
    "        Statistic or estimator for each bootstrap samples to be calculated.\n",
    "    n_resamples : int, optional\n",
    "        The number of resamples performed to form the bootstrap distribution of the statistic or estimator.\n",
    "\n",
    "    Returns\n",
    "    -------\n",
    "    data : list\n",
    "        A list that contain all bootstrap estimates.\n",
    "\n",
    "    \"\"\"\n",
    "    if type(n_resamples)!=int:\n",
    "        raise\n",
    "    boot_estimates = np.repeat(object, n_resamples)\n",
    "\n",
    "    for i in range(0, n_resamples):\n",
    "        boot_estimates[i] = function(resample(data, replace=True, n_samples=len(data)))\n",
    "    return boot_estimates.tolist()\n",
    "\n",
    "# 不用 resample 的寫法\n",
    "def bootstrap(data, function, n_resamples=999):\n",
    "    \"\"\"\n",
    "    Give a bootstrap sample\n",
    "\n",
    "    Parameters\n",
    "    ----------\n",
    "    data : sequence of array-like\n",
    "        Each element of data is a sample from an underlying distribution.\n",
    "    function : callable\n",
    "        Statistic or estimator for each bootstrap samples to be calculated.\n",
    "    n_resamples : int, optional\n",
    "        The number of resamples performed to form the bootstrap distribution of the statistic or estimator.\n",
    "\n",
    "    Returns\n",
    "    -------\n",
    "    data : list\n",
    "        A list that contain all bootstrap estimates.\n",
    "\n",
    "    \"\"\"\n",
    "    if type(n_resamples)!=int:\n",
    "        raise\n",
    "    if type(data) != pd.core.frame.DataFrame:\n",
    "        data, df = pd.DataFrame(data), False\n",
    "    else:\n",
    "      df = True\n",
    "    if df:\n",
    "      return [function(data.iloc[np.random.randint(0, len(data), len(data)),:]) for _ in range(n_resamples)]\n",
    "    else:\n",
    "      return [function(data.iloc[np.random.randint(0, len(data), len(data)),:].values) for _ in range(n_resamples)]\n",
    "\n",
    "\n",
    "np.random.seed(4)\n",
    "\n",
    "x1 = [[i, chr(i+97)] for i in range(26)]\n",
    "x1.extend([[14, chr(14+97)] for i in range(26)])\n",
    "x2 = np.array(x1)\n",
    "x3 = pd.DataFrame(x1, columns=['x','y'])\n",
    "\n",
    "\n",
    "def mode(data):\n",
    "    return data[np.unique(data[0], return_counts=True)[1].argmax()]\n",
    "\n",
    "\n",
    "def test_function1(position):\n",
    "    def the_j_word(data):\n",
    "        return data[position][1]\n",
    "    return the_j_word\n",
    "\n",
    "\n",
    "def test_function2(data):\n",
    "    return mode(data)[1]\n",
    "\n",
    "\n",
    "def test_function3(data):\n",
    "    return data.sample(1)['y']\n",
    "\n",
    "\n",
    "print(mode(bootstrap(x1, test_function1(3), n_resamples=999)))\n",
    "print(mode(bootstrap(x2, test_function2, n_resamples=999)))\n",
    "print(mode(bootstrap(x3, test_function3, n_resamples=999)))"
   ]
  },
  {
   "cell_type": "markdown",
   "metadata": {
    "id": "iag__YDCJokW"
   },
   "source": [
    "想法正確的結果不一樣的寫法"
   ]
  },
  {
   "cell_type": "code",
   "execution_count": null,
   "metadata": {
    "colab": {
     "base_uri": "https://localhost:8080/"
    },
    "executionInfo": {
     "elapsed": 897,
     "status": "ok",
     "timestamp": 1666037646635,
     "user": {
      "displayName": "周柏呈",
      "userId": "06390788947177930230"
     },
     "user_tz": -480
    },
    "id": "brmdodPfJfVf",
    "outputId": "a25ff243-8f8f-4944-a444-d95e9d5580b2"
   },
   "outputs": [
    {
     "name": "stdout",
     "output_type": "stream",
     "text": [
      "o\n",
      "o\n",
      "16    q\n",
      "Name: y, dtype: object\n"
     ]
    }
   ],
   "source": [
    "import numpy as np\n",
    "import pandas as pd\n",
    "from sklearn.utils import resample\n",
    "\n",
    "\n",
    "\n",
    "def bootstrap(data, function, n_resamples=999):\n",
    "    \"\"\"\n",
    "    Give a bootstrap sample\n",
    "\n",
    "    Parameters\n",
    "    ----------\n",
    "    data : sequence of array-like\n",
    "        Each element of data is a sample from an underlying distribution.\n",
    "    function : callable\n",
    "        Statistic or estimator for each bootstrap samples to be calculated.\n",
    "    n_resamples : int, optional\n",
    "        The number of resamples performed to form the bootstrap distribution of the statistic or estimator.\n",
    "\n",
    "    Returns\n",
    "    -------\n",
    "    data : list\n",
    "        A list that contain all bootstrap estimates.\n",
    "\n",
    "    \"\"\"\n",
    "    if type(n_resamples)!=int:\n",
    "        raise\n",
    "    boo = []\n",
    "    for times in range(n_resamples):\n",
    "        dataList = resample(data, replace=True, n_samples=len(data))\n",
    "        boo.append(dataList)\n",
    "    return list(map(function, boo))\n",
    "\n",
    "\n",
    "np.random.seed(4)\n",
    "\n",
    "x1 = [[i, chr(i+97)] for i in range(26)]\n",
    "x1.extend([[14, chr(14+97)] for i in range(26)])\n",
    "x2 = np.array(x1)\n",
    "x3 = pd.DataFrame(x1, columns=['x','y'])\n",
    "\n",
    "\n",
    "def mode(data):\n",
    "    return data[np.unique(data[0], return_counts=True)[1].argmax()]\n",
    "\n",
    "\n",
    "def test_function1(position):\n",
    "    def the_j_word(data):\n",
    "        return data[position][1]\n",
    "    return the_j_word\n",
    "\n",
    "\n",
    "def test_function2(data):\n",
    "    return mode(data)[1]\n",
    "\n",
    "\n",
    "def test_function3(data):\n",
    "    return data.sample(1)['y']\n",
    "\n",
    "\n",
    "print(mode(bootstrap(x1, test_function1(3), n_resamples=999)))\n",
    "print(mode(bootstrap(x2, test_function2, n_resamples=999)))\n",
    "print(mode(bootstrap(x3, test_function3, n_resamples=999)))"
   ]
  },
  {
   "cell_type": "markdown",
   "metadata": {
    "id": "nl2ha8CSOt0h"
   },
   "source": [
    "\n",
    "題目到此\n",
    "\n",
    "---\n",
    "\n"
   ]
  },
  {
   "cell_type": "markdown",
   "metadata": {
    "id": "TtuuqgXE4bdG"
   },
   "source": [
    "提示: 使用 sklearn.utils 的 resample 可以避免 resample 上的麻煩問題。  \n",
    "\n",
    "random 套件的 choices 會使物件格式會跑掉，而且使用在 pandas 物件會出問題。  \n",
    "np.random.choice 只能用在 1-d array 上。  \n",
    "pd.DataFrame.sample 或 pandas.Series.sample 是只有 pandas 物件才有的 classmethod。  \n",
    "生成亂數再用 indices 索引的方法適用於 numpy，但對 pandas 便不適用。因為 pandas 的數值索引是用 data.iloc。"
   ]
  },
  {
   "cell_type": "code",
   "execution_count": null,
   "metadata": {
    "id": "uL_T_bzY4bdH",
    "outputId": "6a906d2d-5f15-48d3-cc86-a8fd6c10c6d1"
   },
   "outputs": [
    {
     "name": "stdout",
     "output_type": "stream",
     "text": [
      "[[0, 'a'], [1, 'b'], [2, 'c'], [3, 'd']] <class 'list'>\n",
      "[['0' 'a']\n",
      " ['1' 'b']\n",
      " ['2' 'c']\n",
      " ['3' 'd']] <class 'numpy.ndarray'>\n",
      "   x  y\n",
      "0  0  a\n",
      "1  1  b\n",
      "2  2  c\n",
      "3  3  d <class 'pandas.core.frame.DataFrame'>\n"
     ]
    }
   ],
   "source": [
    "import numpy as np\n",
    "import pandas as pd\n",
    "import random\n",
    "from sklearn.utils import resample\n",
    "\n",
    "x1 = [[i, chr(97+i)] for i in range(4)]\n",
    "x2 = np.array(x1)\n",
    "x3 = pd.DataFrame(x1, columns=['x','y'])\n",
    "\n",
    "\n",
    "def print_data_and_type(data):\n",
    "    print(data, type(data))\n",
    "\n",
    "    \n",
    "print_data_and_type(x1)\n",
    "print_data_and_type(x2)\n",
    "print_data_and_type(x3)"
   ]
  },
  {
   "cell_type": "code",
   "execution_count": null,
   "metadata": {
    "id": "P6iyPcJi4bdH",
    "outputId": "20f723d7-2562-406d-98b4-dd3070b6b11b"
   },
   "outputs": [
    {
     "name": "stdout",
     "output_type": "stream",
     "text": [
      "[array(['2', 'c'], dtype='<U11'), array(['2', 'c'], dtype='<U11'), array(['0', 'a'], dtype='<U11'), array(['0', 'a'], dtype='<U11'), array(['2', 'c'], dtype='<U11'), array(['1', 'b'], dtype='<U11'), array(['1', 'b'], dtype='<U11'), array(['0', 'a'], dtype='<U11'), array(['0', 'a'], dtype='<U11'), array(['3', 'd'], dtype='<U11')] <class 'list'>\n"
     ]
    }
   ],
   "source": [
    "print_data_and_type(random.choices(x2, k=10))"
   ]
  },
  {
   "cell_type": "code",
   "execution_count": null,
   "metadata": {
    "id": "8z-sy4cp4bdI",
    "outputId": "dfc296dc-ba62-4839-90a8-68e9356d2463"
   },
   "outputs": [
    {
     "ename": "ValueError",
     "evalue": "a must be 1-dimensional",
     "output_type": "error",
     "traceback": [
      "\u001b[1;31m---------------------------------------------------------------------------\u001b[0m",
      "\u001b[1;31mValueError\u001b[0m                                Traceback (most recent call last)",
      "\u001b[1;32m~\\AppData\\Local\\Temp/ipykernel_11448/2699959573.py\u001b[0m in \u001b[0;36m<module>\u001b[1;34m\u001b[0m\n\u001b[1;32m----> 1\u001b[1;33m \u001b[0mprint_data_and_type\u001b[0m\u001b[1;33m(\u001b[0m\u001b[0mnp\u001b[0m\u001b[1;33m.\u001b[0m\u001b[0mrandom\u001b[0m\u001b[1;33m.\u001b[0m\u001b[0mchoice\u001b[0m\u001b[1;33m(\u001b[0m\u001b[0mx1\u001b[0m\u001b[1;33m,\u001b[0m \u001b[0msize\u001b[0m\u001b[1;33m=\u001b[0m\u001b[1;36m10\u001b[0m\u001b[1;33m,\u001b[0m \u001b[0mreplace\u001b[0m\u001b[1;33m=\u001b[0m\u001b[1;32mTrue\u001b[0m\u001b[1;33m)\u001b[0m\u001b[1;33m)\u001b[0m\u001b[1;33m\u001b[0m\u001b[1;33m\u001b[0m\u001b[0m\n\u001b[0m",
      "\u001b[1;32mmtrand.pyx\u001b[0m in \u001b[0;36mnumpy.random.mtrand.RandomState.choice\u001b[1;34m()\u001b[0m\n",
      "\u001b[1;31mValueError\u001b[0m: a must be 1-dimensional"
     ]
    }
   ],
   "source": [
    "print_data_and_type(np.random.choice(x1, size=10, replace=True))"
   ]
  },
  {
   "cell_type": "code",
   "execution_count": null,
   "metadata": {
    "id": "ISsPKND_4bdI",
    "outputId": "0194226b-4ab6-46c1-e938-514afc331b7b"
   },
   "outputs": [
    {
     "ename": "AttributeError",
     "evalue": "'list' object has no attribute 'sample'",
     "output_type": "error",
     "traceback": [
      "\u001b[1;31m---------------------------------------------------------------------------\u001b[0m",
      "\u001b[1;31mAttributeError\u001b[0m                            Traceback (most recent call last)",
      "\u001b[1;32m~\\AppData\\Local\\Temp/ipykernel_11448/1797899848.py\u001b[0m in \u001b[0;36m<module>\u001b[1;34m\u001b[0m\n\u001b[1;32m----> 1\u001b[1;33m \u001b[0mx1\u001b[0m\u001b[1;33m.\u001b[0m\u001b[0msample\u001b[0m\u001b[1;33m\u001b[0m\u001b[1;33m\u001b[0m\u001b[0m\n\u001b[0m",
      "\u001b[1;31mAttributeError\u001b[0m: 'list' object has no attribute 'sample'"
     ]
    }
   ],
   "source": [
    "x1.sample"
   ]
  },
  {
   "cell_type": "code",
   "execution_count": null,
   "metadata": {
    "id": "ltq66y5G4bdI",
    "outputId": "7df00901-3d23-4af3-c47f-bab54b82c66a"
   },
   "outputs": [
    {
     "name": "stdout",
     "output_type": "stream",
     "text": [
      "[[2, 'c'], [0, 'a'], [3, 'd'], [1, 'b'], [2, 'c'], [0, 'a'], [0, 'a'], [1, 'b'], [3, 'd'], [0, 'a']] <class 'list'>\n",
      "[['3' 'd']\n",
      " ['1' 'b']\n",
      " ['0' 'a']\n",
      " ['2' 'c']\n",
      " ['2' 'c']\n",
      " ['0' 'a']\n",
      " ['2' 'c']\n",
      " ['2' 'c']\n",
      " ['3' 'd']\n",
      " ['1' 'b']] <class 'numpy.ndarray'>\n",
      "   x  y\n",
      "0  0  a\n",
      "1  1  b\n",
      "3  3  d\n",
      "1  1  b\n",
      "3  3  d\n",
      "0  0  a\n",
      "1  1  b\n",
      "1  1  b\n",
      "3  3  d\n",
      "0  0  a <class 'pandas.core.frame.DataFrame'>\n"
     ]
    }
   ],
   "source": [
    "print_data_and_type(resample(x1, n_samples=10, replace=True))\n",
    "print_data_and_type(resample(x2, n_samples=10, replace=True))\n",
    "print_data_and_type(resample(x3, n_samples=10, replace=True))"
   ]
  }
 ],
 "metadata": {
  "colab": {
   "collapsed_sections": [],
   "provenance": []
  },
  "kernelspec": {
   "display_name": "Python 3",
   "language": "python",
   "name": "python3"
  },
  "language_info": {
   "codemirror_mode": {
    "name": "ipython",
    "version": 3
   },
   "file_extension": ".py",
   "mimetype": "text/x-python",
   "name": "python",
   "nbconvert_exporter": "python",
   "pygments_lexer": "ipython3",
   "version": "3.8.8"
  }
 },
 "nbformat": 4,
 "nbformat_minor": 1
}
